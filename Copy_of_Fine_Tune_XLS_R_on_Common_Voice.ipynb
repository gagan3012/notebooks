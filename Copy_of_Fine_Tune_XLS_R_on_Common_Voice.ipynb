{
  "nbformat": 4,
  "nbformat_minor": 0,
  "metadata": {
    "accelerator": "GPU",
    "colab": {
      "name": "Copy of Fine-Tune XLS-R on Common Voice.ipynb",
      "provenance": [],
      "collapsed_sections": [],
      "machine_shape": "hm",
      "include_colab_link": true
    },
    "kernelspec": {
      "display_name": "Python 3",
      "name": "python3"
    },
    "widgets": {
      "application/vnd.jupyter.widget-state+json": {
        "8d0aaf0f847448b991e154fa0eee471e": {
          "model_module": "@jupyter-widgets/controls",
          "model_name": "VBoxModel",
          "model_module_version": "1.5.0",
          "state": {
            "_view_name": "VBoxView",
            "_dom_classes": [],
            "_model_name": "VBoxModel",
            "_view_module": "@jupyter-widgets/controls",
            "_model_module_version": "1.5.0",
            "_view_count": null,
            "_view_module_version": "1.5.0",
            "box_style": "",
            "layout": "IPY_MODEL_e8fd10795fa343ffba2698f0657a6aa1",
            "_model_module": "@jupyter-widgets/controls",
            "children": [
              "IPY_MODEL_e9d20c68338c435793e05512481f15dc",
              "IPY_MODEL_6b238597b3a64a05b62ec11ce6ad023c",
              "IPY_MODEL_2b7c33132d764f3882c6fc1d7746e88a"
            ]
          }
        },
        "e8fd10795fa343ffba2698f0657a6aa1": {
          "model_module": "@jupyter-widgets/base",
          "model_name": "LayoutModel",
          "model_module_version": "1.2.0",
          "state": {
            "_view_name": "LayoutView",
            "grid_template_rows": null,
            "right": null,
            "justify_content": null,
            "_view_module": "@jupyter-widgets/base",
            "overflow": null,
            "_model_module_version": "1.2.0",
            "_view_count": null,
            "flex_flow": "column",
            "width": "50%",
            "min_width": null,
            "border": null,
            "align_items": "center",
            "bottom": null,
            "_model_module": "@jupyter-widgets/base",
            "top": null,
            "grid_column": null,
            "overflow_y": null,
            "overflow_x": null,
            "grid_auto_flow": null,
            "grid_area": null,
            "grid_template_columns": null,
            "flex": null,
            "_model_name": "LayoutModel",
            "justify_items": null,
            "grid_row": null,
            "max_height": null,
            "align_content": null,
            "visibility": null,
            "align_self": null,
            "height": null,
            "min_height": null,
            "padding": null,
            "grid_auto_rows": null,
            "grid_gap": null,
            "max_width": null,
            "order": null,
            "_view_module_version": "1.2.0",
            "grid_template_areas": null,
            "object_position": null,
            "object_fit": null,
            "grid_auto_columns": null,
            "margin": null,
            "display": "flex",
            "left": null
          }
        },
        "e9d20c68338c435793e05512481f15dc": {
          "model_module": "@jupyter-widgets/controls",
          "model_name": "HTMLModel",
          "model_module_version": "1.5.0",
          "state": {
            "_view_name": "HTMLView",
            "style": "IPY_MODEL_e8e6e12096974ced86cd2c2bcf5b72a5",
            "_dom_classes": [],
            "description": "",
            "_model_name": "HTMLModel",
            "placeholder": "​",
            "_view_module": "@jupyter-widgets/controls",
            "_model_module_version": "1.5.0",
            "value": "<center>\n<img src=https://huggingface.co/front/assets/huggingface_logo-noborder.svg alt='Hugging Face'>\n<br>\n<b>The AI community building the future</b>\n<br>\nImmediately click login after typing your password or it might be stored in plain text in this notebook file.\n</center>",
            "_view_count": null,
            "_view_module_version": "1.5.0",
            "description_tooltip": null,
            "_model_module": "@jupyter-widgets/controls",
            "layout": "IPY_MODEL_4811740c6e5c4874b09d58d85c554211"
          }
        },
        "6b238597b3a64a05b62ec11ce6ad023c": {
          "model_module": "@jupyter-widgets/controls",
          "model_name": "HBoxModel",
          "model_module_version": "1.5.0",
          "state": {
            "_view_name": "HBoxView",
            "_dom_classes": [],
            "_model_name": "HBoxModel",
            "_view_module": "@jupyter-widgets/controls",
            "_model_module_version": "1.5.0",
            "_view_count": null,
            "_view_module_version": "1.5.0",
            "box_style": "",
            "layout": "IPY_MODEL_b47633a776f142aaafd49fa628931039",
            "_model_module": "@jupyter-widgets/controls",
            "children": [
              "IPY_MODEL_f8a53f8594624e4fbc42d63b7f3e04c8",
              "IPY_MODEL_87521b7e15b847fea24c293246091966"
            ]
          }
        },
        "2b7c33132d764f3882c6fc1d7746e88a": {
          "model_module": "@jupyter-widgets/controls",
          "model_name": "ButtonModel",
          "model_module_version": "1.5.0",
          "state": {
            "_view_name": "ButtonView",
            "style": "IPY_MODEL_f89fae263c0b44c2b8268a6d9b06d60b",
            "_dom_classes": [],
            "description": "Login",
            "_model_name": "ButtonModel",
            "button_style": "",
            "_view_module": "@jupyter-widgets/controls",
            "_model_module_version": "1.5.0",
            "tooltip": "",
            "_view_count": null,
            "disabled": false,
            "_view_module_version": "1.5.0",
            "layout": "IPY_MODEL_3c960ba4e17846969827f648c290a9d4",
            "_model_module": "@jupyter-widgets/controls",
            "icon": ""
          }
        },
        "e8e6e12096974ced86cd2c2bcf5b72a5": {
          "model_module": "@jupyter-widgets/controls",
          "model_name": "DescriptionStyleModel",
          "model_module_version": "1.5.0",
          "state": {
            "_view_name": "StyleView",
            "_model_name": "DescriptionStyleModel",
            "description_width": "",
            "_view_module": "@jupyter-widgets/base",
            "_model_module_version": "1.5.0",
            "_view_count": null,
            "_view_module_version": "1.2.0",
            "_model_module": "@jupyter-widgets/controls"
          }
        },
        "4811740c6e5c4874b09d58d85c554211": {
          "model_module": "@jupyter-widgets/base",
          "model_name": "LayoutModel",
          "model_module_version": "1.2.0",
          "state": {
            "_view_name": "LayoutView",
            "grid_template_rows": null,
            "right": null,
            "justify_content": null,
            "_view_module": "@jupyter-widgets/base",
            "overflow": null,
            "_model_module_version": "1.2.0",
            "_view_count": null,
            "flex_flow": null,
            "width": null,
            "min_width": null,
            "border": null,
            "align_items": null,
            "bottom": null,
            "_model_module": "@jupyter-widgets/base",
            "top": null,
            "grid_column": null,
            "overflow_y": null,
            "overflow_x": null,
            "grid_auto_flow": null,
            "grid_area": null,
            "grid_template_columns": null,
            "flex": null,
            "_model_name": "LayoutModel",
            "justify_items": null,
            "grid_row": null,
            "max_height": null,
            "align_content": null,
            "visibility": null,
            "align_self": null,
            "height": null,
            "min_height": null,
            "padding": null,
            "grid_auto_rows": null,
            "grid_gap": null,
            "max_width": null,
            "order": null,
            "_view_module_version": "1.2.0",
            "grid_template_areas": null,
            "object_position": null,
            "object_fit": null,
            "grid_auto_columns": null,
            "margin": null,
            "display": null,
            "left": null
          }
        },
        "b47633a776f142aaafd49fa628931039": {
          "model_module": "@jupyter-widgets/base",
          "model_name": "LayoutModel",
          "model_module_version": "1.2.0",
          "state": {
            "_view_name": "LayoutView",
            "grid_template_rows": null,
            "right": null,
            "justify_content": null,
            "_view_module": "@jupyter-widgets/base",
            "overflow": null,
            "_model_module_version": "1.2.0",
            "_view_count": null,
            "flex_flow": null,
            "width": null,
            "min_width": null,
            "border": null,
            "align_items": null,
            "bottom": null,
            "_model_module": "@jupyter-widgets/base",
            "top": null,
            "grid_column": null,
            "overflow_y": null,
            "overflow_x": null,
            "grid_auto_flow": null,
            "grid_area": null,
            "grid_template_columns": null,
            "flex": null,
            "_model_name": "LayoutModel",
            "justify_items": null,
            "grid_row": null,
            "max_height": null,
            "align_content": null,
            "visibility": null,
            "align_self": null,
            "height": null,
            "min_height": null,
            "padding": null,
            "grid_auto_rows": null,
            "grid_gap": null,
            "max_width": null,
            "order": null,
            "_view_module_version": "1.2.0",
            "grid_template_areas": null,
            "object_position": null,
            "object_fit": null,
            "grid_auto_columns": null,
            "margin": null,
            "display": null,
            "left": null
          }
        },
        "f8a53f8594624e4fbc42d63b7f3e04c8": {
          "model_module": "@jupyter-widgets/controls",
          "model_name": "TextModel",
          "model_module_version": "1.5.0",
          "state": {
            "_view_name": "TextView",
            "style": "IPY_MODEL_e757d3bda73c46dd8c8c829a52ead869",
            "_dom_classes": [],
            "description": "Username:",
            "_model_name": "TextModel",
            "placeholder": "​",
            "_view_module": "@jupyter-widgets/controls",
            "_model_module_version": "1.5.0",
            "value": "gagan3012",
            "_view_count": null,
            "disabled": false,
            "_view_module_version": "1.5.0",
            "continuous_update": true,
            "description_tooltip": null,
            "_model_module": "@jupyter-widgets/controls",
            "layout": "IPY_MODEL_58faf58540eb44b583995b72a635314f"
          }
        },
        "87521b7e15b847fea24c293246091966": {
          "model_module": "@jupyter-widgets/controls",
          "model_name": "PasswordModel",
          "model_module_version": "1.5.0",
          "state": {
            "_view_name": "PasswordView",
            "style": "IPY_MODEL_dba8b81ae64b4898ab3368d326e27fe4",
            "_dom_classes": [],
            "description": "Password:",
            "_model_name": "PasswordModel",
            "placeholder": "​",
            "_view_module": "@jupyter-widgets/controls",
            "_model_module_version": "1.5.0",
            "value": "",
            "_view_count": null,
            "disabled": false,
            "_view_module_version": "1.5.0",
            "continuous_update": true,
            "description_tooltip": null,
            "_model_module": "@jupyter-widgets/controls",
            "layout": "IPY_MODEL_7b4b0a62f188425685e8a2d5ec4fe084"
          }
        },
        "f89fae263c0b44c2b8268a6d9b06d60b": {
          "model_module": "@jupyter-widgets/controls",
          "model_name": "ButtonStyleModel",
          "model_module_version": "1.5.0",
          "state": {
            "_view_name": "StyleView",
            "_model_name": "ButtonStyleModel",
            "_view_module": "@jupyter-widgets/base",
            "_model_module_version": "1.5.0",
            "_view_count": null,
            "button_color": null,
            "font_weight": "",
            "_view_module_version": "1.2.0",
            "_model_module": "@jupyter-widgets/controls"
          }
        },
        "3c960ba4e17846969827f648c290a9d4": {
          "model_module": "@jupyter-widgets/base",
          "model_name": "LayoutModel",
          "model_module_version": "1.2.0",
          "state": {
            "_view_name": "LayoutView",
            "grid_template_rows": null,
            "right": null,
            "justify_content": null,
            "_view_module": "@jupyter-widgets/base",
            "overflow": null,
            "_model_module_version": "1.2.0",
            "_view_count": null,
            "flex_flow": null,
            "width": null,
            "min_width": null,
            "border": null,
            "align_items": null,
            "bottom": null,
            "_model_module": "@jupyter-widgets/base",
            "top": null,
            "grid_column": null,
            "overflow_y": null,
            "overflow_x": null,
            "grid_auto_flow": null,
            "grid_area": null,
            "grid_template_columns": null,
            "flex": null,
            "_model_name": "LayoutModel",
            "justify_items": null,
            "grid_row": null,
            "max_height": null,
            "align_content": null,
            "visibility": null,
            "align_self": null,
            "height": null,
            "min_height": null,
            "padding": null,
            "grid_auto_rows": null,
            "grid_gap": null,
            "max_width": null,
            "order": null,
            "_view_module_version": "1.2.0",
            "grid_template_areas": null,
            "object_position": null,
            "object_fit": null,
            "grid_auto_columns": null,
            "margin": null,
            "display": null,
            "left": null
          }
        },
        "e757d3bda73c46dd8c8c829a52ead869": {
          "model_module": "@jupyter-widgets/controls",
          "model_name": "DescriptionStyleModel",
          "model_module_version": "1.5.0",
          "state": {
            "_view_name": "StyleView",
            "_model_name": "DescriptionStyleModel",
            "description_width": "",
            "_view_module": "@jupyter-widgets/base",
            "_model_module_version": "1.5.0",
            "_view_count": null,
            "_view_module_version": "1.2.0",
            "_model_module": "@jupyter-widgets/controls"
          }
        },
        "58faf58540eb44b583995b72a635314f": {
          "model_module": "@jupyter-widgets/base",
          "model_name": "LayoutModel",
          "model_module_version": "1.2.0",
          "state": {
            "_view_name": "LayoutView",
            "grid_template_rows": null,
            "right": null,
            "justify_content": null,
            "_view_module": "@jupyter-widgets/base",
            "overflow": null,
            "_model_module_version": "1.2.0",
            "_view_count": null,
            "flex_flow": null,
            "width": null,
            "min_width": null,
            "border": null,
            "align_items": null,
            "bottom": null,
            "_model_module": "@jupyter-widgets/base",
            "top": null,
            "grid_column": null,
            "overflow_y": null,
            "overflow_x": null,
            "grid_auto_flow": null,
            "grid_area": null,
            "grid_template_columns": null,
            "flex": null,
            "_model_name": "LayoutModel",
            "justify_items": null,
            "grid_row": null,
            "max_height": null,
            "align_content": null,
            "visibility": null,
            "align_self": null,
            "height": null,
            "min_height": null,
            "padding": null,
            "grid_auto_rows": null,
            "grid_gap": null,
            "max_width": null,
            "order": null,
            "_view_module_version": "1.2.0",
            "grid_template_areas": null,
            "object_position": null,
            "object_fit": null,
            "grid_auto_columns": null,
            "margin": null,
            "display": null,
            "left": null
          }
        },
        "dba8b81ae64b4898ab3368d326e27fe4": {
          "model_module": "@jupyter-widgets/controls",
          "model_name": "DescriptionStyleModel",
          "model_module_version": "1.5.0",
          "state": {
            "_view_name": "StyleView",
            "_model_name": "DescriptionStyleModel",
            "description_width": "",
            "_view_module": "@jupyter-widgets/base",
            "_model_module_version": "1.5.0",
            "_view_count": null,
            "_view_module_version": "1.2.0",
            "_model_module": "@jupyter-widgets/controls"
          }
        },
        "7b4b0a62f188425685e8a2d5ec4fe084": {
          "model_module": "@jupyter-widgets/base",
          "model_name": "LayoutModel",
          "model_module_version": "1.2.0",
          "state": {
            "_view_name": "LayoutView",
            "grid_template_rows": null,
            "right": null,
            "justify_content": null,
            "_view_module": "@jupyter-widgets/base",
            "overflow": null,
            "_model_module_version": "1.2.0",
            "_view_count": null,
            "flex_flow": null,
            "width": null,
            "min_width": null,
            "border": null,
            "align_items": null,
            "bottom": null,
            "_model_module": "@jupyter-widgets/base",
            "top": null,
            "grid_column": null,
            "overflow_y": null,
            "overflow_x": null,
            "grid_auto_flow": null,
            "grid_area": null,
            "grid_template_columns": null,
            "flex": null,
            "_model_name": "LayoutModel",
            "justify_items": null,
            "grid_row": null,
            "max_height": null,
            "align_content": null,
            "visibility": null,
            "align_self": null,
            "height": null,
            "min_height": null,
            "padding": null,
            "grid_auto_rows": null,
            "grid_gap": null,
            "max_width": null,
            "order": null,
            "_view_module_version": "1.2.0",
            "grid_template_areas": null,
            "object_position": null,
            "object_fit": null,
            "grid_auto_columns": null,
            "margin": null,
            "display": null,
            "left": null
          }
        },
        "633a1d7867b14bc3b9c01fd1fbf08b9d": {
          "model_module": "@jupyter-widgets/controls",
          "model_name": "HBoxModel",
          "model_module_version": "1.5.0",
          "state": {
            "_view_name": "HBoxView",
            "_dom_classes": [],
            "_model_name": "HBoxModel",
            "_view_module": "@jupyter-widgets/controls",
            "_model_module_version": "1.5.0",
            "_view_count": null,
            "_view_module_version": "1.5.0",
            "box_style": "",
            "layout": "IPY_MODEL_f4d860895de04dd3a0cbb21226861a9c",
            "_model_module": "@jupyter-widgets/controls",
            "children": [
              "IPY_MODEL_ce9f87aef4b24528a869b4567e8f7974",
              "IPY_MODEL_fbfa81c2815b477c8c3e02c2f8434b6e",
              "IPY_MODEL_37c72340cdd64e70bcea000092a898fb"
            ]
          }
        },
        "f4d860895de04dd3a0cbb21226861a9c": {
          "model_module": "@jupyter-widgets/base",
          "model_name": "LayoutModel",
          "model_module_version": "1.2.0",
          "state": {
            "_view_name": "LayoutView",
            "grid_template_rows": null,
            "right": null,
            "justify_content": null,
            "_view_module": "@jupyter-widgets/base",
            "overflow": null,
            "_model_module_version": "1.2.0",
            "_view_count": null,
            "flex_flow": null,
            "width": null,
            "min_width": null,
            "border": null,
            "align_items": null,
            "bottom": null,
            "_model_module": "@jupyter-widgets/base",
            "top": null,
            "grid_column": null,
            "overflow_y": null,
            "overflow_x": null,
            "grid_auto_flow": null,
            "grid_area": null,
            "grid_template_columns": null,
            "flex": null,
            "_model_name": "LayoutModel",
            "justify_items": null,
            "grid_row": null,
            "max_height": null,
            "align_content": null,
            "visibility": null,
            "align_self": null,
            "height": null,
            "min_height": null,
            "padding": null,
            "grid_auto_rows": null,
            "grid_gap": null,
            "max_width": null,
            "order": null,
            "_view_module_version": "1.2.0",
            "grid_template_areas": null,
            "object_position": null,
            "object_fit": null,
            "grid_auto_columns": null,
            "margin": null,
            "display": null,
            "left": null
          }
        },
        "ce9f87aef4b24528a869b4567e8f7974": {
          "model_module": "@jupyter-widgets/controls",
          "model_name": "HTMLModel",
          "model_module_version": "1.5.0",
          "state": {
            "_view_name": "HTMLView",
            "style": "IPY_MODEL_92f731f5624b4e7fbfac3c661d041398",
            "_dom_classes": [],
            "description": "",
            "_model_name": "HTMLModel",
            "placeholder": "​",
            "_view_module": "@jupyter-widgets/controls",
            "_model_module_version": "1.5.0",
            "value": "100%",
            "_view_count": null,
            "_view_module_version": "1.5.0",
            "description_tooltip": null,
            "_model_module": "@jupyter-widgets/controls",
            "layout": "IPY_MODEL_d5b494db366147cb9e8f851ed7568579"
          }
        },
        "fbfa81c2815b477c8c3e02c2f8434b6e": {
          "model_module": "@jupyter-widgets/controls",
          "model_name": "FloatProgressModel",
          "model_module_version": "1.5.0",
          "state": {
            "_view_name": "ProgressView",
            "style": "IPY_MODEL_efdb58dadef1441f8ff4c8d0cb9c730c",
            "_dom_classes": [],
            "description": "",
            "_model_name": "FloatProgressModel",
            "bar_style": "success",
            "max": 292,
            "_view_module": "@jupyter-widgets/controls",
            "_model_module_version": "1.5.0",
            "value": 292,
            "_view_count": null,
            "_view_module_version": "1.5.0",
            "orientation": "horizontal",
            "min": 0,
            "description_tooltip": null,
            "_model_module": "@jupyter-widgets/controls",
            "layout": "IPY_MODEL_8a56d79122ad49beab0f4bb00a746d5a"
          }
        },
        "37c72340cdd64e70bcea000092a898fb": {
          "model_module": "@jupyter-widgets/controls",
          "model_name": "HTMLModel",
          "model_module_version": "1.5.0",
          "state": {
            "_view_name": "HTMLView",
            "style": "IPY_MODEL_9cc062ff6d024ffb9c3b464998b46de3",
            "_dom_classes": [],
            "description": "",
            "_model_name": "HTMLModel",
            "placeholder": "​",
            "_view_module": "@jupyter-widgets/controls",
            "_model_module_version": "1.5.0",
            "value": " 292/292 [00:00&lt;00:00, 1958.47ex/s]",
            "_view_count": null,
            "_view_module_version": "1.5.0",
            "description_tooltip": null,
            "_model_module": "@jupyter-widgets/controls",
            "layout": "IPY_MODEL_ab2985949a47478ea4fe7027a8e1f1b0"
          }
        },
        "92f731f5624b4e7fbfac3c661d041398": {
          "model_module": "@jupyter-widgets/controls",
          "model_name": "DescriptionStyleModel",
          "model_module_version": "1.5.0",
          "state": {
            "_view_name": "StyleView",
            "_model_name": "DescriptionStyleModel",
            "description_width": "",
            "_view_module": "@jupyter-widgets/base",
            "_model_module_version": "1.5.0",
            "_view_count": null,
            "_view_module_version": "1.2.0",
            "_model_module": "@jupyter-widgets/controls"
          }
        },
        "d5b494db366147cb9e8f851ed7568579": {
          "model_module": "@jupyter-widgets/base",
          "model_name": "LayoutModel",
          "model_module_version": "1.2.0",
          "state": {
            "_view_name": "LayoutView",
            "grid_template_rows": null,
            "right": null,
            "justify_content": null,
            "_view_module": "@jupyter-widgets/base",
            "overflow": null,
            "_model_module_version": "1.2.0",
            "_view_count": null,
            "flex_flow": null,
            "width": null,
            "min_width": null,
            "border": null,
            "align_items": null,
            "bottom": null,
            "_model_module": "@jupyter-widgets/base",
            "top": null,
            "grid_column": null,
            "overflow_y": null,
            "overflow_x": null,
            "grid_auto_flow": null,
            "grid_area": null,
            "grid_template_columns": null,
            "flex": null,
            "_model_name": "LayoutModel",
            "justify_items": null,
            "grid_row": null,
            "max_height": null,
            "align_content": null,
            "visibility": null,
            "align_self": null,
            "height": null,
            "min_height": null,
            "padding": null,
            "grid_auto_rows": null,
            "grid_gap": null,
            "max_width": null,
            "order": null,
            "_view_module_version": "1.2.0",
            "grid_template_areas": null,
            "object_position": null,
            "object_fit": null,
            "grid_auto_columns": null,
            "margin": null,
            "display": null,
            "left": null
          }
        },
        "efdb58dadef1441f8ff4c8d0cb9c730c": {
          "model_module": "@jupyter-widgets/controls",
          "model_name": "ProgressStyleModel",
          "model_module_version": "1.5.0",
          "state": {
            "_view_name": "StyleView",
            "_model_name": "ProgressStyleModel",
            "description_width": "",
            "_view_module": "@jupyter-widgets/base",
            "_model_module_version": "1.5.0",
            "_view_count": null,
            "_view_module_version": "1.2.0",
            "bar_color": null,
            "_model_module": "@jupyter-widgets/controls"
          }
        },
        "8a56d79122ad49beab0f4bb00a746d5a": {
          "model_module": "@jupyter-widgets/base",
          "model_name": "LayoutModel",
          "model_module_version": "1.2.0",
          "state": {
            "_view_name": "LayoutView",
            "grid_template_rows": null,
            "right": null,
            "justify_content": null,
            "_view_module": "@jupyter-widgets/base",
            "overflow": null,
            "_model_module_version": "1.2.0",
            "_view_count": null,
            "flex_flow": null,
            "width": null,
            "min_width": null,
            "border": null,
            "align_items": null,
            "bottom": null,
            "_model_module": "@jupyter-widgets/base",
            "top": null,
            "grid_column": null,
            "overflow_y": null,
            "overflow_x": null,
            "grid_auto_flow": null,
            "grid_area": null,
            "grid_template_columns": null,
            "flex": null,
            "_model_name": "LayoutModel",
            "justify_items": null,
            "grid_row": null,
            "max_height": null,
            "align_content": null,
            "visibility": null,
            "align_self": null,
            "height": null,
            "min_height": null,
            "padding": null,
            "grid_auto_rows": null,
            "grid_gap": null,
            "max_width": null,
            "order": null,
            "_view_module_version": "1.2.0",
            "grid_template_areas": null,
            "object_position": null,
            "object_fit": null,
            "grid_auto_columns": null,
            "margin": null,
            "display": null,
            "left": null
          }
        },
        "9cc062ff6d024ffb9c3b464998b46de3": {
          "model_module": "@jupyter-widgets/controls",
          "model_name": "DescriptionStyleModel",
          "model_module_version": "1.5.0",
          "state": {
            "_view_name": "StyleView",
            "_model_name": "DescriptionStyleModel",
            "description_width": "",
            "_view_module": "@jupyter-widgets/base",
            "_model_module_version": "1.5.0",
            "_view_count": null,
            "_view_module_version": "1.2.0",
            "_model_module": "@jupyter-widgets/controls"
          }
        },
        "ab2985949a47478ea4fe7027a8e1f1b0": {
          "model_module": "@jupyter-widgets/base",
          "model_name": "LayoutModel",
          "model_module_version": "1.2.0",
          "state": {
            "_view_name": "LayoutView",
            "grid_template_rows": null,
            "right": null,
            "justify_content": null,
            "_view_module": "@jupyter-widgets/base",
            "overflow": null,
            "_model_module_version": "1.2.0",
            "_view_count": null,
            "flex_flow": null,
            "width": null,
            "min_width": null,
            "border": null,
            "align_items": null,
            "bottom": null,
            "_model_module": "@jupyter-widgets/base",
            "top": null,
            "grid_column": null,
            "overflow_y": null,
            "overflow_x": null,
            "grid_auto_flow": null,
            "grid_area": null,
            "grid_template_columns": null,
            "flex": null,
            "_model_name": "LayoutModel",
            "justify_items": null,
            "grid_row": null,
            "max_height": null,
            "align_content": null,
            "visibility": null,
            "align_self": null,
            "height": null,
            "min_height": null,
            "padding": null,
            "grid_auto_rows": null,
            "grid_gap": null,
            "max_width": null,
            "order": null,
            "_view_module_version": "1.2.0",
            "grid_template_areas": null,
            "object_position": null,
            "object_fit": null,
            "grid_auto_columns": null,
            "margin": null,
            "display": null,
            "left": null
          }
        },
        "b9fba62b3ebc4fab8d94473862c32f41": {
          "model_module": "@jupyter-widgets/controls",
          "model_name": "HBoxModel",
          "model_module_version": "1.5.0",
          "state": {
            "_view_name": "HBoxView",
            "_dom_classes": [],
            "_model_name": "HBoxModel",
            "_view_module": "@jupyter-widgets/controls",
            "_model_module_version": "1.5.0",
            "_view_count": null,
            "_view_module_version": "1.5.0",
            "box_style": "",
            "layout": "IPY_MODEL_64053ba3161841249ac9a80ae97fa574",
            "_model_module": "@jupyter-widgets/controls",
            "children": [
              "IPY_MODEL_b928c26c526c481a876e2f836c10c0d7",
              "IPY_MODEL_3661966cb9e94855877aac4dff2011a1",
              "IPY_MODEL_81619254a5cf49afba182b4d425b0760"
            ]
          }
        },
        "64053ba3161841249ac9a80ae97fa574": {
          "model_module": "@jupyter-widgets/base",
          "model_name": "LayoutModel",
          "model_module_version": "1.2.0",
          "state": {
            "_view_name": "LayoutView",
            "grid_template_rows": null,
            "right": null,
            "justify_content": null,
            "_view_module": "@jupyter-widgets/base",
            "overflow": null,
            "_model_module_version": "1.2.0",
            "_view_count": null,
            "flex_flow": null,
            "width": null,
            "min_width": null,
            "border": null,
            "align_items": null,
            "bottom": null,
            "_model_module": "@jupyter-widgets/base",
            "top": null,
            "grid_column": null,
            "overflow_y": null,
            "overflow_x": null,
            "grid_auto_flow": null,
            "grid_area": null,
            "grid_template_columns": null,
            "flex": null,
            "_model_name": "LayoutModel",
            "justify_items": null,
            "grid_row": null,
            "max_height": null,
            "align_content": null,
            "visibility": null,
            "align_self": null,
            "height": null,
            "min_height": null,
            "padding": null,
            "grid_auto_rows": null,
            "grid_gap": null,
            "max_width": null,
            "order": null,
            "_view_module_version": "1.2.0",
            "grid_template_areas": null,
            "object_position": null,
            "object_fit": null,
            "grid_auto_columns": null,
            "margin": null,
            "display": null,
            "left": null
          }
        },
        "b928c26c526c481a876e2f836c10c0d7": {
          "model_module": "@jupyter-widgets/controls",
          "model_name": "HTMLModel",
          "model_module_version": "1.5.0",
          "state": {
            "_view_name": "HTMLView",
            "style": "IPY_MODEL_e2de3eb0c5d9453b9b063d63a5415e80",
            "_dom_classes": [],
            "description": "",
            "_model_name": "HTMLModel",
            "placeholder": "​",
            "_view_module": "@jupyter-widgets/controls",
            "_model_module_version": "1.5.0",
            "value": "100%",
            "_view_count": null,
            "_view_module_version": "1.5.0",
            "description_tooltip": null,
            "_model_module": "@jupyter-widgets/controls",
            "layout": "IPY_MODEL_3f961a63c50f456f991c1f37bcf3f83b"
          }
        },
        "3661966cb9e94855877aac4dff2011a1": {
          "model_module": "@jupyter-widgets/controls",
          "model_name": "FloatProgressModel",
          "model_module_version": "1.5.0",
          "state": {
            "_view_name": "ProgressView",
            "style": "IPY_MODEL_d10ef3376e6e43448461334d2ab6a914",
            "_dom_classes": [],
            "description": "",
            "_model_name": "FloatProgressModel",
            "bar_style": "success",
            "max": 292,
            "_view_module": "@jupyter-widgets/controls",
            "_model_module_version": "1.5.0",
            "value": 292,
            "_view_count": null,
            "_view_module_version": "1.5.0",
            "orientation": "horizontal",
            "min": 0,
            "description_tooltip": null,
            "_model_module": "@jupyter-widgets/controls",
            "layout": "IPY_MODEL_84de0871087f4630bb767257d2df9ca5"
          }
        },
        "81619254a5cf49afba182b4d425b0760": {
          "model_module": "@jupyter-widgets/controls",
          "model_name": "HTMLModel",
          "model_module_version": "1.5.0",
          "state": {
            "_view_name": "HTMLView",
            "style": "IPY_MODEL_7e3dce11455c4229ad45a7edbd979de1",
            "_dom_classes": [],
            "description": "",
            "_model_name": "HTMLModel",
            "placeholder": "​",
            "_view_module": "@jupyter-widgets/controls",
            "_model_module_version": "1.5.0",
            "value": " 292/292 [00:00&lt;00:00, 2156.80ex/s]",
            "_view_count": null,
            "_view_module_version": "1.5.0",
            "description_tooltip": null,
            "_model_module": "@jupyter-widgets/controls",
            "layout": "IPY_MODEL_9a1f31cca3534421aef4d4b262a2bb8f"
          }
        },
        "e2de3eb0c5d9453b9b063d63a5415e80": {
          "model_module": "@jupyter-widgets/controls",
          "model_name": "DescriptionStyleModel",
          "model_module_version": "1.5.0",
          "state": {
            "_view_name": "StyleView",
            "_model_name": "DescriptionStyleModel",
            "description_width": "",
            "_view_module": "@jupyter-widgets/base",
            "_model_module_version": "1.5.0",
            "_view_count": null,
            "_view_module_version": "1.2.0",
            "_model_module": "@jupyter-widgets/controls"
          }
        },
        "3f961a63c50f456f991c1f37bcf3f83b": {
          "model_module": "@jupyter-widgets/base",
          "model_name": "LayoutModel",
          "model_module_version": "1.2.0",
          "state": {
            "_view_name": "LayoutView",
            "grid_template_rows": null,
            "right": null,
            "justify_content": null,
            "_view_module": "@jupyter-widgets/base",
            "overflow": null,
            "_model_module_version": "1.2.0",
            "_view_count": null,
            "flex_flow": null,
            "width": null,
            "min_width": null,
            "border": null,
            "align_items": null,
            "bottom": null,
            "_model_module": "@jupyter-widgets/base",
            "top": null,
            "grid_column": null,
            "overflow_y": null,
            "overflow_x": null,
            "grid_auto_flow": null,
            "grid_area": null,
            "grid_template_columns": null,
            "flex": null,
            "_model_name": "LayoutModel",
            "justify_items": null,
            "grid_row": null,
            "max_height": null,
            "align_content": null,
            "visibility": null,
            "align_self": null,
            "height": null,
            "min_height": null,
            "padding": null,
            "grid_auto_rows": null,
            "grid_gap": null,
            "max_width": null,
            "order": null,
            "_view_module_version": "1.2.0",
            "grid_template_areas": null,
            "object_position": null,
            "object_fit": null,
            "grid_auto_columns": null,
            "margin": null,
            "display": null,
            "left": null
          }
        },
        "d10ef3376e6e43448461334d2ab6a914": {
          "model_module": "@jupyter-widgets/controls",
          "model_name": "ProgressStyleModel",
          "model_module_version": "1.5.0",
          "state": {
            "_view_name": "StyleView",
            "_model_name": "ProgressStyleModel",
            "description_width": "",
            "_view_module": "@jupyter-widgets/base",
            "_model_module_version": "1.5.0",
            "_view_count": null,
            "_view_module_version": "1.2.0",
            "bar_color": null,
            "_model_module": "@jupyter-widgets/controls"
          }
        },
        "84de0871087f4630bb767257d2df9ca5": {
          "model_module": "@jupyter-widgets/base",
          "model_name": "LayoutModel",
          "model_module_version": "1.2.0",
          "state": {
            "_view_name": "LayoutView",
            "grid_template_rows": null,
            "right": null,
            "justify_content": null,
            "_view_module": "@jupyter-widgets/base",
            "overflow": null,
            "_model_module_version": "1.2.0",
            "_view_count": null,
            "flex_flow": null,
            "width": null,
            "min_width": null,
            "border": null,
            "align_items": null,
            "bottom": null,
            "_model_module": "@jupyter-widgets/base",
            "top": null,
            "grid_column": null,
            "overflow_y": null,
            "overflow_x": null,
            "grid_auto_flow": null,
            "grid_area": null,
            "grid_template_columns": null,
            "flex": null,
            "_model_name": "LayoutModel",
            "justify_items": null,
            "grid_row": null,
            "max_height": null,
            "align_content": null,
            "visibility": null,
            "align_self": null,
            "height": null,
            "min_height": null,
            "padding": null,
            "grid_auto_rows": null,
            "grid_gap": null,
            "max_width": null,
            "order": null,
            "_view_module_version": "1.2.0",
            "grid_template_areas": null,
            "object_position": null,
            "object_fit": null,
            "grid_auto_columns": null,
            "margin": null,
            "display": null,
            "left": null
          }
        },
        "7e3dce11455c4229ad45a7edbd979de1": {
          "model_module": "@jupyter-widgets/controls",
          "model_name": "DescriptionStyleModel",
          "model_module_version": "1.5.0",
          "state": {
            "_view_name": "StyleView",
            "_model_name": "DescriptionStyleModel",
            "description_width": "",
            "_view_module": "@jupyter-widgets/base",
            "_model_module_version": "1.5.0",
            "_view_count": null,
            "_view_module_version": "1.2.0",
            "_model_module": "@jupyter-widgets/controls"
          }
        },
        "9a1f31cca3534421aef4d4b262a2bb8f": {
          "model_module": "@jupyter-widgets/base",
          "model_name": "LayoutModel",
          "model_module_version": "1.2.0",
          "state": {
            "_view_name": "LayoutView",
            "grid_template_rows": null,
            "right": null,
            "justify_content": null,
            "_view_module": "@jupyter-widgets/base",
            "overflow": null,
            "_model_module_version": "1.2.0",
            "_view_count": null,
            "flex_flow": null,
            "width": null,
            "min_width": null,
            "border": null,
            "align_items": null,
            "bottom": null,
            "_model_module": "@jupyter-widgets/base",
            "top": null,
            "grid_column": null,
            "overflow_y": null,
            "overflow_x": null,
            "grid_auto_flow": null,
            "grid_area": null,
            "grid_template_columns": null,
            "flex": null,
            "_model_name": "LayoutModel",
            "justify_items": null,
            "grid_row": null,
            "max_height": null,
            "align_content": null,
            "visibility": null,
            "align_self": null,
            "height": null,
            "min_height": null,
            "padding": null,
            "grid_auto_rows": null,
            "grid_gap": null,
            "max_width": null,
            "order": null,
            "_view_module_version": "1.2.0",
            "grid_template_areas": null,
            "object_position": null,
            "object_fit": null,
            "grid_auto_columns": null,
            "margin": null,
            "display": null,
            "left": null
          }
        },
        "02856350cdf54328824eb1a1b57fdd57": {
          "model_module": "@jupyter-widgets/controls",
          "model_name": "HBoxModel",
          "model_module_version": "1.5.0",
          "state": {
            "_view_name": "HBoxView",
            "_dom_classes": [],
            "_model_name": "HBoxModel",
            "_view_module": "@jupyter-widgets/controls",
            "_model_module_version": "1.5.0",
            "_view_count": null,
            "_view_module_version": "1.5.0",
            "box_style": "",
            "layout": "IPY_MODEL_4b70d09519004ea88aa9e32cfbf3b3a9",
            "_model_module": "@jupyter-widgets/controls",
            "children": [
              "IPY_MODEL_689ed394c7ec4331b322f39024da058d",
              "IPY_MODEL_c99a8139bcf1415ba093e6390b550f8c",
              "IPY_MODEL_50dcdec730f349dd86d3961f4bb6b4e9"
            ]
          }
        },
        "4b70d09519004ea88aa9e32cfbf3b3a9": {
          "model_module": "@jupyter-widgets/base",
          "model_name": "LayoutModel",
          "model_module_version": "1.2.0",
          "state": {
            "_view_name": "LayoutView",
            "grid_template_rows": null,
            "right": null,
            "justify_content": null,
            "_view_module": "@jupyter-widgets/base",
            "overflow": null,
            "_model_module_version": "1.2.0",
            "_view_count": null,
            "flex_flow": null,
            "width": null,
            "min_width": null,
            "border": null,
            "align_items": null,
            "bottom": null,
            "_model_module": "@jupyter-widgets/base",
            "top": null,
            "grid_column": null,
            "overflow_y": null,
            "overflow_x": null,
            "grid_auto_flow": null,
            "grid_area": null,
            "grid_template_columns": null,
            "flex": null,
            "_model_name": "LayoutModel",
            "justify_items": null,
            "grid_row": null,
            "max_height": null,
            "align_content": null,
            "visibility": null,
            "align_self": null,
            "height": null,
            "min_height": null,
            "padding": null,
            "grid_auto_rows": null,
            "grid_gap": null,
            "max_width": null,
            "order": null,
            "_view_module_version": "1.2.0",
            "grid_template_areas": null,
            "object_position": null,
            "object_fit": null,
            "grid_auto_columns": null,
            "margin": null,
            "display": null,
            "left": null
          }
        },
        "689ed394c7ec4331b322f39024da058d": {
          "model_module": "@jupyter-widgets/controls",
          "model_name": "HTMLModel",
          "model_module_version": "1.5.0",
          "state": {
            "_view_name": "HTMLView",
            "style": "IPY_MODEL_946833231c94484681458d10ab24b262",
            "_dom_classes": [],
            "description": "",
            "_model_name": "HTMLModel",
            "placeholder": "​",
            "_view_module": "@jupyter-widgets/controls",
            "_model_module_version": "1.5.0",
            "value": "100%",
            "_view_count": null,
            "_view_module_version": "1.5.0",
            "description_tooltip": null,
            "_model_module": "@jupyter-widgets/controls",
            "layout": "IPY_MODEL_781ac4c913974c3090a705adf2c10e75"
          }
        },
        "c99a8139bcf1415ba093e6390b550f8c": {
          "model_module": "@jupyter-widgets/controls",
          "model_name": "FloatProgressModel",
          "model_module_version": "1.5.0",
          "state": {
            "_view_name": "ProgressView",
            "style": "IPY_MODEL_c222d2a213d445589e3252dc882db66e",
            "_dom_classes": [],
            "description": "",
            "_model_name": "FloatProgressModel",
            "bar_style": "success",
            "max": 1,
            "_view_module": "@jupyter-widgets/controls",
            "_model_module_version": "1.5.0",
            "value": 1,
            "_view_count": null,
            "_view_module_version": "1.5.0",
            "orientation": "horizontal",
            "min": 0,
            "description_tooltip": null,
            "_model_module": "@jupyter-widgets/controls",
            "layout": "IPY_MODEL_677b1ce131684030b4981a613736bf2b"
          }
        },
        "50dcdec730f349dd86d3961f4bb6b4e9": {
          "model_module": "@jupyter-widgets/controls",
          "model_name": "HTMLModel",
          "model_module_version": "1.5.0",
          "state": {
            "_view_name": "HTMLView",
            "style": "IPY_MODEL_e68db86207e2457ba7189953aa24c6c2",
            "_dom_classes": [],
            "description": "",
            "_model_name": "HTMLModel",
            "placeholder": "​",
            "_view_module": "@jupyter-widgets/controls",
            "_model_module_version": "1.5.0",
            "value": " 1/1 [00:00&lt;00:00, 20.56ba/s]",
            "_view_count": null,
            "_view_module_version": "1.5.0",
            "description_tooltip": null,
            "_model_module": "@jupyter-widgets/controls",
            "layout": "IPY_MODEL_c2d0f66e95144cf9889a136047083f7f"
          }
        },
        "946833231c94484681458d10ab24b262": {
          "model_module": "@jupyter-widgets/controls",
          "model_name": "DescriptionStyleModel",
          "model_module_version": "1.5.0",
          "state": {
            "_view_name": "StyleView",
            "_model_name": "DescriptionStyleModel",
            "description_width": "",
            "_view_module": "@jupyter-widgets/base",
            "_model_module_version": "1.5.0",
            "_view_count": null,
            "_view_module_version": "1.2.0",
            "_model_module": "@jupyter-widgets/controls"
          }
        },
        "781ac4c913974c3090a705adf2c10e75": {
          "model_module": "@jupyter-widgets/base",
          "model_name": "LayoutModel",
          "model_module_version": "1.2.0",
          "state": {
            "_view_name": "LayoutView",
            "grid_template_rows": null,
            "right": null,
            "justify_content": null,
            "_view_module": "@jupyter-widgets/base",
            "overflow": null,
            "_model_module_version": "1.2.0",
            "_view_count": null,
            "flex_flow": null,
            "width": null,
            "min_width": null,
            "border": null,
            "align_items": null,
            "bottom": null,
            "_model_module": "@jupyter-widgets/base",
            "top": null,
            "grid_column": null,
            "overflow_y": null,
            "overflow_x": null,
            "grid_auto_flow": null,
            "grid_area": null,
            "grid_template_columns": null,
            "flex": null,
            "_model_name": "LayoutModel",
            "justify_items": null,
            "grid_row": null,
            "max_height": null,
            "align_content": null,
            "visibility": null,
            "align_self": null,
            "height": null,
            "min_height": null,
            "padding": null,
            "grid_auto_rows": null,
            "grid_gap": null,
            "max_width": null,
            "order": null,
            "_view_module_version": "1.2.0",
            "grid_template_areas": null,
            "object_position": null,
            "object_fit": null,
            "grid_auto_columns": null,
            "margin": null,
            "display": null,
            "left": null
          }
        },
        "c222d2a213d445589e3252dc882db66e": {
          "model_module": "@jupyter-widgets/controls",
          "model_name": "ProgressStyleModel",
          "model_module_version": "1.5.0",
          "state": {
            "_view_name": "StyleView",
            "_model_name": "ProgressStyleModel",
            "description_width": "",
            "_view_module": "@jupyter-widgets/base",
            "_model_module_version": "1.5.0",
            "_view_count": null,
            "_view_module_version": "1.2.0",
            "bar_color": null,
            "_model_module": "@jupyter-widgets/controls"
          }
        },
        "677b1ce131684030b4981a613736bf2b": {
          "model_module": "@jupyter-widgets/base",
          "model_name": "LayoutModel",
          "model_module_version": "1.2.0",
          "state": {
            "_view_name": "LayoutView",
            "grid_template_rows": null,
            "right": null,
            "justify_content": null,
            "_view_module": "@jupyter-widgets/base",
            "overflow": null,
            "_model_module_version": "1.2.0",
            "_view_count": null,
            "flex_flow": null,
            "width": null,
            "min_width": null,
            "border": null,
            "align_items": null,
            "bottom": null,
            "_model_module": "@jupyter-widgets/base",
            "top": null,
            "grid_column": null,
            "overflow_y": null,
            "overflow_x": null,
            "grid_auto_flow": null,
            "grid_area": null,
            "grid_template_columns": null,
            "flex": null,
            "_model_name": "LayoutModel",
            "justify_items": null,
            "grid_row": null,
            "max_height": null,
            "align_content": null,
            "visibility": null,
            "align_self": null,
            "height": null,
            "min_height": null,
            "padding": null,
            "grid_auto_rows": null,
            "grid_gap": null,
            "max_width": null,
            "order": null,
            "_view_module_version": "1.2.0",
            "grid_template_areas": null,
            "object_position": null,
            "object_fit": null,
            "grid_auto_columns": null,
            "margin": null,
            "display": null,
            "left": null
          }
        },
        "e68db86207e2457ba7189953aa24c6c2": {
          "model_module": "@jupyter-widgets/controls",
          "model_name": "DescriptionStyleModel",
          "model_module_version": "1.5.0",
          "state": {
            "_view_name": "StyleView",
            "_model_name": "DescriptionStyleModel",
            "description_width": "",
            "_view_module": "@jupyter-widgets/base",
            "_model_module_version": "1.5.0",
            "_view_count": null,
            "_view_module_version": "1.2.0",
            "_model_module": "@jupyter-widgets/controls"
          }
        },
        "c2d0f66e95144cf9889a136047083f7f": {
          "model_module": "@jupyter-widgets/base",
          "model_name": "LayoutModel",
          "model_module_version": "1.2.0",
          "state": {
            "_view_name": "LayoutView",
            "grid_template_rows": null,
            "right": null,
            "justify_content": null,
            "_view_module": "@jupyter-widgets/base",
            "overflow": null,
            "_model_module_version": "1.2.0",
            "_view_count": null,
            "flex_flow": null,
            "width": null,
            "min_width": null,
            "border": null,
            "align_items": null,
            "bottom": null,
            "_model_module": "@jupyter-widgets/base",
            "top": null,
            "grid_column": null,
            "overflow_y": null,
            "overflow_x": null,
            "grid_auto_flow": null,
            "grid_area": null,
            "grid_template_columns": null,
            "flex": null,
            "_model_name": "LayoutModel",
            "justify_items": null,
            "grid_row": null,
            "max_height": null,
            "align_content": null,
            "visibility": null,
            "align_self": null,
            "height": null,
            "min_height": null,
            "padding": null,
            "grid_auto_rows": null,
            "grid_gap": null,
            "max_width": null,
            "order": null,
            "_view_module_version": "1.2.0",
            "grid_template_areas": null,
            "object_position": null,
            "object_fit": null,
            "grid_auto_columns": null,
            "margin": null,
            "display": null,
            "left": null
          }
        },
        "d0c6abb53f7b4a53b06029ce5fcac10c": {
          "model_module": "@jupyter-widgets/controls",
          "model_name": "HBoxModel",
          "model_module_version": "1.5.0",
          "state": {
            "_view_name": "HBoxView",
            "_dom_classes": [],
            "_model_name": "HBoxModel",
            "_view_module": "@jupyter-widgets/controls",
            "_model_module_version": "1.5.0",
            "_view_count": null,
            "_view_module_version": "1.5.0",
            "box_style": "",
            "layout": "IPY_MODEL_d19e34ace02e41c1b1b27dcb5a16622d",
            "_model_module": "@jupyter-widgets/controls",
            "children": [
              "IPY_MODEL_04f3f7f22bc4453f8007f3756c36da07",
              "IPY_MODEL_5ad656cab5324734aad31994a09d7621",
              "IPY_MODEL_338378c16369422aba1f56b3ac613305"
            ]
          }
        },
        "d19e34ace02e41c1b1b27dcb5a16622d": {
          "model_module": "@jupyter-widgets/base",
          "model_name": "LayoutModel",
          "model_module_version": "1.2.0",
          "state": {
            "_view_name": "LayoutView",
            "grid_template_rows": null,
            "right": null,
            "justify_content": null,
            "_view_module": "@jupyter-widgets/base",
            "overflow": null,
            "_model_module_version": "1.2.0",
            "_view_count": null,
            "flex_flow": null,
            "width": null,
            "min_width": null,
            "border": null,
            "align_items": null,
            "bottom": null,
            "_model_module": "@jupyter-widgets/base",
            "top": null,
            "grid_column": null,
            "overflow_y": null,
            "overflow_x": null,
            "grid_auto_flow": null,
            "grid_area": null,
            "grid_template_columns": null,
            "flex": null,
            "_model_name": "LayoutModel",
            "justify_items": null,
            "grid_row": null,
            "max_height": null,
            "align_content": null,
            "visibility": null,
            "align_self": null,
            "height": null,
            "min_height": null,
            "padding": null,
            "grid_auto_rows": null,
            "grid_gap": null,
            "max_width": null,
            "order": null,
            "_view_module_version": "1.2.0",
            "grid_template_areas": null,
            "object_position": null,
            "object_fit": null,
            "grid_auto_columns": null,
            "margin": null,
            "display": null,
            "left": null
          }
        },
        "04f3f7f22bc4453f8007f3756c36da07": {
          "model_module": "@jupyter-widgets/controls",
          "model_name": "HTMLModel",
          "model_module_version": "1.5.0",
          "state": {
            "_view_name": "HTMLView",
            "style": "IPY_MODEL_ebee19ca545948999d56e7f46dfd15b3",
            "_dom_classes": [],
            "description": "",
            "_model_name": "HTMLModel",
            "placeholder": "​",
            "_view_module": "@jupyter-widgets/controls",
            "_model_module_version": "1.5.0",
            "value": "100%",
            "_view_count": null,
            "_view_module_version": "1.5.0",
            "description_tooltip": null,
            "_model_module": "@jupyter-widgets/controls",
            "layout": "IPY_MODEL_b827c3bb5a4247f4a97e53a58e947290"
          }
        },
        "5ad656cab5324734aad31994a09d7621": {
          "model_module": "@jupyter-widgets/controls",
          "model_name": "FloatProgressModel",
          "model_module_version": "1.5.0",
          "state": {
            "_view_name": "ProgressView",
            "style": "IPY_MODEL_ba1f1bf3a7a7451f9ffa8dd2e84bdb73",
            "_dom_classes": [],
            "description": "",
            "_model_name": "FloatProgressModel",
            "bar_style": "success",
            "max": 1,
            "_view_module": "@jupyter-widgets/controls",
            "_model_module_version": "1.5.0",
            "value": 1,
            "_view_count": null,
            "_view_module_version": "1.5.0",
            "orientation": "horizontal",
            "min": 0,
            "description_tooltip": null,
            "_model_module": "@jupyter-widgets/controls",
            "layout": "IPY_MODEL_6eece46c59cd431988061f518fd59720"
          }
        },
        "338378c16369422aba1f56b3ac613305": {
          "model_module": "@jupyter-widgets/controls",
          "model_name": "HTMLModel",
          "model_module_version": "1.5.0",
          "state": {
            "_view_name": "HTMLView",
            "style": "IPY_MODEL_b26a1b3d202b46b791c5bc78c4bd29e3",
            "_dom_classes": [],
            "description": "",
            "_model_name": "HTMLModel",
            "placeholder": "​",
            "_view_module": "@jupyter-widgets/controls",
            "_model_module_version": "1.5.0",
            "value": " 1/1 [00:00&lt;00:00, 15.68ba/s]",
            "_view_count": null,
            "_view_module_version": "1.5.0",
            "description_tooltip": null,
            "_model_module": "@jupyter-widgets/controls",
            "layout": "IPY_MODEL_837d152cbd2e448f828558cedc59ccda"
          }
        },
        "ebee19ca545948999d56e7f46dfd15b3": {
          "model_module": "@jupyter-widgets/controls",
          "model_name": "DescriptionStyleModel",
          "model_module_version": "1.5.0",
          "state": {
            "_view_name": "StyleView",
            "_model_name": "DescriptionStyleModel",
            "description_width": "",
            "_view_module": "@jupyter-widgets/base",
            "_model_module_version": "1.5.0",
            "_view_count": null,
            "_view_module_version": "1.2.0",
            "_model_module": "@jupyter-widgets/controls"
          }
        },
        "b827c3bb5a4247f4a97e53a58e947290": {
          "model_module": "@jupyter-widgets/base",
          "model_name": "LayoutModel",
          "model_module_version": "1.2.0",
          "state": {
            "_view_name": "LayoutView",
            "grid_template_rows": null,
            "right": null,
            "justify_content": null,
            "_view_module": "@jupyter-widgets/base",
            "overflow": null,
            "_model_module_version": "1.2.0",
            "_view_count": null,
            "flex_flow": null,
            "width": null,
            "min_width": null,
            "border": null,
            "align_items": null,
            "bottom": null,
            "_model_module": "@jupyter-widgets/base",
            "top": null,
            "grid_column": null,
            "overflow_y": null,
            "overflow_x": null,
            "grid_auto_flow": null,
            "grid_area": null,
            "grid_template_columns": null,
            "flex": null,
            "_model_name": "LayoutModel",
            "justify_items": null,
            "grid_row": null,
            "max_height": null,
            "align_content": null,
            "visibility": null,
            "align_self": null,
            "height": null,
            "min_height": null,
            "padding": null,
            "grid_auto_rows": null,
            "grid_gap": null,
            "max_width": null,
            "order": null,
            "_view_module_version": "1.2.0",
            "grid_template_areas": null,
            "object_position": null,
            "object_fit": null,
            "grid_auto_columns": null,
            "margin": null,
            "display": null,
            "left": null
          }
        },
        "ba1f1bf3a7a7451f9ffa8dd2e84bdb73": {
          "model_module": "@jupyter-widgets/controls",
          "model_name": "ProgressStyleModel",
          "model_module_version": "1.5.0",
          "state": {
            "_view_name": "StyleView",
            "_model_name": "ProgressStyleModel",
            "description_width": "",
            "_view_module": "@jupyter-widgets/base",
            "_model_module_version": "1.5.0",
            "_view_count": null,
            "_view_module_version": "1.2.0",
            "bar_color": null,
            "_model_module": "@jupyter-widgets/controls"
          }
        },
        "6eece46c59cd431988061f518fd59720": {
          "model_module": "@jupyter-widgets/base",
          "model_name": "LayoutModel",
          "model_module_version": "1.2.0",
          "state": {
            "_view_name": "LayoutView",
            "grid_template_rows": null,
            "right": null,
            "justify_content": null,
            "_view_module": "@jupyter-widgets/base",
            "overflow": null,
            "_model_module_version": "1.2.0",
            "_view_count": null,
            "flex_flow": null,
            "width": null,
            "min_width": null,
            "border": null,
            "align_items": null,
            "bottom": null,
            "_model_module": "@jupyter-widgets/base",
            "top": null,
            "grid_column": null,
            "overflow_y": null,
            "overflow_x": null,
            "grid_auto_flow": null,
            "grid_area": null,
            "grid_template_columns": null,
            "flex": null,
            "_model_name": "LayoutModel",
            "justify_items": null,
            "grid_row": null,
            "max_height": null,
            "align_content": null,
            "visibility": null,
            "align_self": null,
            "height": null,
            "min_height": null,
            "padding": null,
            "grid_auto_rows": null,
            "grid_gap": null,
            "max_width": null,
            "order": null,
            "_view_module_version": "1.2.0",
            "grid_template_areas": null,
            "object_position": null,
            "object_fit": null,
            "grid_auto_columns": null,
            "margin": null,
            "display": null,
            "left": null
          }
        },
        "b26a1b3d202b46b791c5bc78c4bd29e3": {
          "model_module": "@jupyter-widgets/controls",
          "model_name": "DescriptionStyleModel",
          "model_module_version": "1.5.0",
          "state": {
            "_view_name": "StyleView",
            "_model_name": "DescriptionStyleModel",
            "description_width": "",
            "_view_module": "@jupyter-widgets/base",
            "_model_module_version": "1.5.0",
            "_view_count": null,
            "_view_module_version": "1.2.0",
            "_model_module": "@jupyter-widgets/controls"
          }
        },
        "837d152cbd2e448f828558cedc59ccda": {
          "model_module": "@jupyter-widgets/base",
          "model_name": "LayoutModel",
          "model_module_version": "1.2.0",
          "state": {
            "_view_name": "LayoutView",
            "grid_template_rows": null,
            "right": null,
            "justify_content": null,
            "_view_module": "@jupyter-widgets/base",
            "overflow": null,
            "_model_module_version": "1.2.0",
            "_view_count": null,
            "flex_flow": null,
            "width": null,
            "min_width": null,
            "border": null,
            "align_items": null,
            "bottom": null,
            "_model_module": "@jupyter-widgets/base",
            "top": null,
            "grid_column": null,
            "overflow_y": null,
            "overflow_x": null,
            "grid_auto_flow": null,
            "grid_area": null,
            "grid_template_columns": null,
            "flex": null,
            "_model_name": "LayoutModel",
            "justify_items": null,
            "grid_row": null,
            "max_height": null,
            "align_content": null,
            "visibility": null,
            "align_self": null,
            "height": null,
            "min_height": null,
            "padding": null,
            "grid_auto_rows": null,
            "grid_gap": null,
            "max_width": null,
            "order": null,
            "_view_module_version": "1.2.0",
            "grid_template_areas": null,
            "object_position": null,
            "object_fit": null,
            "grid_auto_columns": null,
            "margin": null,
            "display": null,
            "left": null
          }
        },
        "762ece7a790e424482ac395e435ac62e": {
          "model_module": "@jupyter-widgets/controls",
          "model_name": "HBoxModel",
          "model_module_version": "1.5.0",
          "state": {
            "_view_name": "HBoxView",
            "_dom_classes": [],
            "_model_name": "HBoxModel",
            "_view_module": "@jupyter-widgets/controls",
            "_model_module_version": "1.5.0",
            "_view_count": null,
            "_view_module_version": "1.5.0",
            "box_style": "",
            "layout": "IPY_MODEL_f22c926576504314be517ec21b9ddfc8",
            "_model_module": "@jupyter-widgets/controls",
            "children": [
              "IPY_MODEL_f1a3dfb6f3d543089e847b6a48e631b6",
              "IPY_MODEL_cdccdbb517d440059d8b97c8d751a274",
              "IPY_MODEL_c9139a01c72e482587b6b4ab76756f1d"
            ]
          }
        },
        "f22c926576504314be517ec21b9ddfc8": {
          "model_module": "@jupyter-widgets/base",
          "model_name": "LayoutModel",
          "model_module_version": "1.2.0",
          "state": {
            "_view_name": "LayoutView",
            "grid_template_rows": null,
            "right": null,
            "justify_content": null,
            "_view_module": "@jupyter-widgets/base",
            "overflow": null,
            "_model_module_version": "1.2.0",
            "_view_count": null,
            "flex_flow": null,
            "width": null,
            "min_width": null,
            "border": null,
            "align_items": null,
            "bottom": null,
            "_model_module": "@jupyter-widgets/base",
            "top": null,
            "grid_column": null,
            "overflow_y": null,
            "overflow_x": null,
            "grid_auto_flow": null,
            "grid_area": null,
            "grid_template_columns": null,
            "flex": null,
            "_model_name": "LayoutModel",
            "justify_items": null,
            "grid_row": null,
            "max_height": null,
            "align_content": null,
            "visibility": null,
            "align_self": null,
            "height": null,
            "min_height": null,
            "padding": null,
            "grid_auto_rows": null,
            "grid_gap": null,
            "max_width": null,
            "order": null,
            "_view_module_version": "1.2.0",
            "grid_template_areas": null,
            "object_position": null,
            "object_fit": null,
            "grid_auto_columns": null,
            "margin": null,
            "display": null,
            "left": null
          }
        },
        "f1a3dfb6f3d543089e847b6a48e631b6": {
          "model_module": "@jupyter-widgets/controls",
          "model_name": "HTMLModel",
          "model_module_version": "1.5.0",
          "state": {
            "_view_name": "HTMLView",
            "style": "IPY_MODEL_9233ac403c864e75a6fd0d73ffd605b9",
            "_dom_classes": [],
            "description": "",
            "_model_name": "HTMLModel",
            "placeholder": "​",
            "_view_module": "@jupyter-widgets/controls",
            "_model_module_version": "1.5.0",
            "value": "100%",
            "_view_count": null,
            "_view_module_version": "1.5.0",
            "description_tooltip": null,
            "_model_module": "@jupyter-widgets/controls",
            "layout": "IPY_MODEL_ed6c9b6295f840a39727ca55bbe3caae"
          }
        },
        "cdccdbb517d440059d8b97c8d751a274": {
          "model_module": "@jupyter-widgets/controls",
          "model_name": "FloatProgressModel",
          "model_module_version": "1.5.0",
          "state": {
            "_view_name": "ProgressView",
            "style": "IPY_MODEL_c348e8d3bc1a4890af9059c699ae8d35",
            "_dom_classes": [],
            "description": "",
            "_model_name": "FloatProgressModel",
            "bar_style": "success",
            "max": 292,
            "_view_module": "@jupyter-widgets/controls",
            "_model_module_version": "1.5.0",
            "value": 292,
            "_view_count": null,
            "_view_module_version": "1.5.0",
            "orientation": "horizontal",
            "min": 0,
            "description_tooltip": null,
            "_model_module": "@jupyter-widgets/controls",
            "layout": "IPY_MODEL_a8731db730df4908b9c84cfb4a93647d"
          }
        },
        "c9139a01c72e482587b6b4ab76756f1d": {
          "model_module": "@jupyter-widgets/controls",
          "model_name": "HTMLModel",
          "model_module_version": "1.5.0",
          "state": {
            "_view_name": "HTMLView",
            "style": "IPY_MODEL_92079fe488344990b45480a9409c7349",
            "_dom_classes": [],
            "description": "",
            "_model_name": "HTMLModel",
            "placeholder": "​",
            "_view_module": "@jupyter-widgets/controls",
            "_model_module_version": "1.5.0",
            "value": " 292/292 [00:03&lt;00:00, 67.09ex/s]",
            "_view_count": null,
            "_view_module_version": "1.5.0",
            "description_tooltip": null,
            "_model_module": "@jupyter-widgets/controls",
            "layout": "IPY_MODEL_8433ed56c96d48cea2b7250e02841a91"
          }
        },
        "9233ac403c864e75a6fd0d73ffd605b9": {
          "model_module": "@jupyter-widgets/controls",
          "model_name": "DescriptionStyleModel",
          "model_module_version": "1.5.0",
          "state": {
            "_view_name": "StyleView",
            "_model_name": "DescriptionStyleModel",
            "description_width": "",
            "_view_module": "@jupyter-widgets/base",
            "_model_module_version": "1.5.0",
            "_view_count": null,
            "_view_module_version": "1.2.0",
            "_model_module": "@jupyter-widgets/controls"
          }
        },
        "ed6c9b6295f840a39727ca55bbe3caae": {
          "model_module": "@jupyter-widgets/base",
          "model_name": "LayoutModel",
          "model_module_version": "1.2.0",
          "state": {
            "_view_name": "LayoutView",
            "grid_template_rows": null,
            "right": null,
            "justify_content": null,
            "_view_module": "@jupyter-widgets/base",
            "overflow": null,
            "_model_module_version": "1.2.0",
            "_view_count": null,
            "flex_flow": null,
            "width": null,
            "min_width": null,
            "border": null,
            "align_items": null,
            "bottom": null,
            "_model_module": "@jupyter-widgets/base",
            "top": null,
            "grid_column": null,
            "overflow_y": null,
            "overflow_x": null,
            "grid_auto_flow": null,
            "grid_area": null,
            "grid_template_columns": null,
            "flex": null,
            "_model_name": "LayoutModel",
            "justify_items": null,
            "grid_row": null,
            "max_height": null,
            "align_content": null,
            "visibility": null,
            "align_self": null,
            "height": null,
            "min_height": null,
            "padding": null,
            "grid_auto_rows": null,
            "grid_gap": null,
            "max_width": null,
            "order": null,
            "_view_module_version": "1.2.0",
            "grid_template_areas": null,
            "object_position": null,
            "object_fit": null,
            "grid_auto_columns": null,
            "margin": null,
            "display": null,
            "left": null
          }
        },
        "c348e8d3bc1a4890af9059c699ae8d35": {
          "model_module": "@jupyter-widgets/controls",
          "model_name": "ProgressStyleModel",
          "model_module_version": "1.5.0",
          "state": {
            "_view_name": "StyleView",
            "_model_name": "ProgressStyleModel",
            "description_width": "",
            "_view_module": "@jupyter-widgets/base",
            "_model_module_version": "1.5.0",
            "_view_count": null,
            "_view_module_version": "1.2.0",
            "bar_color": null,
            "_model_module": "@jupyter-widgets/controls"
          }
        },
        "a8731db730df4908b9c84cfb4a93647d": {
          "model_module": "@jupyter-widgets/base",
          "model_name": "LayoutModel",
          "model_module_version": "1.2.0",
          "state": {
            "_view_name": "LayoutView",
            "grid_template_rows": null,
            "right": null,
            "justify_content": null,
            "_view_module": "@jupyter-widgets/base",
            "overflow": null,
            "_model_module_version": "1.2.0",
            "_view_count": null,
            "flex_flow": null,
            "width": null,
            "min_width": null,
            "border": null,
            "align_items": null,
            "bottom": null,
            "_model_module": "@jupyter-widgets/base",
            "top": null,
            "grid_column": null,
            "overflow_y": null,
            "overflow_x": null,
            "grid_auto_flow": null,
            "grid_area": null,
            "grid_template_columns": null,
            "flex": null,
            "_model_name": "LayoutModel",
            "justify_items": null,
            "grid_row": null,
            "max_height": null,
            "align_content": null,
            "visibility": null,
            "align_self": null,
            "height": null,
            "min_height": null,
            "padding": null,
            "grid_auto_rows": null,
            "grid_gap": null,
            "max_width": null,
            "order": null,
            "_view_module_version": "1.2.0",
            "grid_template_areas": null,
            "object_position": null,
            "object_fit": null,
            "grid_auto_columns": null,
            "margin": null,
            "display": null,
            "left": null
          }
        },
        "92079fe488344990b45480a9409c7349": {
          "model_module": "@jupyter-widgets/controls",
          "model_name": "DescriptionStyleModel",
          "model_module_version": "1.5.0",
          "state": {
            "_view_name": "StyleView",
            "_model_name": "DescriptionStyleModel",
            "description_width": "",
            "_view_module": "@jupyter-widgets/base",
            "_model_module_version": "1.5.0",
            "_view_count": null,
            "_view_module_version": "1.2.0",
            "_model_module": "@jupyter-widgets/controls"
          }
        },
        "8433ed56c96d48cea2b7250e02841a91": {
          "model_module": "@jupyter-widgets/base",
          "model_name": "LayoutModel",
          "model_module_version": "1.2.0",
          "state": {
            "_view_name": "LayoutView",
            "grid_template_rows": null,
            "right": null,
            "justify_content": null,
            "_view_module": "@jupyter-widgets/base",
            "overflow": null,
            "_model_module_version": "1.2.0",
            "_view_count": null,
            "flex_flow": null,
            "width": null,
            "min_width": null,
            "border": null,
            "align_items": null,
            "bottom": null,
            "_model_module": "@jupyter-widgets/base",
            "top": null,
            "grid_column": null,
            "overflow_y": null,
            "overflow_x": null,
            "grid_auto_flow": null,
            "grid_area": null,
            "grid_template_columns": null,
            "flex": null,
            "_model_name": "LayoutModel",
            "justify_items": null,
            "grid_row": null,
            "max_height": null,
            "align_content": null,
            "visibility": null,
            "align_self": null,
            "height": null,
            "min_height": null,
            "padding": null,
            "grid_auto_rows": null,
            "grid_gap": null,
            "max_width": null,
            "order": null,
            "_view_module_version": "1.2.0",
            "grid_template_areas": null,
            "object_position": null,
            "object_fit": null,
            "grid_auto_columns": null,
            "margin": null,
            "display": null,
            "left": null
          }
        },
        "518d6b279c1849f9929497a09256fb2e": {
          "model_module": "@jupyter-widgets/controls",
          "model_name": "HBoxModel",
          "model_module_version": "1.5.0",
          "state": {
            "_view_name": "HBoxView",
            "_dom_classes": [],
            "_model_name": "HBoxModel",
            "_view_module": "@jupyter-widgets/controls",
            "_model_module_version": "1.5.0",
            "_view_count": null,
            "_view_module_version": "1.5.0",
            "box_style": "",
            "layout": "IPY_MODEL_183bea4076184df696c02149ecbd148a",
            "_model_module": "@jupyter-widgets/controls",
            "children": [
              "IPY_MODEL_03813d3d02854c18ae5f5281b82c773c",
              "IPY_MODEL_ae558e6b8133475db514fd65342903dc",
              "IPY_MODEL_bed826d3f2e74f1db7ae7b8f7d20a7fe"
            ]
          }
        },
        "183bea4076184df696c02149ecbd148a": {
          "model_module": "@jupyter-widgets/base",
          "model_name": "LayoutModel",
          "model_module_version": "1.2.0",
          "state": {
            "_view_name": "LayoutView",
            "grid_template_rows": null,
            "right": null,
            "justify_content": null,
            "_view_module": "@jupyter-widgets/base",
            "overflow": null,
            "_model_module_version": "1.2.0",
            "_view_count": null,
            "flex_flow": null,
            "width": null,
            "min_width": null,
            "border": null,
            "align_items": null,
            "bottom": null,
            "_model_module": "@jupyter-widgets/base",
            "top": null,
            "grid_column": null,
            "overflow_y": null,
            "overflow_x": null,
            "grid_auto_flow": null,
            "grid_area": null,
            "grid_template_columns": null,
            "flex": null,
            "_model_name": "LayoutModel",
            "justify_items": null,
            "grid_row": null,
            "max_height": null,
            "align_content": null,
            "visibility": null,
            "align_self": null,
            "height": null,
            "min_height": null,
            "padding": null,
            "grid_auto_rows": null,
            "grid_gap": null,
            "max_width": null,
            "order": null,
            "_view_module_version": "1.2.0",
            "grid_template_areas": null,
            "object_position": null,
            "object_fit": null,
            "grid_auto_columns": null,
            "margin": null,
            "display": null,
            "left": null
          }
        },
        "03813d3d02854c18ae5f5281b82c773c": {
          "model_module": "@jupyter-widgets/controls",
          "model_name": "HTMLModel",
          "model_module_version": "1.5.0",
          "state": {
            "_view_name": "HTMLView",
            "style": "IPY_MODEL_7bfbf7fcbd9c418284570a483ace66ae",
            "_dom_classes": [],
            "description": "",
            "_model_name": "HTMLModel",
            "placeholder": "​",
            "_view_module": "@jupyter-widgets/controls",
            "_model_module_version": "1.5.0",
            "value": "100%",
            "_view_count": null,
            "_view_module_version": "1.5.0",
            "description_tooltip": null,
            "_model_module": "@jupyter-widgets/controls",
            "layout": "IPY_MODEL_16acf74a0abc4c9baf2a9ab019b49b8a"
          }
        },
        "ae558e6b8133475db514fd65342903dc": {
          "model_module": "@jupyter-widgets/controls",
          "model_name": "FloatProgressModel",
          "model_module_version": "1.5.0",
          "state": {
            "_view_name": "ProgressView",
            "style": "IPY_MODEL_5057620168894c8bb9a74a7448bbb43f",
            "_dom_classes": [],
            "description": "",
            "_model_name": "FloatProgressModel",
            "bar_style": "success",
            "max": 127,
            "_view_module": "@jupyter-widgets/controls",
            "_model_module_version": "1.5.0",
            "value": 127,
            "_view_count": null,
            "_view_module_version": "1.5.0",
            "orientation": "horizontal",
            "min": 0,
            "description_tooltip": null,
            "_model_module": "@jupyter-widgets/controls",
            "layout": "IPY_MODEL_9f26f80d568c463da8855d550c3159a1"
          }
        },
        "bed826d3f2e74f1db7ae7b8f7d20a7fe": {
          "model_module": "@jupyter-widgets/controls",
          "model_name": "HTMLModel",
          "model_module_version": "1.5.0",
          "state": {
            "_view_name": "HTMLView",
            "style": "IPY_MODEL_1d8b60961da747b1a97985b26095bb7e",
            "_dom_classes": [],
            "description": "",
            "_model_name": "HTMLModel",
            "placeholder": "​",
            "_view_module": "@jupyter-widgets/controls",
            "_model_module_version": "1.5.0",
            "value": " 127/127 [00:01&lt;00:00, 67.99ex/s]",
            "_view_count": null,
            "_view_module_version": "1.5.0",
            "description_tooltip": null,
            "_model_module": "@jupyter-widgets/controls",
            "layout": "IPY_MODEL_2d14ec7df30c42b49cdd3dff30c29aa7"
          }
        },
        "7bfbf7fcbd9c418284570a483ace66ae": {
          "model_module": "@jupyter-widgets/controls",
          "model_name": "DescriptionStyleModel",
          "model_module_version": "1.5.0",
          "state": {
            "_view_name": "StyleView",
            "_model_name": "DescriptionStyleModel",
            "description_width": "",
            "_view_module": "@jupyter-widgets/base",
            "_model_module_version": "1.5.0",
            "_view_count": null,
            "_view_module_version": "1.2.0",
            "_model_module": "@jupyter-widgets/controls"
          }
        },
        "16acf74a0abc4c9baf2a9ab019b49b8a": {
          "model_module": "@jupyter-widgets/base",
          "model_name": "LayoutModel",
          "model_module_version": "1.2.0",
          "state": {
            "_view_name": "LayoutView",
            "grid_template_rows": null,
            "right": null,
            "justify_content": null,
            "_view_module": "@jupyter-widgets/base",
            "overflow": null,
            "_model_module_version": "1.2.0",
            "_view_count": null,
            "flex_flow": null,
            "width": null,
            "min_width": null,
            "border": null,
            "align_items": null,
            "bottom": null,
            "_model_module": "@jupyter-widgets/base",
            "top": null,
            "grid_column": null,
            "overflow_y": null,
            "overflow_x": null,
            "grid_auto_flow": null,
            "grid_area": null,
            "grid_template_columns": null,
            "flex": null,
            "_model_name": "LayoutModel",
            "justify_items": null,
            "grid_row": null,
            "max_height": null,
            "align_content": null,
            "visibility": null,
            "align_self": null,
            "height": null,
            "min_height": null,
            "padding": null,
            "grid_auto_rows": null,
            "grid_gap": null,
            "max_width": null,
            "order": null,
            "_view_module_version": "1.2.0",
            "grid_template_areas": null,
            "object_position": null,
            "object_fit": null,
            "grid_auto_columns": null,
            "margin": null,
            "display": null,
            "left": null
          }
        },
        "5057620168894c8bb9a74a7448bbb43f": {
          "model_module": "@jupyter-widgets/controls",
          "model_name": "ProgressStyleModel",
          "model_module_version": "1.5.0",
          "state": {
            "_view_name": "StyleView",
            "_model_name": "ProgressStyleModel",
            "description_width": "",
            "_view_module": "@jupyter-widgets/base",
            "_model_module_version": "1.5.0",
            "_view_count": null,
            "_view_module_version": "1.2.0",
            "bar_color": null,
            "_model_module": "@jupyter-widgets/controls"
          }
        },
        "9f26f80d568c463da8855d550c3159a1": {
          "model_module": "@jupyter-widgets/base",
          "model_name": "LayoutModel",
          "model_module_version": "1.2.0",
          "state": {
            "_view_name": "LayoutView",
            "grid_template_rows": null,
            "right": null,
            "justify_content": null,
            "_view_module": "@jupyter-widgets/base",
            "overflow": null,
            "_model_module_version": "1.2.0",
            "_view_count": null,
            "flex_flow": null,
            "width": null,
            "min_width": null,
            "border": null,
            "align_items": null,
            "bottom": null,
            "_model_module": "@jupyter-widgets/base",
            "top": null,
            "grid_column": null,
            "overflow_y": null,
            "overflow_x": null,
            "grid_auto_flow": null,
            "grid_area": null,
            "grid_template_columns": null,
            "flex": null,
            "_model_name": "LayoutModel",
            "justify_items": null,
            "grid_row": null,
            "max_height": null,
            "align_content": null,
            "visibility": null,
            "align_self": null,
            "height": null,
            "min_height": null,
            "padding": null,
            "grid_auto_rows": null,
            "grid_gap": null,
            "max_width": null,
            "order": null,
            "_view_module_version": "1.2.0",
            "grid_template_areas": null,
            "object_position": null,
            "object_fit": null,
            "grid_auto_columns": null,
            "margin": null,
            "display": null,
            "left": null
          }
        },
        "1d8b60961da747b1a97985b26095bb7e": {
          "model_module": "@jupyter-widgets/controls",
          "model_name": "DescriptionStyleModel",
          "model_module_version": "1.5.0",
          "state": {
            "_view_name": "StyleView",
            "_model_name": "DescriptionStyleModel",
            "description_width": "",
            "_view_module": "@jupyter-widgets/base",
            "_model_module_version": "1.5.0",
            "_view_count": null,
            "_view_module_version": "1.2.0",
            "_model_module": "@jupyter-widgets/controls"
          }
        },
        "2d14ec7df30c42b49cdd3dff30c29aa7": {
          "model_module": "@jupyter-widgets/base",
          "model_name": "LayoutModel",
          "model_module_version": "1.2.0",
          "state": {
            "_view_name": "LayoutView",
            "grid_template_rows": null,
            "right": null,
            "justify_content": null,
            "_view_module": "@jupyter-widgets/base",
            "overflow": null,
            "_model_module_version": "1.2.0",
            "_view_count": null,
            "flex_flow": null,
            "width": null,
            "min_width": null,
            "border": null,
            "align_items": null,
            "bottom": null,
            "_model_module": "@jupyter-widgets/base",
            "top": null,
            "grid_column": null,
            "overflow_y": null,
            "overflow_x": null,
            "grid_auto_flow": null,
            "grid_area": null,
            "grid_template_columns": null,
            "flex": null,
            "_model_name": "LayoutModel",
            "justify_items": null,
            "grid_row": null,
            "max_height": null,
            "align_content": null,
            "visibility": null,
            "align_self": null,
            "height": null,
            "min_height": null,
            "padding": null,
            "grid_auto_rows": null,
            "grid_gap": null,
            "max_width": null,
            "order": null,
            "_view_module_version": "1.2.0",
            "grid_template_areas": null,
            "object_position": null,
            "object_fit": null,
            "grid_auto_columns": null,
            "margin": null,
            "display": null,
            "left": null
          }
        },
        "1a57442937f74cc7abfe8d4c175bc4fe": {
          "model_module": "@jupyter-widgets/controls",
          "model_name": "HBoxModel",
          "model_module_version": "1.5.0",
          "state": {
            "_view_name": "HBoxView",
            "_dom_classes": [],
            "_model_name": "HBoxModel",
            "_view_module": "@jupyter-widgets/controls",
            "_model_module_version": "1.5.0",
            "_view_count": null,
            "_view_module_version": "1.5.0",
            "box_style": "",
            "layout": "IPY_MODEL_b0157869768d4adba42174da0ef59749",
            "_model_module": "@jupyter-widgets/controls",
            "children": [
              "IPY_MODEL_edd7cc5045b549be93aef9bb878f8b50",
              "IPY_MODEL_989af43ebb854b6c8e89cb1f4d91bea2",
              "IPY_MODEL_8f2874f3614e49e0aef3254c2aba125e"
            ]
          }
        },
        "b0157869768d4adba42174da0ef59749": {
          "model_module": "@jupyter-widgets/base",
          "model_name": "LayoutModel",
          "model_module_version": "1.2.0",
          "state": {
            "_view_name": "LayoutView",
            "grid_template_rows": null,
            "right": null,
            "justify_content": null,
            "_view_module": "@jupyter-widgets/base",
            "overflow": null,
            "_model_module_version": "1.2.0",
            "_view_count": null,
            "flex_flow": null,
            "width": null,
            "min_width": null,
            "border": null,
            "align_items": null,
            "bottom": null,
            "_model_module": "@jupyter-widgets/base",
            "top": null,
            "grid_column": null,
            "overflow_y": null,
            "overflow_x": null,
            "grid_auto_flow": null,
            "grid_area": null,
            "grid_template_columns": null,
            "flex": null,
            "_model_name": "LayoutModel",
            "justify_items": null,
            "grid_row": null,
            "max_height": null,
            "align_content": null,
            "visibility": null,
            "align_self": null,
            "height": null,
            "min_height": null,
            "padding": null,
            "grid_auto_rows": null,
            "grid_gap": null,
            "max_width": null,
            "order": null,
            "_view_module_version": "1.2.0",
            "grid_template_areas": null,
            "object_position": null,
            "object_fit": null,
            "grid_auto_columns": null,
            "margin": null,
            "display": null,
            "left": null
          }
        },
        "edd7cc5045b549be93aef9bb878f8b50": {
          "model_module": "@jupyter-widgets/controls",
          "model_name": "HTMLModel",
          "model_module_version": "1.5.0",
          "state": {
            "_view_name": "HTMLView",
            "style": "IPY_MODEL_7f3debed27fb4519af43791c72ff31fd",
            "_dom_classes": [],
            "description": "",
            "_model_name": "HTMLModel",
            "placeholder": "​",
            "_view_module": "@jupyter-widgets/controls",
            "_model_module_version": "1.5.0",
            "value": "Downloading: ",
            "_view_count": null,
            "_view_module_version": "1.5.0",
            "description_tooltip": null,
            "_model_module": "@jupyter-widgets/controls",
            "layout": "IPY_MODEL_5ed3d96e0c9242d6ba7f41cd215a90eb"
          }
        },
        "989af43ebb854b6c8e89cb1f4d91bea2": {
          "model_module": "@jupyter-widgets/controls",
          "model_name": "FloatProgressModel",
          "model_module_version": "1.5.0",
          "state": {
            "_view_name": "ProgressView",
            "style": "IPY_MODEL_c3a91b876de24c5b8c1ed00830e2d8e1",
            "_dom_classes": [],
            "description": "",
            "_model_name": "FloatProgressModel",
            "bar_style": "success",
            "max": 1947,
            "_view_module": "@jupyter-widgets/controls",
            "_model_module_version": "1.5.0",
            "value": 1947,
            "_view_count": null,
            "_view_module_version": "1.5.0",
            "orientation": "horizontal",
            "min": 0,
            "description_tooltip": null,
            "_model_module": "@jupyter-widgets/controls",
            "layout": "IPY_MODEL_0c9313f4db59491fafe7ed9f8ce68b30"
          }
        },
        "8f2874f3614e49e0aef3254c2aba125e": {
          "model_module": "@jupyter-widgets/controls",
          "model_name": "HTMLModel",
          "model_module_version": "1.5.0",
          "state": {
            "_view_name": "HTMLView",
            "style": "IPY_MODEL_fe5dd0e3463a424092afae8ff348b3c1",
            "_dom_classes": [],
            "description": "",
            "_model_name": "HTMLModel",
            "placeholder": "​",
            "_view_module": "@jupyter-widgets/controls",
            "_model_module_version": "1.5.0",
            "value": " 4.55k/? [00:00&lt;00:00, 80.7kB/s]",
            "_view_count": null,
            "_view_module_version": "1.5.0",
            "description_tooltip": null,
            "_model_module": "@jupyter-widgets/controls",
            "layout": "IPY_MODEL_2c8bdf7988f14cc0a0f5c458fa49d621"
          }
        },
        "7f3debed27fb4519af43791c72ff31fd": {
          "model_module": "@jupyter-widgets/controls",
          "model_name": "DescriptionStyleModel",
          "model_module_version": "1.5.0",
          "state": {
            "_view_name": "StyleView",
            "_model_name": "DescriptionStyleModel",
            "description_width": "",
            "_view_module": "@jupyter-widgets/base",
            "_model_module_version": "1.5.0",
            "_view_count": null,
            "_view_module_version": "1.2.0",
            "_model_module": "@jupyter-widgets/controls"
          }
        },
        "5ed3d96e0c9242d6ba7f41cd215a90eb": {
          "model_module": "@jupyter-widgets/base",
          "model_name": "LayoutModel",
          "model_module_version": "1.2.0",
          "state": {
            "_view_name": "LayoutView",
            "grid_template_rows": null,
            "right": null,
            "justify_content": null,
            "_view_module": "@jupyter-widgets/base",
            "overflow": null,
            "_model_module_version": "1.2.0",
            "_view_count": null,
            "flex_flow": null,
            "width": null,
            "min_width": null,
            "border": null,
            "align_items": null,
            "bottom": null,
            "_model_module": "@jupyter-widgets/base",
            "top": null,
            "grid_column": null,
            "overflow_y": null,
            "overflow_x": null,
            "grid_auto_flow": null,
            "grid_area": null,
            "grid_template_columns": null,
            "flex": null,
            "_model_name": "LayoutModel",
            "justify_items": null,
            "grid_row": null,
            "max_height": null,
            "align_content": null,
            "visibility": null,
            "align_self": null,
            "height": null,
            "min_height": null,
            "padding": null,
            "grid_auto_rows": null,
            "grid_gap": null,
            "max_width": null,
            "order": null,
            "_view_module_version": "1.2.0",
            "grid_template_areas": null,
            "object_position": null,
            "object_fit": null,
            "grid_auto_columns": null,
            "margin": null,
            "display": null,
            "left": null
          }
        },
        "c3a91b876de24c5b8c1ed00830e2d8e1": {
          "model_module": "@jupyter-widgets/controls",
          "model_name": "ProgressStyleModel",
          "model_module_version": "1.5.0",
          "state": {
            "_view_name": "StyleView",
            "_model_name": "ProgressStyleModel",
            "description_width": "",
            "_view_module": "@jupyter-widgets/base",
            "_model_module_version": "1.5.0",
            "_view_count": null,
            "_view_module_version": "1.2.0",
            "bar_color": null,
            "_model_module": "@jupyter-widgets/controls"
          }
        },
        "0c9313f4db59491fafe7ed9f8ce68b30": {
          "model_module": "@jupyter-widgets/base",
          "model_name": "LayoutModel",
          "model_module_version": "1.2.0",
          "state": {
            "_view_name": "LayoutView",
            "grid_template_rows": null,
            "right": null,
            "justify_content": null,
            "_view_module": "@jupyter-widgets/base",
            "overflow": null,
            "_model_module_version": "1.2.0",
            "_view_count": null,
            "flex_flow": null,
            "width": null,
            "min_width": null,
            "border": null,
            "align_items": null,
            "bottom": null,
            "_model_module": "@jupyter-widgets/base",
            "top": null,
            "grid_column": null,
            "overflow_y": null,
            "overflow_x": null,
            "grid_auto_flow": null,
            "grid_area": null,
            "grid_template_columns": null,
            "flex": null,
            "_model_name": "LayoutModel",
            "justify_items": null,
            "grid_row": null,
            "max_height": null,
            "align_content": null,
            "visibility": null,
            "align_self": null,
            "height": null,
            "min_height": null,
            "padding": null,
            "grid_auto_rows": null,
            "grid_gap": null,
            "max_width": null,
            "order": null,
            "_view_module_version": "1.2.0",
            "grid_template_areas": null,
            "object_position": null,
            "object_fit": null,
            "grid_auto_columns": null,
            "margin": null,
            "display": null,
            "left": null
          }
        },
        "fe5dd0e3463a424092afae8ff348b3c1": {
          "model_module": "@jupyter-widgets/controls",
          "model_name": "DescriptionStyleModel",
          "model_module_version": "1.5.0",
          "state": {
            "_view_name": "StyleView",
            "_model_name": "DescriptionStyleModel",
            "description_width": "",
            "_view_module": "@jupyter-widgets/base",
            "_model_module_version": "1.5.0",
            "_view_count": null,
            "_view_module_version": "1.2.0",
            "_model_module": "@jupyter-widgets/controls"
          }
        },
        "2c8bdf7988f14cc0a0f5c458fa49d621": {
          "model_module": "@jupyter-widgets/base",
          "model_name": "LayoutModel",
          "model_module_version": "1.2.0",
          "state": {
            "_view_name": "LayoutView",
            "grid_template_rows": null,
            "right": null,
            "justify_content": null,
            "_view_module": "@jupyter-widgets/base",
            "overflow": null,
            "_model_module_version": "1.2.0",
            "_view_count": null,
            "flex_flow": null,
            "width": null,
            "min_width": null,
            "border": null,
            "align_items": null,
            "bottom": null,
            "_model_module": "@jupyter-widgets/base",
            "top": null,
            "grid_column": null,
            "overflow_y": null,
            "overflow_x": null,
            "grid_auto_flow": null,
            "grid_area": null,
            "grid_template_columns": null,
            "flex": null,
            "_model_name": "LayoutModel",
            "justify_items": null,
            "grid_row": null,
            "max_height": null,
            "align_content": null,
            "visibility": null,
            "align_self": null,
            "height": null,
            "min_height": null,
            "padding": null,
            "grid_auto_rows": null,
            "grid_gap": null,
            "max_width": null,
            "order": null,
            "_view_module_version": "1.2.0",
            "grid_template_areas": null,
            "object_position": null,
            "object_fit": null,
            "grid_auto_columns": null,
            "margin": null,
            "display": null,
            "left": null
          }
        },
        "49a32bb623b447c384efa70063b4be86": {
          "model_module": "@jupyter-widgets/controls",
          "model_name": "HBoxModel",
          "model_module_version": "1.5.0",
          "state": {
            "_view_name": "HBoxView",
            "_dom_classes": [],
            "_model_name": "HBoxModel",
            "_view_module": "@jupyter-widgets/controls",
            "_model_module_version": "1.5.0",
            "_view_count": null,
            "_view_module_version": "1.5.0",
            "box_style": "",
            "layout": "IPY_MODEL_671c128ae9084c538ade20bdbaf47130",
            "_model_module": "@jupyter-widgets/controls",
            "children": [
              "IPY_MODEL_b7991540be6243cea3b0eb16c6849cec",
              "IPY_MODEL_4d7bd47f23db4197ad9742f830d7c80a",
              "IPY_MODEL_cd112eba06364ce7965c93b34536fc4e"
            ]
          }
        },
        "671c128ae9084c538ade20bdbaf47130": {
          "model_module": "@jupyter-widgets/base",
          "model_name": "LayoutModel",
          "model_module_version": "1.2.0",
          "state": {
            "_view_name": "LayoutView",
            "grid_template_rows": null,
            "right": null,
            "justify_content": null,
            "_view_module": "@jupyter-widgets/base",
            "overflow": null,
            "_model_module_version": "1.2.0",
            "_view_count": null,
            "flex_flow": null,
            "width": null,
            "min_width": null,
            "border": null,
            "align_items": null,
            "bottom": null,
            "_model_module": "@jupyter-widgets/base",
            "top": null,
            "grid_column": null,
            "overflow_y": null,
            "overflow_x": null,
            "grid_auto_flow": null,
            "grid_area": null,
            "grid_template_columns": null,
            "flex": null,
            "_model_name": "LayoutModel",
            "justify_items": null,
            "grid_row": null,
            "max_height": null,
            "align_content": null,
            "visibility": null,
            "align_self": null,
            "height": null,
            "min_height": null,
            "padding": null,
            "grid_auto_rows": null,
            "grid_gap": null,
            "max_width": null,
            "order": null,
            "_view_module_version": "1.2.0",
            "grid_template_areas": null,
            "object_position": null,
            "object_fit": null,
            "grid_auto_columns": null,
            "margin": null,
            "display": null,
            "left": null
          }
        },
        "b7991540be6243cea3b0eb16c6849cec": {
          "model_module": "@jupyter-widgets/controls",
          "model_name": "HTMLModel",
          "model_module_version": "1.5.0",
          "state": {
            "_view_name": "HTMLView",
            "style": "IPY_MODEL_d5d6e3d2293c4684b7944a0ea2d9beac",
            "_dom_classes": [],
            "description": "",
            "_model_name": "HTMLModel",
            "placeholder": "​",
            "_view_module": "@jupyter-widgets/controls",
            "_model_module_version": "1.5.0",
            "value": "Downloading: 100%",
            "_view_count": null,
            "_view_module_version": "1.5.0",
            "description_tooltip": null,
            "_model_module": "@jupyter-widgets/controls",
            "layout": "IPY_MODEL_a805de77fb4645f78421a447131b4310"
          }
        },
        "4d7bd47f23db4197ad9742f830d7c80a": {
          "model_module": "@jupyter-widgets/controls",
          "model_name": "FloatProgressModel",
          "model_module_version": "1.5.0",
          "state": {
            "_view_name": "ProgressView",
            "style": "IPY_MODEL_86e82880b9904c7d9899890317b6f59b",
            "_dom_classes": [],
            "description": "",
            "_model_name": "FloatProgressModel",
            "bar_style": "success",
            "max": 1568,
            "_view_module": "@jupyter-widgets/controls",
            "_model_module_version": "1.5.0",
            "value": 1568,
            "_view_count": null,
            "_view_module_version": "1.5.0",
            "orientation": "horizontal",
            "min": 0,
            "description_tooltip": null,
            "_model_module": "@jupyter-widgets/controls",
            "layout": "IPY_MODEL_1b4b03655ab44e6cb26544ff3c18e6ba"
          }
        },
        "cd112eba06364ce7965c93b34536fc4e": {
          "model_module": "@jupyter-widgets/controls",
          "model_name": "HTMLModel",
          "model_module_version": "1.5.0",
          "state": {
            "_view_name": "HTMLView",
            "style": "IPY_MODEL_9acc131edd144f7fbfa0d33cdf4bd26d",
            "_dom_classes": [],
            "description": "",
            "_model_name": "HTMLModel",
            "placeholder": "​",
            "_view_module": "@jupyter-widgets/controls",
            "_model_module_version": "1.5.0",
            "value": " 1.53k/1.53k [00:00&lt;00:00, 29.0kB/s]",
            "_view_count": null,
            "_view_module_version": "1.5.0",
            "description_tooltip": null,
            "_model_module": "@jupyter-widgets/controls",
            "layout": "IPY_MODEL_da58c1de384f4503a9437a1cf170cc7e"
          }
        },
        "d5d6e3d2293c4684b7944a0ea2d9beac": {
          "model_module": "@jupyter-widgets/controls",
          "model_name": "DescriptionStyleModel",
          "model_module_version": "1.5.0",
          "state": {
            "_view_name": "StyleView",
            "_model_name": "DescriptionStyleModel",
            "description_width": "",
            "_view_module": "@jupyter-widgets/base",
            "_model_module_version": "1.5.0",
            "_view_count": null,
            "_view_module_version": "1.2.0",
            "_model_module": "@jupyter-widgets/controls"
          }
        },
        "a805de77fb4645f78421a447131b4310": {
          "model_module": "@jupyter-widgets/base",
          "model_name": "LayoutModel",
          "model_module_version": "1.2.0",
          "state": {
            "_view_name": "LayoutView",
            "grid_template_rows": null,
            "right": null,
            "justify_content": null,
            "_view_module": "@jupyter-widgets/base",
            "overflow": null,
            "_model_module_version": "1.2.0",
            "_view_count": null,
            "flex_flow": null,
            "width": null,
            "min_width": null,
            "border": null,
            "align_items": null,
            "bottom": null,
            "_model_module": "@jupyter-widgets/base",
            "top": null,
            "grid_column": null,
            "overflow_y": null,
            "overflow_x": null,
            "grid_auto_flow": null,
            "grid_area": null,
            "grid_template_columns": null,
            "flex": null,
            "_model_name": "LayoutModel",
            "justify_items": null,
            "grid_row": null,
            "max_height": null,
            "align_content": null,
            "visibility": null,
            "align_self": null,
            "height": null,
            "min_height": null,
            "padding": null,
            "grid_auto_rows": null,
            "grid_gap": null,
            "max_width": null,
            "order": null,
            "_view_module_version": "1.2.0",
            "grid_template_areas": null,
            "object_position": null,
            "object_fit": null,
            "grid_auto_columns": null,
            "margin": null,
            "display": null,
            "left": null
          }
        },
        "86e82880b9904c7d9899890317b6f59b": {
          "model_module": "@jupyter-widgets/controls",
          "model_name": "ProgressStyleModel",
          "model_module_version": "1.5.0",
          "state": {
            "_view_name": "StyleView",
            "_model_name": "ProgressStyleModel",
            "description_width": "",
            "_view_module": "@jupyter-widgets/base",
            "_model_module_version": "1.5.0",
            "_view_count": null,
            "_view_module_version": "1.2.0",
            "bar_color": null,
            "_model_module": "@jupyter-widgets/controls"
          }
        },
        "1b4b03655ab44e6cb26544ff3c18e6ba": {
          "model_module": "@jupyter-widgets/base",
          "model_name": "LayoutModel",
          "model_module_version": "1.2.0",
          "state": {
            "_view_name": "LayoutView",
            "grid_template_rows": null,
            "right": null,
            "justify_content": null,
            "_view_module": "@jupyter-widgets/base",
            "overflow": null,
            "_model_module_version": "1.2.0",
            "_view_count": null,
            "flex_flow": null,
            "width": null,
            "min_width": null,
            "border": null,
            "align_items": null,
            "bottom": null,
            "_model_module": "@jupyter-widgets/base",
            "top": null,
            "grid_column": null,
            "overflow_y": null,
            "overflow_x": null,
            "grid_auto_flow": null,
            "grid_area": null,
            "grid_template_columns": null,
            "flex": null,
            "_model_name": "LayoutModel",
            "justify_items": null,
            "grid_row": null,
            "max_height": null,
            "align_content": null,
            "visibility": null,
            "align_self": null,
            "height": null,
            "min_height": null,
            "padding": null,
            "grid_auto_rows": null,
            "grid_gap": null,
            "max_width": null,
            "order": null,
            "_view_module_version": "1.2.0",
            "grid_template_areas": null,
            "object_position": null,
            "object_fit": null,
            "grid_auto_columns": null,
            "margin": null,
            "display": null,
            "left": null
          }
        },
        "9acc131edd144f7fbfa0d33cdf4bd26d": {
          "model_module": "@jupyter-widgets/controls",
          "model_name": "DescriptionStyleModel",
          "model_module_version": "1.5.0",
          "state": {
            "_view_name": "StyleView",
            "_model_name": "DescriptionStyleModel",
            "description_width": "",
            "_view_module": "@jupyter-widgets/base",
            "_model_module_version": "1.5.0",
            "_view_count": null,
            "_view_module_version": "1.2.0",
            "_model_module": "@jupyter-widgets/controls"
          }
        },
        "da58c1de384f4503a9437a1cf170cc7e": {
          "model_module": "@jupyter-widgets/base",
          "model_name": "LayoutModel",
          "model_module_version": "1.2.0",
          "state": {
            "_view_name": "LayoutView",
            "grid_template_rows": null,
            "right": null,
            "justify_content": null,
            "_view_module": "@jupyter-widgets/base",
            "overflow": null,
            "_model_module_version": "1.2.0",
            "_view_count": null,
            "flex_flow": null,
            "width": null,
            "min_width": null,
            "border": null,
            "align_items": null,
            "bottom": null,
            "_model_module": "@jupyter-widgets/base",
            "top": null,
            "grid_column": null,
            "overflow_y": null,
            "overflow_x": null,
            "grid_auto_flow": null,
            "grid_area": null,
            "grid_template_columns": null,
            "flex": null,
            "_model_name": "LayoutModel",
            "justify_items": null,
            "grid_row": null,
            "max_height": null,
            "align_content": null,
            "visibility": null,
            "align_self": null,
            "height": null,
            "min_height": null,
            "padding": null,
            "grid_auto_rows": null,
            "grid_gap": null,
            "max_width": null,
            "order": null,
            "_view_module_version": "1.2.0",
            "grid_template_areas": null,
            "object_position": null,
            "object_fit": null,
            "grid_auto_columns": null,
            "margin": null,
            "display": null,
            "left": null
          }
        },
        "559a899250b04e1fb4343a8e3e467b58": {
          "model_module": "@jupyter-widgets/controls",
          "model_name": "HBoxModel",
          "model_module_version": "1.5.0",
          "state": {
            "_view_name": "HBoxView",
            "_dom_classes": [],
            "_model_name": "HBoxModel",
            "_view_module": "@jupyter-widgets/controls",
            "_model_module_version": "1.5.0",
            "_view_count": null,
            "_view_module_version": "1.5.0",
            "box_style": "",
            "layout": "IPY_MODEL_5dc746b58d234436a3eb02dd419b3411",
            "_model_module": "@jupyter-widgets/controls",
            "children": [
              "IPY_MODEL_f54f4da00dad4a7880f36d611b23e9f3",
              "IPY_MODEL_85b4496be46e4dd393742db85f6d54ff",
              "IPY_MODEL_c777b609cc9c45ba83aa85a20d6ab6d4"
            ]
          }
        },
        "5dc746b58d234436a3eb02dd419b3411": {
          "model_module": "@jupyter-widgets/base",
          "model_name": "LayoutModel",
          "model_module_version": "1.2.0",
          "state": {
            "_view_name": "LayoutView",
            "grid_template_rows": null,
            "right": null,
            "justify_content": null,
            "_view_module": "@jupyter-widgets/base",
            "overflow": null,
            "_model_module_version": "1.2.0",
            "_view_count": null,
            "flex_flow": null,
            "width": null,
            "min_width": null,
            "border": null,
            "align_items": null,
            "bottom": null,
            "_model_module": "@jupyter-widgets/base",
            "top": null,
            "grid_column": null,
            "overflow_y": null,
            "overflow_x": null,
            "grid_auto_flow": null,
            "grid_area": null,
            "grid_template_columns": null,
            "flex": null,
            "_model_name": "LayoutModel",
            "justify_items": null,
            "grid_row": null,
            "max_height": null,
            "align_content": null,
            "visibility": null,
            "align_self": null,
            "height": null,
            "min_height": null,
            "padding": null,
            "grid_auto_rows": null,
            "grid_gap": null,
            "max_width": null,
            "order": null,
            "_view_module_version": "1.2.0",
            "grid_template_areas": null,
            "object_position": null,
            "object_fit": null,
            "grid_auto_columns": null,
            "margin": null,
            "display": null,
            "left": null
          }
        },
        "f54f4da00dad4a7880f36d611b23e9f3": {
          "model_module": "@jupyter-widgets/controls",
          "model_name": "HTMLModel",
          "model_module_version": "1.5.0",
          "state": {
            "_view_name": "HTMLView",
            "style": "IPY_MODEL_6cf629678bd7462bbc660fe2b7275b64",
            "_dom_classes": [],
            "description": "",
            "_model_name": "HTMLModel",
            "placeholder": "​",
            "_view_module": "@jupyter-widgets/controls",
            "_model_module_version": "1.5.0",
            "value": "Downloading: 100%",
            "_view_count": null,
            "_view_module_version": "1.5.0",
            "description_tooltip": null,
            "_model_module": "@jupyter-widgets/controls",
            "layout": "IPY_MODEL_1b7ed46efdef402dbb00439cdef16b85"
          }
        },
        "85b4496be46e4dd393742db85f6d54ff": {
          "model_module": "@jupyter-widgets/controls",
          "model_name": "FloatProgressModel",
          "model_module_version": "1.5.0",
          "state": {
            "_view_name": "ProgressView",
            "style": "IPY_MODEL_28f4ece9740a4bff96f469ffd56aaa69",
            "_dom_classes": [],
            "description": "",
            "_model_name": "FloatProgressModel",
            "bar_style": "success",
            "max": 1269737156,
            "_view_module": "@jupyter-widgets/controls",
            "_model_module_version": "1.5.0",
            "value": 1269737156,
            "_view_count": null,
            "_view_module_version": "1.5.0",
            "orientation": "horizontal",
            "min": 0,
            "description_tooltip": null,
            "_model_module": "@jupyter-widgets/controls",
            "layout": "IPY_MODEL_5c6772e75ab048cd9cbdd5c5267cb9d7"
          }
        },
        "c777b609cc9c45ba83aa85a20d6ab6d4": {
          "model_module": "@jupyter-widgets/controls",
          "model_name": "HTMLModel",
          "model_module_version": "1.5.0",
          "state": {
            "_view_name": "HTMLView",
            "style": "IPY_MODEL_f6a84deb2a2e4578acb4f5f6c02b3aa4",
            "_dom_classes": [],
            "description": "",
            "_model_name": "HTMLModel",
            "placeholder": "​",
            "_view_module": "@jupyter-widgets/controls",
            "_model_module_version": "1.5.0",
            "value": " 1.18G/1.18G [00:39&lt;00:00, 35.3MB/s]",
            "_view_count": null,
            "_view_module_version": "1.5.0",
            "description_tooltip": null,
            "_model_module": "@jupyter-widgets/controls",
            "layout": "IPY_MODEL_70251c3a44e44515bf10f6220dfb8544"
          }
        },
        "6cf629678bd7462bbc660fe2b7275b64": {
          "model_module": "@jupyter-widgets/controls",
          "model_name": "DescriptionStyleModel",
          "model_module_version": "1.5.0",
          "state": {
            "_view_name": "StyleView",
            "_model_name": "DescriptionStyleModel",
            "description_width": "",
            "_view_module": "@jupyter-widgets/base",
            "_model_module_version": "1.5.0",
            "_view_count": null,
            "_view_module_version": "1.2.0",
            "_model_module": "@jupyter-widgets/controls"
          }
        },
        "1b7ed46efdef402dbb00439cdef16b85": {
          "model_module": "@jupyter-widgets/base",
          "model_name": "LayoutModel",
          "model_module_version": "1.2.0",
          "state": {
            "_view_name": "LayoutView",
            "grid_template_rows": null,
            "right": null,
            "justify_content": null,
            "_view_module": "@jupyter-widgets/base",
            "overflow": null,
            "_model_module_version": "1.2.0",
            "_view_count": null,
            "flex_flow": null,
            "width": null,
            "min_width": null,
            "border": null,
            "align_items": null,
            "bottom": null,
            "_model_module": "@jupyter-widgets/base",
            "top": null,
            "grid_column": null,
            "overflow_y": null,
            "overflow_x": null,
            "grid_auto_flow": null,
            "grid_area": null,
            "grid_template_columns": null,
            "flex": null,
            "_model_name": "LayoutModel",
            "justify_items": null,
            "grid_row": null,
            "max_height": null,
            "align_content": null,
            "visibility": null,
            "align_self": null,
            "height": null,
            "min_height": null,
            "padding": null,
            "grid_auto_rows": null,
            "grid_gap": null,
            "max_width": null,
            "order": null,
            "_view_module_version": "1.2.0",
            "grid_template_areas": null,
            "object_position": null,
            "object_fit": null,
            "grid_auto_columns": null,
            "margin": null,
            "display": null,
            "left": null
          }
        },
        "28f4ece9740a4bff96f469ffd56aaa69": {
          "model_module": "@jupyter-widgets/controls",
          "model_name": "ProgressStyleModel",
          "model_module_version": "1.5.0",
          "state": {
            "_view_name": "StyleView",
            "_model_name": "ProgressStyleModel",
            "description_width": "",
            "_view_module": "@jupyter-widgets/base",
            "_model_module_version": "1.5.0",
            "_view_count": null,
            "_view_module_version": "1.2.0",
            "bar_color": null,
            "_model_module": "@jupyter-widgets/controls"
          }
        },
        "5c6772e75ab048cd9cbdd5c5267cb9d7": {
          "model_module": "@jupyter-widgets/base",
          "model_name": "LayoutModel",
          "model_module_version": "1.2.0",
          "state": {
            "_view_name": "LayoutView",
            "grid_template_rows": null,
            "right": null,
            "justify_content": null,
            "_view_module": "@jupyter-widgets/base",
            "overflow": null,
            "_model_module_version": "1.2.0",
            "_view_count": null,
            "flex_flow": null,
            "width": null,
            "min_width": null,
            "border": null,
            "align_items": null,
            "bottom": null,
            "_model_module": "@jupyter-widgets/base",
            "top": null,
            "grid_column": null,
            "overflow_y": null,
            "overflow_x": null,
            "grid_auto_flow": null,
            "grid_area": null,
            "grid_template_columns": null,
            "flex": null,
            "_model_name": "LayoutModel",
            "justify_items": null,
            "grid_row": null,
            "max_height": null,
            "align_content": null,
            "visibility": null,
            "align_self": null,
            "height": null,
            "min_height": null,
            "padding": null,
            "grid_auto_rows": null,
            "grid_gap": null,
            "max_width": null,
            "order": null,
            "_view_module_version": "1.2.0",
            "grid_template_areas": null,
            "object_position": null,
            "object_fit": null,
            "grid_auto_columns": null,
            "margin": null,
            "display": null,
            "left": null
          }
        },
        "f6a84deb2a2e4578acb4f5f6c02b3aa4": {
          "model_module": "@jupyter-widgets/controls",
          "model_name": "DescriptionStyleModel",
          "model_module_version": "1.5.0",
          "state": {
            "_view_name": "StyleView",
            "_model_name": "DescriptionStyleModel",
            "description_width": "",
            "_view_module": "@jupyter-widgets/base",
            "_model_module_version": "1.5.0",
            "_view_count": null,
            "_view_module_version": "1.2.0",
            "_model_module": "@jupyter-widgets/controls"
          }
        },
        "70251c3a44e44515bf10f6220dfb8544": {
          "model_module": "@jupyter-widgets/base",
          "model_name": "LayoutModel",
          "model_module_version": "1.2.0",
          "state": {
            "_view_name": "LayoutView",
            "grid_template_rows": null,
            "right": null,
            "justify_content": null,
            "_view_module": "@jupyter-widgets/base",
            "overflow": null,
            "_model_module_version": "1.2.0",
            "_view_count": null,
            "flex_flow": null,
            "width": null,
            "min_width": null,
            "border": null,
            "align_items": null,
            "bottom": null,
            "_model_module": "@jupyter-widgets/base",
            "top": null,
            "grid_column": null,
            "overflow_y": null,
            "overflow_x": null,
            "grid_auto_flow": null,
            "grid_area": null,
            "grid_template_columns": null,
            "flex": null,
            "_model_name": "LayoutModel",
            "justify_items": null,
            "grid_row": null,
            "max_height": null,
            "align_content": null,
            "visibility": null,
            "align_self": null,
            "height": null,
            "min_height": null,
            "padding": null,
            "grid_auto_rows": null,
            "grid_gap": null,
            "max_width": null,
            "order": null,
            "_view_module_version": "1.2.0",
            "grid_template_areas": null,
            "object_position": null,
            "object_fit": null,
            "grid_auto_columns": null,
            "margin": null,
            "display": null,
            "left": null
          }
        }
      }
    }
  },
  "cells": [
    {
      "cell_type": "markdown",
      "metadata": {
        "id": "view-in-github",
        "colab_type": "text"
      },
      "source": [
        "<a href=\"https://colab.research.google.com/github/gagan3012/notebooks/blob/master/Copy_of_Fine_Tune_XLS_R_on_Common_Voice.ipynb\" target=\"_parent\"><img src=\"https://colab.research.google.com/assets/colab-badge.svg\" alt=\"Open In Colab\"/></a>"
      ]
    },
    {
      "cell_type": "markdown",
      "metadata": {
        "id": "LBSYoWbi-45k"
      },
      "source": [
        "# **Fine-tuning XLS-R for Multi-Lingual ASR with 🤗 Transformers**\n",
        "\n",
        "***New (11/2021)***: *This blog post has been updated to feature XLSR's successor, called [XLS-R](https://huggingface.co/models?other=xls_r)*."
      ]
    },
    {
      "cell_type": "markdown",
      "metadata": {
        "id": "V7YOT2mnUiea"
      },
      "source": [
        "**Wav2Vec2** is a pretrained model for Automatic Speech Recognition (ASR) and was released in [September 2020](https://ai.facebook.com/blog/wav2vec-20-learning-the-structure-of-speech-from-raw-audio/) by *Alexei Baevski, Michael Auli, and Alex Conneau*.  Soon after the superior performance of Wav2Vec2 was demonstrated on one of the most popular English datasets for ASR, called [LibriSpeech](https://huggingface.co/datasets/librispeech_asr), *Facebook AI* presented a multi-lingual version of Wav2Vec2, called [XLSR](https://arxiv.org/abs/2006.13979). XLSR stands for *cross-lingual speech representations* and refers to model's ability to learn speech representations that are useful across multiple languages.\n",
        "\n",
        "XLSR's successor, simply called **XLS-R** (refering to the [*''XLM-R*](https://ai.facebook.com/blog/-xlm-r-state-of-the-art-cross-lingual-understanding-through-self-supervision/) *for Speech''*), was released in [November 2021](https://ai.facebook.com/blog/xls-r-self-supervised-speech-processing-for-128-languages) by *Arun Babu, Changhan Wang, Andros Tjandra, et al.* XLS-R used almost **half a million** hours of audio data in 128 languages for self-supervised pre-training and comes in sizes ranging from 300 milion up to **two billion** parameters. You can find the pretrained checkpoints on the 🤗 Hub:\n",
        "\n",
        "- [**Wav2Vec2-XLS-R-300M**](https://huggingface.co/facebook/wav2vec2-xls-r-300m)\n",
        "- [**Wav2Vec2-XLS-R-1B**](https://huggingface.co/facebook/wav2vec2-xls-r-1b)\n",
        "- [**Wav2Vec2-XLS-R-2B**](https://huggingface.co/facebook/wav2vec2-xls-r-2b)\n",
        "\n",
        "Similar to [BERT's masked language modeling objective](http://jalammar.github.io/illustrated-bert/), XLS-R learns contextualized speech representations by randomly masking feature vectors before passing them to a transformer network during self-supervised pre-training (*i.e.* diagram on the left below). \n",
        "\n",
        "For fine-tuning, a single linear layer is added on top of the pre-trained network to train the model on labeled data of audio downstream tasks such as speech recognition, speech translation and audio classification (*i.e.* diagram on the right below).\n",
        "\n",
        "![wav2vec2_structure](https://raw.githubusercontent.com/patrickvonplaten/scientific_images/master/xls_r.png)\n",
        "\n",
        "XLS-R shows impressive improvements over previous state-of-the-art results on both speech recognition, speech translation and speaker/language identification, *cf.* with Table 3-6, Table 7-10, and Table 11-12 respectively of the official [paper](https://ai.facebook.com/blog/xls-r-self-supervised-speech-processing-for-128-languages)."
      ]
    },
    {
      "cell_type": "markdown",
      "metadata": {
        "id": "nT_QrfWtsxIz"
      },
      "source": [
        "## Notebook Setup"
      ]
    },
    {
      "cell_type": "markdown",
      "metadata": {
        "id": "kruqixOYHaIo"
      },
      "source": [
        "\n",
        "In this notebook, we will give an in-detail explanation of how XLS-R - more specifically the pre-trained checkpoint [**Wav2Vec2-XLS-R-300M**](https://huggingface.co/facebook/wav2vec2-xls-r-300m) - can be fine-tuned for ASR.  \n",
        "\n",
        "For demonstration purposes, we fine-tune the model on the low resource ASR dataset of [Common Voice](https://huggingface.co/datasets/common_voice) that contains only *ca.* 4h of validated training data."
      ]
    },
    {
      "cell_type": "markdown",
      "metadata": {
        "id": "Gx9OdDYrCtQ1"
      },
      "source": [
        "XLS-R is fine-tuned using Connectionist Temporal Classification (CTC), which is an algorithm that is used to train neural networks for sequence-to-sequence problems, such as ASR and handwriting recognition. \n",
        "\n",
        "I highly recommend reading the well-written blog post [*Sequence Modeling with CTC (2017)*](https://distill.pub/2017/ctc/) by Awni Hannun."
      ]
    },
    {
      "cell_type": "markdown",
      "metadata": {
        "id": "wcHuXIaWyHZU"
      },
      "source": [
        "First, let's try to get a good GPU in our colab! With Google Colab's free version it's sadly becoming much harder to get access to a good GPU. With Google Colab Pro, however, one should easily get either a V100 or P100 GPU."
      ]
    },
    {
      "cell_type": "code",
      "metadata": {
        "colab": {
          "base_uri": "https://localhost:8080/"
        },
        "id": "YELVqGxMxnbG",
        "outputId": "a8cb17c6-e776-4dc9-952b-209df9bf7f71"
      },
      "source": [
        "gpu_info = !nvidia-smi\n",
        "gpu_info = '\\n'.join(gpu_info)\n",
        "if gpu_info.find('failed') >= 0:\n",
        "  print('Not connected to a GPU')\n",
        "else:\n",
        "  print(gpu_info)"
      ],
      "execution_count": 1,
      "outputs": [
        {
          "output_type": "stream",
          "name": "stdout",
          "text": [
            "Thu Jan 27 19:42:57 2022       \n",
            "+-----------------------------------------------------------------------------+\n",
            "| NVIDIA-SMI 495.46       Driver Version: 460.32.03    CUDA Version: 11.2     |\n",
            "|-------------------------------+----------------------+----------------------+\n",
            "| GPU  Name        Persistence-M| Bus-Id        Disp.A | Volatile Uncorr. ECC |\n",
            "| Fan  Temp  Perf  Pwr:Usage/Cap|         Memory-Usage | GPU-Util  Compute M. |\n",
            "|                               |                      |               MIG M. |\n",
            "|===============================+======================+======================|\n",
            "|   0  Tesla K80           Off  | 00000000:00:04.0 Off |                    0 |\n",
            "| N/A   49C    P8    31W / 149W |      0MiB / 11441MiB |      0%      Default |\n",
            "|                               |                      |                  N/A |\n",
            "+-------------------------------+----------------------+----------------------+\n",
            "                                                                               \n",
            "+-----------------------------------------------------------------------------+\n",
            "| Processes:                                                                  |\n",
            "|  GPU   GI   CI        PID   Type   Process name                  GPU Memory |\n",
            "|        ID   ID                                                   Usage      |\n",
            "|=============================================================================|\n",
            "|  No running processes found                                                 |\n",
            "+-----------------------------------------------------------------------------+\n"
          ]
        }
      ]
    },
    {
      "cell_type": "markdown",
      "metadata": {
        "id": "e335hPmdtASZ"
      },
      "source": [
        "Before we start, let's install `datasets` and `transformers`. Also, we need the `torchaudio` to load audio files and `jiwer` to evaluate our fine-tuned model using the [word error rate (WER)](https://huggingface.co/metrics/wer) metric ${}^1$."
      ]
    },
    {
      "cell_type": "code",
      "metadata": {
        "id": "c8eh87Hoee5d"
      },
      "source": [
        "%%capture\n",
        "!pip install datasets==1.13.3\n",
        "!pip install transformers==4.11.3\n",
        "!pip install huggingface_hub==0.1\n",
        "!pip install torchaudio==0.10.0+cu113 -f https://download.pytorch.org/whl/cu113/torch_stable.html\n",
        "!pip install jiwer"
      ],
      "execution_count": 2,
      "outputs": []
    },
    {
      "cell_type": "markdown",
      "metadata": {
        "id": "0xxt_LwxDQlO"
      },
      "source": [
        "We strongly suggest to upload your training checkpoints directly to the [🤗 Hub](https://huggingface.co/) while training. The [🤗 Hub](https://huggingface.co/) has integrated version control so you can be sure that no model checkpoint is getting lost during training. \n",
        "\n",
        "To do so you have to store your authentication token from the Hugging Face website (sign up [here](https://huggingface.co/join) if you haven't already!)"
      ]
    },
    {
      "cell_type": "code",
      "metadata": {
        "colab": {
          "base_uri": "https://localhost:8080/",
          "height": 283,
          "referenced_widgets": [
            "8d0aaf0f847448b991e154fa0eee471e",
            "e8fd10795fa343ffba2698f0657a6aa1",
            "e9d20c68338c435793e05512481f15dc",
            "6b238597b3a64a05b62ec11ce6ad023c",
            "2b7c33132d764f3882c6fc1d7746e88a",
            "e8e6e12096974ced86cd2c2bcf5b72a5",
            "4811740c6e5c4874b09d58d85c554211",
            "b47633a776f142aaafd49fa628931039",
            "f8a53f8594624e4fbc42d63b7f3e04c8",
            "87521b7e15b847fea24c293246091966",
            "f89fae263c0b44c2b8268a6d9b06d60b",
            "3c960ba4e17846969827f648c290a9d4",
            "e757d3bda73c46dd8c8c829a52ead869",
            "58faf58540eb44b583995b72a635314f",
            "dba8b81ae64b4898ab3368d326e27fe4",
            "7b4b0a62f188425685e8a2d5ec4fe084"
          ]
        },
        "id": "mlMSH3T3EazV",
        "outputId": "d729d252-1da5-41b3-a42e-89e71cde2b21"
      },
      "source": [
        "from huggingface_hub import notebook_login\n",
        "\n",
        "notebook_login()"
      ],
      "execution_count": 3,
      "outputs": [
        {
          "output_type": "stream",
          "name": "stdout",
          "text": [
            "Login successful\n",
            "Your token has been saved to /root/.huggingface/token\n",
            "\u001b[1m\u001b[31mAuthenticated through git-crendential store but this isn't the helper defined on your machine.\n",
            "You will have to re-authenticate when pushing to the Hugging Face Hub. Run the following command in your terminal to set it as the default\n",
            "\n",
            "git config --global credential.helper store\u001b[0m\n"
          ]
        }
      ]
    },
    {
      "cell_type": "markdown",
      "metadata": {
        "id": "ujdZ2TxhElk6"
      },
      "source": [
        "\n",
        "Then you need to install Git-LFS to upload your model checkpoints:"
      ]
    },
    {
      "cell_type": "code",
      "metadata": {
        "id": "WcR-d83OEkqb"
      },
      "source": [
        "%%capture\n",
        "!apt install git-lfs"
      ],
      "execution_count": 24,
      "outputs": []
    },
    {
      "cell_type": "markdown",
      "metadata": {
        "id": "Mn9swf6EQ9Vd"
      },
      "source": [
        "\n",
        "\n",
        "\n",
        "---\n",
        "\n",
        "${}^1$ In the [paper](https://arxiv.org/pdf/2006.13979.pdf), the model was evaluated using the phoneme error rate (PER), but by far the most common metric in ASR is the word error rate (WER). To keep this notebook as general as possible we decided to evaluate the model using WER."
      ]
    },
    {
      "cell_type": "markdown",
      "metadata": {
        "id": "0mW-C1Nt-j7k"
      },
      "source": [
        "## Prepare Data, Tokenizer, Feature Extractor"
      ]
    },
    {
      "cell_type": "markdown",
      "metadata": {
        "id": "BeBosnY9BH3e"
      },
      "source": [
        "ASR models transcribe speech to text, which means that we both need a feature extractor that processes the speech signal to the model's input format, *e.g.* a feature vector, and a tokenizer that processes the model's output format to text. \n",
        "\n",
        "In 🤗 Transformers, the XLS-R model is thus accompanied by both a tokenizer, called [Wav2Vec2CTCTokenizer](https://huggingface.co/transformers/master/model_doc/wav2vec2.html#wav2vec2ctctokenizer), and a feature extractor, called [Wav2Vec2FeatureExtractor](https://huggingface.co/transformers/master/model_doc/wav2vec2.html#wav2vec2featureextractor).\n",
        "\n",
        "Let's start by creating the tokenizer to decode the predicted output classes to the output transcription."
      ]
    },
    {
      "cell_type": "markdown",
      "metadata": {
        "id": "sEXEWEJGQPqD"
      },
      "source": [
        "### Create `Wav2Vec2CTCTokenizer`"
      ]
    },
    {
      "cell_type": "markdown",
      "metadata": {
        "id": "tWmMikuNEKl_"
      },
      "source": [
        "A pre-trained XLS-R model maps the speech signal to a sequence of context representations as illustrated in the figure above. However, for speech recognition the model has to to map this sequence of context representations to its corresponding transcription which means that a linear layer has to be added on top of the transformer block (shown in yellow in the diagram above). This linear layer is used to classifies each context representation to a token class analogous how, *e.g.*, after pretraining a linear layer is added on top of BERT's embeddings for further classification - *cf.* with *'BERT'* section of this [blog post](https://huggingface.co/blog/warm-starting-encoder-decoder)."
      ]
    },
    {
      "cell_type": "markdown",
      "metadata": {
        "id": "v5oRE8XjIUH3"
      },
      "source": [
        "The output size of this layer corresponds to the number of tokens in the vocabulary, which does **not** depend onXLS-R's pretraining task, but only on the labeled dataset used for fine-tuning. So in the first step, we will take a look at the chosen dataset of Common Voice and define a vocabulary based on the transcriptions."
      ]
    },
    {
      "cell_type": "markdown",
      "metadata": {
        "id": "idBczw8mWzgt"
      },
      "source": [
        "First, let's go to Common Voice [official website](https://commonvoice.mozilla.org/en/datasets) and pick a language to fine-tune XLS-R on. For this notebook, we will use Turkish. \n",
        "\n",
        "For each language-specific dataset, you can find a language code corresponding to your chosen language. On [Common Voice](https://commonvoice.mozilla.org/en/datasets), look for the field \"Version\". The language code then corresponds to the prefix before the underscore. For Turkish, *e.g.* the language code is `\"tr\"`.\n",
        "\n",
        "Great, now we can use 🤗 Datasets' simple API to download the data. The dataset name is `\"common_voice\"`, the configuration name corresponds to the language code, which is `\"tr\"` in our case."
      ]
    },
    {
      "cell_type": "markdown",
      "metadata": {
        "id": "bee4g9rpLxll"
      },
      "source": [
        "Common Voice has many different splits including `invalidated`, which refers to data that was not rated as \"clean enough\" to be considered useful. In this notebook, we will only make use of the splits `\"train\"`, `\"validation\"` and `\"test\"`. \n",
        "\n",
        "Because the Turkish dataset is so small, we will merge both the validation and training data into a training dataset and only use the test data for validation."
      ]
    },
    {
      "cell_type": "code",
      "metadata": {
        "colab": {
          "base_uri": "https://localhost:8080/"
        },
        "id": "2MMXcWFFgCXU",
        "outputId": "02ab7912-52f9-476c-c834-26074c19c7f5"
      },
      "source": [
        "from datasets import load_dataset, load_metric, Audio\n",
        "\n",
        "common_voice_train = load_dataset(\"common_voice\", \"hi\", split=\"train+validation\")\n",
        "common_voice_test = load_dataset(\"common_voice\", \"hi\", split=\"test\")"
      ],
      "execution_count": 25,
      "outputs": [
        {
          "output_type": "stream",
          "name": "stderr",
          "text": [
            "Reusing dataset common_voice (/root/.cache/huggingface/datasets/common_voice/hi/6.1.0/f7a9d973839b7706e9e281c19b7e512f31badf3c0fdbd21c671f3c4bf9acf3b9)\n",
            "Reusing dataset common_voice (/root/.cache/huggingface/datasets/common_voice/hi/6.1.0/f7a9d973839b7706e9e281c19b7e512f31badf3c0fdbd21c671f3c4bf9acf3b9)\n"
          ]
        }
      ]
    },
    {
      "cell_type": "markdown",
      "metadata": {
        "id": "ri5y5N_HMANq"
      },
      "source": [
        "Many ASR datasets only provide the target text, `'sentence'` for each audio array `'audio'` and file `'path'`. Common Voice actually provides much more information about each audio file, such as the `'accent'`, etc. Keeping the notebook as general as possible, we only consider the transcribed text for fine-tuning.\n",
        "\n"
      ]
    },
    {
      "cell_type": "code",
      "metadata": {
        "id": "kbyq6lDgQc2a"
      },
      "source": [
        "common_voice_train = common_voice_train.remove_columns([\"accent\", \"age\", \"client_id\", \"down_votes\", \"gender\", \"locale\", \"segment\", \"up_votes\"])\n",
        "common_voice_test = common_voice_test.remove_columns([\"accent\", \"age\", \"client_id\", \"down_votes\", \"gender\", \"locale\", \"segment\", \"up_votes\"])"
      ],
      "execution_count": 26,
      "outputs": []
    },
    {
      "cell_type": "markdown",
      "metadata": {
        "id": "Go9Hq4e4NDT9"
      },
      "source": [
        "Let's write a short function to display some random samples of the dataset and run it a couple of times to get a feeling for the transcriptions."
      ]
    },
    {
      "cell_type": "code",
      "metadata": {
        "id": "72737oog2F6U"
      },
      "source": [
        "from datasets import ClassLabel\n",
        "import random\n",
        "import pandas as pd\n",
        "from IPython.display import display, HTML\n",
        "\n",
        "def show_random_elements(dataset, num_examples=10):\n",
        "    assert num_examples <= len(dataset), \"Can't pick more elements than there are in the dataset.\"\n",
        "    picks = []\n",
        "    for _ in range(num_examples):\n",
        "        pick = random.randint(0, len(dataset)-1)\n",
        "        while pick in picks:\n",
        "            pick = random.randint(0, len(dataset)-1)\n",
        "        picks.append(pick)\n",
        "    \n",
        "    df = pd.DataFrame(dataset[picks])\n",
        "    display(HTML(df.to_html()))"
      ],
      "execution_count": 27,
      "outputs": []
    },
    {
      "cell_type": "code",
      "metadata": {
        "colab": {
          "base_uri": "https://localhost:8080/",
          "height": 363
        },
        "id": "K_JUmf3G3b9S",
        "outputId": "36432982-6f8b-4ad3-a02a-c3967f3b3272"
      },
      "source": [
        "show_random_elements(common_voice_train.remove_columns([\"path\", \"audio\"]), num_examples=10)"
      ],
      "execution_count": 28,
      "outputs": [
        {
          "output_type": "display_data",
          "data": {
            "text/html": [
              "<table border=\"1\" class=\"dataframe\">\n",
              "  <thead>\n",
              "    <tr style=\"text-align: right;\">\n",
              "      <th></th>\n",
              "      <th>sentence</th>\n",
              "    </tr>\n",
              "  </thead>\n",
              "  <tbody>\n",
              "    <tr>\n",
              "      <th>0</th>\n",
              "      <td>पहली बार ट्विटर पर लाइव हुए रणबीर, कल देंगे बड़ा सरप्राइज</td>\n",
              "    </tr>\n",
              "    <tr>\n",
              "      <th>1</th>\n",
              "      <td>केन ने अभी तक गाड़ी नहीं धोई है।</td>\n",
              "    </tr>\n",
              "    <tr>\n",
              "      <th>2</th>\n",
              "      <td>बीजेपी संसदीय दल की बैठक आज, सांसदों को दी जा सकती है नसीहत</td>\n",
              "    </tr>\n",
              "    <tr>\n",
              "      <th>3</th>\n",
              "      <td>गौतम गंभीर बने केकेआर के कप्तान</td>\n",
              "    </tr>\n",
              "    <tr>\n",
              "      <th>4</th>\n",
              "      <td>मुझे याकितोरी खाना बहुत पसंद है।</td>\n",
              "    </tr>\n",
              "    <tr>\n",
              "      <th>5</th>\n",
              "      <td>शादी वादी के चक्करों में नहीं पड़ना फिलहाल: कंगना रनोट</td>\n",
              "    </tr>\n",
              "    <tr>\n",
              "      <th>6</th>\n",
              "      <td>अनंतनाग आतंकी हमले के बाद दिल्ली का जंतर-मंतर राजनीतिक अखाड़े में तब्दील</td>\n",
              "    </tr>\n",
              "    <tr>\n",
              "      <th>7</th>\n",
              "      <td>उसने मुझसे जल्द-से-जल्द उत्तर देने के लिए कहा।</td>\n",
              "    </tr>\n",
              "    <tr>\n",
              "      <th>8</th>\n",
              "      <td>मुझे बच्चे को सुलाना है।</td>\n",
              "    </tr>\n",
              "    <tr>\n",
              "      <th>9</th>\n",
              "      <td>भारतीय विमानन कंपनियां मजबूत, ग्लोबल एंट्री के लिए सही वक्त: स्पाइसजेट</td>\n",
              "    </tr>\n",
              "  </tbody>\n",
              "</table>"
            ],
            "text/plain": [
              "<IPython.core.display.HTML object>"
            ]
          },
          "metadata": {}
        }
      ]
    },
    {
      "cell_type": "markdown",
      "metadata": {
        "id": "fowcOllGNNju"
      },
      "source": [
        "Alright! The transcriptions look fairly clean. Having translated the transcribed sentences, it seems that the language corresponds more to written-out text than noisy dialogue. This makes sense considering that [Common Voice](https://huggingface.co/datasets/common_voice) is a crowd-sourced read speech corpus."
      ]
    },
    {
      "cell_type": "markdown",
      "metadata": {
        "id": "vq7OR50LN49m"
      },
      "source": [
        "We can see that the transcriptions contain some special characters, such as `,.?!;:`. Without a language model, it is much harder to classify speech chunks to such special characters because they don't really correspond to a characteristic sound unit. *E.g.*, the letter `\"s\"` has a more or less clear sound, whereas the special character `\".\"` does not.\n",
        "Also in order to understand the meaning of a speech signal, it is usually not necessary to include special characters in the transcription.\n",
        "\n",
        "Let's simply remove all characters that don't contribute to the meaning of a word and cannot really be represented by an acoustic sound and normalize the text."
      ]
    },
    {
      "cell_type": "code",
      "metadata": {
        "id": "svKzVJ_hQGK6"
      },
      "source": [
        "import re\n",
        "chars_to_remove_regex = '[\\,\\?\\.\\!\\-\\;\\:\\\"\\“\\%\\‘\\”\\�\\']'\n",
        "\n",
        "def remove_special_characters(batch):\n",
        "    batch[\"sentence\"] = re.sub(chars_to_remove_regex, '', batch[\"sentence\"]).lower()\n",
        "    return batch"
      ],
      "execution_count": 29,
      "outputs": []
    },
    {
      "cell_type": "code",
      "metadata": {
        "colab": {
          "base_uri": "https://localhost:8080/",
          "height": 86,
          "referenced_widgets": [
            "633a1d7867b14bc3b9c01fd1fbf08b9d",
            "f4d860895de04dd3a0cbb21226861a9c",
            "ce9f87aef4b24528a869b4567e8f7974",
            "fbfa81c2815b477c8c3e02c2f8434b6e",
            "37c72340cdd64e70bcea000092a898fb",
            "92f731f5624b4e7fbfac3c661d041398",
            "d5b494db366147cb9e8f851ed7568579",
            "efdb58dadef1441f8ff4c8d0cb9c730c",
            "8a56d79122ad49beab0f4bb00a746d5a",
            "9cc062ff6d024ffb9c3b464998b46de3",
            "ab2985949a47478ea4fe7027a8e1f1b0"
          ]
        },
        "id": "XIHocAuTQbBR",
        "outputId": "df7f59ed-91d0-4373-c626-b65cbc5d6eb6"
      },
      "source": [
        "common_voice_train = common_voice_train.map(remove_special_characters)\n",
        "common_voice_test = common_voice_test.map(remove_special_characters)"
      ],
      "execution_count": 30,
      "outputs": [
        {
          "output_type": "display_data",
          "data": {
            "application/vnd.jupyter.widget-view+json": {
              "model_id": "633a1d7867b14bc3b9c01fd1fbf08b9d",
              "version_minor": 0,
              "version_major": 2
            },
            "text/plain": [
              "  0%|          | 0/292 [00:00<?, ?ex/s]"
            ]
          },
          "metadata": {}
        },
        {
          "output_type": "stream",
          "name": "stderr",
          "text": [
            "Loading cached processed dataset at /root/.cache/huggingface/datasets/common_voice/hi/6.1.0/f7a9d973839b7706e9e281c19b7e512f31badf3c0fdbd21c671f3c4bf9acf3b9/cache-c315237afe871639.arrow\n"
          ]
        }
      ]
    },
    {
      "cell_type": "markdown",
      "metadata": {
        "id": "TxnVS9gIhIma"
      },
      "source": [
        "Let's look at the processed text labels again."
      ]
    },
    {
      "cell_type": "code",
      "metadata": {
        "colab": {
          "base_uri": "https://localhost:8080/",
          "height": 363
        },
        "id": "RBDRAAYxRE6n",
        "outputId": "3103081a-bf39-40c8-d68d-16c9d3d1b627"
      },
      "source": [
        "show_random_elements(common_voice_train.remove_columns([\"path\",\"audio\"]))"
      ],
      "execution_count": 31,
      "outputs": [
        {
          "output_type": "display_data",
          "data": {
            "text/html": [
              "<table border=\"1\" class=\"dataframe\">\n",
              "  <thead>\n",
              "    <tr style=\"text-align: right;\">\n",
              "      <th></th>\n",
              "      <th>sentence</th>\n",
              "    </tr>\n",
              "  </thead>\n",
              "  <tbody>\n",
              "    <tr>\n",
              "      <th>0</th>\n",
              "      <td>बीजेपी में आज शामिल होंगे भुवनेश्वर कलिता और जी विवेकानंद</td>\n",
              "    </tr>\n",
              "    <tr>\n",
              "      <th>1</th>\n",
              "      <td>हमें सैनिकों की ज़रूरत है राक्षसों की नहीं।</td>\n",
              "    </tr>\n",
              "    <tr>\n",
              "      <th>2</th>\n",
              "      <td>इस चाय को हरी चाय कहते हैं।</td>\n",
              "    </tr>\n",
              "    <tr>\n",
              "      <th>3</th>\n",
              "      <td>बैडमिंटन टूर्नामेंट कश्यप क्वार्टर फाइनल में ज्वाला और अश्विनी हारे</td>\n",
              "    </tr>\n",
              "    <tr>\n",
              "      <th>4</th>\n",
              "      <td>अनंतनाग आतंकी हमले के बाद दिल्ली का जंतरमंतर राजनीतिक अखाड़े में तब्दील</td>\n",
              "    </tr>\n",
              "    <tr>\n",
              "      <th>5</th>\n",
              "      <td>मेरी प्यारी सी नन्ही सी बिल्ली एक हफ़्ते से गायब है।</td>\n",
              "    </tr>\n",
              "    <tr>\n",
              "      <th>6</th>\n",
              "      <td>हरियाणा सरकार ने स्नातकोत्तर बेरोजगारों के लिए शुरू की रोजगार योजना</td>\n",
              "    </tr>\n",
              "    <tr>\n",
              "      <th>7</th>\n",
              "      <td>वह बिल को तैरने ले गया।</td>\n",
              "    </tr>\n",
              "    <tr>\n",
              "      <th>8</th>\n",
              "      <td>तुम कुछ ज़्यादा ही शक्कर डालती हो।</td>\n",
              "    </tr>\n",
              "    <tr>\n",
              "      <th>9</th>\n",
              "      <td>यह लिफ़्ट छटी मंज़िल तक ही जाती है।</td>\n",
              "    </tr>\n",
              "  </tbody>\n",
              "</table>"
            ],
            "text/plain": [
              "<IPython.core.display.HTML object>"
            ]
          },
          "metadata": {}
        }
      ]
    },
    {
      "cell_type": "markdown",
      "metadata": {
        "id": "jwfaptH5RJwA"
      },
      "source": [
        "Good! This looks better. We have removed most special characters from transcriptions and normalized them to lower-case only.\n",
        "\n",
        "Before finalizing the pre-processing, it is always advantageous to consult a native speaker of the target language to see whether the text can be further simplified. \n",
        "For this blog post, [Merve](https://twitter.com/mervenoyann) was kind enough to take a quick look and noted that \"hatted\" characters - like `â` - aren't really used anymore in Turkish and can be replaced by their \"un-hatted\" equivalent, *e.g.* `a`. \n",
        "\n",
        "This means that we should replace a sentence like `\"yargı sistemi hâlâ sağlıksız\"` to `\"yargı sistemi hala sağlıksız\"`.\n",
        "\n",
        "Let's write another short mapping function to further simplify the text labels. Remember - the simler the text labels, the easier it is for the model to learn to predict those labels.\n",
        "\n"
      ]
    },
    {
      "cell_type": "code",
      "metadata": {
        "id": "aZcrz6z7lgGm"
      },
      "source": [
        "def replace_hatted_characters(batch):\n",
        "    batch[\"sentence\"] = re.sub('[â]', 'a', batch[\"sentence\"])\n",
        "    batch[\"sentence\"] = re.sub('[î]', 'i', batch[\"sentence\"])\n",
        "    batch[\"sentence\"] = re.sub('[ô]', 'o', batch[\"sentence\"])\n",
        "    batch[\"sentence\"] = re.sub('[û]', 'u', batch[\"sentence\"])\n",
        "    return batch"
      ],
      "execution_count": 32,
      "outputs": []
    },
    {
      "cell_type": "code",
      "metadata": {
        "colab": {
          "base_uri": "https://localhost:8080/",
          "height": 86,
          "referenced_widgets": [
            "b9fba62b3ebc4fab8d94473862c32f41",
            "64053ba3161841249ac9a80ae97fa574",
            "b928c26c526c481a876e2f836c10c0d7",
            "3661966cb9e94855877aac4dff2011a1",
            "81619254a5cf49afba182b4d425b0760",
            "e2de3eb0c5d9453b9b063d63a5415e80",
            "3f961a63c50f456f991c1f37bcf3f83b",
            "d10ef3376e6e43448461334d2ab6a914",
            "84de0871087f4630bb767257d2df9ca5",
            "7e3dce11455c4229ad45a7edbd979de1",
            "9a1f31cca3534421aef4d4b262a2bb8f"
          ]
        },
        "id": "ieGhhND5mSwI",
        "outputId": "5e42a384-a151-4600-df65-13d3a7632188"
      },
      "source": [
        "common_voice_train = common_voice_train.map(replace_hatted_characters)\n",
        "common_voice_test = common_voice_test.map(replace_hatted_characters)"
      ],
      "execution_count": 33,
      "outputs": [
        {
          "output_type": "display_data",
          "data": {
            "application/vnd.jupyter.widget-view+json": {
              "model_id": "b9fba62b3ebc4fab8d94473862c32f41",
              "version_minor": 0,
              "version_major": 2
            },
            "text/plain": [
              "  0%|          | 0/292 [00:00<?, ?ex/s]"
            ]
          },
          "metadata": {}
        },
        {
          "output_type": "stream",
          "name": "stderr",
          "text": [
            "Loading cached processed dataset at /root/.cache/huggingface/datasets/common_voice/hi/6.1.0/f7a9d973839b7706e9e281c19b7e512f31badf3c0fdbd21c671f3c4bf9acf3b9/cache-371d863db1a26fbd.arrow\n"
          ]
        }
      ]
    },
    {
      "cell_type": "markdown",
      "metadata": {
        "id": "3ORHDb2Th2TW"
      },
      "source": [
        "In CTC, it is common to classify speech chunks into letters, so we will do the same here. \n",
        "Let's extract all distinct letters of the training and test data and build our vocabulary from this set of letters.\n",
        "\n",
        "We write a mapping function that concatenates all transcriptions into one long transcription and then transforms the string into a set of chars. \n",
        "It is important to pass the argument `batched=True` to the `map(...)` function so that the mapping function has access to all transcriptions at once."
      ]
    },
    {
      "cell_type": "code",
      "metadata": {
        "id": "LwCshNbbeRZR"
      },
      "source": [
        "def extract_all_chars(batch):\n",
        "  all_text = \" \".join(batch[\"sentence\"])\n",
        "  vocab = list(set(all_text))\n",
        "  return {\"vocab\": [vocab], \"all_text\": [all_text]}"
      ],
      "execution_count": 34,
      "outputs": []
    },
    {
      "cell_type": "code",
      "metadata": {
        "colab": {
          "base_uri": "https://localhost:8080/",
          "height": 81,
          "referenced_widgets": [
            "02856350cdf54328824eb1a1b57fdd57",
            "4b70d09519004ea88aa9e32cfbf3b3a9",
            "689ed394c7ec4331b322f39024da058d",
            "c99a8139bcf1415ba093e6390b550f8c",
            "50dcdec730f349dd86d3961f4bb6b4e9",
            "946833231c94484681458d10ab24b262",
            "781ac4c913974c3090a705adf2c10e75",
            "c222d2a213d445589e3252dc882db66e",
            "677b1ce131684030b4981a613736bf2b",
            "e68db86207e2457ba7189953aa24c6c2",
            "c2d0f66e95144cf9889a136047083f7f",
            "d0c6abb53f7b4a53b06029ce5fcac10c",
            "d19e34ace02e41c1b1b27dcb5a16622d",
            "04f3f7f22bc4453f8007f3756c36da07",
            "5ad656cab5324734aad31994a09d7621",
            "338378c16369422aba1f56b3ac613305",
            "ebee19ca545948999d56e7f46dfd15b3",
            "b827c3bb5a4247f4a97e53a58e947290",
            "ba1f1bf3a7a7451f9ffa8dd2e84bdb73",
            "6eece46c59cd431988061f518fd59720",
            "b26a1b3d202b46b791c5bc78c4bd29e3",
            "837d152cbd2e448f828558cedc59ccda"
          ]
        },
        "id": "_m6uUjjcfbjH",
        "outputId": "4bc213e5-2ade-43fd-a148-c2073f352a10"
      },
      "source": [
        "vocab_train = common_voice_train.map(extract_all_chars, batched=True, batch_size=-1, keep_in_memory=True, remove_columns=common_voice_train.column_names)\n",
        "vocab_test = common_voice_test.map(extract_all_chars, batched=True, batch_size=-1, keep_in_memory=True, remove_columns=common_voice_test.column_names)"
      ],
      "execution_count": 35,
      "outputs": [
        {
          "output_type": "display_data",
          "data": {
            "application/vnd.jupyter.widget-view+json": {
              "model_id": "02856350cdf54328824eb1a1b57fdd57",
              "version_minor": 0,
              "version_major": 2
            },
            "text/plain": [
              "  0%|          | 0/1 [00:00<?, ?ba/s]"
            ]
          },
          "metadata": {}
        },
        {
          "output_type": "display_data",
          "data": {
            "application/vnd.jupyter.widget-view+json": {
              "model_id": "d0c6abb53f7b4a53b06029ce5fcac10c",
              "version_minor": 0,
              "version_major": 2
            },
            "text/plain": [
              "  0%|          | 0/1 [00:00<?, ?ba/s]"
            ]
          },
          "metadata": {}
        }
      ]
    },
    {
      "cell_type": "markdown",
      "metadata": {
        "id": "7oVgE8RZSJNP"
      },
      "source": [
        "Now, we create the union of all distinct letters in the training dataset and test dataset and convert the resulting list into an enumerated dictionary."
      ]
    },
    {
      "cell_type": "code",
      "metadata": {
        "id": "aQfneNsmlJI0"
      },
      "source": [
        "vocab_list = list(set(vocab_train[\"vocab\"][0]) | set(vocab_test[\"vocab\"][0]))"
      ],
      "execution_count": 36,
      "outputs": []
    },
    {
      "cell_type": "code",
      "metadata": {
        "colab": {
          "base_uri": "https://localhost:8080/"
        },
        "id": "_0kRndSvqaKk",
        "outputId": "887bf40f-432d-4c0f-c027-e8e2f90d8040"
      },
      "source": [
        "vocab_dict = {v: k for k, v in enumerate(sorted(vocab_list))}\n",
        "vocab_dict"
      ],
      "execution_count": 37,
      "outputs": [
        {
          "output_type": "execute_result",
          "data": {
            "text/plain": [
              "{' ': 0,\n",
              " 'a': 1,\n",
              " 'e': 2,\n",
              " 'f': 3,\n",
              " 'i': 4,\n",
              " 'l': 5,\n",
              " 'm': 6,\n",
              " 'p': 7,\n",
              " 'r': 8,\n",
              " 'u': 9,\n",
              " 'w': 10,\n",
              " 'ँ': 11,\n",
              " 'ं': 12,\n",
              " 'ः': 13,\n",
              " 'अ': 14,\n",
              " 'आ': 15,\n",
              " 'इ': 16,\n",
              " 'ई': 17,\n",
              " 'उ': 18,\n",
              " 'ऊ': 19,\n",
              " 'ए': 20,\n",
              " 'ऐ': 21,\n",
              " 'ऑ': 22,\n",
              " 'ओ': 23,\n",
              " 'औ': 24,\n",
              " 'क': 25,\n",
              " 'ख': 26,\n",
              " 'ग': 27,\n",
              " 'घ': 28,\n",
              " 'च': 29,\n",
              " 'छ': 30,\n",
              " 'ज': 31,\n",
              " 'झ': 32,\n",
              " 'ट': 33,\n",
              " 'ठ': 34,\n",
              " 'ड': 35,\n",
              " 'ढ': 36,\n",
              " 'ण': 37,\n",
              " 'त': 38,\n",
              " 'थ': 39,\n",
              " 'द': 40,\n",
              " 'ध': 41,\n",
              " 'न': 42,\n",
              " 'प': 43,\n",
              " 'फ': 44,\n",
              " 'ब': 45,\n",
              " 'भ': 46,\n",
              " 'म': 47,\n",
              " 'य': 48,\n",
              " 'र': 49,\n",
              " 'ल': 50,\n",
              " 'व': 51,\n",
              " 'श': 52,\n",
              " 'ष': 53,\n",
              " 'स': 54,\n",
              " 'ह': 55,\n",
              " '़': 56,\n",
              " 'ा': 57,\n",
              " 'ि': 58,\n",
              " 'ी': 59,\n",
              " 'ु': 60,\n",
              " 'ू': 61,\n",
              " 'ृ': 62,\n",
              " 'े': 63,\n",
              " 'ै': 64,\n",
              " 'ॉ': 65,\n",
              " 'ो': 66,\n",
              " 'ौ': 67,\n",
              " '्': 68,\n",
              " 'ड़': 69,\n",
              " '।': 70}"
            ]
          },
          "metadata": {},
          "execution_count": 37
        }
      ]
    },
    {
      "cell_type": "markdown",
      "metadata": {
        "id": "JOSzbvs9SXT1"
      },
      "source": [
        "Cool, we see that all letters of the alphabet occur in the dataset (which is not really surprising) and we also extracted the special characters `\"\"` and `'`. Note that we did not exclude those special characters because: \n",
        "\n",
        "The model has to learn to predict when a word is finished or else the model prediction would always be a sequence of chars which would make it impossible to separate words from each other.\n",
        "\n",
        "One should always keep in mind that pre-processing is a very important step before training your model. E.g., we don't want our model to differentiate between `a` and `A` just because we forgot to normalize the data. The difference between `a` and `A` does not depend on the \"sound\" of the letter at all, but more on grammatical rules - *e.g.* use a capitalized letter at the beginning of the sentence. So it is sensible to remove the difference between capitalized and non-capitalized letters so that the model has an easier time learning to transcribe speech. "
      ]
    },
    {
      "cell_type": "markdown",
      "metadata": {
        "id": "b1fBRCn-TRaO"
      },
      "source": [
        "To make it clearer that `\" \"` has its own token class, we give it a more visible character `|`. In addition, we also add an \"unknown\" token so that the model can later deal with characters not encountered in Common Voice's training set. "
      ]
    },
    {
      "cell_type": "code",
      "metadata": {
        "id": "npbIbBoLgaFX"
      },
      "source": [
        "vocab_dict[\"|\"] = vocab_dict[\" \"]\n",
        "del vocab_dict[\" \"]"
      ],
      "execution_count": 38,
      "outputs": []
    },
    {
      "cell_type": "markdown",
      "metadata": {
        "id": "_9yCWg4Sd0cb"
      },
      "source": [
        "Finally, we also add a padding token that corresponds to CTC's \"*blank token*\". The \"blank token\" is a core component of the CTC algorithm. For more information, please take a look at the \"Alignment\" section [here](https://distill.pub/2017/ctc/)."
      ]
    },
    {
      "cell_type": "code",
      "metadata": {
        "colab": {
          "base_uri": "https://localhost:8080/"
        },
        "id": "znF0bNunsjbl",
        "outputId": "7b3c2b0a-3ae2-4dfd-83ab-b9dc765bac5c"
      },
      "source": [
        "vocab_dict[\"[UNK]\"] = len(vocab_dict)\n",
        "vocab_dict[\"[PAD]\"] = len(vocab_dict)\n",
        "len(vocab_dict)"
      ],
      "execution_count": 39,
      "outputs": [
        {
          "output_type": "execute_result",
          "data": {
            "text/plain": [
              "73"
            ]
          },
          "metadata": {},
          "execution_count": 39
        }
      ]
    },
    {
      "cell_type": "markdown",
      "metadata": {
        "id": "SFPGfet8U5sL"
      },
      "source": [
        "Cool, now our vocabulary is complete and consists of 39 tokens, which means that the linear layer that we will add on top of the pretrained XLS-R checkpoint will have an output dimension of 39."
      ]
    },
    {
      "cell_type": "markdown",
      "metadata": {
        "id": "1CujRgBNVRaD"
      },
      "source": [
        "Let's now save the vocabulary as a json file."
      ]
    },
    {
      "cell_type": "code",
      "metadata": {
        "id": "ehyUoh9vk191"
      },
      "source": [
        "import json\n",
        "with open('vocab.json', 'w') as vocab_file:\n",
        "    json.dump(vocab_dict, vocab_file)"
      ],
      "execution_count": 40,
      "outputs": []
    },
    {
      "cell_type": "markdown",
      "metadata": {
        "id": "SHJDaKlIVVim"
      },
      "source": [
        "In a final step, we use the json file to load the vocabulary into an instance of the `Wav2Vec2CTCTokenizer` class."
      ]
    },
    {
      "cell_type": "code",
      "metadata": {
        "colab": {
          "base_uri": "https://localhost:8080/"
        },
        "id": "xriFGEWQkO4M",
        "outputId": "8ef9524b-306e-49a2-a0b4-306c6a1d36af"
      },
      "source": [
        "from transformers import Wav2Vec2CTCTokenizer\n",
        "\n",
        "tokenizer = Wav2Vec2CTCTokenizer.from_pretrained(\"./\", unk_token=\"[UNK]\", pad_token=\"[PAD]\", word_delimiter_token=\"|\")"
      ],
      "execution_count": 41,
      "outputs": [
        {
          "output_type": "stream",
          "name": "stderr",
          "text": [
            "file ./config.json not found\n",
            "Special tokens have been added in the vocabulary, make sure the associated word embeddings are fine-tuned or trained.\n"
          ]
        }
      ]
    },
    {
      "cell_type": "markdown",
      "metadata": {
        "id": "KvL12DrNV4cx"
      },
      "source": [
        "If one wants to re-use the just created tokenizer with the fine-tuned model of this notebook, it is strongly advised to upload the `tokenizer` to the [🤗 Hub](https://huggingface.co/). Let's call the repo to which we will upload the files\n",
        "`\"wav2vec2-large-xlsr-turkish-demo-colab\"`:"
      ]
    },
    {
      "cell_type": "code",
      "metadata": {
        "id": "A1XApZBAF2zr"
      },
      "source": [
        "repo_name = \"wav2vec2-large-xls-r-300m-hindi\""
      ],
      "execution_count": 42,
      "outputs": []
    },
    {
      "cell_type": "markdown",
      "metadata": {
        "id": "B1BiezWZF16d"
      },
      "source": [
        "and upload the tokenizer to the [🤗 Hub](https://huggingface.co/)."
      ]
    },
    {
      "cell_type": "code",
      "metadata": {
        "colab": {
          "base_uri": "https://localhost:8080/",
          "height": 592
        },
        "id": "zytE1175GAKM",
        "outputId": "07532e8e-c047-4c24-b83a-62109ca57ea2"
      },
      "source": [
        "tokenizer.push_to_hub(repo_name)"
      ],
      "execution_count": 43,
      "outputs": [
        {
          "output_type": "stream",
          "name": "stderr",
          "text": [
            "/usr/local/lib/python3.7/dist-packages/huggingface_hub/hf_api.py:718: FutureWarning: `create_repo` now takes `token` as an optional positional argument. Be sure to adapt your code!\n",
            "  FutureWarning,\n",
            "/usr/local/lib/python3.7/dist-packages/huggingface_hub/hf_api.py:718: FutureWarning: `create_repo` now takes `token` as an optional positional argument. Be sure to adapt your code!\n",
            "  FutureWarning,\n",
            "Cloning https://huggingface.co/gagan3012/wav2vec2-large-xls-r-300m-hindi into local empty directory.\n"
          ]
        },
        {
          "output_type": "error",
          "ename": "OSError",
          "evalue": "ignored",
          "traceback": [
            "\u001b[0;31m---------------------------------------------------------------------------\u001b[0m",
            "\u001b[0;31mCalledProcessError\u001b[0m                        Traceback (most recent call last)",
            "\u001b[0;32m/usr/local/lib/python3.7/dist-packages/huggingface_hub/repository.py\u001b[0m in \u001b[0;36mgit_commit\u001b[0;34m(self, commit_message)\u001b[0m\n\u001b[1;32m    931\u001b[0m                 \u001b[0mencoding\u001b[0m\u001b[0;34m=\u001b[0m\u001b[0;34m\"utf-8\"\u001b[0m\u001b[0;34m,\u001b[0m\u001b[0;34m\u001b[0m\u001b[0;34m\u001b[0m\u001b[0m\n\u001b[0;32m--> 932\u001b[0;31m                 \u001b[0mcwd\u001b[0m\u001b[0;34m=\u001b[0m\u001b[0mself\u001b[0m\u001b[0;34m.\u001b[0m\u001b[0mlocal_dir\u001b[0m\u001b[0;34m,\u001b[0m\u001b[0;34m\u001b[0m\u001b[0;34m\u001b[0m\u001b[0m\n\u001b[0m\u001b[1;32m    933\u001b[0m             )\n",
            "\u001b[0;32m/usr/lib/python3.7/subprocess.py\u001b[0m in \u001b[0;36mrun\u001b[0;34m(input, capture_output, timeout, check, *popenargs, **kwargs)\u001b[0m\n\u001b[1;32m    511\u001b[0m             raise CalledProcessError(retcode, process.args,\n\u001b[0;32m--> 512\u001b[0;31m                                      output=stdout, stderr=stderr)\n\u001b[0m\u001b[1;32m    513\u001b[0m     \u001b[0;32mreturn\u001b[0m \u001b[0mCompletedProcess\u001b[0m\u001b[0;34m(\u001b[0m\u001b[0mprocess\u001b[0m\u001b[0;34m.\u001b[0m\u001b[0margs\u001b[0m\u001b[0;34m,\u001b[0m \u001b[0mretcode\u001b[0m\u001b[0;34m,\u001b[0m \u001b[0mstdout\u001b[0m\u001b[0;34m,\u001b[0m \u001b[0mstderr\u001b[0m\u001b[0;34m)\u001b[0m\u001b[0;34m\u001b[0m\u001b[0;34m\u001b[0m\u001b[0m\n",
            "\u001b[0;31mCalledProcessError\u001b[0m: Command '['git', 'commit', '-m', 'add tokenizer', '-v']' returned non-zero exit status 1.",
            "\nDuring handling of the above exception, another exception occurred:\n",
            "\u001b[0;31mOSError\u001b[0m                                   Traceback (most recent call last)",
            "\u001b[0;32m<ipython-input-43-e531bb070692>\u001b[0m in \u001b[0;36m<module>\u001b[0;34m()\u001b[0m\n\u001b[0;32m----> 1\u001b[0;31m \u001b[0mtokenizer\u001b[0m\u001b[0;34m.\u001b[0m\u001b[0mpush_to_hub\u001b[0m\u001b[0;34m(\u001b[0m\u001b[0mrepo_name\u001b[0m\u001b[0;34m)\u001b[0m\u001b[0;34m\u001b[0m\u001b[0;34m\u001b[0m\u001b[0m\n\u001b[0m",
            "\u001b[0;32m/usr/local/lib/python3.7/dist-packages/transformers/file_utils.py\u001b[0m in \u001b[0;36mpush_to_hub\u001b[0;34m(self, repo_path_or_name, repo_url, use_temp_dir, commit_message, organization, private, use_auth_token)\u001b[0m\n\u001b[1;32m   2180\u001b[0m         \u001b[0mself\u001b[0m\u001b[0;34m.\u001b[0m\u001b[0msave_pretrained\u001b[0m\u001b[0;34m(\u001b[0m\u001b[0mrepo_path_or_name\u001b[0m\u001b[0;34m)\u001b[0m\u001b[0;34m\u001b[0m\u001b[0;34m\u001b[0m\u001b[0m\n\u001b[1;32m   2181\u001b[0m         \u001b[0;31m# Commit and push!\u001b[0m\u001b[0;34m\u001b[0m\u001b[0;34m\u001b[0m\u001b[0;34m\u001b[0m\u001b[0m\n\u001b[0;32m-> 2182\u001b[0;31m         \u001b[0murl\u001b[0m \u001b[0;34m=\u001b[0m \u001b[0mself\u001b[0m\u001b[0;34m.\u001b[0m\u001b[0m_push_to_hub\u001b[0m\u001b[0;34m(\u001b[0m\u001b[0mrepo\u001b[0m\u001b[0;34m,\u001b[0m \u001b[0mcommit_message\u001b[0m\u001b[0;34m=\u001b[0m\u001b[0mcommit_message\u001b[0m\u001b[0;34m)\u001b[0m\u001b[0;34m\u001b[0m\u001b[0;34m\u001b[0m\u001b[0m\n\u001b[0m\u001b[1;32m   2183\u001b[0m \u001b[0;34m\u001b[0m\u001b[0m\n\u001b[1;32m   2184\u001b[0m         \u001b[0;31m# Clean up! Clean up! Everybody everywhere!\u001b[0m\u001b[0;34m\u001b[0m\u001b[0;34m\u001b[0m\u001b[0;34m\u001b[0m\u001b[0m\n",
            "\u001b[0;32m/usr/local/lib/python3.7/dist-packages/transformers/file_utils.py\u001b[0m in \u001b[0;36m_push_to_hub\u001b[0;34m(cls, repo, commit_message)\u001b[0m\n\u001b[1;32m   2260\u001b[0m                 \u001b[0mcommit_message\u001b[0m \u001b[0;34m=\u001b[0m \u001b[0;34m\"add model\"\u001b[0m\u001b[0;34m\u001b[0m\u001b[0;34m\u001b[0m\u001b[0m\n\u001b[1;32m   2261\u001b[0m \u001b[0;34m\u001b[0m\u001b[0m\n\u001b[0;32m-> 2262\u001b[0;31m         \u001b[0;32mreturn\u001b[0m \u001b[0mrepo\u001b[0m\u001b[0;34m.\u001b[0m\u001b[0mpush_to_hub\u001b[0m\u001b[0;34m(\u001b[0m\u001b[0mcommit_message\u001b[0m\u001b[0;34m=\u001b[0m\u001b[0mcommit_message\u001b[0m\u001b[0;34m)\u001b[0m\u001b[0;34m\u001b[0m\u001b[0;34m\u001b[0m\u001b[0m\n\u001b[0m\u001b[1;32m   2263\u001b[0m \u001b[0;34m\u001b[0m\u001b[0m\n\u001b[1;32m   2264\u001b[0m \u001b[0;34m\u001b[0m\u001b[0m\n",
            "\u001b[0;32m/usr/local/lib/python3.7/dist-packages/huggingface_hub/repository.py\u001b[0m in \u001b[0;36mpush_to_hub\u001b[0;34m(self, commit_message, blocking, clean_ok, auto_lfs_prune)\u001b[0m\n\u001b[1;32m   1229\u001b[0m             \u001b[0;32mreturn\u001b[0m \u001b[0;32mNone\u001b[0m\u001b[0;34m\u001b[0m\u001b[0;34m\u001b[0m\u001b[0m\n\u001b[1;32m   1230\u001b[0m         \u001b[0mself\u001b[0m\u001b[0;34m.\u001b[0m\u001b[0mgit_add\u001b[0m\u001b[0;34m(\u001b[0m\u001b[0mauto_lfs_track\u001b[0m\u001b[0;34m=\u001b[0m\u001b[0;32mTrue\u001b[0m\u001b[0;34m)\u001b[0m\u001b[0;34m\u001b[0m\u001b[0;34m\u001b[0m\u001b[0m\n\u001b[0;32m-> 1231\u001b[0;31m         \u001b[0mself\u001b[0m\u001b[0;34m.\u001b[0m\u001b[0mgit_commit\u001b[0m\u001b[0;34m(\u001b[0m\u001b[0mcommit_message\u001b[0m\u001b[0;34m)\u001b[0m\u001b[0;34m\u001b[0m\u001b[0;34m\u001b[0m\u001b[0m\n\u001b[0m\u001b[1;32m   1232\u001b[0m         return self.git_push(\n\u001b[1;32m   1233\u001b[0m             \u001b[0mupstream\u001b[0m\u001b[0;34m=\u001b[0m\u001b[0;34mf\"origin {self.current_branch}\"\u001b[0m\u001b[0;34m,\u001b[0m\u001b[0;34m\u001b[0m\u001b[0;34m\u001b[0m\u001b[0m\n",
            "\u001b[0;32m/usr/local/lib/python3.7/dist-packages/huggingface_hub/repository.py\u001b[0m in \u001b[0;36mgit_commit\u001b[0;34m(self, commit_message)\u001b[0m\n\u001b[1;32m    937\u001b[0m                 \u001b[0;32mraise\u001b[0m \u001b[0mEnvironmentError\u001b[0m\u001b[0;34m(\u001b[0m\u001b[0mexc\u001b[0m\u001b[0;34m.\u001b[0m\u001b[0mstderr\u001b[0m\u001b[0;34m)\u001b[0m\u001b[0;34m\u001b[0m\u001b[0;34m\u001b[0m\u001b[0m\n\u001b[1;32m    938\u001b[0m             \u001b[0;32melse\u001b[0m\u001b[0;34m:\u001b[0m\u001b[0;34m\u001b[0m\u001b[0;34m\u001b[0m\u001b[0m\n\u001b[0;32m--> 939\u001b[0;31m                 \u001b[0;32mraise\u001b[0m \u001b[0mEnvironmentError\u001b[0m\u001b[0;34m(\u001b[0m\u001b[0mexc\u001b[0m\u001b[0;34m.\u001b[0m\u001b[0mstdout\u001b[0m\u001b[0;34m)\u001b[0m\u001b[0;34m\u001b[0m\u001b[0;34m\u001b[0m\u001b[0m\n\u001b[0m\u001b[1;32m    940\u001b[0m \u001b[0;34m\u001b[0m\u001b[0m\n\u001b[1;32m    941\u001b[0m     def git_push(\n",
            "\u001b[0;31mOSError\u001b[0m: On branch main\nYour branch is up to date with 'origin/main'.\n\nnothing to commit, working tree clean\n"
          ]
        }
      ]
    },
    {
      "cell_type": "markdown",
      "metadata": {
        "id": "SwQM8lH_GGuP"
      },
      "source": [
        "Great, you can see the just created repository under `https://huggingface.co/<your-username>/wav2vec2-large-xls-r-300m-tr-colab`"
      ]
    },
    {
      "cell_type": "markdown",
      "metadata": {
        "id": "mYcIiR2FQ96i"
      },
      "source": [
        "### Create `Wav2Vec2FeatureExtractor`"
      ]
    },
    {
      "cell_type": "markdown",
      "metadata": {
        "id": "Y6mDEyW719rx"
      },
      "source": [
        "Speech is a continuous signal and to be treated by computers, it first has to be discretized, which is usually called **sampling**. The sampling rate hereby plays an important role in that it defines how many data points of the speech signal are measured per second. Therefore, sampling with a higher sampling rate results in a better approximation of the *real* speech signal but also necessitates more values per second.\n",
        "\n",
        "A pretrained checkpoint expects its input data to have been sampled more or less from the same distribution as the data it was trained on. The same speech signals sampled at two different rates have a very different distribution, *e.g.*, doubling the sampling rate results in data points being twice as long. Thus, \n",
        "before fine-tuning a pretrained checkpoint of an ASR model, it is crucial to verify that the sampling rate of the data that was used to pretrain the model matches the sampling rate of the dataset used to fine-tune the model.\n",
        "\n",
        "XLS-R was pretrained on audio data of [Babel](http://www.reading.ac.uk/AcaDepts/ll/speechlab/babel/r), \n",
        "[Multilingual LibriSpeech (MLS)](https://huggingface.co/datasets/multilingual_librispeech), [Common Voice](https://huggingface.co/datasets/common_voice), [VoxPopuli](https://arxiv.org/abs/2101.00390), and [VoxLingua107](https://arxiv.org/abs/2011.12998) at a sampling rate of 16kHz. Common Voice, in its original form, has a sampling rate of 48kHz, thus we will have to downsample the fine-tuning data to 16kHz in the following.\n",
        "\n"
      ]
    },
    {
      "cell_type": "markdown",
      "metadata": {
        "id": "KuUbPW7oV-B5"
      },
      "source": [
        "A `Wav2Vec2FeatureExtractor` object requires the following parameters to be instantiated:\n",
        "\n",
        "- `feature_size`: Speech models take a sequence of feature vectors as an input. While the length of this sequence obviously varies, the feature size should not. In the case of Wav2Vec2, the feature size is 1 because the model was trained on the raw speech signal ${}^2$.\n",
        "- `sampling_rate`: The sampling rate at which the model is trained on.\n",
        "- `padding_value`: For batched inference, shorter inputs need to be padded with a specific value\n",
        "- `do_normalize`: Whether the input should be *zero-mean-unit-variance* normalized or not. Usually, speech models perform better when normalizing the input\n",
        "- `return_attention_mask`: Whether the model should make use of an `attention_mask` for batched inference. In general, XLS-R models checkpoints should **always** use the `attention_mask`."
      ]
    },
    {
      "cell_type": "code",
      "metadata": {
        "id": "kAR0-2KLkopp"
      },
      "source": [
        "from transformers import Wav2Vec2FeatureExtractor\n",
        "\n",
        "feature_extractor = Wav2Vec2FeatureExtractor(feature_size=1, sampling_rate=16000, padding_value=0.0, do_normalize=True, return_attention_mask=True)"
      ],
      "execution_count": 44,
      "outputs": []
    },
    {
      "cell_type": "markdown",
      "metadata": {
        "id": "qUETetgqYC3W"
      },
      "source": [
        "Great, XLS-R's feature extraction pipeline is thereby fully defined!\n",
        "\n",
        "For improved user-friendliness, the feature extractor and tokenizer are *wrapped* into a single `Wav2Vec2Processor` class so that one only needs a `model` and `processor` object."
      ]
    },
    {
      "cell_type": "code",
      "metadata": {
        "id": "KYZtoW-tlZgl"
      },
      "source": [
        "from transformers import Wav2Vec2Processor\n",
        "\n",
        "processor = Wav2Vec2Processor(feature_extractor=feature_extractor, tokenizer=tokenizer)"
      ],
      "execution_count": 45,
      "outputs": []
    },
    {
      "cell_type": "markdown",
      "metadata": {
        "id": "DrKnYuvDIoOO"
      },
      "source": [
        "Next, we can prepare the dataset."
      ]
    },
    {
      "cell_type": "markdown",
      "metadata": {
        "id": "YFmShnl7RE35"
      },
      "source": [
        "### Preprocess Data\n",
        "\n",
        "So far, we have not looked at the actual values of the speech signal but just the transcription. In addition to `sentence`, our datasets include two more column names `path` and `audio`. `path` states the absolute path of the audio file. Let's take a look.\n"
      ]
    },
    {
      "cell_type": "code",
      "metadata": {
        "colab": {
          "base_uri": "https://localhost:8080/",
          "height": 52
        },
        "id": "TTCS7W6XJ9BG",
        "outputId": "c2b0c6bb-1da7-42ff-baec-48ddff85f6ec"
      },
      "source": [
        "common_voice_train[0][\"path\"]"
      ],
      "execution_count": 46,
      "outputs": [
        {
          "output_type": "execute_result",
          "data": {
            "application/vnd.google.colaboratory.intrinsic+json": {
              "type": "string"
            },
            "text/plain": [
              "'/root/.cache/huggingface/datasets/downloads/extracted/c96485295dfcd0d08e461a9bab70c7431c5b032810e282334a76757b3eb2d753/cv-corpus-6.1-2020-12-11/hi/clips/common_voice_hi_23795238.mp3'"
            ]
          },
          "metadata": {},
          "execution_count": 46
        }
      ]
    },
    {
      "cell_type": "markdown",
      "metadata": {
        "id": "T6ndIjHGFp0W"
      },
      "source": [
        "XLS-R expects the input in the format of a 1-dimensional array of 16 kHz. This means that the audio file has to be loaded and resampled.\n",
        "\n",
        " Thankfully, `datasets` does this automatically by calling the other column `audio`. Let try it out. "
      ]
    },
    {
      "cell_type": "code",
      "metadata": {
        "colab": {
          "base_uri": "https://localhost:8080/"
        },
        "id": "qj_z5Zc3GAs9",
        "outputId": "cdff4861-dfc7-4db7-edda-04df2ab7807d"
      },
      "source": [
        "common_voice_train[0][\"audio\"]"
      ],
      "execution_count": 47,
      "outputs": [
        {
          "output_type": "execute_result",
          "data": {
            "text/plain": [
              "{'array': array([0.        , 0.        , 0.        , ..., 0.01033163, 0.00594568,\n",
              "        0.00187945], dtype=float32),\n",
              " 'path': '/root/.cache/huggingface/datasets/downloads/extracted/c96485295dfcd0d08e461a9bab70c7431c5b032810e282334a76757b3eb2d753/cv-corpus-6.1-2020-12-11/hi/clips/common_voice_hi_23795238.mp3',\n",
              " 'sampling_rate': 48000}"
            ]
          },
          "metadata": {},
          "execution_count": 47
        }
      ]
    },
    {
      "cell_type": "markdown",
      "metadata": {
        "id": "WUUTgI1bGHW-"
      },
      "source": [
        "Great, we can see that the audio file has automatically been loaded. This is thanks to the new [`\"Audio\"` feature](https://huggingface.co/docs/datasets/package_reference/main_classes.html?highlight=audio#datasets.Audio) introduced in `datasets == 4.13.3`, which loads and resamples audio files on-the-fly upon calling.\n",
        "\n",
        "In the example above we can see that the audio data is loaded with a sampling rate of 48kHz whereas 16kHz are expected by the model. We can set the audio feature to the correct sampling rate by making use of [`cast_column`](https://huggingface.co/docs/datasets/package_reference/main_classes.html?highlight=cast_column#datasets.DatasetDict.cast_column):"
      ]
    },
    {
      "cell_type": "code",
      "metadata": {
        "id": "rrv65aj7G95i"
      },
      "source": [
        "common_voice_train = common_voice_train.cast_column(\"audio\", Audio(sampling_rate=16_000))\n",
        "common_voice_test = common_voice_test.cast_column(\"audio\", Audio(sampling_rate=16_000))"
      ],
      "execution_count": 48,
      "outputs": []
    },
    {
      "cell_type": "markdown",
      "metadata": {
        "id": "PcnO4x-NGBEi"
      },
      "source": [
        "Let's take a look at `\"audio\"` again."
      ]
    },
    {
      "cell_type": "code",
      "metadata": {
        "colab": {
          "base_uri": "https://localhost:8080/"
        },
        "id": "aKtkc1o_HWHC",
        "outputId": "ecaeccdf-a385-49a1-a1e8-e7327e78426c"
      },
      "source": [
        "common_voice_train[0][\"audio\"]"
      ],
      "execution_count": 49,
      "outputs": [
        {
          "output_type": "execute_result",
          "data": {
            "text/plain": [
              "{'array': array([0.        , 0.        , 0.        , ..., 0.01560929, 0.01975486,\n",
              "        0.00993793], dtype=float32),\n",
              " 'path': '/root/.cache/huggingface/datasets/downloads/extracted/c96485295dfcd0d08e461a9bab70c7431c5b032810e282334a76757b3eb2d753/cv-corpus-6.1-2020-12-11/hi/clips/common_voice_hi_23795238.mp3',\n",
              " 'sampling_rate': 16000}"
            ]
          },
          "metadata": {},
          "execution_count": 49
        }
      ]
    },
    {
      "cell_type": "markdown",
      "metadata": {
        "id": "SOckzFd4Mbzq"
      },
      "source": [
        "This seemed to have worked! Let's listen to a couple of audio files to better understand the dataset and verify that the audio was correctly loaded. \n",
        "\n",
        "**Note**: *You can click the following cell a couple of times to listen to different speech samples.*"
      ]
    },
    {
      "cell_type": "code",
      "metadata": {
        "colab": {
          "base_uri": "https://localhost:8080/",
          "height": 92
        },
        "id": "dueM6U7Ev0OA",
        "outputId": "e29e7ff0-2bbf-457e-ac1f-2be121208a48"
      },
      "source": [
        "import IPython.display as ipd\n",
        "import numpy as np\n",
        "import random\n",
        "\n",
        "rand_int = random.randint(0, len(common_voice_train)-1)\n",
        "\n",
        "print(common_voice_train[rand_int][\"sentence\"])\n",
        "ipd.Audio(data=common_voice_train[rand_int][\"audio\"][\"array\"], autoplay=True, rate=16000)"
      ],
      "execution_count": 50,
      "outputs": [
        {
          "output_type": "stream",
          "name": "stdout",
          "text": [
            "तुम्हें हो क्या गया था\n"
          ]
        },
        {
          "output_type": "execute_result",
          "data": {
            "text/html": [
              "\n",
              "                <audio controls=\"controls\" autoplay=\"autoplay\">\n",
              "                    <source src=\"data:audio/wav;base64,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\" type=\"audio/wav\" />\n",
              "                    Your browser does not support the audio element.\n",
              "                </audio>\n",
              "              "
            ],
            "text/plain": [
              "<IPython.lib.display.Audio object>"
            ]
          },
          "metadata": {},
          "execution_count": 50
        }
      ]
    },
    {
      "cell_type": "markdown",
      "metadata": {
        "id": "gY8m3vARHYTa"
      },
      "source": [
        "It seems like the data is now correctly loaded and resampled. "
      ]
    },
    {
      "cell_type": "markdown",
      "metadata": {
        "id": "1MaL9J2dNVtG"
      },
      "source": [
        "It can be heard, that the speakers change along with their speaking rate, accent, and background environment, etc. Overall, the recordings sound acceptably clear though, which is to be expected from a crowd-sourced read speech corpus.\n",
        "\n",
        "Let's do a final check that the data is correctly prepared, by printing the shape of the speech input, its transcription, and the corresponding sampling rate.\n",
        "\n",
        "**Note**: *You can click the following cell a couple of times to verify multiple samples.*"
      ]
    },
    {
      "cell_type": "code",
      "metadata": {
        "colab": {
          "base_uri": "https://localhost:8080/"
        },
        "id": "1Po2g7YPuRTx",
        "outputId": "32057010-4603-46a1-ad33-fb6f67bd02a1"
      },
      "source": [
        "rand_int = random.randint(0, len(common_voice_train)-1)\n",
        "\n",
        "print(\"Target text:\", common_voice_train[rand_int][\"sentence\"])\n",
        "print(\"Input array shape:\", common_voice_train[rand_int][\"audio\"][\"array\"].shape)\n",
        "print(\"Sampling rate:\", common_voice_train[rand_int][\"audio\"][\"sampling_rate\"])"
      ],
      "execution_count": 51,
      "outputs": [
        {
          "output_type": "stream",
          "name": "stdout",
          "text": [
            "Target text: तुम्हारे उठने का समय हो गया है।\n",
            "Input array shape: (54528,)\n",
            "Sampling rate: 16000\n"
          ]
        }
      ]
    },
    {
      "cell_type": "markdown",
      "metadata": {
        "id": "M9teZcSwOBJ4"
      },
      "source": [
        "Good! Everything looks fine - the data is a 1-dimensional array, the sampling rate always corresponds to 16kHz, and the target text is normalized."
      ]
    },
    {
      "cell_type": "markdown",
      "metadata": {
        "id": "k3Pbn5WvOYZF"
      },
      "source": [
        "Finally, we can leverage `Wav2Vec2Processor` to process the data to the format expected by `Wav2Vec2ForCTC` for training. To do so let's make use of Dataset's [`map(...)`](https://huggingface.co/docs/datasets/package_reference/main_classes.html?highlight=map#datasets.DatasetDict.map) function.\n",
        "\n",
        "First, we load and resample the audio data, simply by calling `batch[\"audio\"]`.\n",
        "Second, we extract the `input_values` from the loaded audio file. In our case, the `Wav2Vec2Processor` only normalizes the data. For other speech models, however, this step can include more complex feature extraction, such as [Log-Mel feature extraction](https://en.wikipedia.org/wiki/Mel-frequency_cepstrum). \n",
        "Third, we encode the transcriptions to label ids.\n",
        "\n",
        "**Note**: This mapping function is a good example of how the `Wav2Vec2Processor` class should be used. In \"normal\" context, calling `processor(...)` is redirected to `Wav2Vec2FeatureExtractor`'s call method. When wrapping the processor into the `as_target_processor` context, however, the same method is redirected to `Wav2Vec2CTCTokenizer`'s call method.\n",
        "For more information please check the [docs](https://huggingface.co/transformers/master/model_doc/wav2vec2.html#transformers.Wav2Vec2Processor.__call__)."
      ]
    },
    {
      "cell_type": "code",
      "metadata": {
        "id": "eJY7I0XAwe9p"
      },
      "source": [
        "def prepare_dataset(batch):\n",
        "    audio = batch[\"audio\"]\n",
        "\n",
        "    # batched output is \"un-batched\"\n",
        "    batch[\"input_values\"] = processor(audio[\"array\"], sampling_rate=audio[\"sampling_rate\"]).input_values[0]\n",
        "    batch[\"input_length\"] = len(batch[\"input_values\"])\n",
        "    \n",
        "    with processor.as_target_processor():\n",
        "        batch[\"labels\"] = processor(batch[\"sentence\"]).input_ids\n",
        "    return batch"
      ],
      "execution_count": 52,
      "outputs": []
    },
    {
      "cell_type": "markdown",
      "metadata": {
        "id": "q6Pg_WR3OGAP"
      },
      "source": [
        "Let's apply the data preparation function to all examples."
      ]
    },
    {
      "cell_type": "code",
      "metadata": {
        "colab": {
          "base_uri": "https://localhost:8080/",
          "height": 81,
          "referenced_widgets": [
            "762ece7a790e424482ac395e435ac62e",
            "f22c926576504314be517ec21b9ddfc8",
            "f1a3dfb6f3d543089e847b6a48e631b6",
            "cdccdbb517d440059d8b97c8d751a274",
            "c9139a01c72e482587b6b4ab76756f1d",
            "9233ac403c864e75a6fd0d73ffd605b9",
            "ed6c9b6295f840a39727ca55bbe3caae",
            "c348e8d3bc1a4890af9059c699ae8d35",
            "a8731db730df4908b9c84cfb4a93647d",
            "92079fe488344990b45480a9409c7349",
            "8433ed56c96d48cea2b7250e02841a91",
            "518d6b279c1849f9929497a09256fb2e",
            "183bea4076184df696c02149ecbd148a",
            "03813d3d02854c18ae5f5281b82c773c",
            "ae558e6b8133475db514fd65342903dc",
            "bed826d3f2e74f1db7ae7b8f7d20a7fe",
            "7bfbf7fcbd9c418284570a483ace66ae",
            "16acf74a0abc4c9baf2a9ab019b49b8a",
            "5057620168894c8bb9a74a7448bbb43f",
            "9f26f80d568c463da8855d550c3159a1",
            "1d8b60961da747b1a97985b26095bb7e",
            "2d14ec7df30c42b49cdd3dff30c29aa7"
          ]
        },
        "id": "-np9xYK-wl8q",
        "outputId": "00f2d6a7-ad22-4786-b606-08b893bcfe02"
      },
      "source": [
        "common_voice_train = common_voice_train.map(prepare_dataset, remove_columns=common_voice_train.column_names)\n",
        "common_voice_test = common_voice_test.map(prepare_dataset, remove_columns=common_voice_test.column_names)"
      ],
      "execution_count": 53,
      "outputs": [
        {
          "output_type": "display_data",
          "data": {
            "application/vnd.jupyter.widget-view+json": {
              "model_id": "762ece7a790e424482ac395e435ac62e",
              "version_minor": 0,
              "version_major": 2
            },
            "text/plain": [
              "  0%|          | 0/292 [00:00<?, ?ex/s]"
            ]
          },
          "metadata": {}
        },
        {
          "output_type": "display_data",
          "data": {
            "application/vnd.jupyter.widget-view+json": {
              "model_id": "518d6b279c1849f9929497a09256fb2e",
              "version_minor": 0,
              "version_major": 2
            },
            "text/plain": [
              "  0%|          | 0/127 [00:00<?, ?ex/s]"
            ]
          },
          "metadata": {}
        }
      ]
    },
    {
      "cell_type": "markdown",
      "metadata": {
        "id": "nKcEWHvKI1by"
      },
      "source": [
        "**Note**: Currently `datasets` make use of [`torchaudio`](https://pytorch.org/audio/stable/index.html) and [`librosa`](https://librosa.org/doc/latest/index.html) for audio loading and resampling. If you wish to implement your own costumized data loading/sampling, feel free to just make use of the `\"path\"` column instead and disregard the `\"audio\"` column."
      ]
    },
    {
      "cell_type": "markdown",
      "metadata": {
        "id": "24CxHd5ewI4T"
      },
      "source": [
        "Long input sequences require a lot of memory. XLS-R is based on `self-attention` the memory requirement scales quadratically with the input length for long input sequences (*cf.* with [this](https://www.reddit.com/r/MachineLearning/comments/genjvb/d_why_is_the_maximum_input_sequence_length_of/) reddit post). In case this demo crashes with an \"Out-of-memory\" error for you, you might want to uncomment the following lines to filter all sequences that are longer than 5 seconds for training."
      ]
    },
    {
      "cell_type": "code",
      "metadata": {
        "id": "tdHfbUJ_09iA"
      },
      "source": [
        "#max_input_length_in_sec = 5.0\n",
        "#common_voice_train = common_voice_train.filter(lambda x: x < max_input_length_in_sec * processor.feature_extractor.sampling_rate, input_columns=[\"input_length\"])"
      ],
      "execution_count": 54,
      "outputs": []
    },
    {
      "cell_type": "markdown",
      "metadata": {
        "id": "1ZWDCCKqwcfS"
      },
      "source": [
        "Awesome, now we are ready to start training!"
      ]
    },
    {
      "cell_type": "markdown",
      "metadata": {
        "id": "gYlQkKVoRUos"
      },
      "source": [
        "## Training\n",
        "\n",
        "The data is processed so that we are ready to start setting up the training pipeline. We will make use of 🤗's [Trainer](https://huggingface.co/transformers/master/main_classes/trainer.html?highlight=trainer) for which we essentially need to do the following:\n",
        "\n",
        "- Define a data collator. In contrast to most NLP models, XLS-R has a much larger input length than output length. *E.g.*, a sample of input length 50000 has an output length of no more than 100. Given the large input sizes, it is much more efficient to pad the training batches dynamically meaning that all training samples should only be padded to the longest sample in their batch and not the overall longest sample. Therefore, fine-tuning XLS-R requires a special padding data collator, which we will define below\n",
        "\n",
        "- Evaluation metric. During training, the model should be evaluated on the word error rate. We should define a `compute_metrics` function accordingly\n",
        "\n",
        "- Load a pretrained checkpoint. We need to load a pretrained checkpoint and configure it correctly for training.\n",
        "\n",
        "- Define the training configuration.\n",
        "\n",
        "After having fine-tuned the model, we will correctly evaluate it on the test data and verify that it has indeed learned to correctly transcribe speech."
      ]
    },
    {
      "cell_type": "markdown",
      "metadata": {
        "id": "Slk403unUS91"
      },
      "source": [
        "### Set-up Trainer\n",
        "\n",
        "Let's start by defining the data collator. The code for the data collator was copied from [this example](https://github.com/huggingface/transformers/blob/7e61d56a45c19284cfda0cee8995fb552f6b1f4e/examples/pytorch/speech-recognition/run_speech_recognition_ctc.py#L219).\n",
        "\n",
        "Without going into too many details, in contrast to the common data collators, this data collator treats the `input_values` and `labels` differently and thus applies to separate padding functions on them (again making use of XLS-R processor's context manager). This is necessary because in speech input and output are of different modalities meaning that they should not be treated by the same padding function.\n",
        "Analogous to the common data collators, the padding tokens in the labels with `-100` so that those tokens are **not** taken into account when computing the loss."
      ]
    },
    {
      "cell_type": "code",
      "metadata": {
        "id": "tborvC9hx88e"
      },
      "source": [
        "import torch\n",
        "\n",
        "from dataclasses import dataclass, field\n",
        "from typing import Any, Dict, List, Optional, Union\n",
        "\n",
        "@dataclass\n",
        "class DataCollatorCTCWithPadding:\n",
        "    \"\"\"\n",
        "    Data collator that will dynamically pad the inputs received.\n",
        "    Args:\n",
        "        processor (:class:`~transformers.Wav2Vec2Processor`)\n",
        "            The processor used for proccessing the data.\n",
        "        padding (:obj:`bool`, :obj:`str` or :class:`~transformers.tokenization_utils_base.PaddingStrategy`, `optional`, defaults to :obj:`True`):\n",
        "            Select a strategy to pad the returned sequences (according to the model's padding side and padding index)\n",
        "            among:\n",
        "            * :obj:`True` or :obj:`'longest'`: Pad to the longest sequence in the batch (or no padding if only a single\n",
        "              sequence if provided).\n",
        "            * :obj:`'max_length'`: Pad to a maximum length specified with the argument :obj:`max_length` or to the\n",
        "              maximum acceptable input length for the model if that argument is not provided.\n",
        "            * :obj:`False` or :obj:`'do_not_pad'` (default): No padding (i.e., can output a batch with sequences of\n",
        "              different lengths).\n",
        "    \"\"\"\n",
        "\n",
        "    processor: Wav2Vec2Processor\n",
        "    padding: Union[bool, str] = True\n",
        "\n",
        "    def __call__(self, features: List[Dict[str, Union[List[int], torch.Tensor]]]) -> Dict[str, torch.Tensor]:\n",
        "        # split inputs and labels since they have to be of different lenghts and need\n",
        "        # different padding methods\n",
        "        input_features = [{\"input_values\": feature[\"input_values\"]} for feature in features]\n",
        "        label_features = [{\"input_ids\": feature[\"labels\"]} for feature in features]\n",
        "\n",
        "        batch = self.processor.pad(\n",
        "            input_features,\n",
        "            padding=self.padding,\n",
        "            return_tensors=\"pt\",\n",
        "        )\n",
        "        with self.processor.as_target_processor():\n",
        "            labels_batch = self.processor.pad(\n",
        "                label_features,\n",
        "                padding=self.padding,\n",
        "                return_tensors=\"pt\",\n",
        "            )\n",
        "\n",
        "        # replace padding with -100 to ignore loss correctly\n",
        "        labels = labels_batch[\"input_ids\"].masked_fill(labels_batch.attention_mask.ne(1), -100)\n",
        "\n",
        "        batch[\"labels\"] = labels\n",
        "\n",
        "        return batch"
      ],
      "execution_count": 55,
      "outputs": []
    },
    {
      "cell_type": "code",
      "metadata": {
        "id": "lbQf5GuZyQ4_"
      },
      "source": [
        "data_collator = DataCollatorCTCWithPadding(processor=processor, padding=True)"
      ],
      "execution_count": 56,
      "outputs": []
    },
    {
      "cell_type": "markdown",
      "metadata": {
        "id": "xO-Zdj-5cxXp"
      },
      "source": [
        "Next, the evaluation metric is defined. As mentioned earlier, the \n",
        "predominant metric in ASR is the word error rate (WER), hence we will use it in this notebook as well."
      ]
    },
    {
      "cell_type": "code",
      "metadata": {
        "colab": {
          "base_uri": "https://localhost:8080/",
          "height": 49,
          "referenced_widgets": [
            "1a57442937f74cc7abfe8d4c175bc4fe",
            "b0157869768d4adba42174da0ef59749",
            "edd7cc5045b549be93aef9bb878f8b50",
            "989af43ebb854b6c8e89cb1f4d91bea2",
            "8f2874f3614e49e0aef3254c2aba125e",
            "7f3debed27fb4519af43791c72ff31fd",
            "5ed3d96e0c9242d6ba7f41cd215a90eb",
            "c3a91b876de24c5b8c1ed00830e2d8e1",
            "0c9313f4db59491fafe7ed9f8ce68b30",
            "fe5dd0e3463a424092afae8ff348b3c1",
            "2c8bdf7988f14cc0a0f5c458fa49d621"
          ]
        },
        "id": "9Xsux2gmyXso",
        "outputId": "896bd762-fa09-470b-c955-084e716928dd"
      },
      "source": [
        "wer_metric = load_metric(\"wer\")"
      ],
      "execution_count": 57,
      "outputs": [
        {
          "output_type": "display_data",
          "data": {
            "application/vnd.jupyter.widget-view+json": {
              "model_id": "1a57442937f74cc7abfe8d4c175bc4fe",
              "version_minor": 0,
              "version_major": 2
            },
            "text/plain": [
              "Downloading:   0%|          | 0.00/1.95k [00:00<?, ?B/s]"
            ]
          },
          "metadata": {}
        }
      ]
    },
    {
      "cell_type": "markdown",
      "metadata": {
        "id": "E1qZU5p-deqB"
      },
      "source": [
        "The model will return a sequence of logit vectors:\n",
        "$\\mathbf{y}_1, \\ldots, \\mathbf{y}_m$ with $\\mathbf{y}_1 = f_{\\theta}(x_1, \\ldots, x_n)[0]$ and $n >> m$.\n",
        "\n",
        "A logit vector $\\mathbf{y}_1$ contains the log-odds for each word in the vocabulary we defined earlier, thus $\\text{len}(\\mathbf{y}_i) =$ `config.vocab_size`. We are interested in the most likely prediction of the model and thus take the `argmax(...)` of the logits. Also, we transform the encoded labels back to the original string by replacing `-100` with the `pad_token_id` and decoding the ids while making sure that consecutive tokens are **not** grouped to the same token in CTC style ${}^1$."
      ]
    },
    {
      "cell_type": "code",
      "metadata": {
        "id": "1XZ-kjweyTy_"
      },
      "source": [
        "def compute_metrics(pred):\n",
        "    pred_logits = pred.predictions\n",
        "    pred_ids = np.argmax(pred_logits, axis=-1)\n",
        "\n",
        "    pred.label_ids[pred.label_ids == -100] = processor.tokenizer.pad_token_id\n",
        "\n",
        "    pred_str = processor.batch_decode(pred_ids)\n",
        "    # we do not want to group tokens when computing the metrics\n",
        "    label_str = processor.batch_decode(pred.label_ids, group_tokens=False)\n",
        "\n",
        "    wer = wer_metric.compute(predictions=pred_str, references=label_str)\n",
        "\n",
        "    return {\"wer\": wer}"
      ],
      "execution_count": 58,
      "outputs": []
    },
    {
      "cell_type": "markdown",
      "metadata": {
        "id": "Xmgrx4bRwLIH"
      },
      "source": [
        "Now, we can load the pretrained checkpoint of [Wav2Vec2-XLS-R-300M](https://huggingface.co/facebook/wav2vec2-xls-r-300m). The tokenizer's `pad_token_id` must be to define the model's `pad_token_id` or in the case of `Wav2Vec2ForCTC` also CTC's *blank token* ${}^2$. To save GPU memory, we enable PyTorch's [gradient checkpointing](https://pytorch.org/docs/stable/checkpoint.html) and also set the loss reduction to \"*mean*\".\n",
        "\n",
        "Because the dataset is quite small (~6h of training data) and because Common Voice is quite noisy, fine-tuning Facebook's [wav2vec2-xls-r-300m checkpoint](https://huggingface.co/facebook/wav2vec2-xls-r-300m) seems to require some hyper-parameter tuning. Therefore, I had to play around a bit with different values for dropout, [SpecAugment](https://arxiv.org/abs/1904.08779)'s masking dropout rate, layer dropout, and the learning rate until training seemed to be stable enough. \n",
        "\n",
        "**Note**: When using this notebook to train XLS-R on another language of Common Voice those hyper-parameter settings might not work very well. Feel free to adapt those depending on your use case. "
      ]
    },
    {
      "cell_type": "code",
      "metadata": {
        "colab": {
          "base_uri": "https://localhost:8080/",
          "height": 187,
          "referenced_widgets": [
            "49a32bb623b447c384efa70063b4be86",
            "671c128ae9084c538ade20bdbaf47130",
            "b7991540be6243cea3b0eb16c6849cec",
            "4d7bd47f23db4197ad9742f830d7c80a",
            "cd112eba06364ce7965c93b34536fc4e",
            "d5d6e3d2293c4684b7944a0ea2d9beac",
            "a805de77fb4645f78421a447131b4310",
            "86e82880b9904c7d9899890317b6f59b",
            "1b4b03655ab44e6cb26544ff3c18e6ba",
            "9acc131edd144f7fbfa0d33cdf4bd26d",
            "da58c1de384f4503a9437a1cf170cc7e",
            "559a899250b04e1fb4343a8e3e467b58",
            "5dc746b58d234436a3eb02dd419b3411",
            "f54f4da00dad4a7880f36d611b23e9f3",
            "85b4496be46e4dd393742db85f6d54ff",
            "c777b609cc9c45ba83aa85a20d6ab6d4",
            "6cf629678bd7462bbc660fe2b7275b64",
            "1b7ed46efdef402dbb00439cdef16b85",
            "28f4ece9740a4bff96f469ffd56aaa69",
            "5c6772e75ab048cd9cbdd5c5267cb9d7",
            "f6a84deb2a2e4578acb4f5f6c02b3aa4",
            "70251c3a44e44515bf10f6220dfb8544"
          ]
        },
        "id": "e7cqAWIayn6w",
        "outputId": "415c82a8-0cdf-4344-f867-68e3412d8f5f"
      },
      "source": [
        "from transformers import Wav2Vec2ForCTC\n",
        "\n",
        "model = Wav2Vec2ForCTC.from_pretrained(\n",
        "    \"facebook/wav2vec2-xls-r-300m\", \n",
        "    attention_dropout=0.0,\n",
        "    hidden_dropout=0.0,\n",
        "    feat_proj_dropout=0.0,\n",
        "    mask_time_prob=0.05,\n",
        "    layerdrop=0.0,\n",
        "    ctc_loss_reduction=\"mean\", \n",
        "    pad_token_id=processor.tokenizer.pad_token_id,\n",
        "    vocab_size=len(processor.tokenizer),\n",
        ")"
      ],
      "execution_count": 59,
      "outputs": [
        {
          "output_type": "display_data",
          "data": {
            "application/vnd.jupyter.widget-view+json": {
              "model_id": "49a32bb623b447c384efa70063b4be86",
              "version_minor": 0,
              "version_major": 2
            },
            "text/plain": [
              "Downloading:   0%|          | 0.00/1.53k [00:00<?, ?B/s]"
            ]
          },
          "metadata": {}
        },
        {
          "output_type": "display_data",
          "data": {
            "application/vnd.jupyter.widget-view+json": {
              "model_id": "559a899250b04e1fb4343a8e3e467b58",
              "version_minor": 0,
              "version_major": 2
            },
            "text/plain": [
              "Downloading:   0%|          | 0.00/1.18G [00:00<?, ?B/s]"
            ]
          },
          "metadata": {}
        },
        {
          "output_type": "stream",
          "name": "stderr",
          "text": [
            "Some weights of the model checkpoint at facebook/wav2vec2-xls-r-300m were not used when initializing Wav2Vec2ForCTC: ['project_hid.bias', 'quantizer.codevectors', 'quantizer.weight_proj.weight', 'project_q.weight', 'project_q.bias', 'quantizer.weight_proj.bias', 'project_hid.weight']\n",
            "- This IS expected if you are initializing Wav2Vec2ForCTC from the checkpoint of a model trained on another task or with another architecture (e.g. initializing a BertForSequenceClassification model from a BertForPreTraining model).\n",
            "- This IS NOT expected if you are initializing Wav2Vec2ForCTC from the checkpoint of a model that you expect to be exactly identical (initializing a BertForSequenceClassification model from a BertForSequenceClassification model).\n",
            "Some weights of Wav2Vec2ForCTC were not initialized from the model checkpoint at facebook/wav2vec2-xls-r-300m and are newly initialized: ['lm_head.weight', 'lm_head.bias']\n",
            "You should probably TRAIN this model on a down-stream task to be able to use it for predictions and inference.\n"
          ]
        }
      ]
    },
    {
      "cell_type": "markdown",
      "metadata": {
        "id": "1DwR3XLSzGDD"
      },
      "source": [
        "The first component of XLS-R consists of a stack of CNN layers that are used to extract acoustically meaningful - but contextually independent - features from the raw speech signal. This part of the model has already been sufficiently trained during pretraining and as stated in the [paper](https://arxiv.org/pdf/2006.13979.pdf) does not need to be fine-tuned anymore. \n",
        "Thus, we can set the `requires_grad` to `False` for all parameters of the *feature extraction* part."
      ]
    },
    {
      "cell_type": "code",
      "metadata": {
        "id": "oGI8zObtZ3V0"
      },
      "source": [
        "model.freeze_feature_extractor()"
      ],
      "execution_count": 60,
      "outputs": []
    },
    {
      "cell_type": "markdown",
      "metadata": {
        "id": "lD4aGhQM0K-D"
      },
      "source": [
        "In a final step, we define all parameters related to training. \n",
        "To give more explanation on some of the parameters:\n",
        "- `group_by_length` makes training more efficient by grouping training samples of similar input length into one batch. This can significantly speed up training time by heavily reducing the overall number of useless padding tokens that are passed through the model\n",
        "- `learning_rate` and `weight_decay` were heuristically tuned until fine-tuning has become stable. Note that those parameters strongly depend on the Common Voice dataset and might be suboptimal for other speech datasets.\n",
        "\n",
        "For more explanations on other parameters, one can take a look at the [docs](https://huggingface.co/transformers/master/main_classes/trainer.html?highlight=trainer#trainingarguments).\n",
        "\n",
        "During training, a checkpoint will be uploaded asynchronously to the hub every 400 training steps. It allows you to also play around with the demo widget even while your model is still training.\n",
        "\n",
        "**Note**: If one does not want to upload the model checkpoints to the hub, simply set `push_to_hub=False`."
      ]
    },
    {
      "cell_type": "code",
      "metadata": {
        "id": "KbeKSV7uzGPP",
        "colab": {
          "base_uri": "https://localhost:8080/"
        },
        "outputId": "f62da25b-55d8-479c-95f0-7f1871c12f98"
      },
      "source": [
        "from transformers import TrainingArguments\n",
        "\n",
        "training_args = TrainingArguments(\n",
        "  output_dir=repo_name,\n",
        "  group_by_length=True,\n",
        "  per_device_train_batch_size=16,\n",
        "  gradient_accumulation_steps=2,\n",
        "  evaluation_strategy=\"steps\",\n",
        "  num_train_epochs=30,\n",
        "  gradient_checkpointing=True,\n",
        "  fp16=True,\n",
        "  save_steps=-1,\n",
        "  eval_steps=1,\n",
        "  logging_steps=1,\n",
        "  learning_rate=3e-4,\n",
        "  warmup_steps=20,\n",
        "  save_total_limit=2,\n",
        "  push_to_hub=True,\n",
        ")"
      ],
      "execution_count": 64,
      "outputs": [
        {
          "output_type": "stream",
          "name": "stderr",
          "text": [
            "PyTorch: setting up devices\n",
            "The default value for the training argument `--report_to` will change in v5 (from all installed integrations to none). In v5, you will need to use `--report_to all` to get the same behavior as now. You should start updating your code and make this info disappear :-).\n"
          ]
        }
      ]
    },
    {
      "cell_type": "markdown",
      "metadata": {
        "id": "OsW-WZcL1ZtN"
      },
      "source": [
        "Now, all instances can be passed to Trainer and we are ready to start training!"
      ]
    },
    {
      "cell_type": "code",
      "metadata": {
        "colab": {
          "base_uri": "https://localhost:8080/"
        },
        "id": "rY7vBmFCPFgC",
        "outputId": "bde168d1-8e67-4483-ad40-983c5bdad9a4"
      },
      "source": [
        "from transformers import Trainer\n",
        "\n",
        "trainer = Trainer(\n",
        "    model=model,\n",
        "    data_collator=data_collator,\n",
        "    args=training_args,\n",
        "    compute_metrics=compute_metrics,\n",
        "    train_dataset=common_voice_train,\n",
        "    eval_dataset=common_voice_test,\n",
        "    tokenizer=processor.feature_extractor,\n",
        ")"
      ],
      "execution_count": 65,
      "outputs": [
        {
          "output_type": "stream",
          "name": "stderr",
          "text": [
            "/usr/local/lib/python3.7/dist-packages/huggingface_hub/hf_api.py:718: FutureWarning: `create_repo` now takes `token` as an optional positional argument. Be sure to adapt your code!\n",
            "  FutureWarning,\n",
            "/content/wav2vec2-large-xls-r-300m-hindi is already a clone of https://huggingface.co/gagan3012/wav2vec2-large-xls-r-300m-hindi. Make sure you pull the latest changes with `repo.git_pull()`.\n",
            "Using amp fp16 backend\n"
          ]
        }
      ]
    },
    {
      "cell_type": "markdown",
      "metadata": {
        "id": "UoXBx1JAA0DX"
      },
      "source": [
        "\n",
        "\n",
        "---\n",
        "\n",
        "${}^1$ To allow models to become independent of the speaker rate, in CTC, consecutive tokens that are identical are simply grouped as a single token. However, the encoded labels should not be grouped when decoding since they don't correspond to the predicted tokens of the model, which is why the `group_tokens=False` parameter has to be passed. If we wouldn't pass this parameter a word like `\"hello\"` would incorrectly be encoded, and decoded as `\"helo\"`.\n",
        "\n",
        "${}^2$ The blank token allows the model to predict a word, such as `\"hello\"` by forcing it to insert the blank token between the two l's. A CTC-conform prediction of `\"hello\"` of our model would be `[PAD] [PAD] \"h\" \"e\" \"e\" \"l\" \"l\" [PAD] \"l\" \"o\" \"o\" [PAD]`."
      ]
    },
    {
      "cell_type": "markdown",
      "metadata": {
        "id": "rpvZHM1xReIW"
      },
      "source": [
        "### Training"
      ]
    },
    {
      "cell_type": "markdown",
      "metadata": {
        "id": "j-3oKSzZ1hGq"
      },
      "source": [
        "Training will take multiple hours depending on the GPU allocated to this notebook. While the trained model yields somewhat satisfying results on *Common Voice*'s test data of Turkish, it is by no means an optimally fine-tuned model. The purpose of this notebook is just to demonstrate how to fine-tune XLS-R on an ASR dataset.\n",
        "\n",
        "In case you want to use this google colab to fine-tune your model, you should make sure that your training doesn't stop due to inactivity. A simple hack to prevent this is to paste the following code into the console of this tab (*right mouse click -> inspect -> Console tab and insert code*)."
      ]
    },
    {
      "cell_type": "markdown",
      "metadata": {
        "id": "VYYAvgkW4P0m"
      },
      "source": [
        "```javascript\n",
        "function ConnectButton(){\n",
        "    console.log(\"Connect pushed\"); \n",
        "    document.querySelector(\"#top-toolbar > colab-connect-button\").shadowRoot.querySelector(\"#connect\").click() \n",
        "}\n",
        "setInterval(ConnectButton,60000);\n",
        "```"
      ]
    },
    {
      "cell_type": "markdown",
      "metadata": {
        "id": "7bGgLV2r0yvZ"
      },
      "source": [
        "Depending on what GPU was allocated to your google colab it might be possible that you are seeing an `\"out-of-memory\"` error here. In this case, it's probably best to reduce `per_device_train_batch_size` to 8 or even less and increase [`gradient_accumulation`](https://huggingface.co/transformers/master/main_classes/trainer.html#trainingarguments)."
      ]
    },
    {
      "cell_type": "code",
      "metadata": {
        "colab": {
          "base_uri": "https://localhost:8080/",
          "height": 1000
        },
        "id": "9fRr9TG5pGBl",
        "outputId": "ef8fc9d2-537e-4164-b929-0d9d39f749e0"
      },
      "source": [
        "trainer.train()"
      ],
      "execution_count": 66,
      "outputs": [
        {
          "output_type": "stream",
          "name": "stderr",
          "text": [
            "The following columns in the training set  don't have a corresponding argument in `Wav2Vec2ForCTC.forward` and have been ignored: input_length.\n",
            "***** Running training *****\n",
            "  Num examples = 292\n",
            "  Num Epochs = 30\n",
            "  Instantaneous batch size per device = 16\n",
            "  Total train batch size (w. parallel, distributed & accumulation) = 32\n",
            "  Gradient Accumulation steps = 2\n",
            "  Total optimization steps = 270\n",
            "/usr/local/lib/python3.7/dist-packages/transformers/models/wav2vec2/modeling_wav2vec2.py:882: UserWarning: __floordiv__ is deprecated, and its behavior will change in a future version of pytorch. It currently rounds toward 0 (like the 'trunc' function NOT 'floor'). This results in incorrect rounding for negative values. To keep the current behavior, use torch.div(a, b, rounding_mode='trunc'), or for actual floor division, use torch.div(a, b, rounding_mode='floor').\n",
            "  return (input_length - kernel_size) // stride + 1\n"
          ]
        },
        {
          "output_type": "display_data",
          "data": {
            "text/html": [
              "\n",
              "    <div>\n",
              "      \n",
              "      <progress value='5' max='270' style='width:300px; height:20px; vertical-align: middle;'></progress>\n",
              "      [  5/270 04:05 < 6:01:46, 0.01 it/s, Epoch 0.42/30]\n",
              "    </div>\n",
              "    <table border=\"1\" class=\"dataframe\">\n",
              "  <thead>\n",
              "    <tr style=\"text-align: left;\">\n",
              "      <th>Step</th>\n",
              "      <th>Training Loss</th>\n",
              "      <th>Validation Loss</th>\n",
              "      <th>Wer</th>\n",
              "    </tr>\n",
              "  </thead>\n",
              "  <tbody>\n",
              "    <tr>\n",
              "      <td>1</td>\n",
              "      <td>7.382100</td>\n",
              "      <td>11.017416</td>\n",
              "      <td>1.000000</td>\n",
              "    </tr>\n",
              "    <tr>\n",
              "      <td>2</td>\n",
              "      <td>7.776000</td>\n",
              "      <td>11.017416</td>\n",
              "      <td>1.000000</td>\n",
              "    </tr>\n",
              "    <tr>\n",
              "      <td>3</td>\n",
              "      <td>6.643100</td>\n",
              "      <td>11.017416</td>\n",
              "      <td>1.000000</td>\n",
              "    </tr>\n",
              "    <tr>\n",
              "      <td>4</td>\n",
              "      <td>7.217700</td>\n",
              "      <td>11.073416</td>\n",
              "      <td>1.000000</td>\n",
              "    </tr>\n",
              "  </tbody>\n",
              "</table><p>"
            ],
            "text/plain": [
              "<IPython.core.display.HTML object>"
            ]
          },
          "metadata": {}
        },
        {
          "output_type": "stream",
          "name": "stderr",
          "text": [
            "The following columns in the evaluation set  don't have a corresponding argument in `Wav2Vec2ForCTC.forward` and have been ignored: input_length.\n",
            "***** Running Evaluation *****\n",
            "  Num examples = 127\n",
            "  Batch size = 8\n",
            "The following columns in the evaluation set  don't have a corresponding argument in `Wav2Vec2ForCTC.forward` and have been ignored: input_length.\n",
            "***** Running Evaluation *****\n",
            "  Num examples = 127\n",
            "  Batch size = 8\n",
            "The following columns in the evaluation set  don't have a corresponding argument in `Wav2Vec2ForCTC.forward` and have been ignored: input_length.\n",
            "***** Running Evaluation *****\n",
            "  Num examples = 127\n",
            "  Batch size = 8\n",
            "The following columns in the evaluation set  don't have a corresponding argument in `Wav2Vec2ForCTC.forward` and have been ignored: input_length.\n",
            "***** Running Evaluation *****\n",
            "  Num examples = 127\n",
            "  Batch size = 8\n"
          ]
        },
        {
          "output_type": "error",
          "ename": "RuntimeError",
          "evalue": "ignored",
          "traceback": [
            "\u001b[0;31m---------------------------------------------------------------------------\u001b[0m",
            "\u001b[0;31mRuntimeError\u001b[0m                              Traceback (most recent call last)",
            "\u001b[0;32m<ipython-input-66-3435b262f1ae>\u001b[0m in \u001b[0;36m<module>\u001b[0;34m()\u001b[0m\n\u001b[0;32m----> 1\u001b[0;31m \u001b[0mtrainer\u001b[0m\u001b[0;34m.\u001b[0m\u001b[0mtrain\u001b[0m\u001b[0;34m(\u001b[0m\u001b[0;34m)\u001b[0m\u001b[0;34m\u001b[0m\u001b[0;34m\u001b[0m\u001b[0m\n\u001b[0m",
            "\u001b[0;32m/usr/local/lib/python3.7/dist-packages/transformers/trainer.py\u001b[0m in \u001b[0;36mtrain\u001b[0;34m(self, resume_from_checkpoint, trial, ignore_keys_for_eval, **kwargs)\u001b[0m\n\u001b[1;32m   1314\u001b[0m                         \u001b[0mtr_loss_step\u001b[0m \u001b[0;34m=\u001b[0m \u001b[0mself\u001b[0m\u001b[0;34m.\u001b[0m\u001b[0mtraining_step\u001b[0m\u001b[0;34m(\u001b[0m\u001b[0mmodel\u001b[0m\u001b[0;34m,\u001b[0m \u001b[0minputs\u001b[0m\u001b[0;34m)\u001b[0m\u001b[0;34m\u001b[0m\u001b[0;34m\u001b[0m\u001b[0m\n\u001b[1;32m   1315\u001b[0m                 \u001b[0;32melse\u001b[0m\u001b[0;34m:\u001b[0m\u001b[0;34m\u001b[0m\u001b[0;34m\u001b[0m\u001b[0m\n\u001b[0;32m-> 1316\u001b[0;31m                     \u001b[0mtr_loss_step\u001b[0m \u001b[0;34m=\u001b[0m \u001b[0mself\u001b[0m\u001b[0;34m.\u001b[0m\u001b[0mtraining_step\u001b[0m\u001b[0;34m(\u001b[0m\u001b[0mmodel\u001b[0m\u001b[0;34m,\u001b[0m \u001b[0minputs\u001b[0m\u001b[0;34m)\u001b[0m\u001b[0;34m\u001b[0m\u001b[0;34m\u001b[0m\u001b[0m\n\u001b[0m\u001b[1;32m   1317\u001b[0m \u001b[0;34m\u001b[0m\u001b[0m\n\u001b[1;32m   1318\u001b[0m                 if (\n",
            "\u001b[0;32m/usr/local/lib/python3.7/dist-packages/transformers/trainer.py\u001b[0m in \u001b[0;36mtraining_step\u001b[0;34m(self, model, inputs)\u001b[0m\n\u001b[1;32m   1845\u001b[0m         \u001b[0;32mif\u001b[0m \u001b[0mself\u001b[0m\u001b[0;34m.\u001b[0m\u001b[0muse_amp\u001b[0m\u001b[0;34m:\u001b[0m\u001b[0;34m\u001b[0m\u001b[0;34m\u001b[0m\u001b[0m\n\u001b[1;32m   1846\u001b[0m             \u001b[0;32mwith\u001b[0m \u001b[0mautocast\u001b[0m\u001b[0;34m(\u001b[0m\u001b[0;34m)\u001b[0m\u001b[0;34m:\u001b[0m\u001b[0;34m\u001b[0m\u001b[0;34m\u001b[0m\u001b[0m\n\u001b[0;32m-> 1847\u001b[0;31m                 \u001b[0mloss\u001b[0m \u001b[0;34m=\u001b[0m \u001b[0mself\u001b[0m\u001b[0;34m.\u001b[0m\u001b[0mcompute_loss\u001b[0m\u001b[0;34m(\u001b[0m\u001b[0mmodel\u001b[0m\u001b[0;34m,\u001b[0m \u001b[0minputs\u001b[0m\u001b[0;34m)\u001b[0m\u001b[0;34m\u001b[0m\u001b[0;34m\u001b[0m\u001b[0m\n\u001b[0m\u001b[1;32m   1848\u001b[0m         \u001b[0;32melse\u001b[0m\u001b[0;34m:\u001b[0m\u001b[0;34m\u001b[0m\u001b[0;34m\u001b[0m\u001b[0m\n\u001b[1;32m   1849\u001b[0m             \u001b[0mloss\u001b[0m \u001b[0;34m=\u001b[0m \u001b[0mself\u001b[0m\u001b[0;34m.\u001b[0m\u001b[0mcompute_loss\u001b[0m\u001b[0;34m(\u001b[0m\u001b[0mmodel\u001b[0m\u001b[0;34m,\u001b[0m \u001b[0minputs\u001b[0m\u001b[0;34m)\u001b[0m\u001b[0;34m\u001b[0m\u001b[0;34m\u001b[0m\u001b[0m\n",
            "\u001b[0;32m/usr/local/lib/python3.7/dist-packages/transformers/trainer.py\u001b[0m in \u001b[0;36mcompute_loss\u001b[0;34m(self, model, inputs, return_outputs)\u001b[0m\n\u001b[1;32m   1879\u001b[0m         \u001b[0;32melse\u001b[0m\u001b[0;34m:\u001b[0m\u001b[0;34m\u001b[0m\u001b[0;34m\u001b[0m\u001b[0m\n\u001b[1;32m   1880\u001b[0m             \u001b[0mlabels\u001b[0m \u001b[0;34m=\u001b[0m \u001b[0;32mNone\u001b[0m\u001b[0;34m\u001b[0m\u001b[0;34m\u001b[0m\u001b[0m\n\u001b[0;32m-> 1881\u001b[0;31m         \u001b[0moutputs\u001b[0m \u001b[0;34m=\u001b[0m \u001b[0mmodel\u001b[0m\u001b[0;34m(\u001b[0m\u001b[0;34m**\u001b[0m\u001b[0minputs\u001b[0m\u001b[0;34m)\u001b[0m\u001b[0;34m\u001b[0m\u001b[0;34m\u001b[0m\u001b[0m\n\u001b[0m\u001b[1;32m   1882\u001b[0m         \u001b[0;31m# Save past state if it exists\u001b[0m\u001b[0;34m\u001b[0m\u001b[0;34m\u001b[0m\u001b[0;34m\u001b[0m\u001b[0m\n\u001b[1;32m   1883\u001b[0m         \u001b[0;31m# TODO: this needs to be fixed and made cleaner later.\u001b[0m\u001b[0;34m\u001b[0m\u001b[0;34m\u001b[0m\u001b[0;34m\u001b[0m\u001b[0m\n",
            "\u001b[0;32m/usr/local/lib/python3.7/dist-packages/torch/nn/modules/module.py\u001b[0m in \u001b[0;36m_call_impl\u001b[0;34m(self, *input, **kwargs)\u001b[0m\n\u001b[1;32m   1100\u001b[0m         if not (self._backward_hooks or self._forward_hooks or self._forward_pre_hooks or _global_backward_hooks\n\u001b[1;32m   1101\u001b[0m                 or _global_forward_hooks or _global_forward_pre_hooks):\n\u001b[0;32m-> 1102\u001b[0;31m             \u001b[0;32mreturn\u001b[0m \u001b[0mforward_call\u001b[0m\u001b[0;34m(\u001b[0m\u001b[0;34m*\u001b[0m\u001b[0minput\u001b[0m\u001b[0;34m,\u001b[0m \u001b[0;34m**\u001b[0m\u001b[0mkwargs\u001b[0m\u001b[0;34m)\u001b[0m\u001b[0;34m\u001b[0m\u001b[0;34m\u001b[0m\u001b[0m\n\u001b[0m\u001b[1;32m   1103\u001b[0m         \u001b[0;31m# Do not call functions when jit is used\u001b[0m\u001b[0;34m\u001b[0m\u001b[0;34m\u001b[0m\u001b[0;34m\u001b[0m\u001b[0m\n\u001b[1;32m   1104\u001b[0m         \u001b[0mfull_backward_hooks\u001b[0m\u001b[0;34m,\u001b[0m \u001b[0mnon_full_backward_hooks\u001b[0m \u001b[0;34m=\u001b[0m \u001b[0;34m[\u001b[0m\u001b[0;34m]\u001b[0m\u001b[0;34m,\u001b[0m \u001b[0;34m[\u001b[0m\u001b[0;34m]\u001b[0m\u001b[0;34m\u001b[0m\u001b[0;34m\u001b[0m\u001b[0m\n",
            "\u001b[0;32m/usr/local/lib/python3.7/dist-packages/transformers/models/wav2vec2/modeling_wav2vec2.py\u001b[0m in \u001b[0;36mforward\u001b[0;34m(self, input_values, attention_mask, output_attentions, output_hidden_states, return_dict, labels)\u001b[0m\n\u001b[1;32m   1497\u001b[0m             \u001b[0moutput_attentions\u001b[0m\u001b[0;34m=\u001b[0m\u001b[0moutput_attentions\u001b[0m\u001b[0;34m,\u001b[0m\u001b[0;34m\u001b[0m\u001b[0;34m\u001b[0m\u001b[0m\n\u001b[1;32m   1498\u001b[0m             \u001b[0moutput_hidden_states\u001b[0m\u001b[0;34m=\u001b[0m\u001b[0moutput_hidden_states\u001b[0m\u001b[0;34m,\u001b[0m\u001b[0;34m\u001b[0m\u001b[0;34m\u001b[0m\u001b[0m\n\u001b[0;32m-> 1499\u001b[0;31m             \u001b[0mreturn_dict\u001b[0m\u001b[0;34m=\u001b[0m\u001b[0mreturn_dict\u001b[0m\u001b[0;34m,\u001b[0m\u001b[0;34m\u001b[0m\u001b[0;34m\u001b[0m\u001b[0m\n\u001b[0m\u001b[1;32m   1500\u001b[0m         )\n\u001b[1;32m   1501\u001b[0m \u001b[0;34m\u001b[0m\u001b[0m\n",
            "\u001b[0;32m/usr/local/lib/python3.7/dist-packages/torch/nn/modules/module.py\u001b[0m in \u001b[0;36m_call_impl\u001b[0;34m(self, *input, **kwargs)\u001b[0m\n\u001b[1;32m   1100\u001b[0m         if not (self._backward_hooks or self._forward_hooks or self._forward_pre_hooks or _global_backward_hooks\n\u001b[1;32m   1101\u001b[0m                 or _global_forward_hooks or _global_forward_pre_hooks):\n\u001b[0;32m-> 1102\u001b[0;31m             \u001b[0;32mreturn\u001b[0m \u001b[0mforward_call\u001b[0m\u001b[0;34m(\u001b[0m\u001b[0;34m*\u001b[0m\u001b[0minput\u001b[0m\u001b[0;34m,\u001b[0m \u001b[0;34m**\u001b[0m\u001b[0mkwargs\u001b[0m\u001b[0;34m)\u001b[0m\u001b[0;34m\u001b[0m\u001b[0;34m\u001b[0m\u001b[0m\n\u001b[0m\u001b[1;32m   1103\u001b[0m         \u001b[0;31m# Do not call functions when jit is used\u001b[0m\u001b[0;34m\u001b[0m\u001b[0;34m\u001b[0m\u001b[0;34m\u001b[0m\u001b[0m\n\u001b[1;32m   1104\u001b[0m         \u001b[0mfull_backward_hooks\u001b[0m\u001b[0;34m,\u001b[0m \u001b[0mnon_full_backward_hooks\u001b[0m \u001b[0;34m=\u001b[0m \u001b[0;34m[\u001b[0m\u001b[0;34m]\u001b[0m\u001b[0;34m,\u001b[0m \u001b[0;34m[\u001b[0m\u001b[0;34m]\u001b[0m\u001b[0;34m\u001b[0m\u001b[0;34m\u001b[0m\u001b[0m\n",
            "\u001b[0;32m/usr/local/lib/python3.7/dist-packages/transformers/models/wav2vec2/modeling_wav2vec2.py\u001b[0m in \u001b[0;36mforward\u001b[0;34m(self, input_values, attention_mask, mask_time_indices, output_attentions, output_hidden_states, return_dict)\u001b[0m\n\u001b[1;32m   1062\u001b[0m         \u001b[0mreturn_dict\u001b[0m \u001b[0;34m=\u001b[0m \u001b[0mreturn_dict\u001b[0m \u001b[0;32mif\u001b[0m \u001b[0mreturn_dict\u001b[0m \u001b[0;32mis\u001b[0m \u001b[0;32mnot\u001b[0m \u001b[0;32mNone\u001b[0m \u001b[0;32melse\u001b[0m \u001b[0mself\u001b[0m\u001b[0;34m.\u001b[0m\u001b[0mconfig\u001b[0m\u001b[0;34m.\u001b[0m\u001b[0muse_return_dict\u001b[0m\u001b[0;34m\u001b[0m\u001b[0;34m\u001b[0m\u001b[0m\n\u001b[1;32m   1063\u001b[0m \u001b[0;34m\u001b[0m\u001b[0m\n\u001b[0;32m-> 1064\u001b[0;31m         \u001b[0mextract_features\u001b[0m \u001b[0;34m=\u001b[0m \u001b[0mself\u001b[0m\u001b[0;34m.\u001b[0m\u001b[0mfeature_extractor\u001b[0m\u001b[0;34m(\u001b[0m\u001b[0minput_values\u001b[0m\u001b[0;34m)\u001b[0m\u001b[0;34m\u001b[0m\u001b[0;34m\u001b[0m\u001b[0m\n\u001b[0m\u001b[1;32m   1065\u001b[0m         \u001b[0mextract_features\u001b[0m \u001b[0;34m=\u001b[0m \u001b[0mextract_features\u001b[0m\u001b[0;34m.\u001b[0m\u001b[0mtranspose\u001b[0m\u001b[0;34m(\u001b[0m\u001b[0;36m1\u001b[0m\u001b[0;34m,\u001b[0m \u001b[0;36m2\u001b[0m\u001b[0;34m)\u001b[0m\u001b[0;34m\u001b[0m\u001b[0;34m\u001b[0m\u001b[0m\n\u001b[1;32m   1066\u001b[0m \u001b[0;34m\u001b[0m\u001b[0m\n",
            "\u001b[0;32m/usr/local/lib/python3.7/dist-packages/torch/nn/modules/module.py\u001b[0m in \u001b[0;36m_call_impl\u001b[0;34m(self, *input, **kwargs)\u001b[0m\n\u001b[1;32m   1100\u001b[0m         if not (self._backward_hooks or self._forward_hooks or self._forward_pre_hooks or _global_backward_hooks\n\u001b[1;32m   1101\u001b[0m                 or _global_forward_hooks or _global_forward_pre_hooks):\n\u001b[0;32m-> 1102\u001b[0;31m             \u001b[0;32mreturn\u001b[0m \u001b[0mforward_call\u001b[0m\u001b[0;34m(\u001b[0m\u001b[0;34m*\u001b[0m\u001b[0minput\u001b[0m\u001b[0;34m,\u001b[0m \u001b[0;34m**\u001b[0m\u001b[0mkwargs\u001b[0m\u001b[0;34m)\u001b[0m\u001b[0;34m\u001b[0m\u001b[0;34m\u001b[0m\u001b[0m\n\u001b[0m\u001b[1;32m   1103\u001b[0m         \u001b[0;31m# Do not call functions when jit is used\u001b[0m\u001b[0;34m\u001b[0m\u001b[0;34m\u001b[0m\u001b[0;34m\u001b[0m\u001b[0m\n\u001b[1;32m   1104\u001b[0m         \u001b[0mfull_backward_hooks\u001b[0m\u001b[0;34m,\u001b[0m \u001b[0mnon_full_backward_hooks\u001b[0m \u001b[0;34m=\u001b[0m \u001b[0;34m[\u001b[0m\u001b[0;34m]\u001b[0m\u001b[0;34m,\u001b[0m \u001b[0;34m[\u001b[0m\u001b[0;34m]\u001b[0m\u001b[0;34m\u001b[0m\u001b[0;34m\u001b[0m\u001b[0m\n",
            "\u001b[0;32m/usr/local/lib/python3.7/dist-packages/transformers/models/wav2vec2/modeling_wav2vec2.py\u001b[0m in \u001b[0;36mforward\u001b[0;34m(self, input_values)\u001b[0m\n\u001b[1;32m    335\u001b[0m         \u001b[0mhidden_states\u001b[0m \u001b[0;34m=\u001b[0m \u001b[0minput_values\u001b[0m\u001b[0;34m[\u001b[0m\u001b[0;34m:\u001b[0m\u001b[0;34m,\u001b[0m \u001b[0;32mNone\u001b[0m\u001b[0;34m]\u001b[0m\u001b[0;34m\u001b[0m\u001b[0;34m\u001b[0m\u001b[0m\n\u001b[1;32m    336\u001b[0m         \u001b[0;32mfor\u001b[0m \u001b[0mconv_layer\u001b[0m \u001b[0;32min\u001b[0m \u001b[0mself\u001b[0m\u001b[0;34m.\u001b[0m\u001b[0mconv_layers\u001b[0m\u001b[0;34m:\u001b[0m\u001b[0;34m\u001b[0m\u001b[0;34m\u001b[0m\u001b[0m\n\u001b[0;32m--> 337\u001b[0;31m             \u001b[0mhidden_states\u001b[0m \u001b[0;34m=\u001b[0m \u001b[0mconv_layer\u001b[0m\u001b[0;34m(\u001b[0m\u001b[0mhidden_states\u001b[0m\u001b[0;34m)\u001b[0m\u001b[0;34m\u001b[0m\u001b[0;34m\u001b[0m\u001b[0m\n\u001b[0m\u001b[1;32m    338\u001b[0m \u001b[0;34m\u001b[0m\u001b[0m\n\u001b[1;32m    339\u001b[0m         \u001b[0;32mreturn\u001b[0m \u001b[0mhidden_states\u001b[0m\u001b[0;34m\u001b[0m\u001b[0;34m\u001b[0m\u001b[0m\n",
            "\u001b[0;32m/usr/local/lib/python3.7/dist-packages/torch/nn/modules/module.py\u001b[0m in \u001b[0;36m_call_impl\u001b[0;34m(self, *input, **kwargs)\u001b[0m\n\u001b[1;32m   1100\u001b[0m         if not (self._backward_hooks or self._forward_hooks or self._forward_pre_hooks or _global_backward_hooks\n\u001b[1;32m   1101\u001b[0m                 or _global_forward_hooks or _global_forward_pre_hooks):\n\u001b[0;32m-> 1102\u001b[0;31m             \u001b[0;32mreturn\u001b[0m \u001b[0mforward_call\u001b[0m\u001b[0;34m(\u001b[0m\u001b[0;34m*\u001b[0m\u001b[0minput\u001b[0m\u001b[0;34m,\u001b[0m \u001b[0;34m**\u001b[0m\u001b[0mkwargs\u001b[0m\u001b[0;34m)\u001b[0m\u001b[0;34m\u001b[0m\u001b[0;34m\u001b[0m\u001b[0m\n\u001b[0m\u001b[1;32m   1103\u001b[0m         \u001b[0;31m# Do not call functions when jit is used\u001b[0m\u001b[0;34m\u001b[0m\u001b[0;34m\u001b[0m\u001b[0;34m\u001b[0m\u001b[0m\n\u001b[1;32m   1104\u001b[0m         \u001b[0mfull_backward_hooks\u001b[0m\u001b[0;34m,\u001b[0m \u001b[0mnon_full_backward_hooks\u001b[0m \u001b[0;34m=\u001b[0m \u001b[0;34m[\u001b[0m\u001b[0;34m]\u001b[0m\u001b[0;34m,\u001b[0m \u001b[0;34m[\u001b[0m\u001b[0;34m]\u001b[0m\u001b[0;34m\u001b[0m\u001b[0;34m\u001b[0m\u001b[0m\n",
            "\u001b[0;32m/usr/local/lib/python3.7/dist-packages/transformers/models/wav2vec2/modeling_wav2vec2.py\u001b[0m in \u001b[0;36mforward\u001b[0;34m(self, hidden_states)\u001b[0m\n\u001b[1;32m    231\u001b[0m \u001b[0;34m\u001b[0m\u001b[0m\n\u001b[1;32m    232\u001b[0m         \u001b[0mhidden_states\u001b[0m \u001b[0;34m=\u001b[0m \u001b[0mhidden_states\u001b[0m\u001b[0;34m.\u001b[0m\u001b[0mtranspose\u001b[0m\u001b[0;34m(\u001b[0m\u001b[0;34m-\u001b[0m\u001b[0;36m2\u001b[0m\u001b[0;34m,\u001b[0m \u001b[0;34m-\u001b[0m\u001b[0;36m1\u001b[0m\u001b[0;34m)\u001b[0m\u001b[0;34m\u001b[0m\u001b[0;34m\u001b[0m\u001b[0m\n\u001b[0;32m--> 233\u001b[0;31m         \u001b[0mhidden_states\u001b[0m \u001b[0;34m=\u001b[0m \u001b[0mself\u001b[0m\u001b[0;34m.\u001b[0m\u001b[0mlayer_norm\u001b[0m\u001b[0;34m(\u001b[0m\u001b[0mhidden_states\u001b[0m\u001b[0;34m)\u001b[0m\u001b[0;34m\u001b[0m\u001b[0;34m\u001b[0m\u001b[0m\n\u001b[0m\u001b[1;32m    234\u001b[0m         \u001b[0mhidden_states\u001b[0m \u001b[0;34m=\u001b[0m \u001b[0mhidden_states\u001b[0m\u001b[0;34m.\u001b[0m\u001b[0mtranspose\u001b[0m\u001b[0;34m(\u001b[0m\u001b[0;34m-\u001b[0m\u001b[0;36m2\u001b[0m\u001b[0;34m,\u001b[0m \u001b[0;34m-\u001b[0m\u001b[0;36m1\u001b[0m\u001b[0;34m)\u001b[0m\u001b[0;34m\u001b[0m\u001b[0;34m\u001b[0m\u001b[0m\n\u001b[1;32m    235\u001b[0m \u001b[0;34m\u001b[0m\u001b[0m\n",
            "\u001b[0;32m/usr/local/lib/python3.7/dist-packages/torch/nn/modules/module.py\u001b[0m in \u001b[0;36m_call_impl\u001b[0;34m(self, *input, **kwargs)\u001b[0m\n\u001b[1;32m   1100\u001b[0m         if not (self._backward_hooks or self._forward_hooks or self._forward_pre_hooks or _global_backward_hooks\n\u001b[1;32m   1101\u001b[0m                 or _global_forward_hooks or _global_forward_pre_hooks):\n\u001b[0;32m-> 1102\u001b[0;31m             \u001b[0;32mreturn\u001b[0m \u001b[0mforward_call\u001b[0m\u001b[0;34m(\u001b[0m\u001b[0;34m*\u001b[0m\u001b[0minput\u001b[0m\u001b[0;34m,\u001b[0m \u001b[0;34m**\u001b[0m\u001b[0mkwargs\u001b[0m\u001b[0;34m)\u001b[0m\u001b[0;34m\u001b[0m\u001b[0;34m\u001b[0m\u001b[0m\n\u001b[0m\u001b[1;32m   1103\u001b[0m         \u001b[0;31m# Do not call functions when jit is used\u001b[0m\u001b[0;34m\u001b[0m\u001b[0;34m\u001b[0m\u001b[0;34m\u001b[0m\u001b[0m\n\u001b[1;32m   1104\u001b[0m         \u001b[0mfull_backward_hooks\u001b[0m\u001b[0;34m,\u001b[0m \u001b[0mnon_full_backward_hooks\u001b[0m \u001b[0;34m=\u001b[0m \u001b[0;34m[\u001b[0m\u001b[0;34m]\u001b[0m\u001b[0;34m,\u001b[0m \u001b[0;34m[\u001b[0m\u001b[0;34m]\u001b[0m\u001b[0;34m\u001b[0m\u001b[0;34m\u001b[0m\u001b[0m\n",
            "\u001b[0;32m/usr/local/lib/python3.7/dist-packages/torch/nn/modules/normalization.py\u001b[0m in \u001b[0;36mforward\u001b[0;34m(self, input)\u001b[0m\n\u001b[1;32m    188\u001b[0m     \u001b[0;32mdef\u001b[0m \u001b[0mforward\u001b[0m\u001b[0;34m(\u001b[0m\u001b[0mself\u001b[0m\u001b[0;34m,\u001b[0m \u001b[0minput\u001b[0m\u001b[0;34m:\u001b[0m \u001b[0mTensor\u001b[0m\u001b[0;34m)\u001b[0m \u001b[0;34m->\u001b[0m \u001b[0mTensor\u001b[0m\u001b[0;34m:\u001b[0m\u001b[0;34m\u001b[0m\u001b[0;34m\u001b[0m\u001b[0m\n\u001b[1;32m    189\u001b[0m         return F.layer_norm(\n\u001b[0;32m--> 190\u001b[0;31m             input, self.normalized_shape, self.weight, self.bias, self.eps)\n\u001b[0m\u001b[1;32m    191\u001b[0m \u001b[0;34m\u001b[0m\u001b[0m\n\u001b[1;32m    192\u001b[0m     \u001b[0;32mdef\u001b[0m \u001b[0mextra_repr\u001b[0m\u001b[0;34m(\u001b[0m\u001b[0mself\u001b[0m\u001b[0;34m)\u001b[0m \u001b[0;34m->\u001b[0m \u001b[0mstr\u001b[0m\u001b[0;34m:\u001b[0m\u001b[0;34m\u001b[0m\u001b[0;34m\u001b[0m\u001b[0m\n",
            "\u001b[0;32m/usr/local/lib/python3.7/dist-packages/torch/nn/functional.py\u001b[0m in \u001b[0;36mlayer_norm\u001b[0;34m(input, normalized_shape, weight, bias, eps)\u001b[0m\n\u001b[1;32m   2345\u001b[0m             \u001b[0mlayer_norm\u001b[0m\u001b[0;34m,\u001b[0m \u001b[0;34m(\u001b[0m\u001b[0minput\u001b[0m\u001b[0;34m,\u001b[0m \u001b[0mweight\u001b[0m\u001b[0;34m,\u001b[0m \u001b[0mbias\u001b[0m\u001b[0;34m)\u001b[0m\u001b[0;34m,\u001b[0m \u001b[0minput\u001b[0m\u001b[0;34m,\u001b[0m \u001b[0mnormalized_shape\u001b[0m\u001b[0;34m,\u001b[0m \u001b[0mweight\u001b[0m\u001b[0;34m=\u001b[0m\u001b[0mweight\u001b[0m\u001b[0;34m,\u001b[0m \u001b[0mbias\u001b[0m\u001b[0;34m=\u001b[0m\u001b[0mbias\u001b[0m\u001b[0;34m,\u001b[0m \u001b[0meps\u001b[0m\u001b[0;34m=\u001b[0m\u001b[0meps\u001b[0m\u001b[0;34m\u001b[0m\u001b[0;34m\u001b[0m\u001b[0m\n\u001b[1;32m   2346\u001b[0m         )\n\u001b[0;32m-> 2347\u001b[0;31m     \u001b[0;32mreturn\u001b[0m \u001b[0mtorch\u001b[0m\u001b[0;34m.\u001b[0m\u001b[0mlayer_norm\u001b[0m\u001b[0;34m(\u001b[0m\u001b[0minput\u001b[0m\u001b[0;34m,\u001b[0m \u001b[0mnormalized_shape\u001b[0m\u001b[0;34m,\u001b[0m \u001b[0mweight\u001b[0m\u001b[0;34m,\u001b[0m \u001b[0mbias\u001b[0m\u001b[0;34m,\u001b[0m \u001b[0meps\u001b[0m\u001b[0;34m,\u001b[0m \u001b[0mtorch\u001b[0m\u001b[0;34m.\u001b[0m\u001b[0mbackends\u001b[0m\u001b[0;34m.\u001b[0m\u001b[0mcudnn\u001b[0m\u001b[0;34m.\u001b[0m\u001b[0menabled\u001b[0m\u001b[0;34m)\u001b[0m\u001b[0;34m\u001b[0m\u001b[0;34m\u001b[0m\u001b[0m\n\u001b[0m\u001b[1;32m   2348\u001b[0m \u001b[0;34m\u001b[0m\u001b[0m\n\u001b[1;32m   2349\u001b[0m \u001b[0;34m\u001b[0m\u001b[0m\n",
            "\u001b[0;31mRuntimeError\u001b[0m: CUDA out of memory. Tried to allocate 750.00 MiB (GPU 0; 11.17 GiB total capacity; 8.87 GiB already allocated; 611.81 MiB free; 9.95 GiB reserved in total by PyTorch) If reserved memory is >> allocated memory try setting max_split_size_mb to avoid fragmentation.  See documentation for Memory Management and PYTORCH_CUDA_ALLOC_CONF"
          ]
        }
      ]
    },
    {
      "cell_type": "markdown",
      "metadata": {
        "id": "a9q4mgMZplr_"
      },
      "source": [
        "The training loss and validation WER go down nicely."
      ]
    },
    {
      "cell_type": "markdown",
      "metadata": {
        "id": "4Ya7WEy0pd13"
      },
      "source": [
        "You can now upload the result of the training to the 🤗 Hub, just execute this instruction:"
      ]
    },
    {
      "cell_type": "code",
      "metadata": {
        "id": "ArG1Thf6NBWm"
      },
      "source": [
        "trainer.push_to_hub()"
      ],
      "execution_count": null,
      "outputs": []
    },
    {
      "cell_type": "markdown",
      "metadata": {
        "id": "RHIVc44_fY2N"
      },
      "source": [
        "You can now share this model with all your friends, family, favorite pets: they can all load it with the identifier \"your-username/the-name-you-picked\" so for instance:"
      ]
    },
    {
      "cell_type": "markdown",
      "metadata": {
        "id": "5lWWIKyBpx1h"
      },
      "source": [
        "```python\n",
        "from transformers import AutoModelForCTC, Wav2Vec2Processor\n",
        "\n",
        "model = AutoModelForCTC.from_pretrained(\"patrickvonplaten/wav2vec2-large-xls-r-300m-tr-colab\")\n",
        "processor = Wav2Vec2Processor.from_pretrained(\"patrickvonplaten/wav2vec2-large-xls-r-300m-tr-colab\")\n",
        "```"
      ]
    },
    {
      "cell_type": "markdown",
      "metadata": {
        "id": "pmi1cX0fRBit"
      },
      "source": [
        "For more examples of how XLS-R can be fine-tuned, please take a look at the [official speech recognition examples](https://github.com/huggingface/transformers/tree/master/examples/pytorch/speech-recognition#examples)."
      ]
    },
    {
      "cell_type": "markdown",
      "metadata": {
        "id": "L8b8Qkoy3KyS"
      },
      "source": [
        "### Evaluation\n",
        "\n",
        "As a final check, let's load the model and verify that it indeed has learned to transcribe Turkish speech.\n",
        "\n",
        "Let's first load the pretrained checkpoint."
      ]
    },
    {
      "cell_type": "code",
      "metadata": {
        "id": "R351I9IQp_9D"
      },
      "source": [
        "model = Wav2Vec2ForCTC.from_pretrained(repo_name).to(\"cuda\")\n",
        "processor = Wav2Vec2Processor.from_pretrained(repo_name)"
      ],
      "execution_count": null,
      "outputs": []
    },
    {
      "cell_type": "markdown",
      "metadata": {
        "id": "jD7TZ1YS3S_K"
      },
      "source": [
        "\n",
        "Now, we will just take the first example of the test set, run it through the model and take the `argmax(...)` of the logits to retrieve the predicted token ids."
      ]
    },
    {
      "cell_type": "code",
      "metadata": {
        "id": "pax07TnL3WZn"
      },
      "source": [
        "input_dict = processor(common_voice_test[0][\"input_values\"], return_tensors=\"pt\", padding=True)\n",
        "\n",
        "logits = model(input_dict.input_values.to(\"cuda\")).logits\n",
        "\n",
        "pred_ids = torch.argmax(logits, dim=-1)[0]"
      ],
      "execution_count": null,
      "outputs": []
    },
    {
      "cell_type": "markdown",
      "metadata": {
        "id": "7nkzSQu53Zs2"
      },
      "source": [
        "We adapted `common_voice_test` quite a bit so that the dataset instance does not contain the original sentence label anymore. Thus, we re-use the original dataset to get the label of the first example."
      ]
    },
    {
      "cell_type": "code",
      "metadata": {
        "id": "fe2AE-2xqKHx"
      },
      "source": [
        "common_voice_test_transcription = load_dataset(\"common_voice\", \"tr\", data_dir=\"./cv-corpus-6.1-2020-12-11\", split=\"test\")"
      ],
      "execution_count": null,
      "outputs": []
    },
    {
      "cell_type": "markdown",
      "metadata": {
        "id": "epu8kCQZ3h70"
      },
      "source": [
        "\n",
        "Finally, we can decode the example."
      ]
    },
    {
      "cell_type": "code",
      "metadata": {
        "id": "K4xWqmk_qMn0"
      },
      "source": [
        "print(\"Prediction:\")\n",
        "print(processor.decode(pred_ids))\n",
        "\n",
        "print(\"\\nReference:\")\n",
        "print(common_voice_test_transcription[0][\"sentence\"].lower())"
      ],
      "execution_count": null,
      "outputs": []
    },
    {
      "cell_type": "markdown",
      "metadata": {
        "id": "HwhyoMml3oOT"
      },
      "source": [
        "Alright! The transcription can definitely be recognized from our prediction, but it is not perfect yet. Training the model a bit longer, spending more time on the data preprocessing, and especially using a language model for decoding would certainly improve the model's overall performance.\n",
        "\n",
        "For a demonstration model on a low-resource language, the results are quite acceptable however 🤗."
      ]
    }
  ]
}