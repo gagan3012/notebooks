{
  "nbformat": 4,
  "nbformat_minor": 0,
  "metadata": {
    "colab": {
      "name": "Datapipelinek2s.ipynb",
      "provenance": [],
      "authorship_tag": "ABX9TyNFIue/kMFEvTaGjHVVbSJN",
      "include_colab_link": true
    },
    "kernelspec": {
      "name": "python3",
      "display_name": "Python 3"
    }
  },
  "cells": [
    {
      "cell_type": "markdown",
      "metadata": {
        "id": "view-in-github",
        "colab_type": "text"
      },
      "source": [
        "<a href=\"https://colab.research.google.com/github/gagan3012/keytotext/blob/master/Notebooks/Datapipelinek2s.ipynb\" target=\"_parent\"><img src=\"https://colab.research.google.com/assets/colab-badge.svg\" alt=\"Open In Colab\"/></a>"
      ]
    },
    {
      "cell_type": "code",
      "metadata": {
        "colab": {
          "base_uri": "https://localhost:8080/"
        },
        "id": "WKlWIrUYK-wN",
        "outputId": "7fd469a0-7798-416b-fd28-915e5c75336b"
      },
      "source": [
        "!pip install unidecode\r\n",
        "\r\n",
        "from xml.dom import minidom\r\n",
        "from pathlib import Path\r\n",
        "import re\r\n",
        "import unidecode\r\n",
        "import os\r\n",
        "import pandas as pd\r\n",
        "import glob\r\n"
      ],
      "execution_count": 13,
      "outputs": [
        {
          "output_type": "stream",
          "text": [
            "Requirement already satisfied: unidecode in /usr/local/lib/python3.7/dist-packages (1.2.0)\n"
          ],
          "name": "stdout"
        }
      ]
    },
    {
      "cell_type": "code",
      "metadata": {
        "id": "ZSmZyXVvLXl7"
      },
      "source": [
        "def clean_node(node):\r\n",
        "    node = node.strip()\r\n",
        "    node = node.replace('(', '')\r\n",
        "    node = node.replace('\\\"', '')\r\n",
        "    node = node.replace(')', '')\r\n",
        "    node = node.replace(',', ' ')\r\n",
        "    node = node.replace('_', ' ')\r\n",
        "    node = unidecode.unidecode(node)\r\n",
        "    return node"
      ],
      "execution_count": 14,
      "outputs": []
    },
    {
      "cell_type": "code",
      "metadata": {
        "id": "4qq4wuTWLnCZ"
      },
      "source": [
        "def clean_edge(edge):\r\n",
        "    edge = edge.replace('(', '')\r\n",
        "    edge = edge.replace(')', '')\r\n",
        "    edge = edge.strip()\r\n",
        "    edge = edge.split()\r\n",
        "    edge = \"_\".join(edge)\r\n",
        "    return edge"
      ],
      "execution_count": 15,
      "outputs": []
    },
    {
      "cell_type": "code",
      "metadata": {
        "id": "Pj_EFxq7Lpmw"
      },
      "source": [
        "def camel_case_split(text):\r\n",
        "    matches = re.finditer('.+?(?:(?<=[a-z])(?=[A-Z])|(?<=[A-Z])(?=[A-Z][a-z])|$)', text)\r\n",
        "    d = [m.group(0) for m in matches]\r\n",
        "    new_d = []\r\n",
        "    for token in d:\r\n",
        "        token = token.replace('(', '')\r\n",
        "        token_split = token.split('_')\r\n",
        "        for t in token_split:\r\n",
        "            new_d.append(t.lower())\r\n",
        "    return ' '.join(new_d)"
      ],
      "execution_count": 16,
      "outputs": []
    },
    {
      "cell_type": "code",
      "metadata": {
        "id": "ykA9L1yRLrgL"
      },
      "source": [
        "def process_triples(mtriples):\r\n",
        "    nodes = []\r\n",
        "\r\n",
        "    for triple in mtriples:\r\n",
        "        triple_text = triple.firstChild.nodeValue\r\n",
        "        individual_triples = triple_text.strip().split(' | ')\r\n",
        "        h = clean_node(individual_triples[0])\r\n",
        "        r = camel_case_split(clean_edge(individual_triples[1]))\r\n",
        "        t = clean_node(individual_triples[2])\r\n",
        "        \r\n",
        "        nodes.append('<H>')\r\n",
        "        nodes.extend(h.split())\r\n",
        "\r\n",
        "        nodes.append('<R>')\r\n",
        "        nodes.extend(r.split())\r\n",
        "\r\n",
        "        nodes.append('<T>')\r\n",
        "        nodes.extend(t.split())\r\n",
        "\r\n",
        "    return nodes"
      ],
      "execution_count": 17,
      "outputs": []
    },
    {
      "cell_type": "code",
      "metadata": {
        "id": "LHN5ilWLLufS"
      },
      "source": [
        "def get_data(file):\r\n",
        "    return_data = []\r\n",
        "    xmldoc = minidom.parse(file)\r\n",
        "    entries = xmldoc.getElementsByTagName('entry')\r\n",
        "    for e in entries:\r\n",
        "        mtriples = e.getElementsByTagName('mtriple')\r\n",
        "        nodes = ' '.join(process_triples(mtriples))\r\n",
        "        lexs = e.getElementsByTagName('lex')\r\n",
        "        for l in lexs:\r\n",
        "            l = l.firstChild.nodeValue.strip()\r\n",
        "            l = unidecode.unidecode(l)\r\n",
        "            return_data.append((nodes,l))\r\n",
        "    return return_data"
      ],
      "execution_count": 18,
      "outputs": []
    },
    {
      "cell_type": "code",
      "metadata": {
        "id": "sVor19GSLz_2"
      },
      "source": [
        "def get_file(files):\r\n",
        "  train_dict={\"input_text\":[], \"target_text\":[]}\r\n",
        "\r\n",
        "  for filename in files_train:\r\n",
        "    filename = str(filename)\r\n",
        "    data = get_data(filename)\r\n",
        "    for data_point in data:\r\n",
        "        input_text = data_point[0]\r\n",
        "        target_text = data_point[1]\r\n",
        "        train_dict['input_text'].append(input_text)\r\n",
        "        train_dict['target_text'].append(target_text)\r\n",
        "  return pd.DataFrame(train_dict)"
      ],
      "execution_count": 22,
      "outputs": []
    },
    {
      "cell_type": "code",
      "metadata": {
        "colab": {
          "base_uri": "https://localhost:8080/"
        },
        "id": "13Hu60NsMxl2",
        "outputId": "1165d778-d1ee-43a0-8413-a452c2eae4f0"
      },
      "source": [
        "!git clone https://gitlab.com/shimorina/webnlg-dataset.git"
      ],
      "execution_count": 10,
      "outputs": [
        {
          "output_type": "stream",
          "text": [
            "Cloning into 'webnlg-dataset'...\n",
            "remote: Enumerating objects: 5106, done.\u001b[K\n",
            "remote: Total 5106 (delta 0), reused 0 (delta 0), pack-reused 5106\u001b[K\n",
            "Receiving objects: 100% (5106/5106), 26.08 MiB | 18.37 MiB/s, done.\n",
            "Resolving deltas: 100% (4008/4008), done.\n",
            "Checking out files: 100% (1425/1425), done.\n"
          ],
          "name": "stdout"
        }
      ]
    },
    {
      "cell_type": "code",
      "metadata": {
        "id": "evvbxYOyMKVG"
      },
      "source": [
        "files_train = glob.glob(\"/content/webnlg-dataset/release_v3.0/en/train/**/*.xml\", recursive=True)\r\n",
        "files_test = glob.glob(\"/content/webnlg-dataset/release_v3.0/en/test/**/*.xml\", recursive=True)\r\n",
        "files_dev = glob.glob(\"/content/webnlg-dataset/release_v3.0/en/dev/**/*.xml\", recursive=True)"
      ],
      "execution_count": 20,
      "outputs": []
    },
    {
      "cell_type": "code",
      "metadata": {
        "id": "bkg7pS_3NNsd"
      },
      "source": [
        "train = get_file(files_train)\r\n",
        "dev = get_file(files_dev)\r\n",
        "test = get_file(files_test)"
      ],
      "execution_count": 23,
      "outputs": []
    },
    {
      "cell_type": "code",
      "metadata": {
        "id": "8LZlagYTNnJY"
      },
      "source": [
        "train.to_csv('./webnlg_train.csv', index=False)\r\n",
        "dev.to_csv('./webnlg_dev.csv', index=False)\r\n",
        "test.to_csv('./webnlg_test.csv', index=False)"
      ],
      "execution_count": 26,
      "outputs": []
    },
    {
      "cell_type": "code",
      "metadata": {
        "colab": {
          "base_uri": "https://localhost:8080/"
        },
        "id": "CmUuQiHMODTa",
        "outputId": "ef4ddff9-dbdd-4574-c143-c6d030e892fa"
      },
      "source": [
        "!git clone https://github.com/Yale-LILY/dart.git"
      ],
      "execution_count": 27,
      "outputs": [
        {
          "output_type": "stream",
          "text": [
            "Cloning into 'dart'...\n",
            "remote: Enumerating objects: 11376, done.\u001b[K\n",
            "remote: Counting objects: 100% (11376/11376), done.\u001b[K\n",
            "remote: Compressing objects: 100% (8918/8918), done.\u001b[K\n",
            "remote: Total 11613 (delta 2490), reused 11319 (delta 2437), pack-reused 237\n",
            "Receiving objects: 100% (11613/11613), 267.25 MiB | 35.96 MiB/s, done.\n",
            "Resolving deltas: 100% (2526/2526), done.\n",
            "Checking out files: 100% (1520/1520), done.\n"
          ],
          "name": "stdout"
        }
      ]
    },
    {
      "cell_type": "code",
      "metadata": {
        "id": "11q9z_NFP7jD"
      },
      "source": [
        "files_train = glob.glob(\"/content/dart/data/v1.1.1/dart-v1.1.1-full-train.xml\", recursive=True)\r\n",
        "files_test = glob.glob(\"/content/dart/data/v1.1.1/dart-v1.1.1-full-test.xml\", recursive=True)\r\n",
        "files_dev = glob.glob(\"/content/dart/data/v1.1.1/dart-v1.1.1-full-dev.xml\", recursive=True)"
      ],
      "execution_count": 28,
      "outputs": []
    },
    {
      "cell_type": "code",
      "metadata": {
        "id": "BjyPnxelQNPm"
      },
      "source": [
        "train = get_file(files_train)\r\n",
        "dev = get_file(files_dev)\r\n",
        "test = get_file(files_test)"
      ],
      "execution_count": 29,
      "outputs": []
    },
    {
      "cell_type": "code",
      "metadata": {
        "id": "8S9lTTuGQOmz"
      },
      "source": [
        "train.to_csv('./dart_train.csv', index=False)\r\n",
        "dev.to_csv('./dart_dev.csv', index=False)\r\n",
        "test.to_csv('./dart_test.csv', index=False)"
      ],
      "execution_count": 30,
      "outputs": []
    },
    {
      "cell_type": "code",
      "metadata": {
        "id": "qbGaprOvQWnG"
      },
      "source": [
        ""
      ],
      "execution_count": null,
      "outputs": []
    }
  ]
}