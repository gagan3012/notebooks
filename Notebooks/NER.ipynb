{
  "nbformat": 4,
  "nbformat_minor": 0,
  "metadata": {
    "colab": {
      "name": "NER.ipynb",
      "provenance": [],
      "authorship_tag": "ABX9TyP0X0lnfwuEHsjiAijRwVlf",
      "include_colab_link": true
    },
    "kernelspec": {
      "name": "python3",
      "display_name": "Python 3"
    },
    "language_info": {
      "name": "python"
    },
    "accelerator": "GPU"
  },
  "cells": [
    {
      "cell_type": "markdown",
      "metadata": {
        "id": "view-in-github",
        "colab_type": "text"
      },
      "source": [
        "<a href=\"https://colab.research.google.com/github/gagan3012/notebooks/blob/master/Notebooks/NER.ipynb\" target=\"_parent\"><img src=\"https://colab.research.google.com/assets/colab-badge.svg\" alt=\"Open In Colab\"/></a>"
      ]
    },
    {
      "cell_type": "code",
      "metadata": {
        "id": "yc8SwY1RthJ9"
      },
      "source": [
        "import pandas as pd\n",
        "import numpy as np\n",
        "import matplotlib.pyplot as plt\n",
        "from sklearn.model_selection import train_test_split\n",
        "from keras.preprocessing.sequence import pad_sequences\n",
        "from tensorflow.keras.utils import to_categorical\n",
        "from tensorflow.keras.utils import plot_model\n",
        "from numpy.random import seed\n",
        "from itertools import chain\n",
        "from tensorflow.keras import Model,Input\n",
        "from tensorflow.keras.layers import LSTM,Embedding,Dense\n",
        "from tensorflow.keras.layers import TimeDistributed, SpatialDropout1D,Bidirectional"
      ],
      "execution_count": 1,
      "outputs": []
    },
    {
      "cell_type": "code",
      "metadata": {
        "colab": {
          "base_uri": "https://localhost:8080/",
          "height": 205
        },
        "id": "kUEjvxUCuFUM",
        "outputId": "767095ac-b4f0-4b91-b3f9-fb49ae621f9f"
      },
      "source": [
        "file = \"/content/ner_dataset.csv\"\n",
        "data = pd.read_csv(file, encoding = \"latin1\")\n",
        "\n",
        "# drop the POS column because we dont need it\n",
        "data = data.drop('POS', 1)\n",
        "data.head()"
      ],
      "execution_count": 2,
      "outputs": [
        {
          "output_type": "execute_result",
          "data": {
            "text/html": [
              "<div>\n",
              "<style scoped>\n",
              "    .dataframe tbody tr th:only-of-type {\n",
              "        vertical-align: middle;\n",
              "    }\n",
              "\n",
              "    .dataframe tbody tr th {\n",
              "        vertical-align: top;\n",
              "    }\n",
              "\n",
              "    .dataframe thead th {\n",
              "        text-align: right;\n",
              "    }\n",
              "</style>\n",
              "<table border=\"1\" class=\"dataframe\">\n",
              "  <thead>\n",
              "    <tr style=\"text-align: right;\">\n",
              "      <th></th>\n",
              "      <th>Sentence #</th>\n",
              "      <th>Word</th>\n",
              "      <th>Tag</th>\n",
              "    </tr>\n",
              "  </thead>\n",
              "  <tbody>\n",
              "    <tr>\n",
              "      <th>0</th>\n",
              "      <td>Sentence: 1</td>\n",
              "      <td>Thousands</td>\n",
              "      <td>O</td>\n",
              "    </tr>\n",
              "    <tr>\n",
              "      <th>1</th>\n",
              "      <td>NaN</td>\n",
              "      <td>of</td>\n",
              "      <td>O</td>\n",
              "    </tr>\n",
              "    <tr>\n",
              "      <th>2</th>\n",
              "      <td>NaN</td>\n",
              "      <td>demonstrators</td>\n",
              "      <td>O</td>\n",
              "    </tr>\n",
              "    <tr>\n",
              "      <th>3</th>\n",
              "      <td>NaN</td>\n",
              "      <td>have</td>\n",
              "      <td>O</td>\n",
              "    </tr>\n",
              "    <tr>\n",
              "      <th>4</th>\n",
              "      <td>NaN</td>\n",
              "      <td>marched</td>\n",
              "      <td>O</td>\n",
              "    </tr>\n",
              "  </tbody>\n",
              "</table>\n",
              "</div>"
            ],
            "text/plain": [
              "    Sentence #           Word Tag\n",
              "0  Sentence: 1      Thousands   O\n",
              "1          NaN             of   O\n",
              "2          NaN  demonstrators   O\n",
              "3          NaN           have   O\n",
              "4          NaN        marched   O"
            ]
          },
          "metadata": {
            "tags": []
          },
          "execution_count": 2
        }
      ]
    },
    {
      "cell_type": "code",
      "metadata": {
        "id": "1I7YopWXuWD5"
      },
      "source": [
        "data = data.fillna(method = 'ffill')\n"
      ],
      "execution_count": 3,
      "outputs": []
    },
    {
      "cell_type": "code",
      "metadata": {
        "colab": {
          "base_uri": "https://localhost:8080/"
        },
        "id": "CjDm7SY4uaoZ",
        "outputId": "6c344c0b-f92c-4f7a-a9c8-8de21e22fff2"
      },
      "source": [
        "words = list(set(data[\"Word\"].values))\n",
        "words.append(\"ENDPAD\")\n",
        "num_words = len(words)\n",
        "\n",
        "print(f\"Total number of unique words in dataset: {num_words}\")\n"
      ],
      "execution_count": 4,
      "outputs": [
        {
          "output_type": "stream",
          "text": [
            "Total number of unique words in dataset: 35179\n"
          ],
          "name": "stdout"
        }
      ]
    },
    {
      "cell_type": "code",
      "metadata": {
        "colab": {
          "base_uri": "https://localhost:8080/"
        },
        "id": "6tVCYxIvuc4i",
        "outputId": "e6738c1a-ee94-4031-b556-e8ef004e2bd4"
      },
      "source": [
        "tags = list(set(data[\"Tag\"].values))\n",
        "num_tags = len(tags)\n",
        "print(\"List of tags: \" + ', '.join([tag for tag in tags]))\n",
        "print(f\"Total Number of tags {num_tags}\")"
      ],
      "execution_count": 5,
      "outputs": [
        {
          "output_type": "stream",
          "text": [
            "List of tags: I-nat, B-tim, B-eve, I-geo, I-tim, B-geo, I-art, B-per, I-eve, I-per, B-gpe, I-gpe, B-org, B-nat, I-org, B-art, O\n",
            "Total Number of tags 17\n"
          ],
          "name": "stdout"
        }
      ]
    },
    {
      "cell_type": "code",
      "metadata": {
        "id": "oIRVuLWvufn4"
      },
      "source": [
        "class Get_sentence(object):\n",
        "    def __init__(self,data):\n",
        "        self.n_sent = 1\n",
        "        self.data = data\n",
        "        agg_func = lambda s:[(w, t) for w, t in zip(s[\"Word\"].values.tolist(),\n",
        "                                                    s[\"Tag\"].values.tolist())]\n",
        "        self.grouped = self.data.groupby(\"Sentence #\").apply(agg_func)\n",
        "        self.sentences = [s for s in self.grouped]"
      ],
      "execution_count": 6,
      "outputs": []
    },
    {
      "cell_type": "code",
      "metadata": {
        "colab": {
          "base_uri": "https://localhost:8080/"
        },
        "id": "SMWPBK2xujq-",
        "outputId": "4226d28c-2c9b-4ad0-8bdf-e962d1128228"
      },
      "source": [
        "getter = Get_sentence(data)\n",
        "sentence = getter.sentences\n",
        "sentence[1]"
      ],
      "execution_count": 7,
      "outputs": [
        {
          "output_type": "execute_result",
          "data": {
            "text/plain": [
              "[('Iranian', 'B-gpe'),\n",
              " ('officials', 'O'),\n",
              " ('say', 'O'),\n",
              " ('they', 'O'),\n",
              " ('expect', 'O'),\n",
              " ('to', 'O'),\n",
              " ('get', 'O'),\n",
              " ('access', 'O'),\n",
              " ('to', 'O'),\n",
              " ('sealed', 'O'),\n",
              " ('sensitive', 'O'),\n",
              " ('parts', 'O'),\n",
              " ('of', 'O'),\n",
              " ('the', 'O'),\n",
              " ('plant', 'O'),\n",
              " ('Wednesday', 'B-tim'),\n",
              " (',', 'O'),\n",
              " ('after', 'O'),\n",
              " ('an', 'O'),\n",
              " ('IAEA', 'B-org'),\n",
              " ('surveillance', 'O'),\n",
              " ('system', 'O'),\n",
              " ('begins', 'O'),\n",
              " ('functioning', 'O'),\n",
              " ('.', 'O')]"
            ]
          },
          "metadata": {
            "tags": []
          },
          "execution_count": 7
        }
      ]
    },
    {
      "cell_type": "code",
      "metadata": {
        "id": "bFv4WNNVulIa"
      },
      "source": [
        "word_idx = {w : i + 1 for i ,w in enumerate(words)}\n",
        "tag_idx =  {t : i for i ,t in enumerate(tags)}"
      ],
      "execution_count": 8,
      "outputs": []
    },
    {
      "cell_type": "code",
      "metadata": {
        "id": "5fOOVq8fuqML"
      },
      "source": [
        "max_len = 50\n",
        "X = [[word_idx[w[0]] for w in s] for s in sentence]\n",
        "X = pad_sequences(maxlen = max_len, sequences = X, padding = 'post', value = num_words - 1)\n",
        "\n",
        "y = [[tag_idx[w[1]] for w in s] for s in sentence]\n",
        "y = pad_sequences(maxlen = max_len, sequences = y, padding = 'post', value = tag_idx['O'])\n",
        "y = [to_categorical(i, num_classes = num_tags) for i in  y]"
      ],
      "execution_count": 9,
      "outputs": []
    },
    {
      "cell_type": "code",
      "metadata": {
        "id": "tR2XS-s8uuzZ"
      },
      "source": [
        "x_train,x_test,y_train,y_test = train_test_split(X, y,test_size = 0.1, random_state = 1)\n"
      ],
      "execution_count": 10,
      "outputs": []
    },
    {
      "cell_type": "code",
      "metadata": {
        "colab": {
          "base_uri": "https://localhost:8080/"
        },
        "id": "y5gAYjxwuxVG",
        "outputId": "9ae583bb-56cf-4ebb-dc9a-1439d8777214"
      },
      "source": [
        "input_word = Input(shape = (max_len,))\n",
        "model = Embedding(input_dim = num_words, output_dim = max_len, input_length = max_len)(input_word)\n",
        "model = SpatialDropout1D(0.1)(model)\n",
        "model = Bidirectional(LSTM(units = 500,return_sequences = True, recurrent_dropout = 0.1))(model)\n",
        "out = TimeDistributed(Dense(num_tags,activation = 'softmax'))(model)\n",
        "model = Model(input_word,out)\n",
        "\n",
        "model.compile(optimizer = 'adam',loss = 'categorical_crossentropy',metrics = ['accuracy'])\n",
        "model.summary()"
      ],
      "execution_count": 11,
      "outputs": [
        {
          "output_type": "stream",
          "text": [
            "WARNING:tensorflow:Layer lstm will not use cuDNN kernels since it doesn't meet the criteria. It will use a generic GPU kernel as fallback when running on GPU.\n",
            "WARNING:tensorflow:Layer lstm will not use cuDNN kernels since it doesn't meet the criteria. It will use a generic GPU kernel as fallback when running on GPU.\n",
            "WARNING:tensorflow:Layer lstm will not use cuDNN kernels since it doesn't meet the criteria. It will use a generic GPU kernel as fallback when running on GPU.\n",
            "Model: \"model\"\n",
            "_________________________________________________________________\n",
            "Layer (type)                 Output Shape              Param #   \n",
            "=================================================================\n",
            "input_1 (InputLayer)         [(None, 50)]              0         \n",
            "_________________________________________________________________\n",
            "embedding (Embedding)        (None, 50, 50)            1758950   \n",
            "_________________________________________________________________\n",
            "spatial_dropout1d (SpatialDr (None, 50, 50)            0         \n",
            "_________________________________________________________________\n",
            "bidirectional (Bidirectional (None, 50, 1000)          2204000   \n",
            "_________________________________________________________________\n",
            "time_distributed (TimeDistri (None, 50, 17)            17017     \n",
            "=================================================================\n",
            "Total params: 3,979,967\n",
            "Trainable params: 3,979,967\n",
            "Non-trainable params: 0\n",
            "_________________________________________________________________\n"
          ],
          "name": "stdout"
        }
      ]
    },
    {
      "cell_type": "code",
      "metadata": {
        "colab": {
          "base_uri": "https://localhost:8080/",
          "height": 533
        },
        "id": "o9i4Lu6qu1bx",
        "outputId": "6dc222f0-67ae-4f1c-d89e-fdd22b099429"
      },
      "source": [
        "plot_model(model, show_shapes = True)\n"
      ],
      "execution_count": 12,
      "outputs": [
        {
          "output_type": "execute_result",
          "data": {
            "image/png": "[encoded data removed]",
            "text/plain": [
              "<IPython.core.display.Image object>"
            ]
          },
          "metadata": {
            "tags": []
          },
          "execution_count": 12
        }
      ]
    },
    {
      "cell_type": "code",
      "metadata": {
        "colab": {
          "base_uri": "https://localhost:8080/"
        },
        "id": "OivpO81vu4j_",
        "outputId": "9a229351-8739-4216-c1b9-20a00e26f3af"
      },
      "source": [
        "model.fit(x_train, np.array(y_train), batch_size = 64, verbose = 1, epochs = 10, validation_split = 0.2)"
      ],
      "execution_count": 13,
      "outputs": [
        {
          "output_type": "stream",
          "text": [
            "Epoch 1/10\n",
            "540/540 [==============================] - 188s 337ms/step - loss: 0.2261 - accuracy: 0.9466 - val_loss: 0.1031 - val_accuracy: 0.9704\n",
            "Epoch 2/10\n",
            "540/540 [==============================] - 181s 335ms/step - loss: 0.0709 - accuracy: 0.9795 - val_loss: 0.0565 - val_accuracy: 0.9834\n",
            "Epoch 3/10\n",
            "540/540 [==============================] - 186s 344ms/step - loss: 0.0452 - accuracy: 0.9866 - val_loss: 0.0506 - val_accuracy: 0.9849\n",
            "Epoch 4/10\n",
            "540/540 [==============================] - 186s 345ms/step - loss: 0.0369 - accuracy: 0.9888 - val_loss: 0.0490 - val_accuracy: 0.9854\n",
            "Epoch 5/10\n",
            "540/540 [==============================] - 187s 346ms/step - loss: 0.0321 - accuracy: 0.9899 - val_loss: 0.0495 - val_accuracy: 0.9854\n",
            "Epoch 6/10\n",
            "540/540 [==============================] - 184s 342ms/step - loss: 0.0288 - accuracy: 0.9908 - val_loss: 0.0488 - val_accuracy: 0.9858\n",
            "Epoch 7/10\n",
            "540/540 [==============================] - 182s 337ms/step - loss: 0.0260 - accuracy: 0.9916 - val_loss: 0.0509 - val_accuracy: 0.9855\n",
            "Epoch 8/10\n",
            "540/540 [==============================] - 180s 333ms/step - loss: 0.0238 - accuracy: 0.9923 - val_loss: 0.0514 - val_accuracy: 0.9852\n",
            "Epoch 9/10\n",
            "540/540 [==============================] - 179s 331ms/step - loss: 0.0213 - accuracy: 0.9930 - val_loss: 0.0520 - val_accuracy: 0.9856\n",
            "Epoch 10/10\n",
            "540/540 [==============================] - 180s 334ms/step - loss: 0.0197 - accuracy: 0.9936 - val_loss: 0.0535 - val_accuracy: 0.9854\n"
          ],
          "name": "stdout"
        },
        {
          "output_type": "execute_result",
          "data": {
            "text/plain": [
              "<tensorflow.python.keras.callbacks.History at 0x7f32fed81490>"
            ]
          },
          "metadata": {
            "tags": []
          },
          "execution_count": 13
        }
      ]
    },
    {
      "cell_type": "code",
      "metadata": {
        "colab": {
          "base_uri": "https://localhost:8080/"
        },
        "id": "2XGUpbbDu-ee",
        "outputId": "c6a5d7bd-ab63-4f92-c1d8-aa4d0cba7f9a"
      },
      "source": [
        "model.evaluate(x_test, np.array(y_test))\n"
      ],
      "execution_count": 14,
      "outputs": [
        {
          "output_type": "stream",
          "text": [
            "150/150 [==============================] - 4s 30ms/step - loss: 0.0555 - accuracy: 0.9851\n"
          ],
          "name": "stdout"
        },
        {
          "output_type": "execute_result",
          "data": {
            "text/plain": [
              "[0.05551774054765701, 0.9851084351539612]"
            ]
          },
          "metadata": {
            "tags": []
          },
          "execution_count": 14
        }
      ]
    },
    {
      "cell_type": "code",
      "metadata": {
        "colab": {
          "base_uri": "https://localhost:8080/"
        },
        "id": "KnpJf8BX2WS9",
        "outputId": "988d5482-716f-473d-804e-cacd30ebd023"
      },
      "source": [
        "rand_sent = np.random.randint(0, x_test.shape[0]) # get a random sentense\n",
        "print(rand_sent)\n",
        "p = model.predict(np.array([x_test[rand_sent]]))\n",
        "p = np.argmax(p, axis = -1)\n",
        "\n",
        "y_true = np.argmax(np.array(y_test), axis = -1)[rand_sent] # get actual tags for random sentense\n",
        "\n",
        "print(\"{:20}{:20}\\t{}\\n\".format(\"Word\", \"True\", \"Pred\"))\n",
        "print(\"-\" * 55)\n",
        "\n",
        "for (w, t, pred) in zip(x_test[rand_sent], y_true, p[0]):\n",
        "    print(\"{:20}{:20}\\t{}\".format(words[w - 1], tags[t], tags[pred]))"
      ],
      "execution_count": 45,
      "outputs": [
        {
          "output_type": "stream",
          "text": [
            "4613\n",
            "Word                True                \tPred\n",
            "\n",
            "-------------------------------------------------------\n",
            "The                 O                   \tO\n",
            "81-year-old         O                   \tO\n",
            "Mr.                 B-per               \tB-per\n",
            "Carter              I-per               \tI-per\n",
            ",                   O                   \tO\n",
            "the                 O                   \tO\n",
            "39th                B-tim               \tO\n",
            "U.S.                B-geo               \tB-geo\n",
            "president           O                   \tO\n",
            ",                   O                   \tO\n",
            "served              O                   \tO\n",
            "from                B-tim               \tO\n",
            "1977                I-tim               \tB-tim\n",
            "to                  I-tim               \tI-tim\n",
            "1981                I-tim               \tI-tim\n",
            ".                   O                   \tO\n",
            "Issa-dominated      O                   \tO\n",
            "Issa-dominated      O                   \tO\n",
            "Issa-dominated      O                   \tO\n",
            "Issa-dominated      O                   \tO\n",
            "Issa-dominated      O                   \tO\n",
            "Issa-dominated      O                   \tO\n",
            "Issa-dominated      O                   \tO\n",
            "Issa-dominated      O                   \tO\n",
            "Issa-dominated      O                   \tO\n",
            "Issa-dominated      O                   \tO\n",
            "Issa-dominated      O                   \tO\n",
            "Issa-dominated      O                   \tO\n",
            "Issa-dominated      O                   \tO\n",
            "Issa-dominated      O                   \tO\n",
            "Issa-dominated      O                   \tO\n",
            "Issa-dominated      O                   \tO\n",
            "Issa-dominated      O                   \tO\n",
            "Issa-dominated      O                   \tO\n",
            "Issa-dominated      O                   \tO\n",
            "Issa-dominated      O                   \tO\n",
            "Issa-dominated      O                   \tO\n",
            "Issa-dominated      O                   \tO\n",
            "Issa-dominated      O                   \tO\n",
            "Issa-dominated      O                   \tO\n",
            "Issa-dominated      O                   \tO\n",
            "Issa-dominated      O                   \tO\n",
            "Issa-dominated      O                   \tO\n",
            "Issa-dominated      O                   \tO\n",
            "Issa-dominated      O                   \tO\n",
            "Issa-dominated      O                   \tO\n",
            "Issa-dominated      O                   \tO\n",
            "Issa-dominated      O                   \tO\n",
            "Issa-dominated      O                   \tO\n",
            "Issa-dominated      O                   \tO\n"
          ],
          "name": "stdout"
        }
      ]
    },
    {
      "cell_type": "code",
      "metadata": {
        "id": "v0M8kn8E2dWd"
      },
      "source": [
        "def create_test_input_from_text(text):\n",
        "    word_list = text.split(\" \")\n",
        "    x_new = []\n",
        "    for word in word_list:\n",
        "        x_new.append(word_idx[word])\n",
        "            \n",
        "    p = model.predict(np.array(x_new))\n",
        "    p = np.argmax(p, axis = -1)\n",
        "    print(\"{:20}\\t{}\\n\".format(\"Word\", \"Prediction\"))\n",
        "    print(\"-\" * 35)\n",
        "\n",
        "    for (w, pred) in zip(range(len(x_new)), p[0]):\n",
        "        print(\"{:20}\\t{}\".format(word_list[w], tags[pred]))"
      ],
      "execution_count": 94,
      "outputs": []
    },
    {
      "cell_type": "code",
      "metadata": {
        "colab": {
          "base_uri": "https://localhost:8080/"
        },
        "id": "ckuSkzCT3nO7",
        "outputId": "5b3d9e01-2d45-4c65-a569-8eb273118b3e"
      },
      "source": [
        "test_inputs = \"the weather in London is very\"\n",
        "create_test_input_from_text(test_inputs)"
      ],
      "execution_count": 96,
      "outputs": [
        {
          "output_type": "stream",
          "text": [
            "Word                \tPrediction\n",
            "\n",
            "-----------------------------------\n",
            "the                 \tO\n"
          ],
          "name": "stdout"
        }
      ]
    },
    {
      "cell_type": "code",
      "metadata": {
        "id": "p9MsmlRD3pod"
      },
      "source": [
        "model.save('NER.h5')"
      ],
      "execution_count": 73,
      "outputs": []
    },
    {
      "cell_type": "code",
      "metadata": {
        "id": "L6TaH9bH_bi1"
      },
      "source": [
        ""
      ],
      "execution_count": null,
      "outputs": []
    }
  ]
}