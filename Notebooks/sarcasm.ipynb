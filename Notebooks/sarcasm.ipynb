{
  "nbformat": 4,
  "nbformat_minor": 0,
  "metadata": {
    "colab": {
      "name": "sarcasm.ipynb",
      "provenance": [],
      "authorship_tag": "ABX9TyPhNPod+O5lVKcU55E3f6MJ",
      "include_colab_link": true
    },
    "kernelspec": {
      "name": "python3",
      "display_name": "Python 3"
    },
    "language_info": {
      "name": "python"
    },
    "accelerator": "GPU"
  },
  "cells": [
    {
      "cell_type": "markdown",
      "metadata": {
        "id": "view-in-github",
        "colab_type": "text"
      },
      "source": [
        "<a href=\"https://colab.research.google.com/github/gagan3012/notebooks/blob/master/Notebooks/sarcasm.ipynb\" target=\"_parent\"><img src=\"https://colab.research.google.com/assets/colab-badge.svg\" alt=\"Open In Colab\"/></a>"
      ]
    },
    {
      "cell_type": "code",
      "metadata": {
        "id": "vsjAqhn6Rtz2"
      },
      "source": [
        "\n",
        "import json\n",
        "import tensorflow as tf\n",
        "\n",
        "from tensorflow.keras.preprocessing.text import Tokenizer\n",
        "from tensorflow.keras.preprocessing.sequence import pad_sequences"
      ],
      "execution_count": null,
      "outputs": []
    },
    {
      "cell_type": "code",
      "metadata": {
        "id": "kx3pTZHLRwYZ"
      },
      "source": [
        "\n",
        "vocab_size = 10000\n",
        "embedding_dim = 16\n",
        "max_length = 100\n",
        "trunc_type='post'\n",
        "padding_type='post'\n",
        "oov_tok = \"<OOV>\"\n",
        "training_size = 20000"
      ],
      "execution_count": null,
      "outputs": []
    },
    {
      "cell_type": "code",
      "metadata": {
        "id": "k5lphJ3TRyXi"
      },
      "source": [
        "with open(\"/content/Sarcasm_Headlines_Dataset.json\", 'r') as f:\n",
        "    datastore = [json.loads(line) for line in open('/content/Sarcasm_Headlines_Dataset.json', 'r')]\n",
        "\n",
        "sentences = []\n",
        "labels = []\n",
        "urls=[]\n",
        "\n",
        "for item in datastore:\n",
        "    sentences.append(item['headline'])\n",
        "    labels.append(item['is_sarcastic'])\n",
        "    urls.append(item['article_link'])"
      ],
      "execution_count": null,
      "outputs": []
    },
    {
      "cell_type": "code",
      "metadata": {
        "id": "UckQ_b2aR0ZL"
      },
      "source": [
        "training_sentences = sentences[0:training_size]\n",
        "testing_sentences = sentences[training_size:]\n",
        "training_labels = labels[0:training_size]\n",
        "testing_labels = labels[training_size:]"
      ],
      "execution_count": null,
      "outputs": []
    },
    {
      "cell_type": "code",
      "metadata": {
        "id": "50EMuufBSIKD"
      },
      "source": [
        "tokenizer = Tokenizer(num_words=vocab_size, oov_token=oov_tok)\n",
        "tokenizer.fit_on_texts(training_sentences)\n",
        "\n",
        "word_index = tokenizer.word_index\n",
        "\n",
        "training_sequences = tokenizer.texts_to_sequences(training_sentences)\n",
        "training_padded = pad_sequences(training_sequences, maxlen=max_length, padding=padding_type, truncating=trunc_type)\n",
        "\n",
        "testing_sequences = tokenizer.texts_to_sequences(testing_sentences)\n",
        "testing_padded = pad_sequences(testing_sequences, maxlen=max_length, padding=padding_type, truncating=trunc_type)"
      ],
      "execution_count": null,
      "outputs": []
    },
    {
      "cell_type": "code",
      "metadata": {
        "id": "48tLzSo8SPAO"
      },
      "source": [
        "import numpy as np\n",
        "training_padded = np.array(training_padded)\n",
        "training_labels = np.array(training_labels)\n",
        "testing_padded = np.array(testing_padded)\n",
        "testing_labels = np.array(testing_labels)"
      ],
      "execution_count": null,
      "outputs": []
    },
    {
      "cell_type": "code",
      "metadata": {
        "id": "GAhNJewkSRAM"
      },
      "source": [
        "model = tf.keras.Sequential([\n",
        "    tf.keras.layers.Embedding(vocab_size, embedding_dim, input_length=max_length),\n",
        "    tf.keras.layers.Bidirectional(tf.keras.layers.LSTM(64,return_sequences=True)),\n",
        "    tf.keras.layers.Bidirectional(tf.keras.layers.LSTM(32)),\n",
        "    tf.keras.layers.Flatten(),\n",
        "    tf.keras.layers.Dense(6, activation='relu'),\n",
        "    tf.keras.layers.Dropout(0.2),\n",
        "    tf.keras.layers.Dense(1, activation='sigmoid')\n",
        "])\n",
        "model.compile(loss='binary_crossentropy',optimizer='adam',metrics=['accuracy'])"
      ],
      "execution_count": null,
      "outputs": []
    },
    {
      "cell_type": "code",
      "metadata": {
        "colab": {
          "base_uri": "https://localhost:8080/"
        },
        "id": "7-NSf-VVSTJ3",
        "outputId": "dee4bb33-1ee4-4816-e9a3-58f36a883219"
      },
      "source": [
        "model.summary()\n"
      ],
      "execution_count": null,
      "outputs": [
        {
          "output_type": "stream",
          "text": [
            "Model: \"sequential\"\n",
            "_________________________________________________________________\n",
            "Layer (type)                 Output Shape              Param #   \n",
            "=================================================================\n",
            "embedding (Embedding)        (None, 100, 16)           160000    \n",
            "_________________________________________________________________\n",
            "bidirectional (Bidirectional (None, 100, 128)          41472     \n",
            "_________________________________________________________________\n",
            "bidirectional_1 (Bidirection (None, 64)                41216     \n",
            "_________________________________________________________________\n",
            "flatten (Flatten)            (None, 64)                0         \n",
            "_________________________________________________________________\n",
            "dense (Dense)                (None, 6)                 390       \n",
            "_________________________________________________________________\n",
            "dropout (Dropout)            (None, 6)                 0         \n",
            "_________________________________________________________________\n",
            "dense_1 (Dense)              (None, 1)                 7         \n",
            "=================================================================\n",
            "Total params: 243,085\n",
            "Trainable params: 243,085\n",
            "Non-trainable params: 0\n",
            "_________________________________________________________________\n"
          ],
          "name": "stdout"
        }
      ]
    },
    {
      "cell_type": "code",
      "metadata": {
        "colab": {
          "base_uri": "https://localhost:8080/"
        },
        "id": "oVHBh5z-SUdC",
        "outputId": "5f11c7e5-b5b3-43b7-f2b4-03d52fc65ba0"
      },
      "source": [
        "num_epochs = 30\n",
        "history = model.fit(training_padded, training_labels, epochs=num_epochs, validation_data=(testing_padded, testing_labels), verbose=1)"
      ],
      "execution_count": null,
      "outputs": [
        {
          "output_type": "stream",
          "text": [
            "Epoch 1/30\n",
            "625/625 [==============================] - 25s 24ms/step - loss: 0.4627 - accuracy: 0.7711 - val_loss: 0.3405 - val_accuracy: 0.8514\n",
            "Epoch 2/30\n",
            "625/625 [==============================] - 14s 22ms/step - loss: 0.3043 - accuracy: 0.8801 - val_loss: 0.3653 - val_accuracy: 0.8483\n",
            "Epoch 3/30\n",
            "625/625 [==============================] - 14s 22ms/step - loss: 0.2813 - accuracy: 0.8715 - val_loss: 0.3880 - val_accuracy: 0.8442\n",
            "Epoch 4/30\n",
            "625/625 [==============================] - 14s 22ms/step - loss: 0.2082 - accuracy: 0.9225 - val_loss: 0.4248 - val_accuracy: 0.8427\n",
            "Epoch 5/30\n",
            "625/625 [==============================] - 14s 22ms/step - loss: 0.1652 - accuracy: 0.9410 - val_loss: 0.4728 - val_accuracy: 0.8413\n",
            "Epoch 6/30\n",
            "625/625 [==============================] - 14s 22ms/step - loss: 0.1444 - accuracy: 0.9503 - val_loss: 0.5323 - val_accuracy: 0.8375\n",
            "Epoch 7/30\n",
            "625/625 [==============================] - 14s 22ms/step - loss: 0.1254 - accuracy: 0.9577 - val_loss: 0.5666 - val_accuracy: 0.8380\n",
            "Epoch 8/30\n",
            "625/625 [==============================] - 14s 22ms/step - loss: 0.1104 - accuracy: 0.9641 - val_loss: 0.6441 - val_accuracy: 0.8322\n",
            "Epoch 9/30\n",
            "625/625 [==============================] - 14s 22ms/step - loss: 0.1020 - accuracy: 0.9675 - val_loss: 0.5792 - val_accuracy: 0.8278\n",
            "Epoch 10/30\n",
            "625/625 [==============================] - 14s 22ms/step - loss: 0.0913 - accuracy: 0.9709 - val_loss: 0.6842 - val_accuracy: 0.8275\n",
            "Epoch 11/30\n",
            "625/625 [==============================] - 14s 22ms/step - loss: 0.0786 - accuracy: 0.9772 - val_loss: 0.7807 - val_accuracy: 0.8234\n",
            "Epoch 12/30\n",
            "625/625 [==============================] - 14s 22ms/step - loss: 0.0715 - accuracy: 0.9792 - val_loss: 0.8169 - val_accuracy: 0.8268\n",
            "Epoch 13/30\n",
            "625/625 [==============================] - 14s 22ms/step - loss: 0.0659 - accuracy: 0.9817 - val_loss: 0.8521 - val_accuracy: 0.8240\n",
            "Epoch 14/30\n",
            "625/625 [==============================] - 14s 22ms/step - loss: 0.0617 - accuracy: 0.9825 - val_loss: 0.7554 - val_accuracy: 0.8196\n",
            "Epoch 15/30\n",
            "625/625 [==============================] - 14s 22ms/step - loss: 0.0547 - accuracy: 0.9859 - val_loss: 0.8495 - val_accuracy: 0.8211\n",
            "Epoch 16/30\n",
            "625/625 [==============================] - 14s 22ms/step - loss: 0.0536 - accuracy: 0.9852 - val_loss: 0.9026 - val_accuracy: 0.8225\n",
            "Epoch 17/30\n",
            "625/625 [==============================] - 14s 22ms/step - loss: 0.0477 - accuracy: 0.9865 - val_loss: 0.8997 - val_accuracy: 0.8214\n",
            "Epoch 18/30\n",
            "625/625 [==============================] - 14s 22ms/step - loss: 0.0413 - accuracy: 0.9880 - val_loss: 1.0141 - val_accuracy: 0.8237\n",
            "Epoch 19/30\n",
            "625/625 [==============================] - 14s 22ms/step - loss: 0.0364 - accuracy: 0.9906 - val_loss: 1.0010 - val_accuracy: 0.8198\n",
            "Epoch 20/30\n",
            "625/625 [==============================] - 14s 22ms/step - loss: 0.0335 - accuracy: 0.9905 - val_loss: 1.0387 - val_accuracy: 0.8141\n",
            "Epoch 21/30\n",
            "625/625 [==============================] - 14s 22ms/step - loss: 0.0340 - accuracy: 0.9896 - val_loss: 1.4562 - val_accuracy: 0.8193\n",
            "Epoch 22/30\n",
            "625/625 [==============================] - 14s 22ms/step - loss: 0.0288 - accuracy: 0.9906 - val_loss: 1.2829 - val_accuracy: 0.8182\n",
            "Epoch 23/30\n",
            "625/625 [==============================] - 14s 22ms/step - loss: 0.0251 - accuracy: 0.9907 - val_loss: 1.2309 - val_accuracy: 0.8164\n",
            "Epoch 24/30\n",
            "625/625 [==============================] - 14s 22ms/step - loss: 0.0220 - accuracy: 0.9920 - val_loss: 1.4946 - val_accuracy: 0.8201\n",
            "Epoch 25/30\n",
            "625/625 [==============================] - 14s 22ms/step - loss: 0.0234 - accuracy: 0.9921 - val_loss: 1.3529 - val_accuracy: 0.8182\n",
            "Epoch 26/30\n",
            "625/625 [==============================] - 14s 22ms/step - loss: 0.0202 - accuracy: 0.9933 - val_loss: 1.4976 - val_accuracy: 0.8205\n",
            "Epoch 27/30\n",
            "625/625 [==============================] - 14s 22ms/step - loss: 0.0196 - accuracy: 0.9929 - val_loss: 1.5230 - val_accuracy: 0.8173\n",
            "Epoch 28/30\n",
            "625/625 [==============================] - 14s 22ms/step - loss: 0.0153 - accuracy: 0.9937 - val_loss: 1.7553 - val_accuracy: 0.8155\n",
            "Epoch 29/30\n",
            "625/625 [==============================] - 14s 22ms/step - loss: 0.0134 - accuracy: 0.9941 - val_loss: 2.1514 - val_accuracy: 0.8152\n",
            "Epoch 30/30\n",
            "625/625 [==============================] - 14s 22ms/step - loss: 0.0162 - accuracy: 0.9930 - val_loss: 2.1763 - val_accuracy: 0.8143\n"
          ],
          "name": "stdout"
        }
      ]
    },
    {
      "cell_type": "code",
      "metadata": {
        "colab": {
          "base_uri": "https://localhost:8080/",
          "height": 309
        },
        "id": "3ztAwLM7Sebm",
        "outputId": "9b9b1fae-bb6e-42cf-de72-54b85dfe91fb"
      },
      "source": [
        "train_accuracy = history.history['accuracy']\n",
        "val_accuracy = history.history['val_accuracy']\n",
        "train_loss = history.history['loss']\n",
        "val_loss = history.history['val_loss']\n",
        "epochs = range(num_epochs)\n",
        "\n",
        "import matplotlib.pyplot as plt\n",
        "\n",
        "\n",
        "plt.subplot(2,1,1)\n",
        "plt.plot(epochs,train_accuracy)\n",
        "plt.plot(epochs,val_accuracy)\n",
        "plt.legend(['train_acc','val_acc'])\n",
        "plt.title('Accuracy')\n",
        "plt.show()\n",
        "\n",
        "plt.subplot(2,1,2)\n",
        "plt.plot(epochs,train_loss)\n",
        "plt.plot(epochs,val_loss)\n",
        "plt.legend(['train_loss','val_loss'])\n",
        "plt.title('Loss')\n",
        "plt.show()"
      ],
      "execution_count": null,
      "outputs": [
        {
          "output_type": "display_data",
          "data": {
            "image/png": "[encoded data removed]",
            "text/plain": [
              "<Figure size 432x288 with 1 Axes>"
            ]
          },
          "metadata": {
            "tags": [],
            "needs_background": "light"
          }
        },
        {
          "output_type": "display_data",
          "data": {
            "image/png": "[encoded data removed]",
            "text/plain": [
              "<Figure size 432x288 with 1 Axes>"
            ]
          },
          "metadata": {
            "tags": [],
            "needs_background": "light"
          }
        }
      ]
    },
    {
      "cell_type": "code",
      "metadata": {
        "colab": {
          "base_uri": "https://localhost:8080/"
        },
        "id": "cSPms3FiUvwe",
        "outputId": "fb34c7f5-8b54-4c67-a261-67ce962ae1d1"
      },
      "source": [
        "sentence = [\"granny starting to fear spiders in the garden might be real\"]\n",
        "sequences = tokenizer.texts_to_sequences(sentence)\n",
        "padded = pad_sequences(sequences, maxlen=max_length, padding=padding_type, truncating=trunc_type)\n",
        "print(model.predict(padded))"
      ],
      "execution_count": null,
      "outputs": [
        {
          "output_type": "stream",
          "text": [
            "[[0.00060242]]\n"
          ],
          "name": "stdout"
        }
      ]
    },
    {
      "cell_type": "code",
      "metadata": {
        "id": "xSJqjQHjUxKW"
      },
      "source": [
        "model.save('model.h5')"
      ],
      "execution_count": null,
      "outputs": []
    },
    {
      "cell_type": "code",
      "metadata": {
        "id": "VHmTskitVbm5"
      },
      "source": [
        "def input_to_model(sentence: list):\n",
        "    sequences = tokenizer.texts_to_sequences(sentence)\n",
        "    padded = pad_sequences(sequences, maxlen=max_length, padding=padding_type, truncating=trunc_type)\n",
        "\n",
        "    result = model.predict(padded)\n",
        "\n",
        "    return {'data': result}\n",
        "\n"
      ],
      "execution_count": null,
      "outputs": []
    },
    {
      "cell_type": "code",
      "metadata": {
        "colab": {
          "base_uri": "https://localhost:8080/"
        },
        "id": "66QHvpGcYhJ5",
        "outputId": "6d0cb7a6-6dd2-4a04-d68e-60465c2e8869"
      },
      "source": [
        "input_to_model([\"granny starting to fear spiders in the garden might be real\"])"
      ],
      "execution_count": null,
      "outputs": [
        {
          "output_type": "execute_result",
          "data": {
            "text/plain": [
              "{'data': array([[0.00060242]], dtype=float32)}"
            ]
          },
          "metadata": {
            "tags": []
          },
          "execution_count": 20
        }
      ]
    },
    {
      "cell_type": "code",
      "metadata": {
        "id": "nv-Hd2mgYlVb"
      },
      "source": [
        ""
      ],
      "execution_count": null,
      "outputs": []
    }
  ]
}