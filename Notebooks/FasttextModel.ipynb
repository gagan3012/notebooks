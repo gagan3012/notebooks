{
  "nbformat": 4,
  "nbformat_minor": 0,
  "metadata": {
    "colab": {
      "name": "FasttextModel.ipynb",
      "provenance": [],
      "collapsed_sections": [],
      "include_colab_link": true
    },
    "kernelspec": {
      "name": "python3",
      "display_name": "Python 3"
    }
  },
  "cells": [
    {
      "cell_type": "markdown",
      "metadata": {
        "id": "view-in-github",
        "colab_type": "text"
      },
      "source": [
        "<a href=\"https://colab.research.google.com/github/gagan3012/notebooks/blob/new/Notebooks/FasttextModel.ipynb\" target=\"_parent\"><img src=\"https://colab.research.google.com/assets/colab-badge.svg\" alt=\"Open In Colab\"/></a>"
      ]
    },
    {
      "cell_type": "code",
      "metadata": {
        "id": "Allt-ghLC1Rn"
      },
      "source": [
        " import pandas as pd\n",
        "import re\n",
        "import requests as rq\n",
        "import json\n",
        "from pandas.io.json import json_normalize\n"
      ],
      "execution_count": null,
      "outputs": []
    },
    {
      "cell_type": "code",
      "metadata": {
        "id": "iVPy1PFgOUiB"
      },
      "source": [
        "url = \"https://api.yelp.com/v3/businesses/search\"\n",
        "\n",
        "# API key\n",
        "api = \"6NVnd6vwYSReE0eq8yHC4BL-YYjdaZx6UTPzq091R3KbAuAfy0h3BH4Ip5kDBjo5Z7WcYsn4A2tMdZnZJtITRqHPcFVNjQ4xzrL81k_24ElS65l3BXU9ZlovTPyaX3Yx\"\n",
        "\n",
        "#Authorization\n",
        "headers = { \"Authorization\": \"Bearer \" + api }\n",
        "\n",
        "bus = []\n",
        "\n",
        "for i in range(0, 1000, 50):\n",
        "    #passing the parameters to the API.\n",
        "    params = {\"term\":\"food\",\"location\": \"Vancouver\", \"open_now\": True, \"limit\": 50,\"offset\": i, \"c\"\n",
        "          'businesses[x].transactions': ['pickup', 'delivery', 'restaurant_reservation']}\n",
        "    response = rq.get(url, headers = headers, params = params)\n",
        "    if response.reason == 'OK':\n",
        "        bus += response.json()[\"businesses\"]\n",
        "    else: \n",
        "        print(response.reason)"
      ],
      "execution_count": null,
      "outputs": []
    },
    {
      "cell_type": "code",
      "metadata": {
        "id": "z7L5A3URS0Bk"
      },
      "source": [
        "#Dump the requested JSOn into a variable.\n",
        "content = json.dumps(bus, indent=4)\n",
        "\n",
        "#Write the dumped content into a JSON file.\n",
        "file = open('./yelpBusiness.json', 'w')\n",
        "file.writelines(content)\n",
        "file.close()"
      ],
      "execution_count": null,
      "outputs": []
    },
    {
      "cell_type": "code",
      "metadata": {
        "colab": {
          "base_uri": "https://localhost:8080/"
        },
        "id": "YVUWITmES5yZ",
        "outputId": "106c4630-da76-41e2-c27e-c1a7c121ecaa"
      },
      "source": [
        "data = pd.read_json('yelpBusiness.json')\n",
        "data.info()"
      ],
      "execution_count": null,
      "outputs": [
        {
          "output_type": "stream",
          "text": [
            "<class 'pandas.core.frame.DataFrame'>\n",
            "RangeIndex: 310 entries, 0 to 309\n",
            "Data columns (total 16 columns):\n",
            " #   Column         Non-Null Count  Dtype  \n",
            "---  ------         --------------  -----  \n",
            " 0   id             310 non-null    object \n",
            " 1   alias          310 non-null    object \n",
            " 2   name           310 non-null    object \n",
            " 3   image_url      310 non-null    object \n",
            " 4   is_closed      310 non-null    bool   \n",
            " 5   url            310 non-null    object \n",
            " 6   review_count   310 non-null    int64  \n",
            " 7   categories     310 non-null    object \n",
            " 8   rating         310 non-null    float64\n",
            " 9   coordinates    310 non-null    object \n",
            " 10  transactions   310 non-null    object \n",
            " 11  price          254 non-null    object \n",
            " 12  location       310 non-null    object \n",
            " 13  phone          310 non-null    object \n",
            " 14  display_phone  310 non-null    object \n",
            " 15  distance       310 non-null    float64\n",
            "dtypes: bool(1), float64(2), int64(1), object(12)\n",
            "memory usage: 36.8+ KB\n"
          ],
          "name": "stdout"
        }
      ]
    },
    {
      "cell_type": "code",
      "metadata": {
        "colab": {
          "base_uri": "https://localhost:8080/",
          "height": 637
        },
        "id": "a-EE3GCyTjxB",
        "outputId": "10bfbc70-3c90-4c0f-caf5-46957940fb17"
      },
      "source": [
        "#To convert the str to json first.\n",
        "data_cat_1 = data['categories'].to_json(orient='values')\n",
        "\n",
        "#To import the values as json.\n",
        "data_cat_2 = pd.read_json(data_cat_1)\n",
        "\n",
        "#To convert json into json as records.\n",
        "data_cat_3 = data_cat_2[0].to_json(orient='records')\n",
        "\n",
        "#Reading from the json.\n",
        "data_cat = pd.read_json(data_cat_3)\n",
        "\n",
        "#Selecting only the 'title' column and returning a pandas DataFrame.\n",
        "data_categories = data_cat[['title']]\n",
        "\n",
        "#To make sure, that the object is a DataFrame type\n",
        "print(type(data_categories))\n",
        "\n",
        "#Renaming the column to 'category'\n",
        "data_categories.columns = ['category']\n",
        "\n",
        "data = pd.concat([data, data_categories], axis=1)\n",
        "\n",
        "data_co_ordinates = json_normalize(data['coordinates'], sep='_')\n",
        "\n",
        "data = pd.concat([data, data_co_ordinates], axis=1)\n",
        "\n",
        "\n",
        "\n",
        "data_location = json_normalize(data['location'], sep='_')\n",
        "data = pd.concat([data, data_location], axis=1)\n",
        "\n",
        "data = data.drop(columns = ['categories', 'coordinates', 'transactions', 'location'])\n",
        "\n",
        "data.head()"
      ],
      "execution_count": null,
      "outputs": [
        {
          "output_type": "stream",
          "text": [
            "<class 'pandas.core.frame.DataFrame'>\n"
          ],
          "name": "stdout"
        },
        {
          "output_type": "stream",
          "text": [
            "/usr/local/lib/python3.6/dist-packages/ipykernel_launcher.py:24: FutureWarning: pandas.io.json.json_normalize is deprecated, use pandas.json_normalize instead\n",
            "/usr/local/lib/python3.6/dist-packages/ipykernel_launcher.py:31: FutureWarning: pandas.io.json.json_normalize is deprecated, use pandas.json_normalize instead\n"
          ],
          "name": "stderr"
        },
        {
          "output_type": "execute_result",
          "data": {
            "text/html": [
              "<div>\n",
              "<style scoped>\n",
              "    .dataframe tbody tr th:only-of-type {\n",
              "        vertical-align: middle;\n",
              "    }\n",
              "\n",
              "    .dataframe tbody tr th {\n",
              "        vertical-align: top;\n",
              "    }\n",
              "\n",
              "    .dataframe thead th {\n",
              "        text-align: right;\n",
              "    }\n",
              "</style>\n",
              "<table border=\"1\" class=\"dataframe\">\n",
              "  <thead>\n",
              "    <tr style=\"text-align: right;\">\n",
              "      <th></th>\n",
              "      <th>id</th>\n",
              "      <th>alias</th>\n",
              "      <th>name</th>\n",
              "      <th>image_url</th>\n",
              "      <th>is_closed</th>\n",
              "      <th>url</th>\n",
              "      <th>review_count</th>\n",
              "      <th>categories</th>\n",
              "      <th>rating</th>\n",
              "      <th>coordinates</th>\n",
              "      <th>transactions</th>\n",
              "      <th>price</th>\n",
              "      <th>location</th>\n",
              "      <th>phone</th>\n",
              "      <th>display_phone</th>\n",
              "      <th>distance</th>\n",
              "      <th>category</th>\n",
              "      <th>category</th>\n",
              "      <th>latitude</th>\n",
              "      <th>longitude</th>\n",
              "      <th>category</th>\n",
              "      <th>latitude</th>\n",
              "      <th>longitude</th>\n",
              "      <th>address1</th>\n",
              "      <th>address2</th>\n",
              "      <th>address3</th>\n",
              "      <th>city</th>\n",
              "      <th>zip_code</th>\n",
              "      <th>country</th>\n",
              "      <th>state</th>\n",
              "      <th>display_address</th>\n",
              "    </tr>\n",
              "  </thead>\n",
              "  <tbody>\n",
              "    <tr>\n",
              "      <th>0</th>\n",
              "      <td>8HH7xRjmjwzkhADZWir_Cw</td>\n",
              "      <td>black-rice-izakaya-vancouver</td>\n",
              "      <td>Black Rice Izakaya</td>\n",
              "      <td>https://s3-media2.fl.yelpcdn.com/bphoto/nncfuv...</td>\n",
              "      <td>False</td>\n",
              "      <td>https://www.yelp.com/biz/black-rice-izakaya-va...</td>\n",
              "      <td>237</td>\n",
              "      <td>[{'alias': 'japanese', 'title': 'Japanese'}, {...</td>\n",
              "      <td>4.0</td>\n",
              "      <td>{'latitude': 49.278444, 'longitude': -123.114329}</td>\n",
              "      <td>[]</td>\n",
              "      <td>$$</td>\n",
              "      <td>{'address1': '782 Cambie Street', 'address2': ...</td>\n",
              "      <td>+17783790416</td>\n",
              "      <td>+1 778-379-0416</td>\n",
              "      <td>1691.983928</td>\n",
              "      <td>Japanese</td>\n",
              "      <td>Japanese</td>\n",
              "      <td>49.278444</td>\n",
              "      <td>-123.114329</td>\n",
              "      <td>Japanese</td>\n",
              "      <td>49.278444</td>\n",
              "      <td>-123.114329</td>\n",
              "      <td>782 Cambie Street</td>\n",
              "      <td>None</td>\n",
              "      <td></td>\n",
              "      <td>Vancouver</td>\n",
              "      <td>V6B 2R5</td>\n",
              "      <td>CA</td>\n",
              "      <td>BC</td>\n",
              "      <td>[782 Cambie Street, Vancouver, BC V6B 2R5, Can...</td>\n",
              "    </tr>\n",
              "    <tr>\n",
              "      <th>1</th>\n",
              "      <td>F5qWJO27UIzMmSObtD9Zeg</td>\n",
              "      <td>tetsu-sushi-bar-vancouver</td>\n",
              "      <td>Tetsu Sushi Bar</td>\n",
              "      <td>https://s3-media1.fl.yelpcdn.com/bphoto/aPXH03...</td>\n",
              "      <td>False</td>\n",
              "      <td>https://www.yelp.com/biz/tetsu-sushi-bar-vanco...</td>\n",
              "      <td>83</td>\n",
              "      <td>[{'alias': 'japanese', 'title': 'Japanese'}, {...</td>\n",
              "      <td>4.5</td>\n",
              "      <td>{'latitude': 49.2917758, 'longitude': -123.135...</td>\n",
              "      <td>[]</td>\n",
              "      <td>$$</td>\n",
              "      <td>{'address1': '775 Denman Street', 'address2': ...</td>\n",
              "      <td>+16044285775</td>\n",
              "      <td>+1 604-428-5775</td>\n",
              "      <td>3460.642508</td>\n",
              "      <td>Japanese</td>\n",
              "      <td>Japanese</td>\n",
              "      <td>49.291776</td>\n",
              "      <td>-123.135266</td>\n",
              "      <td>Japanese</td>\n",
              "      <td>49.291776</td>\n",
              "      <td>-123.135266</td>\n",
              "      <td>775 Denman Street</td>\n",
              "      <td>None</td>\n",
              "      <td></td>\n",
              "      <td>Vancouver</td>\n",
              "      <td>V6G 2L6</td>\n",
              "      <td>CA</td>\n",
              "      <td>BC</td>\n",
              "      <td>[775 Denman Street, Vancouver, BC V6G 2L6, Can...</td>\n",
              "    </tr>\n",
              "    <tr>\n",
              "      <th>2</th>\n",
              "      <td>R5G-LpFh2mLUCAOxbvP0eQ</td>\n",
              "      <td>duffins-donuts-vancouver</td>\n",
              "      <td>Duffin's Donuts</td>\n",
              "      <td>https://s3-media1.fl.yelpcdn.com/bphoto/rqgqPD...</td>\n",
              "      <td>False</td>\n",
              "      <td>https://www.yelp.com/biz/duffins-donuts-vancou...</td>\n",
              "      <td>267</td>\n",
              "      <td>[{'alias': 'donuts', 'title': 'Donuts'}, {'ali...</td>\n",
              "      <td>4.0</td>\n",
              "      <td>{'latitude': 49.2328686, 'longitude': -123.077...</td>\n",
              "      <td>[]</td>\n",
              "      <td>$</td>\n",
              "      <td>{'address1': '1391 41st Avenue E', 'address2':...</td>\n",
              "      <td>+16043255544</td>\n",
              "      <td>+1 604-325-5544</td>\n",
              "      <td>4393.743288</td>\n",
              "      <td>Donuts</td>\n",
              "      <td>Donuts</td>\n",
              "      <td>49.232869</td>\n",
              "      <td>-123.077574</td>\n",
              "      <td>Donuts</td>\n",
              "      <td>49.232869</td>\n",
              "      <td>-123.077574</td>\n",
              "      <td>1391 41st Avenue E</td>\n",
              "      <td></td>\n",
              "      <td></td>\n",
              "      <td>Vancouver</td>\n",
              "      <td>V5W 1R7</td>\n",
              "      <td>CA</td>\n",
              "      <td>BC</td>\n",
              "      <td>[1391 41st Avenue E, Vancouver, BC V5W 1R7, Ca...</td>\n",
              "    </tr>\n",
              "    <tr>\n",
              "      <th>3</th>\n",
              "      <td>_3TI4d58nH8xip1V1u---w</td>\n",
              "      <td>the-naam-vancouver-2</td>\n",
              "      <td>The Naam</td>\n",
              "      <td>https://s3-media3.fl.yelpcdn.com/bphoto/HFeIq1...</td>\n",
              "      <td>False</td>\n",
              "      <td>https://www.yelp.com/biz/the-naam-vancouver-2?...</td>\n",
              "      <td>565</td>\n",
              "      <td>[{'alias': 'vegetarian', 'title': 'Vegetarian'...</td>\n",
              "      <td>3.5</td>\n",
              "      <td>{'latitude': 49.2683459, 'longitude': -123.167...</td>\n",
              "      <td>[]</td>\n",
              "      <td>$$</td>\n",
              "      <td>{'address1': '2724 W 4th Avenue', 'address2': ...</td>\n",
              "      <td>+16047387151</td>\n",
              "      <td>+1 604-738-7151</td>\n",
              "      <td>3731.461747</td>\n",
              "      <td>Vegetarian</td>\n",
              "      <td>Vegetarian</td>\n",
              "      <td>49.268346</td>\n",
              "      <td>-123.167062</td>\n",
              "      <td>Vegetarian</td>\n",
              "      <td>49.268346</td>\n",
              "      <td>-123.167062</td>\n",
              "      <td>2724 W 4th Avenue</td>\n",
              "      <td></td>\n",
              "      <td></td>\n",
              "      <td>Vancouver</td>\n",
              "      <td>V6K 1R1</td>\n",
              "      <td>CA</td>\n",
              "      <td>BC</td>\n",
              "      <td>[2724 W 4th Avenue, Vancouver, BC V6K 1R1, Can...</td>\n",
              "    </tr>\n",
              "    <tr>\n",
              "      <th>4</th>\n",
              "      <td>0kB2wCl1sFHf3QA7VIqxwA</td>\n",
              "      <td>lucys-eastside-diner-vancouver</td>\n",
              "      <td>Lucy's Eastside Diner</td>\n",
              "      <td>https://s3-media3.fl.yelpcdn.com/bphoto/NQffpU...</td>\n",
              "      <td>False</td>\n",
              "      <td>https://www.yelp.com/biz/lucys-eastside-diner-...</td>\n",
              "      <td>321</td>\n",
              "      <td>[{'alias': 'diners', 'title': 'Diners'}, {'ali...</td>\n",
              "      <td>3.0</td>\n",
              "      <td>{'latitude': 49.2609143, 'longitude': -123.100...</td>\n",
              "      <td>[]</td>\n",
              "      <td>$$</td>\n",
              "      <td>{'address1': '2708 Main Street', 'address2': '...</td>\n",
              "      <td>+16045681550</td>\n",
              "      <td>+1 604-568-1550</td>\n",
              "      <td>1148.824163</td>\n",
              "      <td>Diners</td>\n",
              "      <td>Diners</td>\n",
              "      <td>49.260914</td>\n",
              "      <td>-123.100815</td>\n",
              "      <td>Diners</td>\n",
              "      <td>49.260914</td>\n",
              "      <td>-123.100815</td>\n",
              "      <td>2708 Main Street</td>\n",
              "      <td></td>\n",
              "      <td></td>\n",
              "      <td>Vancouver</td>\n",
              "      <td>V5T</td>\n",
              "      <td>CA</td>\n",
              "      <td>BC</td>\n",
              "      <td>[2708 Main Street, Vancouver, BC V5T, Canada]</td>\n",
              "    </tr>\n",
              "  </tbody>\n",
              "</table>\n",
              "</div>"
            ],
            "text/plain": [
              "                       id  ...                                    display_address\n",
              "0  8HH7xRjmjwzkhADZWir_Cw  ...  [782 Cambie Street, Vancouver, BC V6B 2R5, Can...\n",
              "1  F5qWJO27UIzMmSObtD9Zeg  ...  [775 Denman Street, Vancouver, BC V6G 2L6, Can...\n",
              "2  R5G-LpFh2mLUCAOxbvP0eQ  ...  [1391 41st Avenue E, Vancouver, BC V5W 1R7, Ca...\n",
              "3  _3TI4d58nH8xip1V1u---w  ...  [2724 W 4th Avenue, Vancouver, BC V6K 1R1, Can...\n",
              "4  0kB2wCl1sFHf3QA7VIqxwA  ...      [2708 Main Street, Vancouver, BC V5T, Canada]\n",
              "\n",
              "[5 rows x 31 columns]"
            ]
          },
          "metadata": {
            "tags": []
          },
          "execution_count": 17
        }
      ]
    },
    {
      "cell_type": "code",
      "metadata": {
        "colab": {
          "base_uri": "https://localhost:8080/"
        },
        "id": "MAE3nXe8XYpN",
        "outputId": "86bcd913-5589-4783-eefc-6c27f627dfe7"
      },
      "source": [
        "for i in range(len(df)):\n",
        "  business_id = data[\"id\"][i]\n",
        "  url = f\"https://api.yelp.com/v3/businesses/{business_id}/reviews\"\n",
        "  params = {}\n",
        "  response_json3 = rq.get(url,params=params,headers=headers)\n",
        "\n",
        "  if response_json3.reason == 'OK':\n",
        "          review_info += response_json3.json()['reviews']\n",
        "\n",
        "  content = json.dumps(review_info, indent=4)\n",
        "\n",
        "#Write the dumped content into a JSON file.\n",
        "file = open('./yelpreview.json', 'w')\n",
        "file.writelines(content)\n",
        "file.close()\n",
        "\n",
        "df_r = pd.read_json('yelpreview.json')\n",
        "df_r.info()"
      ],
      "execution_count": null,
      "outputs": [
        {
          "output_type": "stream",
          "text": [
            "<class 'pandas.core.frame.DataFrame'>\n",
            "RangeIndex: 1764 entries, 0 to 1763\n",
            "Data columns (total 6 columns):\n",
            " #   Column        Non-Null Count  Dtype \n",
            "---  ------        --------------  ----- \n",
            " 0   id            1764 non-null   object\n",
            " 1   url           1764 non-null   object\n",
            " 2   text          1764 non-null   object\n",
            " 3   rating        1764 non-null   int64 \n",
            " 4   time_created  1764 non-null   object\n",
            " 5   user          1764 non-null   object\n",
            "dtypes: int64(1), object(5)\n",
            "memory usage: 82.8+ KB\n"
          ],
          "name": "stdout"
        }
      ]
    },
    {
      "cell_type": "code",
      "metadata": {
        "id": "P-qNUxyMDsBo",
        "colab": {
          "base_uri": "https://localhost:8080/"
        },
        "outputId": "78cf8150-ba0d-48bd-fba6-825669860927"
      },
      "source": [
        "import timeit\n",
        "from gensim.models import FastText\n",
        "import re\n",
        "import nltk\n",
        "nltk.download('stopwords')\n",
        "from nltk.corpus import stopwords\n",
        "REPLACE_BY_SPACE_RE = re.compile('[/(){}\\[\\]\\|@,;]')\n",
        "BAD_SYMBOLS_RE = re.compile('[^0-9a-z #+_]')\n",
        "STOPWORDS = set(stopwords.words('english'))\n",
        "\n",
        "def text_prepare(text):\n",
        "    text=str(text)\n",
        "    text = text.lower()\n",
        "    text = re.sub(REPLACE_BY_SPACE_RE,' ',text)\n",
        "    text = re.sub(BAD_SYMBOLS_RE,' ',text)\n",
        "    text = re.sub(\"[^a-zA-Z ]\", \" \", text)\n",
        "    text = ' '.join(filter(lambda x: x not in STOPWORDS,  text.split()))\n",
        "    return text"
      ],
      "execution_count": null,
      "outputs": [
        {
          "output_type": "stream",
          "text": [
            "/usr/local/lib/python3.6/dist-packages/requests/__init__.py:91: RequestsDependencyWarning: urllib3 (1.26.2) or chardet (3.0.4) doesn't match a supported version!\n",
            "  RequestsDependencyWarning)\n"
          ],
          "name": "stderr"
        },
        {
          "output_type": "stream",
          "text": [
            "[nltk_data] Downloading package stopwords to /root/nltk_data...\n",
            "[nltk_data]   Unzipping corpora/stopwords.zip.\n"
          ],
          "name": "stdout"
        }
      ]
    },
    {
      "cell_type": "code",
      "metadata": {
        "id": "tL-QvX1JD4GC"
      },
      "source": [
        "def make_corpus(data):\n",
        "    corpus=[]\n",
        "    data[\"review_clean\"] = data[\"text\"].apply(text_prepare)\n",
        "    for sentence in data[\"review_clean\"]:\n",
        "        corpus.append(sentence.strip())\n",
        "    return corpus"
      ],
      "execution_count": null,
      "outputs": []
    },
    {
      "cell_type": "code",
      "metadata": {
        "id": "ZsPxbJANDHl9"
      },
      "source": [
        "corpus = make_corpus(df_r)"
      ],
      "execution_count": null,
      "outputs": []
    },
    {
      "cell_type": "code",
      "metadata": {
        "id": "-NzRiiEmEERC"
      },
      "source": [
        "# Function to clean corpus\n",
        "def replace_special_char(word, toBeReplaced, void):\n",
        "    for elem in toBeReplaced :\n",
        "        if elem in word :\n",
        "            word = word.replace(elem, void)\n",
        "    return word"
      ],
      "execution_count": null,
      "outputs": []
    },
    {
      "cell_type": "code",
      "metadata": {
        "id": "GTw9hx6zEIrf"
      },
      "source": [
        "def get_recommendation(top, data, scores):\n",
        "    recommendation = pd.DataFrame(columns = ['descriptions','score'])\n",
        "    count = 0\n",
        "    for i in top:\n",
        "        recommendation.at[count, 'descriptions'],recommendation.at[count, 'score'] =  scores[0][count]\n",
        "        count += 1\n",
        "    return recommendation"
      ],
      "execution_count": null,
      "outputs": []
    },
    {
      "cell_type": "code",
      "metadata": {
        "id": "lP0qFkRuFLMY"
      },
      "source": [
        "# Function to generate similarity scores with fastText\n",
        "def similarity_score_fastText(df, user_text, corpus, ft_model):\n",
        "    simlarity_df_list = []\n",
        "    search_key = user_text\n",
        "    index_value = 0\n",
        "    for i in df.index:\n",
        "        headline = \" \".join(corpus[i])\n",
        "        score = ft_model.wv.most_similar(positive=[search_tag])\n",
        "        simlarity_df_list.append((search_key, headline, index_value, score))\n",
        "        index_value += 1\n",
        "    return simlarity_df_list"
      ],
      "execution_count": null,
      "outputs": []
    },
    {
      "cell_type": "code",
      "metadata": {
        "id": "VvcPc-DVFNyG"
      },
      "source": [
        "# Function to generate recommendation\n",
        "def generate_recommendation(data, search_tag, corpus, ft_model):\n",
        "    # calculate similarity score for all entries using fastText\n",
        "    simlarity_ft_df = similarity_score_fastText(data, search_tag, corpus, ft_model)\n",
        "    fastText_recommendation_sorted = pd.DataFrame(simlarity_ft_df).sort_values([3], ascending=False)\n",
        "    fastText_recommendation_sorted = fastText_recommendation_sorted.iloc[0:output_records,:]\n",
        "    fastText_recommendation_sorted.reset_index(inplace=True)\n",
        "    index_ft = fastText_recommendation_sorted[2]\n",
        "    list_scores = fastText_recommendation_sorted[3]\n",
        "    recommendation = get_recommendation(index_ft, data, list_scores)\n",
        "    return recommendation"
      ],
      "execution_count": null,
      "outputs": []
    },
    {
      "cell_type": "code",
      "metadata": {
        "id": "ykzvPNzYFWPt"
      },
      "source": [
        "# fastText function\n",
        "def get_fastText_rec(data, corpus, ft_model,search_tag):\n",
        "    # obtain initial search tag\n",
        "    global output_records\n",
        "    output_records = 10\n",
        "    output_records = int(output_records)\n",
        "    recommendation = generate_recommendation(data, search_tag, corpus, ft_model)\n",
        "    return recommendation"
      ],
      "execution_count": null,
      "outputs": []
    },
    {
      "cell_type": "code",
      "metadata": {
        "id": "0En3Yz5BlN6n"
      },
      "source": [
        "def gen_words(stemmed):\n",
        "    yield stemmed"
      ],
      "execution_count": null,
      "outputs": []
    },
    {
      "cell_type": "code",
      "metadata": {
        "id": "t3MF1v3iFj8M",
        "colab": {
          "base_uri": "https://localhost:8080/"
        },
        "outputId": "3e9cde62-d537-4219-9bbb-38873685c3d8"
      },
      "source": [
        "# fastText implementation\n",
        "start_time = timeit.default_timer()\n",
        "model = FastText(size=100, window=5, min_count=1, workers=4, sg=1)\n",
        "model.build_vocab(gen_words(corpus))\n",
        "model.train(gen_words(corpus), total_examples=model.corpus_count, epochs=model.iter)\n",
        "search_tag = df.description[0]\n",
        "reco=model.wv.most_similar(positive=[search_tag])\n",
        "recommendation = get_fastText_rec(df, corpus, model,search_tag)\n",
        "elapsed = timeit.default_timer() - start_time\n",
        "print(\"\\nThe result was generated in \"+ str(elapsed) +\" seconds.\")"
      ],
      "execution_count": null,
      "outputs": [
        {
          "output_type": "stream",
          "text": [
            "/usr/local/lib/python3.6/dist-packages/ipykernel_launcher.py:5: DeprecationWarning: Call to deprecated `iter` (Attribute will be removed in 4.0.0, use self.epochs instead).\n",
            "  \"\"\"\n",
            "/usr/local/lib/python3.6/dist-packages/gensim/matutils.py:737: FutureWarning: Conversion of the second argument of issubdtype from `int` to `np.signedinteger` is deprecated. In future, it will be treated as `np.int64 == np.dtype(int).type`.\n",
            "  if np.issubdtype(vec.dtype, np.int):\n"
          ],
          "name": "stderr"
        },
        {
          "output_type": "stream",
          "text": [
            "\n",
            "The result was generated in 11.529281183999956 seconds.\n"
          ],
          "name": "stdout"
        }
      ]
    },
    {
      "cell_type": "code",
      "metadata": {
        "id": "QK9eNQDaXjbq",
        "colab": {
          "base_uri": "https://localhost:8080/",
          "height": 357
        },
        "outputId": "bd806510-d0b9-4b9a-f1b3-a8c955ebff7a"
      },
      "source": [
        "recommendation"
      ],
      "execution_count": null,
      "outputs": [
        {
          "output_type": "execute_result",
          "data": {
            "text/html": [
              "<div>\n",
              "<style scoped>\n",
              "    .dataframe tbody tr th:only-of-type {\n",
              "        vertical-align: middle;\n",
              "    }\n",
              "\n",
              "    .dataframe tbody tr th {\n",
              "        vertical-align: top;\n",
              "    }\n",
              "\n",
              "    .dataframe thead th {\n",
              "        text-align: right;\n",
              "    }\n",
              "</style>\n",
              "<table border=\"1\" class=\"dataframe\">\n",
              "  <thead>\n",
              "    <tr style=\"text-align: right;\">\n",
              "      <th></th>\n",
              "      <th>descriptions</th>\n",
              "      <th>score</th>\n",
              "    </tr>\n",
              "  </thead>\n",
              "  <tbody>\n",
              "    <tr>\n",
              "      <th>0</th>\n",
              "      <td>exploding population percent population growth...</td>\n",
              "      <td>0.999076</td>\n",
              "    </tr>\n",
              "    <tr>\n",
              "      <th>1</th>\n",
              "      <td>salvador brazil first capital working protect ...</td>\n",
              "      <td>0.998787</td>\n",
              "    </tr>\n",
              "    <tr>\n",
              "      <th>2</th>\n",
              "      <td>new york city excited share experience cities ...</td>\n",
              "      <td>0.998771</td>\n",
              "    </tr>\n",
              "    <tr>\n",
              "      <th>3</th>\n",
              "      <td>january togo adopted new national forest polic...</td>\n",
              "      <td>0.99877</td>\n",
              "    </tr>\n",
              "    <tr>\n",
              "      <th>4</th>\n",
              "      <td>city seattle set bold goal achieving tree cano...</td>\n",
              "      <td>0.998761</td>\n",
              "    </tr>\n",
              "    <tr>\n",
              "      <th>5</th>\n",
              "      <td>raleigh located upper neuse watershed southeas...</td>\n",
              "      <td>0.998752</td>\n",
              "    </tr>\n",
              "    <tr>\n",
              "      <th>6</th>\n",
              "      <td>urban tree canopy assessments report highlight...</td>\n",
              "      <td>0.998749</td>\n",
              "    </tr>\n",
              "    <tr>\n",
              "      <th>7</th>\n",
              "      <td>salvador humid sub humid climate favors plant ...</td>\n",
              "      <td>0.998742</td>\n",
              "    </tr>\n",
              "    <tr>\n",
              "      <th>8</th>\n",
              "      <td>urban tree canopy assessments report highlight...</td>\n",
              "      <td>0.998733</td>\n",
              "    </tr>\n",
              "    <tr>\n",
              "      <th>9</th>\n",
              "      <td>paulo populous city brazil covers extensive te...</td>\n",
              "      <td>0.998731</td>\n",
              "    </tr>\n",
              "  </tbody>\n",
              "</table>\n",
              "</div>"
            ],
            "text/plain": [
              "                                        descriptions     score\n",
              "0  exploding population percent population growth...  0.999076\n",
              "1  salvador brazil first capital working protect ...  0.998787\n",
              "2  new york city excited share experience cities ...  0.998771\n",
              "3  january togo adopted new national forest polic...   0.99877\n",
              "4  city seattle set bold goal achieving tree cano...  0.998761\n",
              "5  raleigh located upper neuse watershed southeas...  0.998752\n",
              "6  urban tree canopy assessments report highlight...  0.998749\n",
              "7  salvador humid sub humid climate favors plant ...  0.998742\n",
              "8  urban tree canopy assessments report highlight...  0.998733\n",
              "9  paulo populous city brazil covers extensive te...  0.998731"
            ]
          },
          "metadata": {
            "tags": []
          },
          "execution_count": 22
        }
      ]
    },
    {
      "cell_type": "code",
      "metadata": {
        "id": "PQKXdUy3agSN"
      },
      "source": [
        ""
      ],
      "execution_count": null,
      "outputs": []
    }
  ]
}