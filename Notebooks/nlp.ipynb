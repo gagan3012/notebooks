{
 "cells": [
  {
   "cell_type": "code",
   "execution_count": 1,
   "id": "little-promotion",
   "metadata": {
    "execution": {
     "iopub.execute_input": "2021-05-25T22:01:45.809026Z",
     "iopub.status.busy": "2021-05-25T22:01:45.808613Z",
     "iopub.status.idle": "2021-05-25T22:01:56.142420Z",
     "shell.execute_reply": "2021-05-25T22:01:56.141781Z",
     "shell.execute_reply.started": "2021-05-25T22:01:45.808918Z"
    },
    "tags": []
   },
   "outputs": [],
   "source": [
    "from input.nlp import NLP\n",
    "nlp = NLP()\n",
    "\n",
    "\"\"\"\n",
    "Tasks supported\n",
    "\n",
    "\n",
    "\"\"\"\n"
   ]
  },
  {
   "cell_type": "markdown",
   "id": "strong-latvia",
   "metadata": {},
   "source": [
    "# Text Generation"
   ]
  },
  {
   "cell_type": "code",
   "execution_count": 10,
   "id": "dynamic-snake",
   "metadata": {
    "execution": {
     "iopub.execute_input": "2021-05-25T21:38:21.535805Z",
     "iopub.status.busy": "2021-05-25T21:38:21.535479Z",
     "iopub.status.idle": "2021-05-25T21:38:46.908715Z",
     "shell.execute_reply": "2021-05-25T21:38:46.908103Z",
     "shell.execute_reply.started": "2021-05-25T21:38:21.535777Z"
    },
    "tags": []
   },
   "outputs": [
    {
     "data": {
      "application/vnd.jupyter.widget-view+json": {
       "model_id": "3c6dde1ff65a46c9b272f6ac4db6db54",
       "version_major": 2,
       "version_minor": 0
      },
      "text/plain": [
       "Downloading:   0%|          | 0.00/665 [00:00<?, ?B/s]"
      ]
     },
     "metadata": {},
     "output_type": "display_data"
    },
    {
     "data": {
      "application/vnd.jupyter.widget-view+json": {
       "model_id": "bfcebca585a64a3e9e38f1696c7eb52c",
       "version_major": 2,
       "version_minor": 0
      },
      "text/plain": [
       "Downloading:   0%|          | 0.00/1.04M [00:00<?, ?B/s]"
      ]
     },
     "metadata": {},
     "output_type": "display_data"
    },
    {
     "data": {
      "application/vnd.jupyter.widget-view+json": {
       "model_id": "41d06e530cf94406b07b6a74f88cc1ff",
       "version_major": 2,
       "version_minor": 0
      },
      "text/plain": [
       "Downloading:   0%|          | 0.00/456k [00:00<?, ?B/s]"
      ]
     },
     "metadata": {},
     "output_type": "display_data"
    },
    {
     "data": {
      "application/vnd.jupyter.widget-view+json": {
       "model_id": "6543b48472234deab40ac45b8d6ca255",
       "version_major": 2,
       "version_minor": 0
      },
      "text/plain": [
       "Downloading:   0%|          | 0.00/1.36M [00:00<?, ?B/s]"
      ]
     },
     "metadata": {},
     "output_type": "display_data"
    },
    {
     "data": {
      "application/vnd.jupyter.widget-view+json": {
       "model_id": "e154bfa309044ecbb8efffae9e7fceed",
       "version_major": 2,
       "version_minor": 0
      },
      "text/plain": [
       "Downloading:   0%|          | 0.00/548M [00:00<?, ?B/s]"
      ]
     },
     "metadata": {},
     "output_type": "display_data"
    },
    {
     "name": "stderr",
     "output_type": "stream",
     "text": [
      "Setting `pad_token_id` to `eos_token_id`:50256 for open-end generation.\n"
     ]
    },
    {
     "data": {
      "text/plain": [
       "[{'generated_text': 'Life is a vernacular translation of the concept of \"life\" in the German (e.g., \"fate and pleasure\").\\n\\nThe concept of life derives back to the old law and is used today in various forms. For example'}]"
      ]
     },
     "execution_count": 10,
     "metadata": {},
     "output_type": "execute_result"
    }
   ],
   "source": [
    "nlp.get(\"text-generation\")(\"Life is a \")"
   ]
  },
  {
   "cell_type": "markdown",
   "id": "rapid-airfare",
   "metadata": {},
   "source": [
    "# Question Answering"
   ]
  },
  {
   "cell_type": "code",
   "execution_count": 12,
   "id": "angry-portland",
   "metadata": {
    "execution": {
     "iopub.execute_input": "2021-05-25T21:41:52.029556Z",
     "iopub.status.busy": "2021-05-25T21:41:52.029250Z",
     "iopub.status.idle": "2021-05-25T21:42:09.286290Z",
     "shell.execute_reply": "2021-05-25T21:42:09.285589Z",
     "shell.execute_reply.started": "2021-05-25T21:41:52.029526Z"
    },
    "tags": []
   },
   "outputs": [
    {
     "data": {
      "application/vnd.jupyter.widget-view+json": {
       "model_id": "5554cd3c4c264966a9c5f54250287c5b",
       "version_major": 2,
       "version_minor": 0
      },
      "text/plain": [
       "Downloading:   0%|          | 0.00/473 [00:00<?, ?B/s]"
      ]
     },
     "metadata": {},
     "output_type": "display_data"
    },
    {
     "data": {
      "application/vnd.jupyter.widget-view+json": {
       "model_id": "d3137d5d4205442e869be0763ce3aa0f",
       "version_major": 2,
       "version_minor": 0
      },
      "text/plain": [
       "Downloading:   0%|          | 0.00/213k [00:00<?, ?B/s]"
      ]
     },
     "metadata": {},
     "output_type": "display_data"
    },
    {
     "data": {
      "application/vnd.jupyter.widget-view+json": {
       "model_id": "3b6079e044184f5b851a7931e08b8149",
       "version_major": 2,
       "version_minor": 0
      },
      "text/plain": [
       "Downloading:   0%|          | 0.00/436k [00:00<?, ?B/s]"
      ]
     },
     "metadata": {},
     "output_type": "display_data"
    },
    {
     "data": {
      "application/vnd.jupyter.widget-view+json": {
       "model_id": "7e9b57c9c3874c24b68daeb2687ef5d1",
       "version_major": 2,
       "version_minor": 0
      },
      "text/plain": [
       "Downloading:   0%|          | 0.00/29.0 [00:00<?, ?B/s]"
      ]
     },
     "metadata": {},
     "output_type": "display_data"
    },
    {
     "data": {
      "application/vnd.jupyter.widget-view+json": {
       "model_id": "92e7f555d971428ab6f1543d9d3fc2b3",
       "version_major": 2,
       "version_minor": 0
      },
      "text/plain": [
       "Downloading:   0%|          | 0.00/261M [00:00<?, ?B/s]"
      ]
     },
     "metadata": {},
     "output_type": "display_data"
    },
    {
     "data": {
      "text/plain": [
       "{'score': 0.6054572463035583, 'start': 29, 'end': 41, 'answer': 'Naas-drivers'}"
      ]
     },
     "execution_count": 12,
     "metadata": {},
     "output_type": "execute_result"
    }
   ],
   "source": [
    "nlp.get(\"question-answering\")({\n",
    "     'question': 'What is the name of the repository ?',\n",
    "     'context': 'NLP has been included in the Naas-drivers repository'\n",
    "})"
   ]
  },
  {
   "cell_type": "markdown",
   "id": "stainless-thomas",
   "metadata": {},
   "source": [
    "# Fill Mask"
   ]
  },
  {
   "cell_type": "code",
   "execution_count": 4,
   "id": "worthy-bennett",
   "metadata": {
    "execution": {
     "iopub.execute_input": "2021-05-25T21:54:12.204693Z",
     "iopub.status.busy": "2021-05-25T21:54:12.204412Z",
     "iopub.status.idle": "2021-05-25T21:54:20.155614Z",
     "shell.execute_reply": "2021-05-25T21:54:20.155013Z",
     "shell.execute_reply.started": "2021-05-25T21:54:12.204665Z"
    },
    "tags": []
   },
   "outputs": [
    {
     "name": "stderr",
     "output_type": "stream",
     "text": [
      "Some weights of the model checkpoint at bert-base-uncased were not used when initializing BertForMaskedLM: ['cls.seq_relationship.bias', 'cls.seq_relationship.weight']\n",
      "- This IS expected if you are initializing BertForMaskedLM from the checkpoint of a model trained on another task or with another architecture (e.g. initializing a BertForSequenceClassification model from a BertForPreTraining model).\n",
      "- This IS NOT expected if you are initializing BertForMaskedLM from the checkpoint of a model that you expect to be exactly identical (initializing a BertForSequenceClassification model from a BertForSequenceClassification model).\n"
     ]
    },
    {
     "data": {
      "application/vnd.jupyter.widget-view+json": {
       "model_id": "0224a4f734364d32a63c65ccdb742862",
       "version_major": 2,
       "version_minor": 0
      },
      "text/plain": [
       "Downloading:   0%|          | 0.00/232k [00:00<?, ?B/s]"
      ]
     },
     "metadata": {},
     "output_type": "display_data"
    },
    {
     "data": {
      "application/vnd.jupyter.widget-view+json": {
       "model_id": "492dd663addd4c77b66903beae9054ab",
       "version_major": 2,
       "version_minor": 0
      },
      "text/plain": [
       "Downloading:   0%|          | 0.00/466k [00:00<?, ?B/s]"
      ]
     },
     "metadata": {},
     "output_type": "display_data"
    },
    {
     "data": {
      "application/vnd.jupyter.widget-view+json": {
       "model_id": "1d5ab0f5eca042608df40fbf1f583b84",
       "version_major": 2,
       "version_minor": 0
      },
      "text/plain": [
       "Downloading:   0%|          | 0.00/28.0 [00:00<?, ?B/s]"
      ]
     },
     "metadata": {},
     "output_type": "display_data"
    },
    {
     "data": {
      "text/plain": [
       "[{'sequence': \"hello i'm a fashion model.\",\n",
       "  'score': 0.10731077939271927,\n",
       "  'token': 4827,\n",
       "  'token_str': 'fashion'},\n",
       " {'sequence': \"hello i'm a role model.\",\n",
       "  'score': 0.08774469047784805,\n",
       "  'token': 2535,\n",
       "  'token_str': 'role'},\n",
       " {'sequence': \"hello i'm a new model.\",\n",
       "  'score': 0.053383756428956985,\n",
       "  'token': 2047,\n",
       "  'token_str': 'new'},\n",
       " {'sequence': \"hello i'm a super model.\",\n",
       "  'score': 0.0466720387339592,\n",
       "  'token': 3565,\n",
       "  'token_str': 'super'},\n",
       " {'sequence': \"hello i'm a fine model.\",\n",
       "  'score': 0.02709590084850788,\n",
       "  'token': 2986,\n",
       "  'token_str': 'fine'}]"
      ]
     },
     "execution_count": 4,
     "metadata": {},
     "output_type": "execute_result"
    }
   ],
   "source": [
    "nlp.get('fill-mask', model='bert-base-uncased',tokenizer='bert-base-uncased')(\"Hello I'm a [MASK] model.\")"
   ]
  },
  {
   "cell_type": "markdown",
   "id": "flying-navigator",
   "metadata": {},
   "source": [
    "# Named Entity Recognition"
   ]
  },
  {
   "cell_type": "code",
   "execution_count": null,
   "id": "compressed-block",
   "metadata": {
    "execution": {
     "iopub.execute_input": "2021-05-25T22:01:56.143724Z",
     "iopub.status.busy": "2021-05-25T22:01:56.143508Z"
    },
    "tags": []
   },
   "outputs": [],
   "source": [
    "nlp.get(\"token-classification\")(\"New York (CNN)When Liana Barrientos was 23 years old, she got married in Westchester County, New York\")"
   ]
  },
  {
   "cell_type": "code",
   "execution_count": null,
   "id": "detailed-thunder",
   "metadata": {},
   "outputs": [],
   "source": []
  }
 ],
 "metadata": {
  "kernelspec": {
   "display_name": "Python 3",
   "language": "python",
   "name": "python3"
  },
  "language_info": {
   "codemirror_mode": {
    "name": "ipython",
    "version": 3
   },
   "file_extension": ".py",
   "mimetype": "text/x-python",
   "name": "python",
   "nbconvert_exporter": "python",
   "pygments_lexer": "ipython3",
   "version": "3.8.8"
  }
 },
 "nbformat": 4,
 "nbformat_minor": 5
}
