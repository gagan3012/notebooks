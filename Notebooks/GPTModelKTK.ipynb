{
  "nbformat": 4,
  "nbformat_minor": 0,
  "metadata": {
    "colab": {
      "name": "GPTModel.ipynb",
      "provenance": [],
      "collapsed_sections": [],
      "include_colab_link": true
    },
    "kernelspec": {
      "name": "python3",
      "display_name": "Python 3"
    },
    "accelerator": "GPU",
    "widgets": {
      "application/vnd.jupyter.widget-state+json": {
        "e8554058f79146c8bdbbc0b7646db5c6": {
          "model_module": "@jupyter-widgets/controls",
          "model_name": "HBoxModel",
          "state": {
            "_view_name": "HBoxView",
            "_dom_classes": [],
            "_model_name": "HBoxModel",
            "_view_module": "@jupyter-widgets/controls",
            "_model_module_version": "1.5.0",
            "_view_count": null,
            "_view_module_version": "1.5.0",
            "box_style": "",
            "layout": "IPY_MODEL_c40a42b5dd224ef88d74c362b2b99f22",
            "_model_module": "@jupyter-widgets/controls",
            "children": [
              "IPY_MODEL_1327e82c244d45e2895217ea9748ea1f",
              "IPY_MODEL_17ee2ff1b47e439897bc00380c188688"
            ]
          }
        },
        "c40a42b5dd224ef88d74c362b2b99f22": {
          "model_module": "@jupyter-widgets/base",
          "model_name": "LayoutModel",
          "state": {
            "_view_name": "LayoutView",
            "grid_template_rows": null,
            "right": null,
            "justify_content": null,
            "_view_module": "@jupyter-widgets/base",
            "overflow": null,
            "_model_module_version": "1.2.0",
            "_view_count": null,
            "flex_flow": null,
            "width": null,
            "min_width": null,
            "border": null,
            "align_items": null,
            "bottom": null,
            "_model_module": "@jupyter-widgets/base",
            "top": null,
            "grid_column": null,
            "overflow_y": null,
            "overflow_x": null,
            "grid_auto_flow": null,
            "grid_area": null,
            "grid_template_columns": null,
            "flex": null,
            "_model_name": "LayoutModel",
            "justify_items": null,
            "grid_row": null,
            "max_height": null,
            "align_content": null,
            "visibility": null,
            "align_self": null,
            "height": null,
            "min_height": null,
            "padding": null,
            "grid_auto_rows": null,
            "grid_gap": null,
            "max_width": null,
            "order": null,
            "_view_module_version": "1.2.0",
            "grid_template_areas": null,
            "object_position": null,
            "object_fit": null,
            "grid_auto_columns": null,
            "margin": null,
            "display": null,
            "left": null
          }
        },
        "1327e82c244d45e2895217ea9748ea1f": {
          "model_module": "@jupyter-widgets/controls",
          "model_name": "FloatProgressModel",
          "state": {
            "_view_name": "ProgressView",
            "style": "IPY_MODEL_8173365ef0e24a6e86457413bb55c90a",
            "_dom_classes": [],
            "description": "Downloading: 100%",
            "_model_name": "FloatProgressModel",
            "bar_style": "success",
            "max": 1042301,
            "_view_module": "@jupyter-widgets/controls",
            "_model_module_version": "1.5.0",
            "value": 1042301,
            "_view_count": null,
            "_view_module_version": "1.5.0",
            "orientation": "horizontal",
            "min": 0,
            "description_tooltip": null,
            "_model_module": "@jupyter-widgets/controls",
            "layout": "IPY_MODEL_79aeca81121c44b2b2627d7aefa69f63"
          }
        },
        "17ee2ff1b47e439897bc00380c188688": {
          "model_module": "@jupyter-widgets/controls",
          "model_name": "HTMLModel",
          "state": {
            "_view_name": "HTMLView",
            "style": "IPY_MODEL_33caa558e12f4f428c2620deee56201a",
            "_dom_classes": [],
            "description": "",
            "_model_name": "HTMLModel",
            "placeholder": "​",
            "_view_module": "@jupyter-widgets/controls",
            "_model_module_version": "1.5.0",
            "value": " 1.04M/1.04M [00:00&lt;00:00, 1.29MB/s]",
            "_view_count": null,
            "_view_module_version": "1.5.0",
            "description_tooltip": null,
            "_model_module": "@jupyter-widgets/controls",
            "layout": "IPY_MODEL_eb07d004090b4910a38c976312c38f38"
          }
        },
        "8173365ef0e24a6e86457413bb55c90a": {
          "model_module": "@jupyter-widgets/controls",
          "model_name": "ProgressStyleModel",
          "state": {
            "_view_name": "StyleView",
            "_model_name": "ProgressStyleModel",
            "description_width": "initial",
            "_view_module": "@jupyter-widgets/base",
            "_model_module_version": "1.5.0",
            "_view_count": null,
            "_view_module_version": "1.2.0",
            "bar_color": null,
            "_model_module": "@jupyter-widgets/controls"
          }
        },
        "79aeca81121c44b2b2627d7aefa69f63": {
          "model_module": "@jupyter-widgets/base",
          "model_name": "LayoutModel",
          "state": {
            "_view_name": "LayoutView",
            "grid_template_rows": null,
            "right": null,
            "justify_content": null,
            "_view_module": "@jupyter-widgets/base",
            "overflow": null,
            "_model_module_version": "1.2.0",
            "_view_count": null,
            "flex_flow": null,
            "width": null,
            "min_width": null,
            "border": null,
            "align_items": null,
            "bottom": null,
            "_model_module": "@jupyter-widgets/base",
            "top": null,
            "grid_column": null,
            "overflow_y": null,
            "overflow_x": null,
            "grid_auto_flow": null,
            "grid_area": null,
            "grid_template_columns": null,
            "flex": null,
            "_model_name": "LayoutModel",
            "justify_items": null,
            "grid_row": null,
            "max_height": null,
            "align_content": null,
            "visibility": null,
            "align_self": null,
            "height": null,
            "min_height": null,
            "padding": null,
            "grid_auto_rows": null,
            "grid_gap": null,
            "max_width": null,
            "order": null,
            "_view_module_version": "1.2.0",
            "grid_template_areas": null,
            "object_position": null,
            "object_fit": null,
            "grid_auto_columns": null,
            "margin": null,
            "display": null,
            "left": null
          }
        },
        "33caa558e12f4f428c2620deee56201a": {
          "model_module": "@jupyter-widgets/controls",
          "model_name": "DescriptionStyleModel",
          "state": {
            "_view_name": "StyleView",
            "_model_name": "DescriptionStyleModel",
            "description_width": "",
            "_view_module": "@jupyter-widgets/base",
            "_model_module_version": "1.5.0",
            "_view_count": null,
            "_view_module_version": "1.2.0",
            "_model_module": "@jupyter-widgets/controls"
          }
        },
        "eb07d004090b4910a38c976312c38f38": {
          "model_module": "@jupyter-widgets/base",
          "model_name": "LayoutModel",
          "state": {
            "_view_name": "LayoutView",
            "grid_template_rows": null,
            "right": null,
            "justify_content": null,
            "_view_module": "@jupyter-widgets/base",
            "overflow": null,
            "_model_module_version": "1.2.0",
            "_view_count": null,
            "flex_flow": null,
            "width": null,
            "min_width": null,
            "border": null,
            "align_items": null,
            "bottom": null,
            "_model_module": "@jupyter-widgets/base",
            "top": null,
            "grid_column": null,
            "overflow_y": null,
            "overflow_x": null,
            "grid_auto_flow": null,
            "grid_area": null,
            "grid_template_columns": null,
            "flex": null,
            "_model_name": "LayoutModel",
            "justify_items": null,
            "grid_row": null,
            "max_height": null,
            "align_content": null,
            "visibility": null,
            "align_self": null,
            "height": null,
            "min_height": null,
            "padding": null,
            "grid_auto_rows": null,
            "grid_gap": null,
            "max_width": null,
            "order": null,
            "_view_module_version": "1.2.0",
            "grid_template_areas": null,
            "object_position": null,
            "object_fit": null,
            "grid_auto_columns": null,
            "margin": null,
            "display": null,
            "left": null
          }
        },
        "5c32534c74ec4cbaa1b5bb2a84f7e91c": {
          "model_module": "@jupyter-widgets/controls",
          "model_name": "HBoxModel",
          "state": {
            "_view_name": "HBoxView",
            "_dom_classes": [],
            "_model_name": "HBoxModel",
            "_view_module": "@jupyter-widgets/controls",
            "_model_module_version": "1.5.0",
            "_view_count": null,
            "_view_module_version": "1.5.0",
            "box_style": "",
            "layout": "IPY_MODEL_1a0bbaad7a94400e8f117fe68728da2a",
            "_model_module": "@jupyter-widgets/controls",
            "children": [
              "IPY_MODEL_6eb69a1f4a144ba38573f0e073a2c2a0",
              "IPY_MODEL_fa53e73f3cc64e6c88b396b7b8c1ac31"
            ]
          }
        },
        "1a0bbaad7a94400e8f117fe68728da2a": {
          "model_module": "@jupyter-widgets/base",
          "model_name": "LayoutModel",
          "state": {
            "_view_name": "LayoutView",
            "grid_template_rows": null,
            "right": null,
            "justify_content": null,
            "_view_module": "@jupyter-widgets/base",
            "overflow": null,
            "_model_module_version": "1.2.0",
            "_view_count": null,
            "flex_flow": null,
            "width": null,
            "min_width": null,
            "border": null,
            "align_items": null,
            "bottom": null,
            "_model_module": "@jupyter-widgets/base",
            "top": null,
            "grid_column": null,
            "overflow_y": null,
            "overflow_x": null,
            "grid_auto_flow": null,
            "grid_area": null,
            "grid_template_columns": null,
            "flex": null,
            "_model_name": "LayoutModel",
            "justify_items": null,
            "grid_row": null,
            "max_height": null,
            "align_content": null,
            "visibility": null,
            "align_self": null,
            "height": null,
            "min_height": null,
            "padding": null,
            "grid_auto_rows": null,
            "grid_gap": null,
            "max_width": null,
            "order": null,
            "_view_module_version": "1.2.0",
            "grid_template_areas": null,
            "object_position": null,
            "object_fit": null,
            "grid_auto_columns": null,
            "margin": null,
            "display": null,
            "left": null
          }
        },
        "6eb69a1f4a144ba38573f0e073a2c2a0": {
          "model_module": "@jupyter-widgets/controls",
          "model_name": "FloatProgressModel",
          "state": {
            "_view_name": "ProgressView",
            "style": "IPY_MODEL_81ecf30df58345cd96c6602df61da48c",
            "_dom_classes": [],
            "description": "Downloading: 100%",
            "_model_name": "FloatProgressModel",
            "bar_style": "success",
            "max": 456318,
            "_view_module": "@jupyter-widgets/controls",
            "_model_module_version": "1.5.0",
            "value": 456318,
            "_view_count": null,
            "_view_module_version": "1.5.0",
            "orientation": "horizontal",
            "min": 0,
            "description_tooltip": null,
            "_model_module": "@jupyter-widgets/controls",
            "layout": "IPY_MODEL_fe34274344b54d45a34e7deabf1d6652"
          }
        },
        "fa53e73f3cc64e6c88b396b7b8c1ac31": {
          "model_module": "@jupyter-widgets/controls",
          "model_name": "HTMLModel",
          "state": {
            "_view_name": "HTMLView",
            "style": "IPY_MODEL_145aafeaf47949a899363bfc401af7fc",
            "_dom_classes": [],
            "description": "",
            "_model_name": "HTMLModel",
            "placeholder": "​",
            "_view_module": "@jupyter-widgets/controls",
            "_model_module_version": "1.5.0",
            "value": " 456k/456k [00:01&lt;00:00, 255kB/s]",
            "_view_count": null,
            "_view_module_version": "1.5.0",
            "description_tooltip": null,
            "_model_module": "@jupyter-widgets/controls",
            "layout": "IPY_MODEL_32523a6e075844eea4efd3cf4aeb344a"
          }
        },
        "81ecf30df58345cd96c6602df61da48c": {
          "model_module": "@jupyter-widgets/controls",
          "model_name": "ProgressStyleModel",
          "state": {
            "_view_name": "StyleView",
            "_model_name": "ProgressStyleModel",
            "description_width": "initial",
            "_view_module": "@jupyter-widgets/base",
            "_model_module_version": "1.5.0",
            "_view_count": null,
            "_view_module_version": "1.2.0",
            "bar_color": null,
            "_model_module": "@jupyter-widgets/controls"
          }
        },
        "fe34274344b54d45a34e7deabf1d6652": {
          "model_module": "@jupyter-widgets/base",
          "model_name": "LayoutModel",
          "state": {
            "_view_name": "LayoutView",
            "grid_template_rows": null,
            "right": null,
            "justify_content": null,
            "_view_module": "@jupyter-widgets/base",
            "overflow": null,
            "_model_module_version": "1.2.0",
            "_view_count": null,
            "flex_flow": null,
            "width": null,
            "min_width": null,
            "border": null,
            "align_items": null,
            "bottom": null,
            "_model_module": "@jupyter-widgets/base",
            "top": null,
            "grid_column": null,
            "overflow_y": null,
            "overflow_x": null,
            "grid_auto_flow": null,
            "grid_area": null,
            "grid_template_columns": null,
            "flex": null,
            "_model_name": "LayoutModel",
            "justify_items": null,
            "grid_row": null,
            "max_height": null,
            "align_content": null,
            "visibility": null,
            "align_self": null,
            "height": null,
            "min_height": null,
            "padding": null,
            "grid_auto_rows": null,
            "grid_gap": null,
            "max_width": null,
            "order": null,
            "_view_module_version": "1.2.0",
            "grid_template_areas": null,
            "object_position": null,
            "object_fit": null,
            "grid_auto_columns": null,
            "margin": null,
            "display": null,
            "left": null
          }
        },
        "145aafeaf47949a899363bfc401af7fc": {
          "model_module": "@jupyter-widgets/controls",
          "model_name": "DescriptionStyleModel",
          "state": {
            "_view_name": "StyleView",
            "_model_name": "DescriptionStyleModel",
            "description_width": "",
            "_view_module": "@jupyter-widgets/base",
            "_model_module_version": "1.5.0",
            "_view_count": null,
            "_view_module_version": "1.2.0",
            "_model_module": "@jupyter-widgets/controls"
          }
        },
        "32523a6e075844eea4efd3cf4aeb344a": {
          "model_module": "@jupyter-widgets/base",
          "model_name": "LayoutModel",
          "state": {
            "_view_name": "LayoutView",
            "grid_template_rows": null,
            "right": null,
            "justify_content": null,
            "_view_module": "@jupyter-widgets/base",
            "overflow": null,
            "_model_module_version": "1.2.0",
            "_view_count": null,
            "flex_flow": null,
            "width": null,
            "min_width": null,
            "border": null,
            "align_items": null,
            "bottom": null,
            "_model_module": "@jupyter-widgets/base",
            "top": null,
            "grid_column": null,
            "overflow_y": null,
            "overflow_x": null,
            "grid_auto_flow": null,
            "grid_area": null,
            "grid_template_columns": null,
            "flex": null,
            "_model_name": "LayoutModel",
            "justify_items": null,
            "grid_row": null,
            "max_height": null,
            "align_content": null,
            "visibility": null,
            "align_self": null,
            "height": null,
            "min_height": null,
            "padding": null,
            "grid_auto_rows": null,
            "grid_gap": null,
            "max_width": null,
            "order": null,
            "_view_module_version": "1.2.0",
            "grid_template_areas": null,
            "object_position": null,
            "object_fit": null,
            "grid_auto_columns": null,
            "margin": null,
            "display": null,
            "left": null
          }
        },
        "c2201fc34d7046e19c8723d6e5cce00d": {
          "model_module": "@jupyter-widgets/controls",
          "model_name": "HBoxModel",
          "state": {
            "_view_name": "HBoxView",
            "_dom_classes": [],
            "_model_name": "HBoxModel",
            "_view_module": "@jupyter-widgets/controls",
            "_model_module_version": "1.5.0",
            "_view_count": null,
            "_view_module_version": "1.5.0",
            "box_style": "",
            "layout": "IPY_MODEL_2227fd18ba8b4d4286079183ad9dbe0e",
            "_model_module": "@jupyter-widgets/controls",
            "children": [
              "IPY_MODEL_0b17a4d4b4604e0890e62cc342a3cf38",
              "IPY_MODEL_8ff6eb4db75b4e3f9ecbda078159f954"
            ]
          }
        },
        "2227fd18ba8b4d4286079183ad9dbe0e": {
          "model_module": "@jupyter-widgets/base",
          "model_name": "LayoutModel",
          "state": {
            "_view_name": "LayoutView",
            "grid_template_rows": null,
            "right": null,
            "justify_content": null,
            "_view_module": "@jupyter-widgets/base",
            "overflow": null,
            "_model_module_version": "1.2.0",
            "_view_count": null,
            "flex_flow": null,
            "width": null,
            "min_width": null,
            "border": null,
            "align_items": null,
            "bottom": null,
            "_model_module": "@jupyter-widgets/base",
            "top": null,
            "grid_column": null,
            "overflow_y": null,
            "overflow_x": null,
            "grid_auto_flow": null,
            "grid_area": null,
            "grid_template_columns": null,
            "flex": null,
            "_model_name": "LayoutModel",
            "justify_items": null,
            "grid_row": null,
            "max_height": null,
            "align_content": null,
            "visibility": null,
            "align_self": null,
            "height": null,
            "min_height": null,
            "padding": null,
            "grid_auto_rows": null,
            "grid_gap": null,
            "max_width": null,
            "order": null,
            "_view_module_version": "1.2.0",
            "grid_template_areas": null,
            "object_position": null,
            "object_fit": null,
            "grid_auto_columns": null,
            "margin": null,
            "display": null,
            "left": null
          }
        },
        "0b17a4d4b4604e0890e62cc342a3cf38": {
          "model_module": "@jupyter-widgets/controls",
          "model_name": "FloatProgressModel",
          "state": {
            "_view_name": "ProgressView",
            "style": "IPY_MODEL_ccda11342bf84baabb582705c6774254",
            "_dom_classes": [],
            "description": "Downloading: 100%",
            "_model_name": "FloatProgressModel",
            "bar_style": "success",
            "max": 1355256,
            "_view_module": "@jupyter-widgets/controls",
            "_model_module_version": "1.5.0",
            "value": 1355256,
            "_view_count": null,
            "_view_module_version": "1.5.0",
            "orientation": "horizontal",
            "min": 0,
            "description_tooltip": null,
            "_model_module": "@jupyter-widgets/controls",
            "layout": "IPY_MODEL_2f134ac83d9746638534ad681d7bc1b4"
          }
        },
        "8ff6eb4db75b4e3f9ecbda078159f954": {
          "model_module": "@jupyter-widgets/controls",
          "model_name": "HTMLModel",
          "state": {
            "_view_name": "HTMLView",
            "style": "IPY_MODEL_069f511c331449b287e9f349b373fa84",
            "_dom_classes": [],
            "description": "",
            "_model_name": "HTMLModel",
            "placeholder": "​",
            "_view_module": "@jupyter-widgets/controls",
            "_model_module_version": "1.5.0",
            "value": " 1.36M/1.36M [00:00&lt;00:00, 3.10MB/s]",
            "_view_count": null,
            "_view_module_version": "1.5.0",
            "description_tooltip": null,
            "_model_module": "@jupyter-widgets/controls",
            "layout": "IPY_MODEL_e333a94abbc74dd99d5ef0b14c1bd718"
          }
        },
        "ccda11342bf84baabb582705c6774254": {
          "model_module": "@jupyter-widgets/controls",
          "model_name": "ProgressStyleModel",
          "state": {
            "_view_name": "StyleView",
            "_model_name": "ProgressStyleModel",
            "description_width": "initial",
            "_view_module": "@jupyter-widgets/base",
            "_model_module_version": "1.5.0",
            "_view_count": null,
            "_view_module_version": "1.2.0",
            "bar_color": null,
            "_model_module": "@jupyter-widgets/controls"
          }
        },
        "2f134ac83d9746638534ad681d7bc1b4": {
          "model_module": "@jupyter-widgets/base",
          "model_name": "LayoutModel",
          "state": {
            "_view_name": "LayoutView",
            "grid_template_rows": null,
            "right": null,
            "justify_content": null,
            "_view_module": "@jupyter-widgets/base",
            "overflow": null,
            "_model_module_version": "1.2.0",
            "_view_count": null,
            "flex_flow": null,
            "width": null,
            "min_width": null,
            "border": null,
            "align_items": null,
            "bottom": null,
            "_model_module": "@jupyter-widgets/base",
            "top": null,
            "grid_column": null,
            "overflow_y": null,
            "overflow_x": null,
            "grid_auto_flow": null,
            "grid_area": null,
            "grid_template_columns": null,
            "flex": null,
            "_model_name": "LayoutModel",
            "justify_items": null,
            "grid_row": null,
            "max_height": null,
            "align_content": null,
            "visibility": null,
            "align_self": null,
            "height": null,
            "min_height": null,
            "padding": null,
            "grid_auto_rows": null,
            "grid_gap": null,
            "max_width": null,
            "order": null,
            "_view_module_version": "1.2.0",
            "grid_template_areas": null,
            "object_position": null,
            "object_fit": null,
            "grid_auto_columns": null,
            "margin": null,
            "display": null,
            "left": null
          }
        },
        "069f511c331449b287e9f349b373fa84": {
          "model_module": "@jupyter-widgets/controls",
          "model_name": "DescriptionStyleModel",
          "state": {
            "_view_name": "StyleView",
            "_model_name": "DescriptionStyleModel",
            "description_width": "",
            "_view_module": "@jupyter-widgets/base",
            "_model_module_version": "1.5.0",
            "_view_count": null,
            "_view_module_version": "1.2.0",
            "_model_module": "@jupyter-widgets/controls"
          }
        },
        "e333a94abbc74dd99d5ef0b14c1bd718": {
          "model_module": "@jupyter-widgets/base",
          "model_name": "LayoutModel",
          "state": {
            "_view_name": "LayoutView",
            "grid_template_rows": null,
            "right": null,
            "justify_content": null,
            "_view_module": "@jupyter-widgets/base",
            "overflow": null,
            "_model_module_version": "1.2.0",
            "_view_count": null,
            "flex_flow": null,
            "width": null,
            "min_width": null,
            "border": null,
            "align_items": null,
            "bottom": null,
            "_model_module": "@jupyter-widgets/base",
            "top": null,
            "grid_column": null,
            "overflow_y": null,
            "overflow_x": null,
            "grid_auto_flow": null,
            "grid_area": null,
            "grid_template_columns": null,
            "flex": null,
            "_model_name": "LayoutModel",
            "justify_items": null,
            "grid_row": null,
            "max_height": null,
            "align_content": null,
            "visibility": null,
            "align_self": null,
            "height": null,
            "min_height": null,
            "padding": null,
            "grid_auto_rows": null,
            "grid_gap": null,
            "max_width": null,
            "order": null,
            "_view_module_version": "1.2.0",
            "grid_template_areas": null,
            "object_position": null,
            "object_fit": null,
            "grid_auto_columns": null,
            "margin": null,
            "display": null,
            "left": null
          }
        },
        "870a3c5b28eb47c39faf854c3172b4fd": {
          "model_module": "@jupyter-widgets/controls",
          "model_name": "HBoxModel",
          "state": {
            "_view_name": "HBoxView",
            "_dom_classes": [],
            "_model_name": "HBoxModel",
            "_view_module": "@jupyter-widgets/controls",
            "_model_module_version": "1.5.0",
            "_view_count": null,
            "_view_module_version": "1.5.0",
            "box_style": "",
            "layout": "IPY_MODEL_9c0a769f92804d4ca855ee825b82595a",
            "_model_module": "@jupyter-widgets/controls",
            "children": [
              "IPY_MODEL_78a0ec6a9c264e709b66671122dd8560",
              "IPY_MODEL_0d92fe01459146fdaf35bae99c450e8e"
            ]
          }
        },
        "9c0a769f92804d4ca855ee825b82595a": {
          "model_module": "@jupyter-widgets/base",
          "model_name": "LayoutModel",
          "state": {
            "_view_name": "LayoutView",
            "grid_template_rows": null,
            "right": null,
            "justify_content": null,
            "_view_module": "@jupyter-widgets/base",
            "overflow": null,
            "_model_module_version": "1.2.0",
            "_view_count": null,
            "flex_flow": null,
            "width": null,
            "min_width": null,
            "border": null,
            "align_items": null,
            "bottom": null,
            "_model_module": "@jupyter-widgets/base",
            "top": null,
            "grid_column": null,
            "overflow_y": null,
            "overflow_x": null,
            "grid_auto_flow": null,
            "grid_area": null,
            "grid_template_columns": null,
            "flex": null,
            "_model_name": "LayoutModel",
            "justify_items": null,
            "grid_row": null,
            "max_height": null,
            "align_content": null,
            "visibility": null,
            "align_self": null,
            "height": null,
            "min_height": null,
            "padding": null,
            "grid_auto_rows": null,
            "grid_gap": null,
            "max_width": null,
            "order": null,
            "_view_module_version": "1.2.0",
            "grid_template_areas": null,
            "object_position": null,
            "object_fit": null,
            "grid_auto_columns": null,
            "margin": null,
            "display": null,
            "left": null
          }
        },
        "78a0ec6a9c264e709b66671122dd8560": {
          "model_module": "@jupyter-widgets/controls",
          "model_name": "FloatProgressModel",
          "state": {
            "_view_name": "ProgressView",
            "style": "IPY_MODEL_d374f61e8dfc455385d14abb5680ff90",
            "_dom_classes": [],
            "description": "Downloading: 100%",
            "_model_name": "FloatProgressModel",
            "bar_style": "success",
            "max": 762,
            "_view_module": "@jupyter-widgets/controls",
            "_model_module_version": "1.5.0",
            "value": 762,
            "_view_count": null,
            "_view_module_version": "1.5.0",
            "orientation": "horizontal",
            "min": 0,
            "description_tooltip": null,
            "_model_module": "@jupyter-widgets/controls",
            "layout": "IPY_MODEL_fd645d0d30fa442481cb837a4728fe11"
          }
        },
        "0d92fe01459146fdaf35bae99c450e8e": {
          "model_module": "@jupyter-widgets/controls",
          "model_name": "HTMLModel",
          "state": {
            "_view_name": "HTMLView",
            "style": "IPY_MODEL_feb6dac746ab4df3987623f73e40b660",
            "_dom_classes": [],
            "description": "",
            "_model_name": "HTMLModel",
            "placeholder": "​",
            "_view_module": "@jupyter-widgets/controls",
            "_model_module_version": "1.5.0",
            "value": " 762/762 [00:00&lt;00:00, 3.14kB/s]",
            "_view_count": null,
            "_view_module_version": "1.5.0",
            "description_tooltip": null,
            "_model_module": "@jupyter-widgets/controls",
            "layout": "IPY_MODEL_471f3ef62f4a4351a8c824df62396e76"
          }
        },
        "d374f61e8dfc455385d14abb5680ff90": {
          "model_module": "@jupyter-widgets/controls",
          "model_name": "ProgressStyleModel",
          "state": {
            "_view_name": "StyleView",
            "_model_name": "ProgressStyleModel",
            "description_width": "initial",
            "_view_module": "@jupyter-widgets/base",
            "_model_module_version": "1.5.0",
            "_view_count": null,
            "_view_module_version": "1.2.0",
            "bar_color": null,
            "_model_module": "@jupyter-widgets/controls"
          }
        },
        "fd645d0d30fa442481cb837a4728fe11": {
          "model_module": "@jupyter-widgets/base",
          "model_name": "LayoutModel",
          "state": {
            "_view_name": "LayoutView",
            "grid_template_rows": null,
            "right": null,
            "justify_content": null,
            "_view_module": "@jupyter-widgets/base",
            "overflow": null,
            "_model_module_version": "1.2.0",
            "_view_count": null,
            "flex_flow": null,
            "width": null,
            "min_width": null,
            "border": null,
            "align_items": null,
            "bottom": null,
            "_model_module": "@jupyter-widgets/base",
            "top": null,
            "grid_column": null,
            "overflow_y": null,
            "overflow_x": null,
            "grid_auto_flow": null,
            "grid_area": null,
            "grid_template_columns": null,
            "flex": null,
            "_model_name": "LayoutModel",
            "justify_items": null,
            "grid_row": null,
            "max_height": null,
            "align_content": null,
            "visibility": null,
            "align_self": null,
            "height": null,
            "min_height": null,
            "padding": null,
            "grid_auto_rows": null,
            "grid_gap": null,
            "max_width": null,
            "order": null,
            "_view_module_version": "1.2.0",
            "grid_template_areas": null,
            "object_position": null,
            "object_fit": null,
            "grid_auto_columns": null,
            "margin": null,
            "display": null,
            "left": null
          }
        },
        "feb6dac746ab4df3987623f73e40b660": {
          "model_module": "@jupyter-widgets/controls",
          "model_name": "DescriptionStyleModel",
          "state": {
            "_view_name": "StyleView",
            "_model_name": "DescriptionStyleModel",
            "description_width": "",
            "_view_module": "@jupyter-widgets/base",
            "_model_module_version": "1.5.0",
            "_view_count": null,
            "_view_module_version": "1.2.0",
            "_model_module": "@jupyter-widgets/controls"
          }
        },
        "471f3ef62f4a4351a8c824df62396e76": {
          "model_module": "@jupyter-widgets/base",
          "model_name": "LayoutModel",
          "state": {
            "_view_name": "LayoutView",
            "grid_template_rows": null,
            "right": null,
            "justify_content": null,
            "_view_module": "@jupyter-widgets/base",
            "overflow": null,
            "_model_module_version": "1.2.0",
            "_view_count": null,
            "flex_flow": null,
            "width": null,
            "min_width": null,
            "border": null,
            "align_items": null,
            "bottom": null,
            "_model_module": "@jupyter-widgets/base",
            "top": null,
            "grid_column": null,
            "overflow_y": null,
            "overflow_x": null,
            "grid_auto_flow": null,
            "grid_area": null,
            "grid_template_columns": null,
            "flex": null,
            "_model_name": "LayoutModel",
            "justify_items": null,
            "grid_row": null,
            "max_height": null,
            "align_content": null,
            "visibility": null,
            "align_self": null,
            "height": null,
            "min_height": null,
            "padding": null,
            "grid_auto_rows": null,
            "grid_gap": null,
            "max_width": null,
            "order": null,
            "_view_module_version": "1.2.0",
            "grid_template_areas": null,
            "object_position": null,
            "object_fit": null,
            "grid_auto_columns": null,
            "margin": null,
            "display": null,
            "left": null
          }
        },
        "e4e964d738d04ed98f85d18ee603c2d4": {
          "model_module": "@jupyter-widgets/controls",
          "model_name": "HBoxModel",
          "state": {
            "_view_name": "HBoxView",
            "_dom_classes": [],
            "_model_name": "HBoxModel",
            "_view_module": "@jupyter-widgets/controls",
            "_model_module_version": "1.5.0",
            "_view_count": null,
            "_view_module_version": "1.5.0",
            "box_style": "",
            "layout": "IPY_MODEL_03ef5f891c8341dda31efdfaeddf7c68",
            "_model_module": "@jupyter-widgets/controls",
            "children": [
              "IPY_MODEL_9e53cfff694e44a28c6bb30f11e25a9a",
              "IPY_MODEL_a1d4eabbdc1e4afd9dce74a4e2840682"
            ]
          }
        },
        "03ef5f891c8341dda31efdfaeddf7c68": {
          "model_module": "@jupyter-widgets/base",
          "model_name": "LayoutModel",
          "state": {
            "_view_name": "LayoutView",
            "grid_template_rows": null,
            "right": null,
            "justify_content": null,
            "_view_module": "@jupyter-widgets/base",
            "overflow": null,
            "_model_module_version": "1.2.0",
            "_view_count": null,
            "flex_flow": null,
            "width": null,
            "min_width": null,
            "border": null,
            "align_items": null,
            "bottom": null,
            "_model_module": "@jupyter-widgets/base",
            "top": null,
            "grid_column": null,
            "overflow_y": null,
            "overflow_x": null,
            "grid_auto_flow": null,
            "grid_area": null,
            "grid_template_columns": null,
            "flex": null,
            "_model_name": "LayoutModel",
            "justify_items": null,
            "grid_row": null,
            "max_height": null,
            "align_content": null,
            "visibility": null,
            "align_self": null,
            "height": null,
            "min_height": null,
            "padding": null,
            "grid_auto_rows": null,
            "grid_gap": null,
            "max_width": null,
            "order": null,
            "_view_module_version": "1.2.0",
            "grid_template_areas": null,
            "object_position": null,
            "object_fit": null,
            "grid_auto_columns": null,
            "margin": null,
            "display": null,
            "left": null
          }
        },
        "9e53cfff694e44a28c6bb30f11e25a9a": {
          "model_module": "@jupyter-widgets/controls",
          "model_name": "FloatProgressModel",
          "state": {
            "_view_name": "ProgressView",
            "style": "IPY_MODEL_13e59ebfac894e9b90c92ff5ab3a1335",
            "_dom_classes": [],
            "description": "Downloading: 100%",
            "_model_name": "FloatProgressModel",
            "bar_style": "success",
            "max": 352833716,
            "_view_module": "@jupyter-widgets/controls",
            "_model_module_version": "1.5.0",
            "value": 352833716,
            "_view_count": null,
            "_view_module_version": "1.5.0",
            "orientation": "horizontal",
            "min": 0,
            "description_tooltip": null,
            "_model_module": "@jupyter-widgets/controls",
            "layout": "IPY_MODEL_f926e96534854a10949e4e4a35190ddb"
          }
        },
        "a1d4eabbdc1e4afd9dce74a4e2840682": {
          "model_module": "@jupyter-widgets/controls",
          "model_name": "HTMLModel",
          "state": {
            "_view_name": "HTMLView",
            "style": "IPY_MODEL_1cbc5be7c8284653af5afa63047ffe0c",
            "_dom_classes": [],
            "description": "",
            "_model_name": "HTMLModel",
            "placeholder": "​",
            "_view_module": "@jupyter-widgets/controls",
            "_model_module_version": "1.5.0",
            "value": " 353M/353M [00:06&lt;00:00, 55.7MB/s]",
            "_view_count": null,
            "_view_module_version": "1.5.0",
            "description_tooltip": null,
            "_model_module": "@jupyter-widgets/controls",
            "layout": "IPY_MODEL_93f1f1ac5c2b4510af949849a9c15421"
          }
        },
        "13e59ebfac894e9b90c92ff5ab3a1335": {
          "model_module": "@jupyter-widgets/controls",
          "model_name": "ProgressStyleModel",
          "state": {
            "_view_name": "StyleView",
            "_model_name": "ProgressStyleModel",
            "description_width": "initial",
            "_view_module": "@jupyter-widgets/base",
            "_model_module_version": "1.5.0",
            "_view_count": null,
            "_view_module_version": "1.2.0",
            "bar_color": null,
            "_model_module": "@jupyter-widgets/controls"
          }
        },
        "f926e96534854a10949e4e4a35190ddb": {
          "model_module": "@jupyter-widgets/base",
          "model_name": "LayoutModel",
          "state": {
            "_view_name": "LayoutView",
            "grid_template_rows": null,
            "right": null,
            "justify_content": null,
            "_view_module": "@jupyter-widgets/base",
            "overflow": null,
            "_model_module_version": "1.2.0",
            "_view_count": null,
            "flex_flow": null,
            "width": null,
            "min_width": null,
            "border": null,
            "align_items": null,
            "bottom": null,
            "_model_module": "@jupyter-widgets/base",
            "top": null,
            "grid_column": null,
            "overflow_y": null,
            "overflow_x": null,
            "grid_auto_flow": null,
            "grid_area": null,
            "grid_template_columns": null,
            "flex": null,
            "_model_name": "LayoutModel",
            "justify_items": null,
            "grid_row": null,
            "max_height": null,
            "align_content": null,
            "visibility": null,
            "align_self": null,
            "height": null,
            "min_height": null,
            "padding": null,
            "grid_auto_rows": null,
            "grid_gap": null,
            "max_width": null,
            "order": null,
            "_view_module_version": "1.2.0",
            "grid_template_areas": null,
            "object_position": null,
            "object_fit": null,
            "grid_auto_columns": null,
            "margin": null,
            "display": null,
            "left": null
          }
        },
        "1cbc5be7c8284653af5afa63047ffe0c": {
          "model_module": "@jupyter-widgets/controls",
          "model_name": "DescriptionStyleModel",
          "state": {
            "_view_name": "StyleView",
            "_model_name": "DescriptionStyleModel",
            "description_width": "",
            "_view_module": "@jupyter-widgets/base",
            "_model_module_version": "1.5.0",
            "_view_count": null,
            "_view_module_version": "1.2.0",
            "_model_module": "@jupyter-widgets/controls"
          }
        },
        "93f1f1ac5c2b4510af949849a9c15421": {
          "model_module": "@jupyter-widgets/base",
          "model_name": "LayoutModel",
          "state": {
            "_view_name": "LayoutView",
            "grid_template_rows": null,
            "right": null,
            "justify_content": null,
            "_view_module": "@jupyter-widgets/base",
            "overflow": null,
            "_model_module_version": "1.2.0",
            "_view_count": null,
            "flex_flow": null,
            "width": null,
            "min_width": null,
            "border": null,
            "align_items": null,
            "bottom": null,
            "_model_module": "@jupyter-widgets/base",
            "top": null,
            "grid_column": null,
            "overflow_y": null,
            "overflow_x": null,
            "grid_auto_flow": null,
            "grid_area": null,
            "grid_template_columns": null,
            "flex": null,
            "_model_name": "LayoutModel",
            "justify_items": null,
            "grid_row": null,
            "max_height": null,
            "align_content": null,
            "visibility": null,
            "align_self": null,
            "height": null,
            "min_height": null,
            "padding": null,
            "grid_auto_rows": null,
            "grid_gap": null,
            "max_width": null,
            "order": null,
            "_view_module_version": "1.2.0",
            "grid_template_areas": null,
            "object_position": null,
            "object_fit": null,
            "grid_auto_columns": null,
            "margin": null,
            "display": null,
            "left": null
          }
        }
      }
    }
  },
  "cells": [
    {
      "cell_type": "markdown",
      "metadata": {
        "id": "view-in-github",
        "colab_type": "text"
      },
      "source": [
        "<a href=\"https://colab.research.google.com/github/gagan3012/keytotext/blob/master/Notebooks/GPTModelKTK.ipynb\" target=\"_parent\"><img src=\"https://colab.research.google.com/assets/colab-badge.svg\" alt=\"Open In Colab\"/></a>"
      ]
    },
    {
      "cell_type": "code",
      "metadata": {
        "colab": {
          "base_uri": "https://localhost:8080/",
          "height": 416
        },
        "id": "ag9riM5s3Pld",
        "outputId": "de1f6e90-cd14-4729-d934-2afec7d53778"
      },
      "source": [
        "from IPython.display import HTML\n",
        "from subprocess import getoutput\n",
        "s = getoutput('nvidia-smi')\n",
        "if 'K80' in s:\n",
        "  gpu = 'K80'\n",
        "elif 'T4' in s:\n",
        "  gpu = 'T4'\n",
        "elif 'P100' in s:\n",
        "  gpu = 'P100'\n",
        "display(HTML(f\"<h2>{gpu}</h2>\"))\n",
        "print(s)\n",
        "# or simply\n",
        "!nvidia-smi -L"
      ],
      "execution_count": 20,
      "outputs": [
        {
          "output_type": "display_data",
          "data": {
            "text/html": [
              "<h2>P100</h2>"
            ],
            "text/plain": [
              "<IPython.core.display.HTML object>"
            ]
          },
          "metadata": {
            "tags": []
          }
        },
        {
          "output_type": "stream",
          "text": [
            "Fri Mar 19 14:20:29 2021       \n",
            "+-----------------------------------------------------------------------------+\n",
            "| NVIDIA-SMI 460.56       Driver Version: 460.32.03    CUDA Version: 11.2     |\n",
            "|-------------------------------+----------------------+----------------------+\n",
            "| GPU  Name        Persistence-M| Bus-Id        Disp.A | Volatile Uncorr. ECC |\n",
            "| Fan  Temp  Perf  Pwr:Usage/Cap|         Memory-Usage | GPU-Util  Compute M. |\n",
            "|                               |                      |               MIG M. |\n",
            "|===============================+======================+======================|\n",
            "|   0  Tesla P100-PCIE...  Off  | 00000000:00:04.0 Off |                    0 |\n",
            "| N/A   40C    P0    35W / 250W |   6913MiB / 16280MiB |      0%      Default |\n",
            "|                               |                      |                  N/A |\n",
            "+-------------------------------+----------------------+----------------------+\n",
            "                                                                               \n",
            "+-----------------------------------------------------------------------------+\n",
            "| Processes:                                                                  |\n",
            "|  GPU   GI   CI        PID   Type   Process name                  GPU Memory |\n",
            "|        ID   ID                                                   Usage      |\n",
            "|=============================================================================|\n",
            "+-----------------------------------------------------------------------------+\n",
            "GPU 0: Tesla P100-PCIE-16GB (UUID: GPU-025592e3-86c8-d06f-3f41-0b97fec51bd9)\n"
          ],
          "name": "stdout"
        }
      ]
    },
    {
      "cell_type": "code",
      "metadata": {
        "id": "bipUQSsC-Ff7",
        "colab": {
          "base_uri": "https://localhost:8080/"
        },
        "outputId": "94eda721-f7c3-4022-c138-15b83866420e"
      },
      "source": [
        "import psutil\n",
        "def get_size(bytes, suffix=\"B\"):\n",
        "    factor = 1024\n",
        "    for unit in [\"\", \"K\", \"M\", \"G\", \"T\", \"P\"]:\n",
        "        if bytes < factor:\n",
        "            return f\"{bytes:.2f}{unit}{suffix}\"\n",
        "        bytes /= factor\n",
        "print(\"=\"*40, \"Memory Information\", \"=\"*40)\n",
        "svmem = psutil.virtual_memory()\n",
        "print(f\"Total: {get_size(svmem.total)}\") ; print(f\"Available: {get_size(svmem.available)}\")\n",
        "print(f\"Used: {get_size(svmem.used)}\") ; print(f\"Percentage: {svmem.percent}%\")"
      ],
      "execution_count": 21,
      "outputs": [
        {
          "output_type": "stream",
          "text": [
            "======================================== Memory Information ========================================\n",
            "Total: 12.72GB\n",
            "Available: 9.62GB\n",
            "Used: 4.29GB\n",
            "Percentage: 24.3%\n"
          ],
          "name": "stdout"
        }
      ]
    },
    {
      "cell_type": "code",
      "metadata": {
        "colab": {
          "base_uri": "https://localhost:8080/"
        },
        "id": "Itnr5lIcdwD1",
        "outputId": "2de2f8b3-34ad-43a7-c4aa-aba2165b0873"
      },
      "source": [
        "import os\n",
        "import datetime\n",
        "import time\n",
        "import random\n",
        "\n",
        "import pandas as pd\n",
        "import numpy as np\n",
        "import re\n",
        "\n",
        "import torch\n",
        "from torch.utils.data import Dataset, DataLoader, RandomSampler, SequentialSampler\n",
        "\n",
        "from tqdm import tqdm\n",
        "\n",
        "!pip install transformers\n",
        "\n",
        "from transformers import (\n",
        "\tAdamW,\n",
        "\tGPT2LMHeadModel,\n",
        "\tGPT2Tokenizer, \n",
        "\tGPT2Config,\n",
        "\tget_linear_schedule_with_warmup\n",
        ")"
      ],
      "execution_count": 3,
      "outputs": [
        {
          "output_type": "stream",
          "text": [
            "Collecting transformers\n",
            "\u001b[?25l  Downloading https://files.pythonhosted.org/packages/ed/d5/f4157a376b8a79489a76ce6cfe147f4f3be1e029b7144fa7b8432e8acb26/transformers-4.4.2-py3-none-any.whl (2.0MB)\n",
            "\u001b[K     |████████████████████████████████| 2.0MB 7.3MB/s \n",
            "\u001b[?25hRequirement already satisfied: numpy>=1.17 in /usr/local/lib/python3.7/dist-packages (from transformers) (1.19.5)\n",
            "Collecting sacremoses\n",
            "\u001b[?25l  Downloading https://files.pythonhosted.org/packages/7d/34/09d19aff26edcc8eb2a01bed8e98f13a1537005d31e95233fd48216eed10/sacremoses-0.0.43.tar.gz (883kB)\n",
            "\u001b[K     |████████████████████████████████| 890kB 50.1MB/s \n",
            "\u001b[?25hRequirement already satisfied: regex!=2019.12.17 in /usr/local/lib/python3.7/dist-packages (from transformers) (2019.12.20)\n",
            "Requirement already satisfied: packaging in /usr/local/lib/python3.7/dist-packages (from transformers) (20.9)\n",
            "Requirement already satisfied: tqdm>=4.27 in /usr/local/lib/python3.7/dist-packages (from transformers) (4.41.1)\n",
            "Requirement already satisfied: requests in /usr/local/lib/python3.7/dist-packages (from transformers) (2.23.0)\n",
            "Requirement already satisfied: importlib-metadata; python_version < \"3.8\" in /usr/local/lib/python3.7/dist-packages (from transformers) (3.7.2)\n",
            "Collecting tokenizers<0.11,>=0.10.1\n",
            "\u001b[?25l  Downloading https://files.pythonhosted.org/packages/71/23/2ddc317b2121117bf34dd00f5b0de194158f2a44ee2bf5e47c7166878a97/tokenizers-0.10.1-cp37-cp37m-manylinux2010_x86_64.whl (3.2MB)\n",
            "\u001b[K     |████████████████████████████████| 3.2MB 56.1MB/s \n",
            "\u001b[?25hRequirement already satisfied: filelock in /usr/local/lib/python3.7/dist-packages (from transformers) (3.0.12)\n",
            "Requirement already satisfied: six in /usr/local/lib/python3.7/dist-packages (from sacremoses->transformers) (1.15.0)\n",
            "Requirement already satisfied: click in /usr/local/lib/python3.7/dist-packages (from sacremoses->transformers) (7.1.2)\n",
            "Requirement already satisfied: joblib in /usr/local/lib/python3.7/dist-packages (from sacremoses->transformers) (1.0.1)\n",
            "Requirement already satisfied: pyparsing>=2.0.2 in /usr/local/lib/python3.7/dist-packages (from packaging->transformers) (2.4.7)\n",
            "Requirement already satisfied: idna<3,>=2.5 in /usr/local/lib/python3.7/dist-packages (from requests->transformers) (2.10)\n",
            "Requirement already satisfied: certifi>=2017.4.17 in /usr/local/lib/python3.7/dist-packages (from requests->transformers) (2020.12.5)\n",
            "Requirement already satisfied: chardet<4,>=3.0.2 in /usr/local/lib/python3.7/dist-packages (from requests->transformers) (3.0.4)\n",
            "Requirement already satisfied: urllib3!=1.25.0,!=1.25.1,<1.26,>=1.21.1 in /usr/local/lib/python3.7/dist-packages (from requests->transformers) (1.24.3)\n",
            "Requirement already satisfied: zipp>=0.5 in /usr/local/lib/python3.7/dist-packages (from importlib-metadata; python_version < \"3.8\"->transformers) (3.4.1)\n",
            "Requirement already satisfied: typing-extensions>=3.6.4; python_version < \"3.8\" in /usr/local/lib/python3.7/dist-packages (from importlib-metadata; python_version < \"3.8\"->transformers) (3.7.4.3)\n",
            "Building wheels for collected packages: sacremoses\n",
            "  Building wheel for sacremoses (setup.py) ... \u001b[?25l\u001b[?25hdone\n",
            "  Created wheel for sacremoses: filename=sacremoses-0.0.43-cp37-none-any.whl size=893262 sha256=6a3c7ff7c9d6186afe4095c67daa9e82189e184618e3c5273acd1e16a3c11477\n",
            "  Stored in directory: /root/.cache/pip/wheels/29/3c/fd/7ce5c3f0666dab31a50123635e6fb5e19ceb42ce38d4e58f45\n",
            "Successfully built sacremoses\n",
            "Installing collected packages: sacremoses, tokenizers, transformers\n",
            "Successfully installed sacremoses-0.0.43 tokenizers-0.10.1 transformers-4.4.2\n"
          ],
          "name": "stdout"
        }
      ]
    },
    {
      "cell_type": "code",
      "metadata": {
        "colab": {
          "base_uri": "https://localhost:8080/"
        },
        "id": "sy7VnRXFeM4T",
        "outputId": "7129361b-849c-4839-aab9-be1e9687fc5d"
      },
      "source": [
        "!git clone https://github.com/gagan3012/keytotext"
      ],
      "execution_count": 4,
      "outputs": [
        {
          "output_type": "stream",
          "text": [
            "Cloning into 'keytotext'...\n",
            "remote: Enumerating objects: 127, done.\u001b[K\n",
            "remote: Counting objects: 100% (127/127), done.\u001b[K\n",
            "remote: Compressing objects: 100% (104/104), done.\u001b[K\n",
            "remote: Total 127 (delta 57), reused 54 (delta 16), pack-reused 0\u001b[K\n",
            "Receiving objects: 100% (127/127), 2.54 MiB | 10.00 MiB/s, done.\n",
            "Resolving deltas: 100% (57/57), done.\n"
          ],
          "name": "stdout"
        }
      ]
    },
    {
      "cell_type": "code",
      "metadata": {
        "id": "ho280FlEd9Iz"
      },
      "source": [
        "class BOTHData(Dataset):\n",
        "\tdef __init__(self, tokenizer, max_source_length,\n",
        "\t\tmax_target_length, type_path):\n",
        "\t\tsuper().__init__()\n",
        "\t\tself.tokenizer = tokenizer\n",
        "\t\tself.max_source_length = max_source_length\n",
        "\t\tself.max_target_length = max_target_length\n",
        "\t\tself.input_ids = []\n",
        "\t\tself.attn_masks = []\n",
        "\t\tself._build(type_path)\n",
        "\t\n",
        "\tdef __len__(self):\n",
        "\t\treturn len(self.input_ids)\n",
        "\t\n",
        "\tdef __getitem__(self, index):\n",
        "\n",
        "\t\treturn self.input_ids[index], self.attn_masks[index]\n",
        "\n",
        "\tdef _build(self, type_path):\n",
        "\t\tif type_path == 'train':\n",
        "\t\t\t#df1 = pd.read_csv('/content/keytotext/data/dart_train.csv')\n",
        "\t\t\tdf = pd.read_csv('/content/keytotext/data/webnlg_train.csv')\n",
        "\t\telif type_path == 'eval':\n",
        "\t\t\t#df = pd.read_csv('/content/keytotext/data/dart_dev.csv')\n",
        "\t\t\tdf = pd.read_csv('/content/keytotext/data/webnlg_dev.csv')\n",
        "\t\telse:\n",
        "\t\t\t#df = pd.read_csv('/content/keytotext/data/dart_test.csv')\n",
        "\t\t\tdf = pd.read_csv('/content/keytotext/data/webnlg_test.csv')\n",
        "\t\t\n",
        "\t#\tdf = pd.concat([df1, df2])\n",
        "\t\t# n = 1 \n",
        "\t\t# df = df.head(int(len(df)*(n/100)))\n",
        "\n",
        "\t\tfor index, row in df.iterrows():\n",
        "\t\t\t\tline = row['input_text']\n",
        "\t\t\t\ttarget = row['target_text']\n",
        "\t\t\t\tencodings = self.tokenizer('<|startoftext|>'+ line + ' = ' + target + '<|endoftext|>', truncation=True, max_length=self.max_source_length, padding=\"max_length\")\n",
        "\t\t\t\tself.input_ids.append(torch.tensor(encodings['input_ids']))\n",
        "\t\t\t\tself.attn_masks.append(torch.tensor(encodings['attention_mask']))"
      ],
      "execution_count": 5,
      "outputs": []
    },
    {
      "cell_type": "code",
      "metadata": {
        "colab": {
          "base_uri": "https://localhost:8080/",
          "height": 254,
          "referenced_widgets": [
            "e8554058f79146c8bdbbc0b7646db5c6",
            "c40a42b5dd224ef88d74c362b2b99f22",
            "1327e82c244d45e2895217ea9748ea1f",
            "17ee2ff1b47e439897bc00380c188688",
            "8173365ef0e24a6e86457413bb55c90a",
            "79aeca81121c44b2b2627d7aefa69f63",
            "33caa558e12f4f428c2620deee56201a",
            "eb07d004090b4910a38c976312c38f38",
            "5c32534c74ec4cbaa1b5bb2a84f7e91c",
            "1a0bbaad7a94400e8f117fe68728da2a",
            "6eb69a1f4a144ba38573f0e073a2c2a0",
            "fa53e73f3cc64e6c88b396b7b8c1ac31",
            "81ecf30df58345cd96c6602df61da48c",
            "fe34274344b54d45a34e7deabf1d6652",
            "145aafeaf47949a899363bfc401af7fc",
            "32523a6e075844eea4efd3cf4aeb344a",
            "c2201fc34d7046e19c8723d6e5cce00d",
            "2227fd18ba8b4d4286079183ad9dbe0e",
            "0b17a4d4b4604e0890e62cc342a3cf38",
            "8ff6eb4db75b4e3f9ecbda078159f954",
            "ccda11342bf84baabb582705c6774254",
            "2f134ac83d9746638534ad681d7bc1b4",
            "069f511c331449b287e9f349b373fa84",
            "e333a94abbc74dd99d5ef0b14c1bd718"
          ]
        },
        "id": "lGab1x1Gegc8",
        "outputId": "96d08f65-89ca-45a0-ded4-020edeeff5b5"
      },
      "source": [
        "tokenizer = GPT2Tokenizer.from_pretrained('distilgpt2', bos_token='<|startoftext|>', eos_token='<|endoftext|>', pad_token='<|pad|>') \n",
        "\n",
        "print(\"The max model length is {} for this model, although the actual embedding size for GPT small is 768\".format(tokenizer.model_max_length))\n",
        "print(\"The beginning of sequence token {} token has the id {}\".format(tokenizer.convert_ids_to_tokens(tokenizer.bos_token_id), tokenizer.bos_token_id))\n",
        "print(\"The end of sequence token {} has the id {}\".format(tokenizer.convert_ids_to_tokens(tokenizer.eos_token_id), tokenizer.eos_token_id))\n",
        "print(\"The padding token {} has the id {}\".format(tokenizer.convert_ids_to_tokens(tokenizer.pad_token_id), tokenizer.pad_token_id))"
      ],
      "execution_count": 6,
      "outputs": [
        {
          "output_type": "display_data",
          "data": {
            "application/vnd.jupyter.widget-view+json": {
              "model_id": "e8554058f79146c8bdbbc0b7646db5c6",
              "version_minor": 0,
              "version_major": 2
            },
            "text/plain": [
              "HBox(children=(FloatProgress(value=0.0, description='Downloading', max=1042301.0, style=ProgressStyle(descript…"
            ]
          },
          "metadata": {
            "tags": []
          }
        },
        {
          "output_type": "stream",
          "text": [
            "\n"
          ],
          "name": "stdout"
        },
        {
          "output_type": "display_data",
          "data": {
            "application/vnd.jupyter.widget-view+json": {
              "model_id": "5c32534c74ec4cbaa1b5bb2a84f7e91c",
              "version_minor": 0,
              "version_major": 2
            },
            "text/plain": [
              "HBox(children=(FloatProgress(value=0.0, description='Downloading', max=456318.0, style=ProgressStyle(descripti…"
            ]
          },
          "metadata": {
            "tags": []
          }
        },
        {
          "output_type": "stream",
          "text": [
            "\n"
          ],
          "name": "stdout"
        },
        {
          "output_type": "display_data",
          "data": {
            "application/vnd.jupyter.widget-view+json": {
              "model_id": "c2201fc34d7046e19c8723d6e5cce00d",
              "version_minor": 0,
              "version_major": 2
            },
            "text/plain": [
              "HBox(children=(FloatProgress(value=0.0, description='Downloading', max=1355256.0, style=ProgressStyle(descript…"
            ]
          },
          "metadata": {
            "tags": []
          }
        },
        {
          "output_type": "stream",
          "text": [
            "Special tokens have been added in the vocabulary, make sure the associated word embedding are fine-tuned or trained.\n"
          ],
          "name": "stderr"
        },
        {
          "output_type": "stream",
          "text": [
            "\n",
            "The max model length is 1024 for this model, although the actual embedding size for GPT small is 768\n",
            "The beginning of sequence token <|startoftext|> token has the id 50257\n",
            "The end of sequence token <|endoftext|> has the id 50256\n",
            "The padding token <|pad|> has the id 50258\n"
          ],
          "name": "stdout"
        }
      ]
    },
    {
      "cell_type": "code",
      "metadata": {
        "id": "ic7Cs5qUeqlx"
      },
      "source": [
        "batch_size = 4\n",
        "train_dataset = BOTHData(tokenizer, 512, 512, 'train')\n",
        "val_dataset = BOTHData(tokenizer, 512, 512, 'val')\n",
        "test_dataset = BOTHData(tokenizer, 512, 512, 'test')"
      ],
      "execution_count": 7,
      "outputs": []
    },
    {
      "cell_type": "code",
      "metadata": {
        "id": "cgIzqA5xe6Cb"
      },
      "source": [
        "train_dataloader = DataLoader(\n",
        "\t\t\ttrain_dataset,  # The training samples.\n",
        "\t\t\tsampler = RandomSampler(train_dataset), # Select batches randomly\n",
        "\t\t\tbatch_size = batch_size # Trains with this batch size.\n",
        "\t\t)\n",
        "\n",
        "validation_dataloader = DataLoader(\n",
        "\t\t\tval_dataset, # The validation samples.\n",
        "\t\t\tsampler = SequentialSampler(val_dataset), # Pull out batches sequentially.\n",
        "\t\t\tbatch_size = batch_size # Evaluate with this batch size.\n",
        "\t\t)\n",
        "test_dataloader = DataLoader(\n",
        "\t\t\ttest_dataset, # The validation samples.\n",
        "\t\t\tsampler = SequentialSampler(test_dataset), # Pull out batches sequentially.\n",
        "\t\t\tbatch_size = batch_size # Evaluate with this batch size.\n",
        "\t\t)"
      ],
      "execution_count": 8,
      "outputs": []
    },
    {
      "cell_type": "code",
      "metadata": {
        "colab": {
          "base_uri": "https://localhost:8080/",
          "height": 134,
          "referenced_widgets": [
            "870a3c5b28eb47c39faf854c3172b4fd",
            "9c0a769f92804d4ca855ee825b82595a",
            "78a0ec6a9c264e709b66671122dd8560",
            "0d92fe01459146fdaf35bae99c450e8e",
            "d374f61e8dfc455385d14abb5680ff90",
            "fd645d0d30fa442481cb837a4728fe11",
            "feb6dac746ab4df3987623f73e40b660",
            "471f3ef62f4a4351a8c824df62396e76",
            "e4e964d738d04ed98f85d18ee603c2d4",
            "03ef5f891c8341dda31efdfaeddf7c68",
            "9e53cfff694e44a28c6bb30f11e25a9a",
            "a1d4eabbdc1e4afd9dce74a4e2840682",
            "13e59ebfac894e9b90c92ff5ab3a1335",
            "f926e96534854a10949e4e4a35190ddb",
            "1cbc5be7c8284653af5afa63047ffe0c",
            "93f1f1ac5c2b4510af949849a9c15421"
          ]
        },
        "id": "bMD3OawvfA8j",
        "outputId": "cd7b3310-b3d7-4a0c-ed48-966c9af92539"
      },
      "source": [
        "configuration = GPT2Config.from_pretrained('distilgpt2', output_hidden_states=False)\n",
        "\n",
        "# instantiate the model\n",
        "model = GPT2LMHeadModel.from_pretrained(\"distilgpt2\", config=configuration)\n",
        "\n",
        "model.resize_token_embeddings(len(tokenizer))"
      ],
      "execution_count": 9,
      "outputs": [
        {
          "output_type": "display_data",
          "data": {
            "application/vnd.jupyter.widget-view+json": {
              "model_id": "870a3c5b28eb47c39faf854c3172b4fd",
              "version_minor": 0,
              "version_major": 2
            },
            "text/plain": [
              "HBox(children=(FloatProgress(value=0.0, description='Downloading', max=762.0, style=ProgressStyle(description_…"
            ]
          },
          "metadata": {
            "tags": []
          }
        },
        {
          "output_type": "stream",
          "text": [
            "\n"
          ],
          "name": "stdout"
        },
        {
          "output_type": "display_data",
          "data": {
            "application/vnd.jupyter.widget-view+json": {
              "model_id": "e4e964d738d04ed98f85d18ee603c2d4",
              "version_minor": 0,
              "version_major": 2
            },
            "text/plain": [
              "HBox(children=(FloatProgress(value=0.0, description='Downloading', max=352833716.0, style=ProgressStyle(descri…"
            ]
          },
          "metadata": {
            "tags": []
          }
        },
        {
          "output_type": "stream",
          "text": [
            "\n"
          ],
          "name": "stdout"
        },
        {
          "output_type": "execute_result",
          "data": {
            "text/plain": [
              "Embedding(50259, 768)"
            ]
          },
          "metadata": {
            "tags": []
          },
          "execution_count": 9
        }
      ]
    },
    {
      "cell_type": "code",
      "metadata": {
        "colab": {
          "base_uri": "https://localhost:8080/"
        },
        "id": "e8IKEwsefEsT",
        "outputId": "4984b468-aac5-4e9c-9bf1-4e2ead31b525"
      },
      "source": [
        "device = torch.device(\"cuda:0\")\n",
        "model.cuda()"
      ],
      "execution_count": 10,
      "outputs": [
        {
          "output_type": "execute_result",
          "data": {
            "text/plain": [
              "GPT2LMHeadModel(\n",
              "  (transformer): GPT2Model(\n",
              "    (wte): Embedding(50259, 768)\n",
              "    (wpe): Embedding(1024, 768)\n",
              "    (drop): Dropout(p=0.1, inplace=False)\n",
              "    (h): ModuleList(\n",
              "      (0): Block(\n",
              "        (ln_1): LayerNorm((768,), eps=1e-05, elementwise_affine=True)\n",
              "        (attn): Attention(\n",
              "          (c_attn): Conv1D()\n",
              "          (c_proj): Conv1D()\n",
              "          (attn_dropout): Dropout(p=0.1, inplace=False)\n",
              "          (resid_dropout): Dropout(p=0.1, inplace=False)\n",
              "        )\n",
              "        (ln_2): LayerNorm((768,), eps=1e-05, elementwise_affine=True)\n",
              "        (mlp): MLP(\n",
              "          (c_fc): Conv1D()\n",
              "          (c_proj): Conv1D()\n",
              "          (dropout): Dropout(p=0.1, inplace=False)\n",
              "        )\n",
              "      )\n",
              "      (1): Block(\n",
              "        (ln_1): LayerNorm((768,), eps=1e-05, elementwise_affine=True)\n",
              "        (attn): Attention(\n",
              "          (c_attn): Conv1D()\n",
              "          (c_proj): Conv1D()\n",
              "          (attn_dropout): Dropout(p=0.1, inplace=False)\n",
              "          (resid_dropout): Dropout(p=0.1, inplace=False)\n",
              "        )\n",
              "        (ln_2): LayerNorm((768,), eps=1e-05, elementwise_affine=True)\n",
              "        (mlp): MLP(\n",
              "          (c_fc): Conv1D()\n",
              "          (c_proj): Conv1D()\n",
              "          (dropout): Dropout(p=0.1, inplace=False)\n",
              "        )\n",
              "      )\n",
              "      (2): Block(\n",
              "        (ln_1): LayerNorm((768,), eps=1e-05, elementwise_affine=True)\n",
              "        (attn): Attention(\n",
              "          (c_attn): Conv1D()\n",
              "          (c_proj): Conv1D()\n",
              "          (attn_dropout): Dropout(p=0.1, inplace=False)\n",
              "          (resid_dropout): Dropout(p=0.1, inplace=False)\n",
              "        )\n",
              "        (ln_2): LayerNorm((768,), eps=1e-05, elementwise_affine=True)\n",
              "        (mlp): MLP(\n",
              "          (c_fc): Conv1D()\n",
              "          (c_proj): Conv1D()\n",
              "          (dropout): Dropout(p=0.1, inplace=False)\n",
              "        )\n",
              "      )\n",
              "      (3): Block(\n",
              "        (ln_1): LayerNorm((768,), eps=1e-05, elementwise_affine=True)\n",
              "        (attn): Attention(\n",
              "          (c_attn): Conv1D()\n",
              "          (c_proj): Conv1D()\n",
              "          (attn_dropout): Dropout(p=0.1, inplace=False)\n",
              "          (resid_dropout): Dropout(p=0.1, inplace=False)\n",
              "        )\n",
              "        (ln_2): LayerNorm((768,), eps=1e-05, elementwise_affine=True)\n",
              "        (mlp): MLP(\n",
              "          (c_fc): Conv1D()\n",
              "          (c_proj): Conv1D()\n",
              "          (dropout): Dropout(p=0.1, inplace=False)\n",
              "        )\n",
              "      )\n",
              "      (4): Block(\n",
              "        (ln_1): LayerNorm((768,), eps=1e-05, elementwise_affine=True)\n",
              "        (attn): Attention(\n",
              "          (c_attn): Conv1D()\n",
              "          (c_proj): Conv1D()\n",
              "          (attn_dropout): Dropout(p=0.1, inplace=False)\n",
              "          (resid_dropout): Dropout(p=0.1, inplace=False)\n",
              "        )\n",
              "        (ln_2): LayerNorm((768,), eps=1e-05, elementwise_affine=True)\n",
              "        (mlp): MLP(\n",
              "          (c_fc): Conv1D()\n",
              "          (c_proj): Conv1D()\n",
              "          (dropout): Dropout(p=0.1, inplace=False)\n",
              "        )\n",
              "      )\n",
              "      (5): Block(\n",
              "        (ln_1): LayerNorm((768,), eps=1e-05, elementwise_affine=True)\n",
              "        (attn): Attention(\n",
              "          (c_attn): Conv1D()\n",
              "          (c_proj): Conv1D()\n",
              "          (attn_dropout): Dropout(p=0.1, inplace=False)\n",
              "          (resid_dropout): Dropout(p=0.1, inplace=False)\n",
              "        )\n",
              "        (ln_2): LayerNorm((768,), eps=1e-05, elementwise_affine=True)\n",
              "        (mlp): MLP(\n",
              "          (c_fc): Conv1D()\n",
              "          (c_proj): Conv1D()\n",
              "          (dropout): Dropout(p=0.1, inplace=False)\n",
              "        )\n",
              "      )\n",
              "    )\n",
              "    (ln_f): LayerNorm((768,), eps=1e-05, elementwise_affine=True)\n",
              "  )\n",
              "  (lm_head): Linear(in_features=768, out_features=50259, bias=False)\n",
              ")"
            ]
          },
          "metadata": {
            "tags": []
          },
          "execution_count": 10
        }
      ]
    },
    {
      "cell_type": "code",
      "metadata": {
        "id": "Tha25vQ_ffUq"
      },
      "source": [
        "seed_val = 42\n",
        "\n",
        "random.seed(seed_val)\n",
        "np.random.seed(seed_val)\n",
        "torch.manual_seed(seed_val)\n",
        "torch.cuda.manual_seed_all(seed_val)"
      ],
      "execution_count": 11,
      "outputs": []
    },
    {
      "cell_type": "code",
      "metadata": {
        "id": "IsDfI1Cffuxk"
      },
      "source": [
        "epochs = 5\n",
        "learning_rate = 5e-4\n",
        "warmup_steps = 1e2\n",
        "epsilon = 1e-8\n",
        "sample_every = 1000"
      ],
      "execution_count": 12,
      "outputs": []
    },
    {
      "cell_type": "code",
      "metadata": {
        "id": "CKz90tBDg3KT"
      },
      "source": [
        "optimizer = AdamW(model.parameters(),\n",
        "\t\t\t\t  lr = learning_rate,\n",
        "\t\t\t\t  eps = epsilon\n",
        "\t\t\t\t)"
      ],
      "execution_count": 13,
      "outputs": []
    },
    {
      "cell_type": "code",
      "metadata": {
        "colab": {
          "base_uri": "https://localhost:8080/"
        },
        "id": "dnYO0eXlg-g_",
        "outputId": "550910da-cab7-4d52-dc04-b683974f1130"
      },
      "source": [
        "total_steps = len(train_dataloader) * epochs\n",
        "scheduler = get_linear_schedule_with_warmup(optimizer, \n",
        "\t\t\t\t\t\t\t\t\t\t\tnum_warmup_steps = warmup_steps, \n",
        "\t\t\t\t\t\t\t\t\t\t\tnum_training_steps = total_steps)\n",
        "total_steps"
      ],
      "execution_count": 14,
      "outputs": [
        {
          "output_type": "execute_result",
          "data": {
            "text/plain": [
              "44285"
            ]
          },
          "metadata": {
            "tags": []
          },
          "execution_count": 14
        }
      ]
    },
    {
      "cell_type": "code",
      "metadata": {
        "id": "enZhP7CxhHJY"
      },
      "source": [
        "def format_time(elapsed):\n",
        "\treturn str(datetime.timedelta(seconds=int(round((elapsed)))))"
      ],
      "execution_count": 15,
      "outputs": []
    },
    {
      "cell_type": "code",
      "metadata": {
        "id": "HeT2cWnehJt8"
      },
      "source": [
        "total_t0 = time.time()\n",
        "\n",
        "training_stats = []\n",
        "\n",
        "model = model.to(device)"
      ],
      "execution_count": 16,
      "outputs": []
    },
    {
      "cell_type": "code",
      "metadata": {
        "colab": {
          "base_uri": "https://localhost:8080/",
          "height": 969
        },
        "id": "aPTZBfUQpLU_",
        "outputId": "f0fd544b-8d71-4861-b05e-465a75dfa09c"
      },
      "source": [
        "!pip install wandb"
      ],
      "execution_count": 17,
      "outputs": [
        {
          "output_type": "stream",
          "text": [
            "Collecting wandb\n",
            "\u001b[?25l  Downloading https://files.pythonhosted.org/packages/33/ae/79374d2b875e638090600eaa2a423479865b7590c53fb78e8ccf6a64acb1/wandb-0.10.22-py2.py3-none-any.whl (2.0MB)\n",
            "\u001b[K     |████████████████████████████████| 2.0MB 8.0MB/s \n",
            "\u001b[?25hRequirement already satisfied: python-dateutil>=2.6.1 in /usr/local/lib/python3.7/dist-packages (from wandb) (2.8.1)\n",
            "Collecting pathtools\n",
            "  Downloading https://files.pythonhosted.org/packages/e7/7f/470d6fcdf23f9f3518f6b0b76be9df16dcc8630ad409947f8be2eb0ed13a/pathtools-0.1.2.tar.gz\n",
            "Requirement already satisfied: requests<3,>=2.0.0 in /usr/local/lib/python3.7/dist-packages (from wandb) (2.23.0)\n",
            "Collecting shortuuid>=0.5.0\n",
            "  Downloading https://files.pythonhosted.org/packages/25/a6/2ecc1daa6a304e7f1b216f0896b26156b78e7c38e1211e9b798b4716c53d/shortuuid-1.0.1-py3-none-any.whl\n",
            "Requirement already satisfied: psutil>=5.0.0 in /usr/local/lib/python3.7/dist-packages (from wandb) (5.4.8)\n",
            "Requirement already satisfied: promise<3,>=2.0 in /usr/local/lib/python3.7/dist-packages (from wandb) (2.3)\n",
            "Collecting configparser>=3.8.1\n",
            "  Downloading https://files.pythonhosted.org/packages/fd/01/ff260a18caaf4457eb028c96eeb405c4a230ca06c8ec9c1379f813caa52e/configparser-5.0.2-py3-none-any.whl\n",
            "Collecting GitPython>=1.0.0\n",
            "\u001b[?25l  Downloading https://files.pythonhosted.org/packages/a6/99/98019716955ba243657daedd1de8f3a88ca1f5b75057c38e959db22fb87b/GitPython-3.1.14-py3-none-any.whl (159kB)\n",
            "\u001b[K     |████████████████████████████████| 163kB 47.7MB/s \n",
            "\u001b[?25hCollecting subprocess32>=3.5.3\n",
            "\u001b[?25l  Downloading https://files.pythonhosted.org/packages/32/c8/564be4d12629b912ea431f1a50eb8b3b9d00f1a0b1ceff17f266be190007/subprocess32-3.5.4.tar.gz (97kB)\n",
            "\u001b[K     |████████████████████████████████| 102kB 12.0MB/s \n",
            "\u001b[?25hRequirement already satisfied: protobuf>=3.12.0 in /usr/local/lib/python3.7/dist-packages (from wandb) (3.12.4)\n",
            "Requirement already satisfied: PyYAML in /usr/local/lib/python3.7/dist-packages (from wandb) (3.13)\n",
            "Collecting sentry-sdk>=0.4.0\n",
            "\u001b[?25l  Downloading https://files.pythonhosted.org/packages/f3/92/5a33be64990ba815364a8f2dd9e6f51de60d23dfddafb4f1fc5577d4dc64/sentry_sdk-1.0.0-py2.py3-none-any.whl (131kB)\n",
            "\u001b[K     |████████████████████████████████| 133kB 36.2MB/s \n",
            "\u001b[?25hCollecting docker-pycreds>=0.4.0\n",
            "  Downloading https://files.pythonhosted.org/packages/f5/e8/f6bd1eee09314e7e6dee49cbe2c5e22314ccdb38db16c9fc72d2fa80d054/docker_pycreds-0.4.0-py2.py3-none-any.whl\n",
            "Requirement already satisfied: six>=1.13.0 in /usr/local/lib/python3.7/dist-packages (from wandb) (1.15.0)\n",
            "Requirement already satisfied: Click>=7.0 in /usr/local/lib/python3.7/dist-packages (from wandb) (7.1.2)\n",
            "Requirement already satisfied: certifi>=2017.4.17 in /usr/local/lib/python3.7/dist-packages (from requests<3,>=2.0.0->wandb) (2020.12.5)\n",
            "Requirement already satisfied: idna<3,>=2.5 in /usr/local/lib/python3.7/dist-packages (from requests<3,>=2.0.0->wandb) (2.10)\n",
            "Requirement already satisfied: urllib3!=1.25.0,!=1.25.1,<1.26,>=1.21.1 in /usr/local/lib/python3.7/dist-packages (from requests<3,>=2.0.0->wandb) (1.24.3)\n",
            "Requirement already satisfied: chardet<4,>=3.0.2 in /usr/local/lib/python3.7/dist-packages (from requests<3,>=2.0.0->wandb) (3.0.4)\n",
            "Collecting gitdb<5,>=4.0.1\n",
            "\u001b[?25l  Downloading https://files.pythonhosted.org/packages/48/11/d1800bca0a3bae820b84b7d813ad1eff15a48a64caea9c823fc8c1b119e8/gitdb-4.0.5-py3-none-any.whl (63kB)\n",
            "\u001b[K     |████████████████████████████████| 71kB 10.2MB/s \n",
            "\u001b[?25hRequirement already satisfied: setuptools in /usr/local/lib/python3.7/dist-packages (from protobuf>=3.12.0->wandb) (54.0.0)\n",
            "Collecting smmap<4,>=3.0.1\n",
            "  Downloading https://files.pythonhosted.org/packages/d5/1e/6130925131f639b2acde0f7f18b73e33ce082ff2d90783c436b52040af5a/smmap-3.0.5-py2.py3-none-any.whl\n",
            "Building wheels for collected packages: pathtools, subprocess32\n",
            "  Building wheel for pathtools (setup.py) ... \u001b[?25l\u001b[?25hdone\n",
            "  Created wheel for pathtools: filename=pathtools-0.1.2-cp37-none-any.whl size=8786 sha256=070bbe3e9f69eea56a924ed5591e2235ca4b826b3fc03bc3e4b1ec50ff40a5c4\n",
            "  Stored in directory: /root/.cache/pip/wheels/0b/04/79/c3b0c3a0266a3cb4376da31e5bfe8bba0c489246968a68e843\n",
            "  Building wheel for subprocess32 (setup.py) ... \u001b[?25l\u001b[?25hdone\n",
            "  Created wheel for subprocess32: filename=subprocess32-3.5.4-cp37-none-any.whl size=6489 sha256=dda0417f5f806519c1f424cc4230657324e3a7c0c799b7fc649752bae3595d6d\n",
            "  Stored in directory: /root/.cache/pip/wheels/68/39/1a/5e402bdfdf004af1786c8b853fd92f8c4a04f22aad179654d1\n",
            "Successfully built pathtools subprocess32\n",
            "Installing collected packages: pathtools, shortuuid, configparser, smmap, gitdb, GitPython, subprocess32, sentry-sdk, docker-pycreds, wandb\n",
            "Successfully installed GitPython-3.1.14 configparser-5.0.2 docker-pycreds-0.4.0 gitdb-4.0.5 pathtools-0.1.2 sentry-sdk-1.0.0 shortuuid-1.0.1 smmap-3.0.5 subprocess32-3.5.4 wandb-0.10.22\n"
          ],
          "name": "stdout"
        },
        {
          "output_type": "display_data",
          "data": {
            "application/vnd.colab-display-data+json": {
              "pip_warning": {
                "packages": [
                  "configparser"
                ]
              }
            }
          },
          "metadata": {
            "tags": []
          }
        }
      ]
    },
    {
      "cell_type": "code",
      "metadata": {
        "colab": {
          "base_uri": "https://localhost:8080/",
          "height": 1000
        },
        "id": "HY3SevObhMuB",
        "outputId": "9db83419-b939-46f2-8018-4d55aa357ede"
      },
      "source": [
        "%env WANDB_PROJECT = keytotext\n",
        "import wandb\n",
        "\n",
        "wandb.init(project=\"keytotext\")\n",
        "\n",
        "for epoch_i in range(0, epochs):\n",
        "    # ========================================\n",
        "    #               Training\n",
        "    # ========================================\n",
        "\n",
        "    print(\"\")\n",
        "    print('======== Epoch {:} / {:} ========'.format(epoch_i + 1, epochs))\n",
        "    print('Training...')\n",
        "\n",
        "    t0 = time.time()\n",
        "\n",
        "    total_train_loss = 0\n",
        "\n",
        "    model.train()\n",
        "\n",
        "    for step, batch in tqdm(enumerate(train_dataloader)):\n",
        "        b_input_ids = batch[0].to(device)\n",
        "        b_labels = batch[0].to(device)\n",
        "        b_masks = batch[1].to(device)\n",
        "\n",
        "        model.zero_grad()\n",
        "\n",
        "        outputs = model(b_input_ids,\n",
        "                    labels=b_labels,\n",
        "                    attention_mask=b_masks,\n",
        "                    token_type_ids=None\n",
        "                    )\n",
        "\n",
        "        loss = outputs[0]\n",
        "\n",
        "        batch_loss = loss.item()\n",
        "\n",
        "        total_train_loss += batch_loss\n",
        "        wandb.log({'Train Loss': batch_loss,'Epoch':epoch_i})\n",
        "# Get sample every x batches.\n",
        "        if step % sample_every == 0 and not step == 0:\n",
        "            elapsed = format_time(time.time() - t0)\n",
        "            print('  Batch {:>5,}  of  {:>5,}. Loss: {:>5,}.   Elapsed: {:}.'.format(step, len(train_dataloader), batch_loss,\n",
        "                                                                         elapsed))\n",
        "\n",
        "            model.eval()\n",
        "\n",
        "            sample_outputs = model.generate(\n",
        "                                            bos_token_id=random.randint(1, 30000),\n",
        "                                            do_sample=True,\n",
        "                                            top_k=50,\n",
        "                                            max_length=200,\n",
        "                                            top_p=0.95,\n",
        "                                            num_return_sequences=1)\n",
        "            for i, sample_output in enumerate(sample_outputs):\n",
        "                print(\"{}: {}\".format(i, tokenizer.decode(sample_output, skip_special_tokens=True)))\n",
        "\n",
        "            model.train()\n",
        "\n",
        "        loss.backward()\n",
        "\n",
        "        optimizer.step()\n",
        "\n",
        "        scheduler.step()\n",
        "\n",
        "# Calculate the average loss over all of the batches.\n",
        "    avg_train_loss = total_train_loss / len(train_dataloader)\n",
        "\n",
        "# Measure how long this epoch took.\n",
        "    training_time = format_time(time.time() - t0)\n",
        "\n",
        "    print(\"\")\n",
        "    print(\"  Average training loss: {0:.2f}\".format(avg_train_loss))\n",
        "    print(\"  Training epoch took: {:}\".format(training_time))\n",
        "\n",
        "# ========================================\n",
        "#               Validation\n",
        "# ========================================\n",
        "\n",
        "    print(\"\")\n",
        "    print(\"Running Validation...\")\n",
        "\n",
        "    t0 = time.time()\n",
        "\n",
        "    model.eval()\n",
        "\n",
        "    total_eval_loss = 0\n",
        "    nb_eval_steps = 0\n",
        "\n",
        "# Evaluate data for one epoch\n",
        "    for batch in tqdm(validation_dataloader):\n",
        "        b_input_ids = batch[0].to(device)\n",
        "        b_labels = batch[0].to(device)\n",
        "        b_masks = batch[1].to(device)\n",
        "\n",
        "        with torch.no_grad():\n",
        "            outputs = model(b_input_ids,\n",
        "                        #                            token_type_ids=None,\n",
        "                        attention_mask=b_masks,\n",
        "                        labels=b_labels)\n",
        "\n",
        "            loss = outputs[0]\n",
        "\n",
        "        batch_loss = loss.item()\n",
        "        total_eval_loss += batch_loss\n",
        "        wandb.log({'Eval Loss': batch_loss,'Epoch':epoch_i})\n",
        "\n",
        "    avg_val_loss = total_eval_loss / len(validation_dataloader)\n",
        "\n",
        "    validation_time = format_time(time.time() - t0)\n",
        "\n",
        "    print(\"  Validation Loss: {0:.2f}\".format(avg_val_loss))\n",
        "    print(\"  Validation took: {:}\".format(validation_time))\n",
        "\n",
        "# Record all statistics from this epoch.\n",
        "    training_stats.append(\n",
        "    {\n",
        "        'epoch': epoch_i + 1,\n",
        "        'Training Loss': avg_train_loss,\n",
        "        'Valid. Loss': avg_val_loss,\n",
        "        'Training Time': training_time,\n",
        "        'Validation Time': validation_time\n",
        "    })\n"
      ],
      "execution_count": 18,
      "outputs": [
        {
          "output_type": "stream",
          "text": [
            "env: WANDB_PROJECT=keytotext\n"
          ],
          "name": "stdout"
        },
        {
          "output_type": "display_data",
          "data": {
            "application/javascript": [
              "\n",
              "        window._wandbApiKey = new Promise((resolve, reject) => {\n",
              "            function loadScript(url) {\n",
              "            return new Promise(function(resolve, reject) {\n",
              "                let newScript = document.createElement(\"script\");\n",
              "                newScript.onerror = reject;\n",
              "                newScript.onload = resolve;\n",
              "                document.body.appendChild(newScript);\n",
              "                newScript.src = url;\n",
              "            });\n",
              "            }\n",
              "            loadScript(\"https://cdn.jsdelivr.net/npm/postmate/build/postmate.min.js\").then(() => {\n",
              "            const iframe = document.createElement('iframe')\n",
              "            iframe.style.cssText = \"width:0;height:0;border:none\"\n",
              "            document.body.appendChild(iframe)\n",
              "            const handshake = new Postmate({\n",
              "                container: iframe,\n",
              "                url: 'https://wandb.ai/authorize'\n",
              "            });\n",
              "            const timeout = setTimeout(() => reject(\"Couldn't auto authenticate\"), 5000)\n",
              "            handshake.then(function(child) {\n",
              "                child.on('authorize', data => {\n",
              "                    clearTimeout(timeout)\n",
              "                    resolve(data)\n",
              "                });\n",
              "            });\n",
              "            })\n",
              "        });\n",
              "    "
            ],
            "text/plain": [
              "<IPython.core.display.Javascript object>"
            ]
          },
          "metadata": {
            "tags": []
          }
        },
        {
          "output_type": "stream",
          "text": [
            "\u001b[34m\u001b[1mwandb\u001b[0m: Appending key for api.wandb.ai to your netrc file: /root/.netrc\n"
          ],
          "name": "stderr"
        },
        {
          "output_type": "display_data",
          "data": {
            "text/html": [
              "\n",
              "                Tracking run with wandb version 0.10.22<br/>\n",
              "                Syncing run <strong style=\"color:#cdcd00\">ancient-jazz-20</strong> to <a href=\"https://wandb.ai\" target=\"_blank\">Weights & Biases</a> <a href=\"https://docs.wandb.com/integrations/jupyter.html\" target=\"_blank\">(Documentation)</a>.<br/>\n",
              "                Project page: <a href=\"https://wandb.ai/gagan3012/keytotext\" target=\"_blank\">https://wandb.ai/gagan3012/keytotext</a><br/>\n",
              "                Run page: <a href=\"https://wandb.ai/gagan3012/keytotext/runs/3hbfi2rn\" target=\"_blank\">https://wandb.ai/gagan3012/keytotext/runs/3hbfi2rn</a><br/>\n",
              "                Run data is saved locally in <code>/content/wandb/run-20210319_101527-3hbfi2rn</code><br/><br/>\n",
              "            "
            ],
            "text/plain": [
              "<IPython.core.display.HTML object>"
            ]
          },
          "metadata": {
            "tags": []
          }
        },
        {
          "output_type": "stream",
          "text": [
            "\r0it [00:00, ?it/s]"
          ],
          "name": "stderr"
        },
        {
          "output_type": "stream",
          "text": [
            "\n",
            "======== Epoch 1 / 5 ========\n",
            "Training...\n"
          ],
          "name": "stdout"
        },
        {
          "output_type": "stream",
          "text": [
            "1000it [03:33,  4.69it/s]Setting `pad_token_id` to `eos_token_id`:50256 for open-end generation.\n"
          ],
          "name": "stderr"
        },
        {
          "output_type": "stream",
          "text": [
            "  Batch 1,000  of  8,857. Loss: 0.07072309404611588.   Elapsed: 0:03:33.\n"
          ],
          "name": "stdout"
        },
        {
          "output_type": "stream",
          "text": [
            "\r1001it [03:33,  3.39it/s]"
          ],
          "name": "stderr"
        },
        {
          "output_type": "stream",
          "text": [
            "0:  bipartisan<H> Elliot See <R> status <T> Retired = Elliot See passed away on Sept. 8.\n"
          ],
          "name": "stdout"
        },
        {
          "output_type": "stream",
          "text": [
            "2000it [07:06,  4.68it/s]Setting `pad_token_id` to `eos_token_id`:50256 for open-end generation.\n"
          ],
          "name": "stderr"
        },
        {
          "output_type": "stream",
          "text": [
            "  Batch 2,000  of  8,857. Loss: 0.21562559902668.   Elapsed: 0:07:06.\n"
          ],
          "name": "stdout"
        },
        {
          "output_type": "stream",
          "text": [
            "\r2001it [07:06,  3.38it/s]"
          ],
          "name": "stderr"
        },
        {
          "output_type": "stream",
          "text": [
            "0:  increasing<H> A-Rosa Luna <R> ship beam <T> 32.2 = The A-Rosa Luna is 32.2m in length and its beam is 32.2m long.\n"
          ],
          "name": "stdout"
        },
        {
          "output_type": "stream",
          "text": [
            "3000it [10:39,  4.70it/s]Setting `pad_token_id` to `eos_token_id`:50256 for open-end generation.\n"
          ],
          "name": "stderr"
        },
        {
          "output_type": "stream",
          "text": [
            "  Batch 3,000  of  8,857. Loss: 0.13636453449726105.   Elapsed: 0:10:40.\n"
          ],
          "name": "stdout"
        },
        {
          "output_type": "stream",
          "text": [
            "\r3001it [10:40,  2.20it/s]"
          ],
          "name": "stderr"
        },
        {
          "output_type": "stream",
          "text": [
            "0: day<H> United States <R> ethnic group <T> Asian Americans <H> A Fortress of Grey Ice <R> country <T> United States <H> United States <R> capital <T> Washington D.C. <H> United States <R> demonym <T> Americans <H> A Fortress of Grey Ice <R> country <T> United States = The A Fortress of Grey Ice was written in the U.S. (capital: Washington) in the English country of the United States. Washington, D.C. is the capital city of the United States. Americans live in the United States.\n"
          ],
          "name": "stdout"
        },
        {
          "output_type": "stream",
          "text": [
            "4000it [14:13,  4.70it/s]Setting `pad_token_id` to `eos_token_id`:50256 for open-end generation.\n"
          ],
          "name": "stderr"
        },
        {
          "output_type": "stream",
          "text": [
            "  Batch 4,000  of  8,857. Loss: 0.09625663608312607.   Elapsed: 0:14:13.\n"
          ],
          "name": "stdout"
        },
        {
          "output_type": "stream",
          "text": [
            "\r4001it [14:14,  2.58it/s]"
          ],
          "name": "stderr"
        },
        {
          "output_type": "stream",
          "text": [
            "0:  Hang<H> Alison O'Donnell <R> genre <T> Jazz <H> Alison O'Donnell <R> associated band/associated musical artist <T> Mellow Candle <H> Alison O'Donnell <R> associated band/associated musical artist <T> Flibbertigibbet = Alison O'Donnell, whose musical genre is jazz and is associated with the band of Mellow Candle. The band member also performs jazz music.\n"
          ],
          "name": "stdout"
        },
        {
          "output_type": "stream",
          "text": [
            "5000it [17:46,  4.70it/s]Setting `pad_token_id` to `eos_token_id`:50256 for open-end generation.\n"
          ],
          "name": "stderr"
        },
        {
          "output_type": "stream",
          "text": [
            "  Batch 5,000  of  8,857. Loss: 0.0676669031381607.   Elapsed: 0:17:47.\n"
          ],
          "name": "stdout"
        },
        {
          "output_type": "stream",
          "text": [
            "\r5001it [17:46,  3.56it/s]"
          ],
          "name": "stderr"
        },
        {
          "output_type": "stream",
          "text": [
            "0:  foods<H> Bandeja paisa <R> ingredient <T> Cooking plantain = Cooking plantain is one of the ingredients in the bandeja paisa.\n"
          ],
          "name": "stdout"
        },
        {
          "output_type": "stream",
          "text": [
            "6000it [21:19,  4.70it/s]Setting `pad_token_id` to `eos_token_id`:50256 for open-end generation.\n"
          ],
          "name": "stderr"
        },
        {
          "output_type": "stream",
          "text": [
            "  Batch 6,000  of  8,857. Loss: 0.1234455481171608.   Elapsed: 0:21:20.\n"
          ],
          "name": "stdout"
        },
        {
          "output_type": "stream",
          "text": [
            "\r6001it [21:20,  2.53it/s]"
          ],
          "name": "stderr"
        },
        {
          "output_type": "stream",
          "text": [
            "0:  trail<H> A Fortress of Grey Ice <R> language <T> English language <H> English language <R> spoken in <T> Great Britain <H> A Fortress of Grey Ice <R> country <T> United States <H> United States <R> ethnic group <T> Native Americans in the United States = The book A Fortress of Grey Ice is written in English, which is spoken in Great Britain. One of the ethnic groups is the Native Americans.\n"
          ],
          "name": "stdout"
        },
        {
          "output_type": "stream",
          "text": [
            "7000it [24:52,  4.70it/s]Setting `pad_token_id` to `eos_token_id`:50256 for open-end generation.\n"
          ],
          "name": "stderr"
        },
        {
          "output_type": "stream",
          "text": [
            "  Batch 7,000  of  8,857. Loss: 0.09289314597845078.   Elapsed: 0:24:53.\n"
          ],
          "name": "stdout"
        },
        {
          "output_type": "stream",
          "text": [
            "\r7001it [24:53,  3.42it/s]"
          ],
          "name": "stderr"
        },
        {
          "output_type": "stream",
          "text": [
            "0: intend<H> 101 Helena <R> apoapsis <T> 441092000.0 kilometres = 101 Helena has an apoapsis of 441092000.0 km.\n"
          ],
          "name": "stdout"
        },
        {
          "output_type": "stream",
          "text": [
            "8000it [28:25,  4.70it/s]Setting `pad_token_id` to `eos_token_id`:50256 for open-end generation.\n"
          ],
          "name": "stderr"
        },
        {
          "output_type": "stream",
          "text": [
            "  Batch 8,000  of  8,857. Loss: 0.1014615148305893.   Elapsed: 0:28:26.\n"
          ],
          "name": "stdout"
        },
        {
          "output_type": "stream",
          "text": [
            "\r8001it [28:26,  3.32it/s]"
          ],
          "name": "stderr"
        },
        {
          "output_type": "stream",
          "text": [
            "0:  surround<H> Adolfo Suarez Madrid-Barajas Airport <R> runway length <T> 3500.0 = The runway length at the airport at Adolfo Suarez Madrid-Barajas Airport is 3500.0.\n"
          ],
          "name": "stdout"
        },
        {
          "output_type": "stream",
          "text": [
            "8857it [31:28,  4.69it/s]\n",
            "  0%|          | 2/8857 [00:00<10:26, 14.13it/s]"
          ],
          "name": "stderr"
        },
        {
          "output_type": "stream",
          "text": [
            "\n",
            "  Average training loss: 0.12\n",
            "  Training epoch took: 0:31:28\n",
            "\n",
            "Running Validation...\n"
          ],
          "name": "stdout"
        },
        {
          "output_type": "stream",
          "text": [
            "100%|██████████| 8857/8857 [10:31<00:00, 14.02it/s]\n",
            "0it [00:00, ?it/s]"
          ],
          "name": "stderr"
        },
        {
          "output_type": "stream",
          "text": [
            "  Validation Loss: 0.07\n",
            "  Validation took: 0:10:32\n",
            "\n",
            "======== Epoch 2 / 5 ========\n",
            "Training...\n"
          ],
          "name": "stdout"
        },
        {
          "output_type": "stream",
          "text": [
            "1000it [03:32,  4.70it/s]Setting `pad_token_id` to `eos_token_id`:50256 for open-end generation.\n"
          ],
          "name": "stderr"
        },
        {
          "output_type": "stream",
          "text": [
            "  Batch 1,000  of  8,857. Loss: 0.06564876437187195.   Elapsed: 0:03:33.\n"
          ],
          "name": "stdout"
        },
        {
          "output_type": "stream",
          "text": [
            "\r1001it [03:34,  1.90it/s]"
          ],
          "name": "stderr"
        },
        {
          "output_type": "stream",
          "text": [
            "0:  reflex<H> 1099 Figneria <R> epoch <T> 2006-12-31 <H> 1099 Figneria <R> orbital period <T> 179942000.0 <H> 1099 Figneria <R> periapsis <T> 349206000000.0 <H> 1099 Figneria <R> escape velocity <T> 0.0155 kilometrePerSeconds <H> 1099 Figneria <R> escape velocity <T> 0.0155 kilometrePerSeconds = 1099 Figneria, which has the epoch date of 31 December 2006, has an orbital period of 179942000. It has a periapsis of 349206000000.0 and an escape velocity of 0.0155 km/s.\n"
          ],
          "name": "stdout"
        },
        {
          "output_type": "stream",
          "text": [
            "2000it [07:06,  4.70it/s]Setting `pad_token_id` to `eos_token_id`:50256 for open-end generation.\n"
          ],
          "name": "stderr"
        },
        {
          "output_type": "stream",
          "text": [
            "  Batch 2,000  of  8,857. Loss: 0.07628925889730453.   Elapsed: 0:07:07.\n"
          ],
          "name": "stdout"
        },
        {
          "output_type": "stream",
          "text": [
            "\r2001it [07:07,  2.54it/s]"
          ],
          "name": "stderr"
        },
        {
          "output_type": "stream",
          "text": [
            "0:  display<H> Alan Martin footballer <R> club <T> Hamilton Academical F.C. <H> Clyde F.C. <R> ground <T> Broadwood Stadium <H> Clyde F.C. <R> number of members <T> 23000 = Alan Martin plays football for Clyde F.C. which is part of the Hamilton Academical F.C. club. He has 23,000 members and they played at Broadwood Stadium.\n"
          ],
          "name": "stdout"
        },
        {
          "output_type": "stream",
          "text": [
            "3000it [10:40,  4.70it/s]Setting `pad_token_id` to `eos_token_id`:50256 for open-end generation.\n"
          ],
          "name": "stderr"
        },
        {
          "output_type": "stream",
          "text": [
            "  Batch 3,000  of  8,857. Loss: 0.07688961178064346.   Elapsed: 0:10:40.\n"
          ],
          "name": "stdout"
        },
        {
          "output_type": "stream",
          "text": [
            "\r3001it [10:40,  3.53it/s]"
          ],
          "name": "stderr"
        },
        {
          "output_type": "stream",
          "text": [
            "0:  pastor<H> Alan B. Miller Hall <R> architect <T> Robert A. M. Stern = Alan B. Miller Hall was designed by Robert A M Stern.\n"
          ],
          "name": "stdout"
        },
        {
          "output_type": "stream",
          "text": [
            "4000it [14:13,  4.69it/s]Setting `pad_token_id` to `eos_token_id`:50256 for open-end generation.\n"
          ],
          "name": "stderr"
        },
        {
          "output_type": "stream",
          "text": [
            "  Batch 4,000  of  8,857. Loss: 0.09746886044740677.   Elapsed: 0:14:14.\n"
          ],
          "name": "stdout"
        },
        {
          "output_type": "stream",
          "text": [
            "\r4001it [14:14,  3.44it/s]"
          ],
          "name": "stderr"
        },
        {
          "output_type": "stream",
          "text": [
            "0:  illicit<H> Aaron S. Daggett <R> battle <T> Battle of Fredericksburg = Aaron S. Daggett fought in the Battle of Fredericksburg.\n"
          ],
          "name": "stdout"
        },
        {
          "output_type": "stream",
          "text": [
            "5000it [17:47,  4.69it/s]Setting `pad_token_id` to `eos_token_id`:50256 for open-end generation.\n"
          ],
          "name": "stderr"
        },
        {
          "output_type": "stream",
          "text": [
            "  Batch 5,000  of  8,857. Loss: 0.09212801605463028.   Elapsed: 0:17:47.\n"
          ],
          "name": "stdout"
        },
        {
          "output_type": "stream",
          "text": [
            "\r5001it [17:47,  2.50it/s]"
          ],
          "name": "stderr"
        },
        {
          "output_type": "stream",
          "text": [
            "0:  Liberation<H> Appleton International Airport <R> location <T> Greenville Wisconsin <H> Greenville Wisconsin <R> country <T> United States <H> Greenville Wisconsin <R> is part of <T> Grand Chute Wisconsin <H> Greenville Wisconsin <R> is part of <T> Ellington Wisconsin = Appleton International airport is located in Greenville, Wisconsin, USA. Greenville is part of Ellington, Wisconsin.\n"
          ],
          "name": "stdout"
        },
        {
          "output_type": "stream",
          "text": [
            "6000it [21:21,  4.69it/s]Setting `pad_token_id` to `eos_token_id`:50256 for open-end generation.\n"
          ],
          "name": "stderr"
        },
        {
          "output_type": "stream",
          "text": [
            "  Batch 6,000  of  8,857. Loss: 0.08235713094472885.   Elapsed: 0:21:21.\n"
          ],
          "name": "stdout"
        },
        {
          "output_type": "stream",
          "text": [
            "\r6001it [21:22,  2.05it/s]"
          ],
          "name": "stderr"
        },
        {
          "output_type": "stream",
          "text": [
            "0:  Nam<H> Abraham A. Ribicoff <R> spouse <T> Casey Ribicoff <H> Casey Ribicoff <R> birth place <T> Chicago <H> Abraham A. Ribicoff <R> office <T> United States Secretary of Health Education and Welfare <H> Abraham A. Ribicoff <R> death place <T> New York <H> Abraham A. Ribicoff <R> office <T> United States Secretary of Health Education and Welfare = Abraham A Ribicoff, who was married to Casey Ribicoff, who was born in Chicago, USA, worked as the United States Secretary of Health, Education, and Welfare office. He died in New York.\n"
          ],
          "name": "stdout"
        },
        {
          "output_type": "stream",
          "text": [
            "7000it [24:55,  4.68it/s]Setting `pad_token_id` to `eos_token_id`:50256 for open-end generation.\n"
          ],
          "name": "stderr"
        },
        {
          "output_type": "stream",
          "text": [
            "  Batch 7,000  of  8,857. Loss: 0.04728128761053085.   Elapsed: 0:24:55.\n"
          ],
          "name": "stdout"
        },
        {
          "output_type": "stream",
          "text": [
            "\r7001it [24:56,  2.56it/s]"
          ],
          "name": "stderr"
        },
        {
          "output_type": "stream",
          "text": [
            "0: ION<H> Beef kway teow <R> country <T> Singapore <H> Beef kway teow <R> ingredient <T> Sesame oil <H> Beef kway teow <R> region <T> Indonesia <H> Singapore <R> leader <T> Halimah Yacob = Beef kway teow is a dish from Indonesia and is made from sesame oil. Sesame oil is spoken in Singapore.\n"
          ],
          "name": "stdout"
        },
        {
          "output_type": "stream",
          "text": [
            "8000it [28:29,  4.69it/s]Setting `pad_token_id` to `eos_token_id`:50256 for open-end generation.\n"
          ],
          "name": "stderr"
        },
        {
          "output_type": "stream",
          "text": [
            "  Batch 8,000  of  8,857. Loss: 0.06720096617937088.   Elapsed: 0:28:29.\n"
          ],
          "name": "stdout"
        },
        {
          "output_type": "stream",
          "text": [
            "\r8001it [28:29,  2.60it/s]"
          ],
          "name": "stderr"
        },
        {
          "output_type": "stream",
          "text": [
            "0:  glimpse<H> Alan Bean <R> mission <T> Apollo 12 <H> Alan Bean <R> date of retirement <T> June 1981 <H> Alan Bean <R> birth date <T> 1932-03-15 <H> Alan Bean <R> status <T> Retired = Alan Bean, who was born on 1932-03-15 in 1932, was a crew member of Apollo 12. He retired in June 1981.\n"
          ],
          "name": "stdout"
        },
        {
          "output_type": "stream",
          "text": [
            "8857it [31:31,  4.68it/s]\n",
            "  0%|          | 2/8857 [00:00<10:25, 14.16it/s]"
          ],
          "name": "stderr"
        },
        {
          "output_type": "stream",
          "text": [
            "\n",
            "  Average training loss: 0.08\n",
            "  Training epoch took: 0:31:32\n",
            "\n",
            "Running Validation...\n"
          ],
          "name": "stdout"
        },
        {
          "output_type": "stream",
          "text": [
            "100%|██████████| 8857/8857 [10:31<00:00, 14.02it/s]\n",
            "0it [00:00, ?it/s]"
          ],
          "name": "stderr"
        },
        {
          "output_type": "stream",
          "text": [
            "  Validation Loss: 0.06\n",
            "  Validation took: 0:10:32\n",
            "\n",
            "======== Epoch 3 / 5 ========\n",
            "Training...\n"
          ],
          "name": "stdout"
        },
        {
          "output_type": "stream",
          "text": [
            "1000it [03:32,  4.70it/s]Setting `pad_token_id` to `eos_token_id`:50256 for open-end generation.\n"
          ],
          "name": "stderr"
        },
        {
          "output_type": "stream",
          "text": [
            "  Batch 1,000  of  8,857. Loss: 0.042699046432971954.   Elapsed: 0:03:33.\n"
          ],
          "name": "stdout"
        },
        {
          "output_type": "stream",
          "text": [
            "\r1001it [03:33,  2.27it/s]"
          ],
          "name": "stderr"
        },
        {
          "output_type": "stream",
          "text": [
            "0:  Laure<H> Andra singer <R> genre <T> Rhythm and blues <H> Rhythm and blues <R> music subgenre <T> Christian alternative rock <H> Rhythm and blues <R> derivative <T> Disco <H> Andra singer <R> record label <T> Rabadash Records <H> Rhythm and blues <R> stylistic origin <T> Blues = Andra performs in the genre of rhythm and blues, which is in turn, originated from blues music. He recorded with Rabadash Records. The genre of Andra is derived from disco.\n"
          ],
          "name": "stdout"
        },
        {
          "output_type": "stream",
          "text": [
            "2000it [07:06,  4.70it/s]Setting `pad_token_id` to `eos_token_id`:50256 for open-end generation.\n"
          ],
          "name": "stderr"
        },
        {
          "output_type": "stream",
          "text": [
            "  Batch 2,000  of  8,857. Loss: 0.07294628024101257.   Elapsed: 0:07:06.\n"
          ],
          "name": "stdout"
        },
        {
          "output_type": "stream",
          "text": [
            "\r2001it [07:06,  3.22it/s]"
          ],
          "name": "stderr"
        },
        {
          "output_type": "stream",
          "text": [
            "0: ism<H> AmeriGas <R> country <T> United States <H> United States <R> ethnic group <T> Native American = AmeriGas works in the United States, a country with an ethnic group of Native American.\n"
          ],
          "name": "stdout"
        },
        {
          "output_type": "stream",
          "text": [
            "3000it [10:39,  4.70it/s]Setting `pad_token_id` to `eos_token_id`:50256 for open-end generation.\n"
          ],
          "name": "stderr"
        },
        {
          "output_type": "stream",
          "text": [
            "  Batch 3,000  of  8,857. Loss: 0.06876874715089798.   Elapsed: 0:10:39.\n"
          ],
          "name": "stdout"
        },
        {
          "output_type": "stream",
          "text": [
            "\r3001it [10:39,  3.10it/s]"
          ],
          "name": "stderr"
        },
        {
          "output_type": "stream",
          "text": [
            "0: oun<H> AmeriGas <R> region served <T> United States <H> AmeriGas <R> city <T> King of Prussia Pennsylvania = AmeriGas serves the United States, but the company operates in the city of King of Prussia, Pennsylvania.\n"
          ],
          "name": "stdout"
        },
        {
          "output_type": "stream",
          "text": [
            "4000it [14:12,  4.70it/s]Setting `pad_token_id` to `eos_token_id`:50256 for open-end generation.\n"
          ],
          "name": "stderr"
        },
        {
          "output_type": "stream",
          "text": [
            "  Batch 4,000  of  8,857. Loss: 0.059728216379880905.   Elapsed: 0:14:13.\n"
          ],
          "name": "stdout"
        },
        {
          "output_type": "stream",
          "text": [
            "\r4001it [14:13,  2.42it/s]"
          ],
          "name": "stderr"
        },
        {
          "output_type": "stream",
          "text": [
            "0:  election<H> AZ Alkmaar <R> manager <T> John van den Brom <H> John van den Brom <R> club <T> R.S.C. Anderlecht <H> John van den Brom <R> club <T> Netherlands national football team = John van den Brom is manager of AZ Alkmaar and plays for R.S.C. Anderlecht. He also plays for both R.S.C. Anderlecht and Netherlands National football team.\n"
          ],
          "name": "stdout"
        },
        {
          "output_type": "stream",
          "text": [
            "5000it [17:46,  4.70it/s]Setting `pad_token_id` to `eos_token_id`:50256 for open-end generation.\n"
          ],
          "name": "stderr"
        },
        {
          "output_type": "stream",
          "text": [
            "  Batch 5,000  of  8,857. Loss: 0.05229993537068367.   Elapsed: 0:17:46.\n"
          ],
          "name": "stdout"
        },
        {
          "output_type": "stream",
          "text": [
            "\r5001it [17:46,  3.18it/s]"
          ],
          "name": "stderr"
        },
        {
          "output_type": "stream",
          "text": [
            "0:  crazy<H> Aaron Turner <R> associated band/associated musical artist <T> Twilight band <H> Aaron Turner <R> associated band/associated musical artist <T> Old Man Gloom = Aaron Turner played for Twilight, who played for Old Man Gloom.\n"
          ],
          "name": "stdout"
        },
        {
          "output_type": "stream",
          "text": [
            "6000it [21:19,  4.68it/s]Setting `pad_token_id` to `eos_token_id`:50256 for open-end generation.\n"
          ],
          "name": "stderr"
        },
        {
          "output_type": "stream",
          "text": [
            "  Batch 6,000  of  8,857. Loss: 0.05016343295574188.   Elapsed: 0:21:19.\n"
          ],
          "name": "stdout"
        },
        {
          "output_type": "stream",
          "text": [
            "\r6001it [21:20,  1.75it/s]"
          ],
          "name": "stderr"
        },
        {
          "output_type": "stream",
          "text": [
            "0:  bench<H> Al Asad Airbase <R> operating organisation <T> United States Air Force <H> United States Air Force <R> attack aircraft <T> Lockheed AC-130 <H> United States Air Force <R> battle <T> Korean War <H> United States Air Force <R> transport aircraft <T> Boeing C-17 Globemaster III <H> United States Air Force <R> aircraft fighter <T> McDonnell Douglas F-15 Eagle <H> United States Air Force <R> battle <T> Operation Enduring Freedom = The United States Air Force is the operating organisation for Al Asad airbase. The aircraft include Lockheed AC-130 attack aircraft and the McDonnell Douglas F-15 Eagle. The Operation Enduring Freedom is a battle involving the United States Air Force which has the transport aircraft Boeing C-17 Globemaster III transport planes. McDonnell Douglas F-15 Eagle and Operation Enduring Freedom.\n"
          ],
          "name": "stdout"
        },
        {
          "output_type": "stream",
          "text": [
            "7000it [24:53,  4.70it/s]Setting `pad_token_id` to `eos_token_id`:50256 for open-end generation.\n"
          ],
          "name": "stderr"
        },
        {
          "output_type": "stream",
          "text": [
            "  Batch 7,000  of  8,857. Loss: 0.10574602335691452.   Elapsed: 0:24:53.\n"
          ],
          "name": "stdout"
        },
        {
          "output_type": "stream",
          "text": [
            "\r7001it [24:53,  3.52it/s]"
          ],
          "name": "stderr"
        },
        {
          "output_type": "stream",
          "text": [
            "0:  incorporated<H> Alcatraz Versus the Evil Librarians <R> media type <T> Print = Alcatraz Versus the Evil Librarians is produced in print.\n"
          ],
          "name": "stdout"
        },
        {
          "output_type": "stream",
          "text": [
            "8000it [28:26,  4.69it/s]Setting `pad_token_id` to `eos_token_id`:50256 for open-end generation.\n"
          ],
          "name": "stderr"
        },
        {
          "output_type": "stream",
          "text": [
            "  Batch 8,000  of  8,857. Loss: 0.05633364990353584.   Elapsed: 0:28:27.\n"
          ],
          "name": "stdout"
        },
        {
          "output_type": "stream",
          "text": [
            "\r8001it [28:26,  3.36it/s]"
          ],
          "name": "stderr"
        },
        {
          "output_type": "stream",
          "text": [
            "0: Peter<H> Aleksey Chirikov icebreaker <R> builder <T> Finland = Finland is the home to the icebreaker called the icebreaker called the Aleksey Chirikov.\n"
          ],
          "name": "stdout"
        },
        {
          "output_type": "stream",
          "text": [
            "8857it [31:29,  4.69it/s]\n",
            "  0%|          | 2/8857 [00:00<10:24, 14.17it/s]"
          ],
          "name": "stderr"
        },
        {
          "output_type": "stream",
          "text": [
            "\n",
            "  Average training loss: 0.06\n",
            "  Training epoch took: 0:31:29\n",
            "\n",
            "Running Validation...\n"
          ],
          "name": "stdout"
        },
        {
          "output_type": "stream",
          "text": [
            "100%|██████████| 8857/8857 [10:31<00:00, 14.02it/s]\n",
            "0it [00:00, ?it/s]"
          ],
          "name": "stderr"
        },
        {
          "output_type": "stream",
          "text": [
            "  Validation Loss: 0.05\n",
            "  Validation took: 0:10:32\n",
            "\n",
            "======== Epoch 4 / 5 ========\n",
            "Training...\n"
          ],
          "name": "stdout"
        },
        {
          "output_type": "stream",
          "text": [
            "1000it [03:32,  4.69it/s]Setting `pad_token_id` to `eos_token_id`:50256 for open-end generation.\n"
          ],
          "name": "stderr"
        },
        {
          "output_type": "stream",
          "text": [
            "  Batch 1,000  of  8,857. Loss: 0.05574030429124832.   Elapsed: 0:03:33.\n"
          ],
          "name": "stdout"
        },
        {
          "output_type": "stream",
          "text": [
            "\r1001it [03:33,  2.19it/s]"
          ],
          "name": "stderr"
        },
        {
          "output_type": "stream",
          "text": [
            "0: uring<H> United States <R> demonym <T> Americans <H> United States <R> capital <T> Washington D.C. <H> Atlas II <R> country origin <T> United States <H> United States <R> ethnic group <T> African Americans <H> United States <R> leader title <T> President of the United States = The Atlas II originates from the United States, where Washington DC is the capital and people who live there are called Americans, and where African Americans are one of the ethnic groups. The leader of the United States is called the President of the United States.\n"
          ],
          "name": "stdout"
        },
        {
          "output_type": "stream",
          "text": [
            "2000it [07:06,  4.70it/s]Setting `pad_token_id` to `eos_token_id`:50256 for open-end generation.\n"
          ],
          "name": "stderr"
        },
        {
          "output_type": "stream",
          "text": [
            "  Batch 2,000  of  8,857. Loss: 0.05780227109789848.   Elapsed: 0:07:07.\n"
          ],
          "name": "stdout"
        },
        {
          "output_type": "stream",
          "text": [
            "\r2001it [07:07,  2.52it/s]"
          ],
          "name": "stderr"
        },
        {
          "output_type": "stream",
          "text": [
            "0:  reproductive<H> Alex Day <R> associated band/associated musical artist <T> Chameleon Circuit band <H> Alex Day <R> associated band/associated musical artist <T> Charlie McDonnell <H> Alex Day <R> genre <T> Folk music <H> Alex Day <R> active years start year <T> 2006 = Synthpop musician Alex Day became active in 2006 and is associated with Charlie McDonnell. He plays with the band Chameleon Circuit.\n"
          ],
          "name": "stdout"
        },
        {
          "output_type": "stream",
          "text": [
            "3000it [10:40,  4.69it/s]Setting `pad_token_id` to `eos_token_id`:50256 for open-end generation.\n"
          ],
          "name": "stderr"
        },
        {
          "output_type": "stream",
          "text": [
            "  Batch 3,000  of  8,857. Loss: 0.07194700092077255.   Elapsed: 0:10:41.\n"
          ],
          "name": "stdout"
        },
        {
          "output_type": "stream",
          "text": [
            "\r3001it [10:41,  2.72it/s]"
          ],
          "name": "stderr"
        },
        {
          "output_type": "stream",
          "text": [
            "0:  zone<H> ACM Transactions on Information Systems <R> abbreviation <T> ACM Trans. Inf. Syst. <H> ACM Transactions on Information Systems <R> issn number <T> 1558-2868 = The Acta Mathematica Hungarica is abbreviated to ACM Trans. Inf. Syst. and ISSN number is 1558-2868.\n"
          ],
          "name": "stdout"
        },
        {
          "output_type": "stream",
          "text": [
            "4000it [14:14,  4.68it/s]Setting `pad_token_id` to `eos_token_id`:50256 for open-end generation.\n"
          ],
          "name": "stderr"
        },
        {
          "output_type": "stream",
          "text": [
            "  Batch 4,000  of  8,857. Loss: 0.07130850851535797.   Elapsed: 0:14:14.\n",
            "0:  commits<H> Asam pedas <R> country <T> Indonesia = Asam pedas is a food found in Indonesia.\n"
          ],
          "name": "stdout"
        },
        {
          "output_type": "stream",
          "text": [
            "5000it [17:47,  4.69it/s]Setting `pad_token_id` to `eos_token_id`:50256 for open-end generation.\n"
          ],
          "name": "stderr"
        },
        {
          "output_type": "stream",
          "text": [
            "  Batch 5,000  of  8,857. Loss: 0.05967577174305916.   Elapsed: 0:17:48.\n"
          ],
          "name": "stdout"
        },
        {
          "output_type": "stream",
          "text": [
            "\r5001it [17:48,  3.01it/s]"
          ],
          "name": "stderr"
        },
        {
          "output_type": "stream",
          "text": [
            "0:  irony<H> Al Anderson NRBQ band <R> associated band/associated musical artist <T> The Wildweeds <H> Al Anderson NRBQ band <R> genre <T> Rock music = Al Anderson plays with the band NRBQ and was once a member of The Wildweeds.\n"
          ],
          "name": "stdout"
        },
        {
          "output_type": "stream",
          "text": [
            "6000it [21:21,  4.68it/s]Setting `pad_token_id` to `eos_token_id`:50256 for open-end generation.\n"
          ],
          "name": "stderr"
        },
        {
          "output_type": "stream",
          "text": [
            "  Batch 6,000  of  8,857. Loss: 0.050889741629362106.   Elapsed: 0:21:22.\n"
          ],
          "name": "stdout"
        },
        {
          "output_type": "stream",
          "text": [
            "\r6001it [21:22,  2.91it/s]"
          ],
          "name": "stderr"
        },
        {
          "output_type": "stream",
          "text": [
            "0:  Sah<H> A Severed Wasp <R> publisher <T> Farrar Straus and Giroux <H> Farrar Straus and Giroux <R> country <T> United States = Farrar Straus and Giroux published A Severed Wasp. The book is from the United States.\n"
          ],
          "name": "stdout"
        },
        {
          "output_type": "stream",
          "text": [
            "7000it [24:55,  4.69it/s]Setting `pad_token_id` to `eos_token_id`:50256 for open-end generation.\n"
          ],
          "name": "stderr"
        },
        {
          "output_type": "stream",
          "text": [
            "  Batch 7,000  of  8,857. Loss: 0.06217757612466812.   Elapsed: 0:24:55.\n"
          ],
          "name": "stdout"
        },
        {
          "output_type": "stream",
          "text": [
            "\r7001it [24:56,  2.26it/s]"
          ],
          "name": "stderr"
        },
        {
          "output_type": "stream",
          "text": [
            "0:  Bryan<H> William Anders <R> selected by nasa <T> 1963 <H> William Anders <R> nationality <T> United States <H> William Anders <R> status <T> Retired <H> William Anders <R> occupation <T> Fighter pilot <H> William Anders <R> birth place <T> British Hong Kong <H> William Anders <R> mission <T> Apollo 8 = William Anders, a US national was born in British Hong Kong and was selected by NASA in 1963. He was a fighter pilot and crew member of Apollo 8. The retired.\n"
          ],
          "name": "stdout"
        },
        {
          "output_type": "stream",
          "text": [
            "8000it [28:29,  4.69it/s]Setting `pad_token_id` to `eos_token_id`:50256 for open-end generation.\n"
          ],
          "name": "stderr"
        },
        {
          "output_type": "stream",
          "text": [
            "  Batch 8,000  of  8,857. Loss: 0.03835288807749748.   Elapsed: 0:28:29.\n"
          ],
          "name": "stdout"
        },
        {
          "output_type": "stream",
          "text": [
            "\r8001it [28:30,  1.96it/s]"
          ],
          "name": "stderr"
        },
        {
          "output_type": "stream",
          "text": [
            "0:  spirits<H> Abilene Regional Airport <R> city served <T> Abilene Texas <H> Abilene Regional Airport <R> runway length <T> 2195.0 <H> Abilene Regional Airport <R> elevation above the sea level <T> 546 <H> Abilene Regional Airport <R> icao location identifier <T> KABI <H> Abilene Regional Airport <R> runway name <T> 17L/35R = Abilene, Texas, is served by the Abilene regional airport. The ICAO Location Identifier of the airport is KABI and it is 546 metres above sea level. The airport's runway, 17L/35R, measures a length of 2195.\n"
          ],
          "name": "stdout"
        },
        {
          "output_type": "stream",
          "text": [
            "8857it [31:32,  4.68it/s]\n",
            "  0%|          | 2/8857 [00:00<10:34, 13.96it/s]"
          ],
          "name": "stderr"
        },
        {
          "output_type": "stream",
          "text": [
            "\n",
            "  Average training loss: 0.05\n",
            "  Training epoch took: 0:31:33\n",
            "\n",
            "Running Validation...\n"
          ],
          "name": "stdout"
        },
        {
          "output_type": "stream",
          "text": [
            "100%|██████████| 8857/8857 [10:32<00:00, 14.01it/s]\n",
            "0it [00:00, ?it/s]"
          ],
          "name": "stderr"
        },
        {
          "output_type": "stream",
          "text": [
            "  Validation Loss: 0.04\n",
            "  Validation took: 0:10:32\n",
            "\n",
            "======== Epoch 5 / 5 ========\n",
            "Training...\n"
          ],
          "name": "stdout"
        },
        {
          "output_type": "stream",
          "text": [
            "1000it [03:33,  4.69it/s]Setting `pad_token_id` to `eos_token_id`:50256 for open-end generation.\n"
          ],
          "name": "stderr"
        },
        {
          "output_type": "stream",
          "text": [
            "  Batch 1,000  of  8,857. Loss: 0.052169542759656906.   Elapsed: 0:03:33.\n"
          ],
          "name": "stdout"
        },
        {
          "output_type": "stream",
          "text": [
            "\r1001it [03:33,  3.04it/s]"
          ],
          "name": "stderr"
        },
        {
          "output_type": "stream",
          "text": [
            "0:  sees<H> Alfa Romeo 164 <R> related mean of transportation <T> Fiat Croma <H> Alfa Romeo 164 <R> related mean of transportation <T> Lancia Thema = The Alfa Romeo 164 and the Fiat Croma, both are similar means of transport.\n"
          ],
          "name": "stdout"
        },
        {
          "output_type": "stream",
          "text": [
            "2000it [07:06,  4.70it/s]Setting `pad_token_id` to `eos_token_id`:50256 for open-end generation.\n"
          ],
          "name": "stderr"
        },
        {
          "output_type": "stream",
          "text": [
            "  Batch 2,000  of  8,857. Loss: 0.0425146259367466.   Elapsed: 0:07:07.\n"
          ],
          "name": "stdout"
        },
        {
          "output_type": "stream",
          "text": [
            "\r2001it [07:07,  2.22it/s]"
          ],
          "name": "stderr"
        },
        {
          "output_type": "stream",
          "text": [
            "0:  hungry<H> Aleksandra Kovac <R> genre <T> Rhythm and blues <H> Aleksandra Kovac <R> background <T> solo singer <H> Aleksandra Kovac <R> birth year <T> 1972 <H> Aleksandra Kovac <R> birth place <T> Serbia <H> Aleksandra Kovac <R> background <T> solo singer = Aleksandra Kovac was born in 1972, in Serbia. She began her musical career as a solo singer and has worked with the musical artists, Kornelije Kovac and solo singer.\n"
          ],
          "name": "stdout"
        },
        {
          "output_type": "stream",
          "text": [
            "3000it [10:40,  4.70it/s]Setting `pad_token_id` to `eos_token_id`:50256 for open-end generation.\n"
          ],
          "name": "stderr"
        },
        {
          "output_type": "stream",
          "text": [
            "  Batch 3,000  of  8,857. Loss: 0.028636882081627846.   Elapsed: 0:10:40.\n"
          ],
          "name": "stdout"
        },
        {
          "output_type": "stream",
          "text": [
            "\r3001it [10:40,  3.61it/s]"
          ],
          "name": "stderr"
        },
        {
          "output_type": "stream",
          "text": [
            "0:  PT<H> A.S. Roma <R> manager <T> Luciano Spalletti = Luciano Spalletti manages A.S. Roma.\n"
          ],
          "name": "stdout"
        },
        {
          "output_type": "stream",
          "text": [
            "4000it [14:13,  4.69it/s]Setting `pad_token_id` to `eos_token_id`:50256 for open-end generation.\n"
          ],
          "name": "stderr"
        },
        {
          "output_type": "stream",
          "text": [
            "  Batch 4,000  of  8,857. Loss: 0.047422487288713455.   Elapsed: 0:14:13.\n"
          ],
          "name": "stdout"
        },
        {
          "output_type": "stream",
          "text": [
            "\r4001it [14:13,  3.61it/s]"
          ],
          "name": "stderr"
        },
        {
          "output_type": "stream",
          "text": [
            "0: ü<H> A.S. Roma <R> chairman <T> James Pallotta = James Pallotta is chairman of A.S. Roma.\n"
          ],
          "name": "stdout"
        },
        {
          "output_type": "stream",
          "text": [
            "5000it [17:46,  4.70it/s]Setting `pad_token_id` to `eos_token_id`:50256 for open-end generation.\n"
          ],
          "name": "stderr"
        },
        {
          "output_type": "stream",
          "text": [
            "  Batch 5,000  of  8,857. Loss: 0.05126702040433884.   Elapsed: 0:17:47.\n"
          ],
          "name": "stdout"
        },
        {
          "output_type": "stream",
          "text": [
            "\r5001it [17:47,  2.15it/s]"
          ],
          "name": "stderr"
        },
        {
          "output_type": "stream",
          "text": [
            "0: ruce<H> 11th Mississippi Infantry Monument <R> country <T> United States <H> 11th Mississippi Infantry Monument <R> location <T> Seminary Ridge <H> 11th Mississippi Infantry Monument <R> location <T> Adams County Pennsylvania <H> 11th Mississippi Infantry Monument <R> state <T> Pennsylvania <H> 11th Mississippi Infantry Monument <R> established <T> 2000 <H> 11th Mississippi Infantry Monument <R> category <T> Contributing property = The 11th Mississippi Infantry Monument is in the Seminary Ridge, Adams County, Pennsylvania. It was established in 2000 and falls under the category of Contributing property.\n"
          ],
          "name": "stdout"
        },
        {
          "output_type": "stream",
          "text": [
            "6000it [21:20,  4.69it/s]Setting `pad_token_id` to `eos_token_id`:50256 for open-end generation.\n"
          ],
          "name": "stderr"
        },
        {
          "output_type": "stream",
          "text": [
            "  Batch 6,000  of  8,857. Loss: 0.06264246255159378.   Elapsed: 0:21:21.\n"
          ],
          "name": "stdout"
        },
        {
          "output_type": "stream",
          "text": [
            "\r6001it [21:21,  1.97it/s]"
          ],
          "name": "stderr"
        },
        {
          "output_type": "stream",
          "text": [
            "0:  derivatives<H> School of Business and Social Sciences at the Aarhus University <R> city <T> Aarhus <H> School of Business and Social Sciences at the Aarhus University <R> academic staff size <T> 737 <H> School of Business and Social Sciences at the Aarhus University <R> number of students <T> 16000 <H> School of Business and Social Sciences at the Aarhus University <R> country <T> Denmark <H> School of Business and Social Sciences at the Aarhus University <R> established <T> 1928 = The School of Business and Social Sciences at the Aarhus University is located in Aarhus, Denmark. It was established in 1928. It has 737 academic staff and 16,000 students.\n"
          ],
          "name": "stdout"
        },
        {
          "output_type": "stream",
          "text": [
            "7000it [24:54,  4.70it/s]Setting `pad_token_id` to `eos_token_id`:50256 for open-end generation.\n"
          ],
          "name": "stderr"
        },
        {
          "output_type": "stream",
          "text": [
            "  Batch 7,000  of  8,857. Loss: 0.05201065540313721.   Elapsed: 0:24:55.\n"
          ],
          "name": "stdout"
        },
        {
          "output_type": "stream",
          "text": [
            "\r7001it [24:55,  2.88it/s]"
          ],
          "name": "stderr"
        },
        {
          "output_type": "stream",
          "text": [
            "0: \u0019<H> Buzz Aldrin <R> birth place <T> Glen Ridge New Jersey <H> Buzz Aldrin <R> mission <T> Apollo 11 <H> Buzz Aldrin <R> status <T> Retired = Buzz Aldrin, now retired, was born in Glen Ridge New Jersey and served as a crew member of Apollo 11.\n"
          ],
          "name": "stdout"
        },
        {
          "output_type": "stream",
          "text": [
            "8000it [28:28,  4.69it/s]Setting `pad_token_id` to `eos_token_id`:50256 for open-end generation.\n"
          ],
          "name": "stderr"
        },
        {
          "output_type": "stream",
          "text": [
            "  Batch 8,000  of  8,857. Loss: 0.05199335888028145.   Elapsed: 0:28:29.\n"
          ],
          "name": "stdout"
        },
        {
          "output_type": "stream",
          "text": [
            "\r8001it [28:29,  3.60it/s]"
          ],
          "name": "stderr"
        },
        {
          "output_type": "stream",
          "text": [
            "0:  remembering<H> Abraham A. Ribicoff <R> death place <T> New York City = Abraham A. Ribicoff died in New York City.\n"
          ],
          "name": "stdout"
        },
        {
          "output_type": "stream",
          "text": [
            "8857it [31:31,  4.68it/s]\n",
            "  0%|          | 2/8857 [00:00<10:26, 14.14it/s]"
          ],
          "name": "stderr"
        },
        {
          "output_type": "stream",
          "text": [
            "\n",
            "  Average training loss: 0.04\n",
            "  Training epoch took: 0:31:32\n",
            "\n",
            "Running Validation...\n"
          ],
          "name": "stdout"
        },
        {
          "output_type": "stream",
          "text": [
            "100%|██████████| 8857/8857 [10:36<00:00, 13.91it/s]"
          ],
          "name": "stderr"
        },
        {
          "output_type": "stream",
          "text": [
            "  Validation Loss: 0.04\n",
            "  Validation took: 0:10:37\n"
          ],
          "name": "stdout"
        },
        {
          "output_type": "stream",
          "text": [
            "\n"
          ],
          "name": "stderr"
        }
      ]
    },
    {
      "cell_type": "code",
      "metadata": {
        "id": "2MYeLbNBhzvy"
      },
      "source": [
        "!mkdir model\n",
        "torch.save(model.state_dict(),'model/pytorch_model.bin')"
      ],
      "execution_count": 19,
      "outputs": []
    },
    {
      "cell_type": "code",
      "metadata": {
        "id": "D8S-R438c8dN",
        "colab": {
          "base_uri": "https://localhost:8080/"
        },
        "outputId": "1d904cb3-1630-42d0-ff58-00827a8f30a7"
      },
      "source": [
        "!cd model\n",
        "!wget https://s3.amazonaws.com/models.huggingface.co/bert/distilgpt2-config.json\n",
        "!wget  https://s3.amazonaws.com/models.huggingface.co/bert/distilgpt2-tokenizer.json"
      ],
      "execution_count": 22,
      "outputs": [
        {
          "output_type": "stream",
          "text": [
            "--2021-03-19 14:27:03--  https://s3.amazonaws.com/models.huggingface.co/bert/distilgpt2-config.json\n",
            "Resolving s3.amazonaws.com (s3.amazonaws.com)... 52.216.134.13\n",
            "Connecting to s3.amazonaws.com (s3.amazonaws.com)|52.216.134.13|:443... connected.\n",
            "HTTP request sent, awaiting response... 200 OK\n",
            "Length: 762 [application/json]\n",
            "Saving to: ‘distilgpt2-config.json’\n",
            "\n",
            "distilgpt2-config.j 100%[===================>]     762  --.-KB/s    in 0s      \n",
            "\n",
            "2021-03-19 14:27:03 (20.5 MB/s) - ‘distilgpt2-config.json’ saved [762/762]\n",
            "\n",
            "--2021-03-19 14:27:03--  https://s3.amazonaws.com/models.huggingface.co/bert/distilgpt2-tokenizer.json\n",
            "Resolving s3.amazonaws.com (s3.amazonaws.com)... 52.216.134.13\n",
            "Connecting to s3.amazonaws.com (s3.amazonaws.com)|52.216.134.13|:443... connected.\n",
            "HTTP request sent, awaiting response... 200 OK\n",
            "Length: 1355256 (1.3M) [application/json]\n",
            "Saving to: ‘distilgpt2-tokenizer.json’\n",
            "\n",
            "distilgpt2-tokenize 100%[===================>]   1.29M  3.35MB/s    in 0.4s    \n",
            "\n",
            "2021-03-19 14:27:04 (3.35 MB/s) - ‘distilgpt2-tokenizer.json’ saved [1355256/1355256]\n",
            "\n"
          ],
          "name": "stdout"
        }
      ]
    },
    {
      "cell_type": "code",
      "metadata": {
        "id": "amuqia3w4egj"
      },
      "source": [
        "!mv /content/distilgpt2-config.json /content/model/config.json\n",
        "!mv /content/distilgpt2-tokenizer.json /content/model/tokenizer.json"
      ],
      "execution_count": 23,
      "outputs": []
    },
    {
      "cell_type": "code",
      "metadata": {
        "id": "-nMufYTj4sob"
      },
      "source": [
        ""
      ],
      "execution_count": null,
      "outputs": []
    }
  ]
}