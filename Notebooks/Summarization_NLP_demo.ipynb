{
 "cells": [
  {
   "cell_type": "markdown",
   "id": "loving-reflection",
   "metadata": {},
   "source": [
    "# NAAS - NLP\n",
    "<a href=\"https://app.naas.ai/user-redirect/naas/downloader?url=https://raw.githubusercontent.com/jupyter-naas/awesome-notebooks/master/PATH_TO_YOUR_FILE\" target=\"_parent\">\n",
    "<img src=\"https://img.shields.io/badge/-Open%20in%20Naas-success?labelColor=000000&logo=data:image/svg+xml;base64,PD94bWwgdmVyc2lvbj0iMS4wIiBlbmNvZGluZz0iVVRGLTgiPz4KPHN2ZyB3aWR0aD0iMTAyNHB4IiBoZWlnaHQ9IjEwMjRweCIgdmlld0JveD0iMCAwIDEwMjQgMTAyNCIgeG1sbnM9Imh0dHA6Ly93d3cudzMub3JnLzIwMDAvc3ZnIiB4bWxuczp4bGluaz0iaHR0cDovL3d3dy53My5vcmcvMTk5OS94bGluayIgdmVyc2lvbj0iMS4xIj4KIDwhLS0gR2VuZXJhdGVkIGJ5IFBpeGVsbWF0b3IgUHJvIDIuMC41IC0tPgogPGRlZnM+CiAgPHRleHQgaWQ9InN0cmluZyIgdHJhbnNmb3JtPSJtYXRyaXgoMS4wIDAuMCAwLjAgMS4wIDIyOC4wIDU0LjUpIiBmb250LWZhbWlseT0iQ29tZm9ydGFhLVJlZ3VsYXIsIENvbWZvcnRhYSIgZm9udC1zaXplPSI4MDAiIHRleHQtZGVjb3JhdGlvbj0ibm9uZSIgZmlsbD0iI2ZmZmZmZiIgeD0iMS4xOTk5OTk5OTk5OTk5ODg2IiB5PSI3MDUuMCI+bjwvdGV4dD4KIDwvZGVmcz4KIDx1c2UgaWQ9Im4iIHhsaW5rOmhyZWY9IiNzdHJpbmciLz4KPC9zdmc+Cg==\"/>\n",
    "</a>"
   ]
  },
  {
   "cell_type": "markdown",
   "id": "republican-green",
   "metadata": {},
   "source": [
    "# Step one Install the naas_drivers module and import nlp"
   ]
  },
  {
   "cell_type": "code",
   "execution_count": 3,
   "id": "bored-bulgarian",
   "metadata": {
    "execution": {
     "iopub.execute_input": "2021-05-27T15:55:42.347532Z",
     "iopub.status.busy": "2021-05-27T15:55:42.347307Z",
     "iopub.status.idle": "2021-05-27T15:55:42.350481Z",
     "shell.execute_reply": "2021-05-27T15:55:42.349789Z",
     "shell.execute_reply.started": "2021-05-27T15:55:42.347510Z"
    },
    "tags": []
   },
   "outputs": [],
   "source": [
    "from naas_drivers import nlp"
   ]
  },
  {
   "cell_type": "markdown",
   "id": "healthy-annotation",
   "metadata": {},
   "source": [
    "# NLP Format\n",
    "```\n",
    "nlp.get(task)(inputs)\n",
    "```\n",
    "### Supported tasks:\n",
    "\n",
    "- text-generation\n",
    "- feature-extraction\n",
    "- text-classification\n",
    "- sentiment-analysis\n",
    "- token-classification\n",
    "- ner\n",
    "- question-answering\n",
    "- fill-mask\n",
    "- summarization\n",
    "- translation"
   ]
  },
  {
   "cell_type": "markdown",
   "id": "confirmed-projector",
   "metadata": {},
   "source": [
    "# Summarization"
   ]
  },
  {
   "cell_type": "code",
   "execution_count": 2,
   "id": "conservative-updating",
   "metadata": {
    "execution": {
     "iopub.execute_input": "2021-05-27T16:31:35.723696Z",
     "iopub.status.busy": "2021-05-27T16:31:35.723452Z",
     "iopub.status.idle": "2021-05-27T16:31:42.069951Z",
     "shell.execute_reply": "2021-05-27T16:31:42.069386Z",
     "shell.execute_reply.started": "2021-05-27T16:31:35.723670Z"
    },
    "tags": []
   },
   "outputs": [
    {
     "name": "stderr",
     "output_type": "stream",
     "text": [
      "Your max_length is set to 200, but you input_length is only 90. You might consider decreasing max_length manually, e.g. summarizer('...', max_length=50)\n"
     ]
    },
    {
     "data": {
      "text/plain": [
       "[{'summary_text': 'Think back to the moment when she had become a little too big to pick up and carry.Stay in the same position as her little girl.'}]"
      ]
     },
     "execution_count": 2,
     "metadata": {},
     "output_type": "execute_result"
    }
   ],
   "source": [
    "nlp.get('summarization', model='deep-learning-analytics/wikihow-t5-small', tokenizer='deep-learning-analytics/wikihow-t5-small')\n",
    "(\"\"\"She looked at her little girl who was about to become a teen. \n",
    "She tried to think back to when the girl had been younger but failed to pinpoint the exact moment when she had become a little too big to pick up and carry. \n",
    "It hit her all at once. \n",
    "She was no longer a little girl and she stood there speechless with fear, sadness, and pride all running through her at the same time.\"\"\")"
   ]
  }
 ],
 "metadata": {
  "kernelspec": {
   "display_name": "Python 3",
   "language": "python",
   "name": "python3"
  },
  "language_info": {
   "codemirror_mode": {
    "name": "ipython",
    "version": 3
   },
   "file_extension": ".py",
   "mimetype": "text/x-python",
   "name": "python",
   "nbconvert_exporter": "python",
   "pygments_lexer": "ipython3",
   "version": "3.8.8"
  }
 },
 "nbformat": 4,
 "nbformat_minor": 5
}
