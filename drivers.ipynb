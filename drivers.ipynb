    "from input.yahoofinance import Yahoofinance\n",
    "from input.plotly import Plotly\n"
     "iopub.execute_input": "2021-05-18T22:10:57.150902Z",
     "iopub.status.busy": "2021-05-18T22:10:57.150677Z",
     "iopub.status.idle": "2021-05-18T22:10:57.673502Z",
     "shell.execute_reply": "2021-05-18T22:10:57.672863Z",
     "shell.execute_reply.started": "2021-05-18T22:10:57.150879Z"
    },
    "tags": []
   },
   "outputs": [
    {
     "name": "stdout",
     "output_type": "stream",
     "text": [
      "getted data for AAPL https://query1.finance.yahoo.com/v7/finance/download/AAPL?period1=1618265457&period2=1621375857&interval=1d&events=history\n",
      "Performing stepwise search to minimize aic\n",
      " ARIMA(1,1,1)(0,0,0)[0] intercept   : AIC=113.657, Time=0.14 sec\n",
      " ARIMA(0,1,0)(0,0,0)[0] intercept   : AIC=112.775, Time=0.01 sec\n",
      " ARIMA(1,1,0)(0,0,0)[0] intercept   : AIC=112.592, Time=0.03 sec\n",
      " ARIMA(0,1,1)(0,0,0)[0] intercept   : AIC=112.049, Time=0.10 sec\n",
      " ARIMA(0,1,0)(0,0,0)[0]             : AIC=111.181, Time=0.01 sec\n",
      "\n",
      "Best model:  ARIMA(0,1,0)(0,0,0)[0]          \n",
      "Total fit time: 0.301 seconds\n",
      "Chart linechart_close generated\n"
     ]
    },
    {
     "data": {
      "application/vnd.plotly.v1+json": {
       "config": {
        "plotlyServerURL": "https://plot.ly"
       },
       "data": [
        {
         "line": {
          "dash": "dot"
         },
         "mode": "lines",
         "name": "COMPOUND",
         "type": "scatter",
         "visible": true,
         "x": [
          "2021-04-12T00:00:00",
          "2021-04-13T00:00:00",
          "2021-04-14T00:00:00",
          "2021-04-15T00:00:00",
          "2021-04-16T00:00:00",
          "2021-04-19T00:00:00",
          "2021-04-20T00:00:00",
          "2021-04-21T00:00:00",
          "2021-04-22T00:00:00",
          "2021-04-23T00:00:00",
          "2021-04-26T00:00:00",
          "2021-04-27T00:00:00",
          "2021-04-28T00:00:00",
          "2021-04-29T00:00:00",
          "2021-04-30T00:00:00",
          "2021-05-03T00:00:00",
          "2021-05-04T00:00:00",
          "2021-05-05T00:00:00",
          "2021-05-06T00:00:00",
          "2021-05-07T00:00:00",
          "2021-05-10T00:00:00",
          "2021-05-11T00:00:00",
          "2021-05-12T00:00:00",
          "2021-05-13T00:00:00",
          "2021-05-14T00:00:00",
          "2021-05-17T00:00:00",
          "2021-05-18T00:00:00",
          "2021-05-19T00:00:00",
          "2021-05-20T00:00:00",
          "2021-05-21T00:00:00",
          "2021-05-22T00:00:00",
          "2021-05-23T00:00:00",
          "2021-05-24T00:00:00",
          "2021-05-25T00:00:00",
          "2021-05-26T00:00:00",
          "2021-05-27T00:00:00",
          "2021-05-28T00:00:00",
          "2021-05-29T00:00:00",
          "2021-05-30T00:00:00",
          "2021-05-31T00:00:00",
          "2021-06-01T00:00:00",
          "2021-06-02T00:00:00",
          "2021-06-03T00:00:00",
          "2021-06-04T00:00:00",
          "2021-06-05T00:00:00",
          "2021-06-06T00:00:00",
          "2021-06-07T00:00:00"
         ],
         "y": [
          null,
          null,
          null,
          null,
          null,
          null,
          null,
          null,
          null,
          null,
          null,
          null,
          null,
          null,
          null,
          null,
          null,
          null,
          null,
          null,
          null,
          null,
          null,
          null,
          null,
          null,
          124.84999799999999,
          125.41502571131578,
          124.33115983499901,
          125.74638114961216,
          125.69287754740408,
          125.74322186606605,
          125.48006946682706,
          125.39777520707314,
          124.9658096805291,
          124.44211177933569,
          134.4858245515351,
          134.73137298213015,
          131.7001882884676,
          129.6108806436824,
          132.51532693124022,
          130.48110125378568,
          128.0438486362701,
          129.1155162851136,
          133.83107474153095,
          131.2029697979746,
          128.99467326821267
         ]
        },
        {
         "mode": "lines",
         "name": "Close",
         "type": "scatter",
         "visible": true,
         "x": [
          "2021-04-12T00:00:00",
          "2021-04-13T00:00:00",
          "2021-04-14T00:00:00",
          "2021-04-15T00:00:00",
          "2021-04-16T00:00:00",
          "2021-04-19T00:00:00",
          "2021-04-20T00:00:00",
          "2021-04-21T00:00:00",
          "2021-04-22T00:00:00",
          "2021-04-23T00:00:00",
          "2021-04-26T00:00:00",
          "2021-04-27T00:00:00",
          "2021-04-28T00:00:00",
          "2021-04-29T00:00:00",
          "2021-04-30T00:00:00",
          "2021-05-03T00:00:00",
          "2021-05-04T00:00:00",
          "2021-05-05T00:00:00",
          "2021-05-06T00:00:00",
          "2021-05-07T00:00:00",
          "2021-05-10T00:00:00",
          "2021-05-11T00:00:00",
          "2021-05-12T00:00:00",
          "2021-05-13T00:00:00",
          "2021-05-14T00:00:00",
          "2021-05-17T00:00:00",
          "2021-05-18T00:00:00",
          "2021-05-19T00:00:00",
          "2021-05-20T00:00:00",
          "2021-05-21T00:00:00",
          "2021-05-22T00:00:00",
          "2021-05-23T00:00:00",
          "2021-05-24T00:00:00",
          "2021-05-25T00:00:00",
          "2021-05-26T00:00:00",
          "2021-05-27T00:00:00",
          "2021-05-28T00:00:00",
          "2021-05-29T00:00:00",
          "2021-05-30T00:00:00",
          "2021-05-31T00:00:00",
          "2021-06-01T00:00:00",
          "2021-06-02T00:00:00",
          "2021-06-03T00:00:00",
          "2021-06-04T00:00:00",
          "2021-06-05T00:00:00",
          "2021-06-06T00:00:00",
          "2021-06-07T00:00:00"
         ],
         "y": [
          131.240005,
          134.429993,
          132.029999,
          134.5,
          134.160004,
          134.839996,
          133.110001,
          133.5,
          131.940002,
          134.320007,
          134.720001,
          134.389999,
          133.580002,
          133.479996,
          131.460007,
          132.539993,
          127.849998,
          128.100006,
          129.740005,
          130.210007,
          126.849998,
          125.910004,
          122.769997,
          124.970001,
          127.449997,
          126.269997,
          124.849998,
          null,
          null,
          null,
          null,
          null,
          null,
          null,
          null,
          null,
          null,
          null,
          null,
          null,
          null,
          null,
          null,
          null,
          null,
          null,
          null
         ]
        }
       ],
       "layout": {
        "autosize": true,
        "dragmode": "pan",
        "showlegend": false,
        "template": {
         "data": {
          "bar": [
           {
            "error_x": {
             "color": "#2a3f5f"
            },
            "error_y": {
             "color": "#2a3f5f"
            },
            "marker": {
             "line": {
              "color": "#E5ECF6",
              "width": 0.5
             }
            },
            "type": "bar"
           }
          ],
          "barpolar": [
           {
            "marker": {
             "line": {
              "color": "#E5ECF6",
              "width": 0.5
             }
            },
            "type": "barpolar"
           }
          ],
          "carpet": [
           {
            "aaxis": {
             "endlinecolor": "#2a3f5f",
             "gridcolor": "white",
             "linecolor": "white",
             "minorgridcolor": "white",
             "startlinecolor": "#2a3f5f"
            },
            "baxis": {
             "endlinecolor": "#2a3f5f",
             "gridcolor": "white",
             "linecolor": "white",
             "minorgridcolor": "white",
             "startlinecolor": "#2a3f5f"
            },
            "type": "carpet"
           }
          ],
          "choropleth": [
           {
            "colorbar": {
             "outlinewidth": 0,
             "ticks": ""
            },
            "type": "choropleth"
           }
          ],
          "contour": [
           {
            "colorbar": {
             "outlinewidth": 0,
             "ticks": ""
            },
            "colorscale": [
             [
              0,
              "#0d0887"
             ],
             [
              0.1111111111111111,
              "#46039f"
             ],
             [
              0.2222222222222222,
              "#7201a8"
             ],
             [
              0.3333333333333333,
              "#9c179e"
             ],
             [
              0.4444444444444444,
              "#bd3786"
             ],
             [
              0.5555555555555556,
              "#d8576b"
             ],
             [
              0.6666666666666666,
              "#ed7953"
             ],
             [
              0.7777777777777778,
              "#fb9f3a"
             ],
             [
              0.8888888888888888,
              "#fdca26"
             ],
             [
              1,
              "#f0f921"
             ]
            ],
            "type": "contour"
           }
          ],
          "contourcarpet": [
           {
            "colorbar": {
             "outlinewidth": 0,
             "ticks": ""
            },
            "type": "contourcarpet"
           }
          ],
          "heatmap": [
           {
            "colorbar": {
             "outlinewidth": 0,
             "ticks": ""
            },
            "colorscale": [
             [
              0,
              "#0d0887"
             ],
             [
              0.1111111111111111,
              "#46039f"
             ],
             [
              0.2222222222222222,
              "#7201a8"
             ],
             [
              0.3333333333333333,
              "#9c179e"
             ],
             [
              0.4444444444444444,
              "#bd3786"
             ],
             [
              0.5555555555555556,
              "#d8576b"
             ],
             [
              0.6666666666666666,
              "#ed7953"
             ],
             [
              0.7777777777777778,
              "#fb9f3a"
             ],
             [
              0.8888888888888888,
              "#fdca26"
             ],
             [
              1,
              "#f0f921"
             ]
            ],
            "type": "heatmap"
           }
          ],
          "heatmapgl": [
           {
            "colorbar": {
             "outlinewidth": 0,
             "ticks": ""
            },
            "colorscale": [
             [
              0,
              "#0d0887"
             ],
             [
              0.1111111111111111,
              "#46039f"
             ],
             [
              0.2222222222222222,
              "#7201a8"
             ],
             [
              0.3333333333333333,
              "#9c179e"
             ],
             [
              0.4444444444444444,
              "#bd3786"
             ],
             [
              0.5555555555555556,
              "#d8576b"
             ],
             [
              0.6666666666666666,
              "#ed7953"
             ],
             [
              0.7777777777777778,
              "#fb9f3a"
             ],
             [
              0.8888888888888888,
              "#fdca26"
             ],
             [
              1,
              "#f0f921"
             ]
            ],
            "type": "heatmapgl"
           }
          ],
          "histogram": [
           {
            "marker": {
             "colorbar": {
              "outlinewidth": 0,
              "ticks": ""
             }
            },
            "type": "histogram"
           }
          ],
          "histogram2d": [
           {
            "colorbar": {
             "outlinewidth": 0,
             "ticks": ""
            },
            "colorscale": [
             [
              0,
              "#0d0887"
             ],
             [
              0.1111111111111111,
              "#46039f"
             ],
             [
              0.2222222222222222,
              "#7201a8"
             ],
             [
              0.3333333333333333,
              "#9c179e"
             ],
             [
              0.4444444444444444,
              "#bd3786"
             ],
             [
              0.5555555555555556,
              "#d8576b"
             ],
             [
              0.6666666666666666,
              "#ed7953"
             ],
             [
              0.7777777777777778,
              "#fb9f3a"
             ],
             [
              0.8888888888888888,
              "#fdca26"
             ],
             [
              1,
              "#f0f921"
             ]
            ],
            "type": "histogram2d"
           }
          ],
          "histogram2dcontour": [
           {
            "colorbar": {
             "outlinewidth": 0,
             "ticks": ""
            },
            "colorscale": [
             [
              0,
              "#0d0887"
             ],
             [
              0.1111111111111111,
              "#46039f"
             ],
             [
              0.2222222222222222,
              "#7201a8"
             ],
             [
              0.3333333333333333,
              "#9c179e"
             ],
             [
              0.4444444444444444,
              "#bd3786"
             ],
             [
              0.5555555555555556,
              "#d8576b"
             ],
             [
              0.6666666666666666,
              "#ed7953"
             ],
             [
              0.7777777777777778,
              "#fb9f3a"
             ],
             [
              0.8888888888888888,
              "#fdca26"
             ],
             [
              1,
              "#f0f921"
             ]
            ],
            "type": "histogram2dcontour"
           }
          ],
          "mesh3d": [
           {
            "colorbar": {
             "outlinewidth": 0,
             "ticks": ""
            },
            "type": "mesh3d"
           }
          ],
          "parcoords": [
           {
            "line": {
             "colorbar": {
              "outlinewidth": 0,
              "ticks": ""
             }
            },
            "type": "parcoords"
           }
          ],
          "pie": [
           {
            "automargin": true,
            "type": "pie"
           }
          ],
          "scatter": [
           {
            "marker": {
             "colorbar": {
              "outlinewidth": 0,
              "ticks": ""
             }
            },
            "type": "scatter"
           }
          ],
          "scatter3d": [
           {
            "line": {
             "colorbar": {
              "outlinewidth": 0,
              "ticks": ""
             }
            },
            "marker": {
             "colorbar": {
              "outlinewidth": 0,
              "ticks": ""
             }
            },
            "type": "scatter3d"
           }
          ],
          "scattercarpet": [
           {
            "marker": {
             "colorbar": {
              "outlinewidth": 0,
              "ticks": ""
             }
            },
            "type": "scattercarpet"
           }
          ],
          "scattergeo": [
           {
            "marker": {
             "colorbar": {
              "outlinewidth": 0,
              "ticks": ""
             }
            },
            "type": "scattergeo"
           }
          ],
          "scattergl": [
           {
            "marker": {
             "colorbar": {
              "outlinewidth": 0,
              "ticks": ""
             }
            },
            "type": "scattergl"
           }
          ],
          "scattermapbox": [
           {
            "marker": {
             "colorbar": {
              "outlinewidth": 0,
              "ticks": ""
             }
            },
            "type": "scattermapbox"
           }
          ],
          "scatterpolar": [
           {
            "marker": {
             "colorbar": {
              "outlinewidth": 0,
              "ticks": ""
             }
            },
            "type": "scatterpolar"
           }
          ],
          "scatterpolargl": [
           {
            "marker": {
             "colorbar": {
              "outlinewidth": 0,
              "ticks": ""
             }
            },
            "type": "scatterpolargl"
           }
          ],
          "scatterternary": [
           {
            "marker": {
             "colorbar": {
              "outlinewidth": 0,
              "ticks": ""
             }
            },
            "type": "scatterternary"
           }
          ],
          "surface": [
           {
            "colorbar": {
             "outlinewidth": 0,
             "ticks": ""
            },
            "colorscale": [
             [
              0,
              "#0d0887"
             ],
             [
              0.1111111111111111,
              "#46039f"
             ],
             [
              0.2222222222222222,
              "#7201a8"
             ],
             [
              0.3333333333333333,
              "#9c179e"
             ],
             [
              0.4444444444444444,
              "#bd3786"
             ],
             [
              0.5555555555555556,
              "#d8576b"
             ],
             [
              0.6666666666666666,
              "#ed7953"
             ],
             [
              0.7777777777777778,
              "#fb9f3a"
             ],
             [
              0.8888888888888888,
              "#fdca26"
             ],
             [
              1,
              "#f0f921"
             ]
            ],
            "type": "surface"
           }
          ],
          "table": [
           {
            "cells": {
             "fill": {
              "color": "#EBF0F8"
             },
             "line": {
              "color": "white"
             }
            },
            "header": {
             "fill": {
              "color": "#C8D4E3"
             },
             "line": {
              "color": "white"
             }
            },
            "type": "table"
           }
          ]
         },
         "layout": {
          "annotationdefaults": {
           "arrowcolor": "#2a3f5f",
           "arrowhead": 0,
           "arrowwidth": 1
          },
          "autotypenumbers": "strict",
          "coloraxis": {
           "colorbar": {
            "outlinewidth": 0,
            "ticks": ""
           }
          },
          "colorscale": {
           "diverging": [
            [
             0,
             "#8e0152"
            ],
            [
             0.1,
             "#c51b7d"
            ],
            [
             0.2,
             "#de77ae"
            ],
            [
             0.3,
             "#f1b6da"
            ],
            [
             0.4,
             "#fde0ef"
            ],
            [
             0.5,
             "#f7f7f7"
            ],
            [
             0.6,
             "#e6f5d0"
            ],
            [
             0.7,
             "#b8e186"
            ],
            [
             0.8,
             "#7fbc41"
            ],
            [
             0.9,
             "#4d9221"
            ],
            [
             1,
             "#276419"
            ]
           ],
           "sequential": [
            [
             0,
             "#0d0887"
            ],
            [
             0.1111111111111111,
             "#46039f"
            ],
            [
             0.2222222222222222,
             "#7201a8"
            ],
            [
             0.3333333333333333,
             "#9c179e"
            ],
            [
             0.4444444444444444,
             "#bd3786"
            ],
            [
             0.5555555555555556,
             "#d8576b"
            ],
            [
             0.6666666666666666,
             "#ed7953"
            ],
            [
             0.7777777777777778,
             "#fb9f3a"
            ],
            [
             0.8888888888888888,
             "#fdca26"
            ],
            [
             1,
             "#f0f921"
            ]
           ],
           "sequentialminus": [
            [
             0,
             "#0d0887"
            ],
            [
             0.1111111111111111,
             "#46039f"
            ],
            [
             0.2222222222222222,
             "#7201a8"
            ],
            [
             0.3333333333333333,
             "#9c179e"
            ],
            [
             0.4444444444444444,
             "#bd3786"
            ],
            [
             0.5555555555555556,
             "#d8576b"
            ],
            [
             0.6666666666666666,
             "#ed7953"
            ],
            [
             0.7777777777777778,
             "#fb9f3a"
            ],
            [
             0.8888888888888888,
             "#fdca26"
            ],
            [
             1,
             "#f0f921"
            ]
           ]
          },
          "colorway": [
           "#636efa",
           "#EF553B",
           "#00cc96",
           "#ab63fa",
           "#FFA15A",
           "#19d3f3",
           "#FF6692",
           "#B6E880",
           "#FF97FF",
           "#FECB52"
          ],
          "font": {
           "color": "#2a3f5f"
          },
          "geo": {
           "bgcolor": "white",
           "lakecolor": "white",
           "landcolor": "#E5ECF6",
           "showlakes": true,
           "showland": true,
           "subunitcolor": "white"
          },
          "hoverlabel": {
           "align": "left"
          },
          "hovermode": "closest",
          "mapbox": {
           "style": "light"
          },
          "paper_bgcolor": "white",
          "plot_bgcolor": "#E5ECF6",
          "polar": {
           "angularaxis": {
            "gridcolor": "white",
            "linecolor": "white",
            "ticks": ""
           },
           "bgcolor": "#E5ECF6",
           "radialaxis": {
            "gridcolor": "white",
            "linecolor": "white",
            "ticks": ""
           }
          },
          "scene": {
           "xaxis": {
            "backgroundcolor": "#E5ECF6",
            "gridcolor": "white",
            "gridwidth": 2,
            "linecolor": "white",
            "showbackground": true,
            "ticks": "",
            "zerolinecolor": "white"
           },
           "yaxis": {
            "backgroundcolor": "#E5ECF6",
            "gridcolor": "white",
            "gridwidth": 2,
            "linecolor": "white",
            "showbackground": true,
            "ticks": "",
            "zerolinecolor": "white"
           },
           "zaxis": {
            "backgroundcolor": "#E5ECF6",
            "gridcolor": "white",
            "gridwidth": 2,
            "linecolor": "white",
            "showbackground": true,
            "ticks": "",
            "zerolinecolor": "white"
           }
          },
          "shapedefaults": {
           "line": {
            "color": "#2a3f5f"
           }
          },
          "ternary": {
           "aaxis": {
            "gridcolor": "white",
            "linecolor": "white",
            "ticks": ""
           },
           "baxis": {
            "gridcolor": "white",
            "linecolor": "white",
            "ticks": ""
           },
           "bgcolor": "#E5ECF6",
           "caxis": {
            "gridcolor": "white",
            "linecolor": "white",
            "ticks": ""
           }
          },
          "title": {
           "x": 0.05
          },
          "xaxis": {
           "automargin": true,
           "gridcolor": "white",
           "linecolor": "white",
           "ticks": "",
           "title": {
            "standoff": 15
           },
           "zerolinecolor": "white",
           "zerolinewidth": 2
          },
          "yaxis": {
           "automargin": true,
           "gridcolor": "white",
           "linecolor": "white",
           "ticks": "",
           "title": {
            "standoff": 15
           },
           "zerolinecolor": "white",
           "zerolinewidth": 2
          }
         }
        },
        "xaxis": {
         "autorange": true,
         "range": [
          "2021-04-12",
          "2021-06-07"
         ],
         "rangeslider": {
          "visible": false,
          "yaxis": {}
         },
         "type": "date"
        },
        "yaxis": {
         "autorange": true,
         "range": [
          122.0994415,
          135.51055150000002
         ],
         "type": "linear"
        }
       }
      },
      "image/png": "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",
      "text/html": [
       "<div>                            <div id=\"89919a6c-b5fd-49c7-9b5b-39a3f54309bc\" class=\"plotly-graph-div\" style=\"height:525px; width:100%;\"></div>            <script type=\"text/javascript\">                require([\"plotly\"], function(Plotly) {                    window.PLOTLYENV=window.PLOTLYENV || {};                                    if (document.getElementById(\"89919a6c-b5fd-49c7-9b5b-39a3f54309bc\")) {                    Plotly.newPlot(                        \"89919a6c-b5fd-49c7-9b5b-39a3f54309bc\",                        [{\"line\": {\"dash\": \"dot\"}, \"mode\": \"lines\", \"name\": \"COMPOUND\", \"type\": \"scatter\", \"visible\": true, \"x\": [\"2021-04-12T00:00:00\", \"2021-04-13T00:00:00\", \"2021-04-14T00:00:00\", \"2021-04-15T00:00:00\", \"2021-04-16T00:00:00\", \"2021-04-19T00:00:00\", \"2021-04-20T00:00:00\", \"2021-04-21T00:00:00\", \"2021-04-22T00:00:00\", \"2021-04-23T00:00:00\", \"2021-04-26T00:00:00\", \"2021-04-27T00:00:00\", \"2021-04-28T00:00:00\", \"2021-04-29T00:00:00\", \"2021-04-30T00:00:00\", \"2021-05-03T00:00:00\", \"2021-05-04T00:00:00\", \"2021-05-05T00:00:00\", \"2021-05-06T00:00:00\", \"2021-05-07T00:00:00\", \"2021-05-10T00:00:00\", \"2021-05-11T00:00:00\", \"2021-05-12T00:00:00\", \"2021-05-13T00:00:00\", \"2021-05-14T00:00:00\", \"2021-05-17T00:00:00\", \"2021-05-18T00:00:00\", \"2021-05-19T00:00:00\", \"2021-05-20T00:00:00\", \"2021-05-21T00:00:00\", \"2021-05-22T00:00:00\", \"2021-05-23T00:00:00\", \"2021-05-24T00:00:00\", \"2021-05-25T00:00:00\", \"2021-05-26T00:00:00\", \"2021-05-27T00:00:00\", \"2021-05-28T00:00:00\", \"2021-05-29T00:00:00\", \"2021-05-30T00:00:00\", \"2021-05-31T00:00:00\", \"2021-06-01T00:00:00\", \"2021-06-02T00:00:00\", \"2021-06-03T00:00:00\", \"2021-06-04T00:00:00\", \"2021-06-05T00:00:00\", \"2021-06-06T00:00:00\", \"2021-06-07T00:00:00\"], \"y\": [null, null, null, null, null, null, null, null, null, null, null, null, null, null, null, null, null, null, null, null, null, null, null, null, null, null, 124.84999799999999, 125.41502571131578, 124.33115983499901, 125.74638114961216, 125.69287754740408, 125.74322186606605, 125.48006946682706, 125.39777520707314, 124.9658096805291, 124.44211177933569, 134.4858245515351, 134.73137298213015, 131.7001882884676, 129.6108806436824, 132.51532693124022, 130.48110125378568, 128.0438486362701, 129.1155162851136, 133.83107474153095, 131.2029697979746, 128.99467326821267]}, {\"mode\": \"lines\", \"name\": \"Close\", \"type\": \"scatter\", \"visible\": true, \"x\": [\"2021-04-12T00:00:00\", \"2021-04-13T00:00:00\", \"2021-04-14T00:00:00\", \"2021-04-15T00:00:00\", \"2021-04-16T00:00:00\", \"2021-04-19T00:00:00\", \"2021-04-20T00:00:00\", \"2021-04-21T00:00:00\", \"2021-04-22T00:00:00\", \"2021-04-23T00:00:00\", \"2021-04-26T00:00:00\", \"2021-04-27T00:00:00\", \"2021-04-28T00:00:00\", \"2021-04-29T00:00:00\", \"2021-04-30T00:00:00\", \"2021-05-03T00:00:00\", \"2021-05-04T00:00:00\", \"2021-05-05T00:00:00\", \"2021-05-06T00:00:00\", \"2021-05-07T00:00:00\", \"2021-05-10T00:00:00\", \"2021-05-11T00:00:00\", \"2021-05-12T00:00:00\", \"2021-05-13T00:00:00\", \"2021-05-14T00:00:00\", \"2021-05-17T00:00:00\", \"2021-05-18T00:00:00\", \"2021-05-19T00:00:00\", \"2021-05-20T00:00:00\", \"2021-05-21T00:00:00\", \"2021-05-22T00:00:00\", \"2021-05-23T00:00:00\", \"2021-05-24T00:00:00\", \"2021-05-25T00:00:00\", \"2021-05-26T00:00:00\", \"2021-05-27T00:00:00\", \"2021-05-28T00:00:00\", \"2021-05-29T00:00:00\", \"2021-05-30T00:00:00\", \"2021-05-31T00:00:00\", \"2021-06-01T00:00:00\", \"2021-06-02T00:00:00\", \"2021-06-03T00:00:00\", \"2021-06-04T00:00:00\", \"2021-06-05T00:00:00\", \"2021-06-06T00:00:00\", \"2021-06-07T00:00:00\"], \"y\": [131.240005, 134.429993, 132.029999, 134.5, 134.160004, 134.839996, 133.110001, 133.5, 131.940002, 134.320007, 134.720001, 134.389999, 133.580002, 133.479996, 131.460007, 132.539993, 127.849998, 128.100006, 129.740005, 130.210007, 126.849998, 125.910004, 122.769997, 124.970001, 127.449997, 126.269997, 124.849998, null, null, null, null, null, null, null, null, null, null, null, null, null, null, null, null, null, null, null, null]}],                        {\"dragmode\": \"pan\", \"showlegend\": false, \"template\": {\"data\": {\"bar\": [{\"error_x\": {\"color\": \"#2a3f5f\"}, \"error_y\": {\"color\": \"#2a3f5f\"}, \"marker\": {\"line\": {\"color\": \"#E5ECF6\", \"width\": 0.5}}, \"type\": \"bar\"}], \"barpolar\": [{\"marker\": {\"line\": {\"color\": \"#E5ECF6\", \"width\": 0.5}}, \"type\": \"barpolar\"}], \"carpet\": [{\"aaxis\": {\"endlinecolor\": \"#2a3f5f\", \"gridcolor\": \"white\", \"linecolor\": \"white\", \"minorgridcolor\": \"white\", \"startlinecolor\": \"#2a3f5f\"}, \"baxis\": {\"endlinecolor\": \"#2a3f5f\", \"gridcolor\": \"white\", \"linecolor\": \"white\", \"minorgridcolor\": \"white\", \"startlinecolor\": \"#2a3f5f\"}, \"type\": \"carpet\"}], \"choropleth\": [{\"colorbar\": {\"outlinewidth\": 0, \"ticks\": \"\"}, \"type\": \"choropleth\"}], \"contour\": [{\"colorbar\": {\"outlinewidth\": 0, \"ticks\": \"\"}, \"colorscale\": [[0.0, \"#0d0887\"], [0.1111111111111111, \"#46039f\"], [0.2222222222222222, \"#7201a8\"], [0.3333333333333333, \"#9c179e\"], [0.4444444444444444, \"#bd3786\"], [0.5555555555555556, \"#d8576b\"], [0.6666666666666666, \"#ed7953\"], [0.7777777777777778, \"#fb9f3a\"], [0.8888888888888888, \"#fdca26\"], [1.0, \"#f0f921\"]], \"type\": \"contour\"}], \"contourcarpet\": [{\"colorbar\": {\"outlinewidth\": 0, \"ticks\": \"\"}, \"type\": \"contourcarpet\"}], \"heatmap\": [{\"colorbar\": {\"outlinewidth\": 0, \"ticks\": \"\"}, \"colorscale\": [[0.0, \"#0d0887\"], [0.1111111111111111, \"#46039f\"], [0.2222222222222222, \"#7201a8\"], [0.3333333333333333, \"#9c179e\"], [0.4444444444444444, \"#bd3786\"], [0.5555555555555556, \"#d8576b\"], [0.6666666666666666, \"#ed7953\"], [0.7777777777777778, \"#fb9f3a\"], [0.8888888888888888, \"#fdca26\"], [1.0, \"#f0f921\"]], \"type\": \"heatmap\"}], \"heatmapgl\": [{\"colorbar\": {\"outlinewidth\": 0, \"ticks\": \"\"}, \"colorscale\": [[0.0, \"#0d0887\"], [0.1111111111111111, \"#46039f\"], [0.2222222222222222, \"#7201a8\"], [0.3333333333333333, \"#9c179e\"], [0.4444444444444444, \"#bd3786\"], [0.5555555555555556, \"#d8576b\"], [0.6666666666666666, \"#ed7953\"], [0.7777777777777778, \"#fb9f3a\"], [0.8888888888888888, \"#fdca26\"], [1.0, \"#f0f921\"]], \"type\": \"heatmapgl\"}], \"histogram\": [{\"marker\": {\"colorbar\": {\"outlinewidth\": 0, \"ticks\": \"\"}}, \"type\": \"histogram\"}], \"histogram2d\": [{\"colorbar\": {\"outlinewidth\": 0, \"ticks\": \"\"}, \"colorscale\": [[0.0, \"#0d0887\"], [0.1111111111111111, \"#46039f\"], [0.2222222222222222, \"#7201a8\"], [0.3333333333333333, \"#9c179e\"], [0.4444444444444444, \"#bd3786\"], [0.5555555555555556, \"#d8576b\"], [0.6666666666666666, \"#ed7953\"], [0.7777777777777778, \"#fb9f3a\"], [0.8888888888888888, \"#fdca26\"], [1.0, \"#f0f921\"]], \"type\": \"histogram2d\"}], \"histogram2dcontour\": [{\"colorbar\": {\"outlinewidth\": 0, \"ticks\": \"\"}, \"colorscale\": [[0.0, \"#0d0887\"], [0.1111111111111111, \"#46039f\"], [0.2222222222222222, \"#7201a8\"], [0.3333333333333333, \"#9c179e\"], [0.4444444444444444, \"#bd3786\"], [0.5555555555555556, \"#d8576b\"], [0.6666666666666666, \"#ed7953\"], [0.7777777777777778, \"#fb9f3a\"], [0.8888888888888888, \"#fdca26\"], [1.0, \"#f0f921\"]], \"type\": \"histogram2dcontour\"}], \"mesh3d\": [{\"colorbar\": {\"outlinewidth\": 0, \"ticks\": \"\"}, \"type\": \"mesh3d\"}], \"parcoords\": [{\"line\": {\"colorbar\": {\"outlinewidth\": 0, \"ticks\": \"\"}}, \"type\": \"parcoords\"}], \"pie\": [{\"automargin\": true, \"type\": \"pie\"}], \"scatter\": [{\"marker\": {\"colorbar\": {\"outlinewidth\": 0, \"ticks\": \"\"}}, \"type\": \"scatter\"}], \"scatter3d\": [{\"line\": {\"colorbar\": {\"outlinewidth\": 0, \"ticks\": \"\"}}, \"marker\": {\"colorbar\": {\"outlinewidth\": 0, \"ticks\": \"\"}}, \"type\": \"scatter3d\"}], \"scattercarpet\": [{\"marker\": {\"colorbar\": {\"outlinewidth\": 0, \"ticks\": \"\"}}, \"type\": \"scattercarpet\"}], \"scattergeo\": [{\"marker\": {\"colorbar\": {\"outlinewidth\": 0, \"ticks\": \"\"}}, \"type\": \"scattergeo\"}], \"scattergl\": [{\"marker\": {\"colorbar\": {\"outlinewidth\": 0, \"ticks\": \"\"}}, \"type\": \"scattergl\"}], \"scattermapbox\": [{\"marker\": {\"colorbar\": {\"outlinewidth\": 0, \"ticks\": \"\"}}, \"type\": \"scattermapbox\"}], \"scatterpolar\": [{\"marker\": {\"colorbar\": {\"outlinewidth\": 0, \"ticks\": \"\"}}, \"type\": \"scatterpolar\"}], \"scatterpolargl\": [{\"marker\": {\"colorbar\": {\"outlinewidth\": 0, \"ticks\": \"\"}}, \"type\": \"scatterpolargl\"}], \"scatterternary\": [{\"marker\": {\"colorbar\": {\"outlinewidth\": 0, \"ticks\": \"\"}}, \"type\": \"scatterternary\"}], \"surface\": [{\"colorbar\": {\"outlinewidth\": 0, \"ticks\": \"\"}, \"colorscale\": [[0.0, \"#0d0887\"], [0.1111111111111111, \"#46039f\"], [0.2222222222222222, \"#7201a8\"], [0.3333333333333333, \"#9c179e\"], [0.4444444444444444, \"#bd3786\"], [0.5555555555555556, \"#d8576b\"], [0.6666666666666666, \"#ed7953\"], [0.7777777777777778, \"#fb9f3a\"], [0.8888888888888888, \"#fdca26\"], [1.0, \"#f0f921\"]], \"type\": \"surface\"}], \"table\": [{\"cells\": {\"fill\": {\"color\": \"#EBF0F8\"}, \"line\": {\"color\": \"white\"}}, \"header\": {\"fill\": {\"color\": \"#C8D4E3\"}, \"line\": {\"color\": \"white\"}}, \"type\": \"table\"}]}, \"layout\": {\"annotationdefaults\": {\"arrowcolor\": \"#2a3f5f\", \"arrowhead\": 0, \"arrowwidth\": 1}, \"autotypenumbers\": \"strict\", \"coloraxis\": {\"colorbar\": {\"outlinewidth\": 0, \"ticks\": \"\"}}, \"colorscale\": {\"diverging\": [[0, \"#8e0152\"], [0.1, \"#c51b7d\"], [0.2, \"#de77ae\"], [0.3, \"#f1b6da\"], [0.4, \"#fde0ef\"], [0.5, \"#f7f7f7\"], [0.6, \"#e6f5d0\"], [0.7, \"#b8e186\"], [0.8, \"#7fbc41\"], [0.9, \"#4d9221\"], [1, \"#276419\"]], \"sequential\": [[0.0, \"#0d0887\"], [0.1111111111111111, \"#46039f\"], [0.2222222222222222, \"#7201a8\"], [0.3333333333333333, \"#9c179e\"], [0.4444444444444444, \"#bd3786\"], [0.5555555555555556, \"#d8576b\"], [0.6666666666666666, \"#ed7953\"], [0.7777777777777778, \"#fb9f3a\"], [0.8888888888888888, \"#fdca26\"], [1.0, \"#f0f921\"]], \"sequentialminus\": [[0.0, \"#0d0887\"], [0.1111111111111111, \"#46039f\"], [0.2222222222222222, \"#7201a8\"], [0.3333333333333333, \"#9c179e\"], [0.4444444444444444, \"#bd3786\"], [0.5555555555555556, \"#d8576b\"], [0.6666666666666666, \"#ed7953\"], [0.7777777777777778, \"#fb9f3a\"], [0.8888888888888888, \"#fdca26\"], [1.0, \"#f0f921\"]]}, \"colorway\": [\"#636efa\", \"#EF553B\", \"#00cc96\", \"#ab63fa\", \"#FFA15A\", \"#19d3f3\", \"#FF6692\", \"#B6E880\", \"#FF97FF\", \"#FECB52\"], \"font\": {\"color\": \"#2a3f5f\"}, \"geo\": {\"bgcolor\": \"white\", \"lakecolor\": \"white\", \"landcolor\": \"#E5ECF6\", \"showlakes\": true, \"showland\": true, \"subunitcolor\": \"white\"}, \"hoverlabel\": {\"align\": \"left\"}, \"hovermode\": \"closest\", \"mapbox\": {\"style\": \"light\"}, \"paper_bgcolor\": \"white\", \"plot_bgcolor\": \"#E5ECF6\", \"polar\": {\"angularaxis\": {\"gridcolor\": \"white\", \"linecolor\": \"white\", \"ticks\": \"\"}, \"bgcolor\": \"#E5ECF6\", \"radialaxis\": {\"gridcolor\": \"white\", \"linecolor\": \"white\", \"ticks\": \"\"}}, \"scene\": {\"xaxis\": {\"backgroundcolor\": \"#E5ECF6\", \"gridcolor\": \"white\", \"gridwidth\": 2, \"linecolor\": \"white\", \"showbackground\": true, \"ticks\": \"\", \"zerolinecolor\": \"white\"}, \"yaxis\": {\"backgroundcolor\": \"#E5ECF6\", \"gridcolor\": \"white\", \"gridwidth\": 2, \"linecolor\": \"white\", \"showbackground\": true, \"ticks\": \"\", \"zerolinecolor\": \"white\"}, \"zaxis\": {\"backgroundcolor\": \"#E5ECF6\", \"gridcolor\": \"white\", \"gridwidth\": 2, \"linecolor\": \"white\", \"showbackground\": true, \"ticks\": \"\", \"zerolinecolor\": \"white\"}}, \"shapedefaults\": {\"line\": {\"color\": \"#2a3f5f\"}}, \"ternary\": {\"aaxis\": {\"gridcolor\": \"white\", \"linecolor\": \"white\", \"ticks\": \"\"}, \"baxis\": {\"gridcolor\": \"white\", \"linecolor\": \"white\", \"ticks\": \"\"}, \"bgcolor\": \"#E5ECF6\", \"caxis\": {\"gridcolor\": \"white\", \"linecolor\": \"white\", \"ticks\": \"\"}}, \"title\": {\"x\": 0.05}, \"xaxis\": {\"automargin\": true, \"gridcolor\": \"white\", \"linecolor\": \"white\", \"ticks\": \"\", \"title\": {\"standoff\": 15}, \"zerolinecolor\": \"white\", \"zerolinewidth\": 2}, \"yaxis\": {\"automargin\": true, \"gridcolor\": \"white\", \"linecolor\": \"white\", \"ticks\": \"\", \"title\": {\"standoff\": 15}, \"zerolinecolor\": \"white\", \"zerolinewidth\": 2}}}, \"xaxis\": {\"rangeslider\": {\"visible\": false}}},                        {\"responsive\": true}                    ).then(function(){\n",
       "                            \n",
       "var gd = document.getElementById('89919a6c-b5fd-49c7-9b5b-39a3f54309bc');\n",
       "var x = new MutationObserver(function (mutations, observer) {{\n",
       "        var display = window.getComputedStyle(gd).display;\n",
       "        if (!display || display === 'none') {{\n",
       "            console.log([gd, 'removed!']);\n",
       "            Plotly.purge(gd);\n",
       "            observer.disconnect();\n",
       "        }}\n",
       "}});\n",
       "\n",
       "// Listen for the removal of the full notebook cells\n",
       "var notebookContainer = gd.closest('#notebook-container');\n",
       "if (notebookContainer) {{\n",
       "    x.observe(notebookContainer, {childList: true});\n",
       "}}\n",
       "\n",
       "// Listen for the clearing of the current output cell\n",
       "var outputEl = gd.closest('.output');\n",
       "if (outputEl) {{\n",
       "    x.observe(outputEl, {childList: true});\n",
       "}}\n",
       "\n",
       "                        })                };                });            </script>        </div>"
      ]
     },
     "metadata": {},
     "output_type": "display_data"
    }
   ],
   "source": [
    "yf = Yahoofinance()\n",
    "pre = Prediction()\n",
    "plotly = Plotly()\n",
    "\n",
    "\n",
    "dataset = yf.get(stock_companies = \"AAPL\")\n",
    "pr = pre.get(dataset=dataset,column = \"\")\n",
    "plotly.stock(pr,\"linechart_close\")"
   ]
  },
  {
   "cell_type": "code",
   "execution_count": 4,
   "id": "intense-recommendation",
   "metadata": {
    "execution": {
     "iopub.execute_input": "2021-05-18T20:28:59.277601Z",
     "iopub.status.busy": "2021-05-18T20:28:59.277354Z",
     "iopub.status.idle": "2021-05-18T20:29:06.243157Z",
     "shell.execute_reply": "2021-05-18T20:29:06.242453Z",
     "shell.execute_reply.started": "2021-05-18T20:28:59.277572Z"
    }
   },
   "outputs": [
    {
     "name": "stdout",
     "output_type": "stream",
     "text": [
      "Requirement already satisfied: naas_drivers in /opt/conda/lib/python3.8/site-packages (0.55.0)\n",
      "Requirement already satisfied: pymongo==3.11.3 in /opt/conda/lib/python3.8/site-packages (from naas_drivers) (3.11.3)\n",
      "Requirement already satisfied: imap-tools==0.39.0 in /opt/conda/lib/python3.8/site-packages (from naas_drivers) (0.39.0)\n",
      "Requirement already satisfied: requests==2.25.1 in /opt/conda/lib/python3.8/site-packages (from naas_drivers) (2.25.1)\n",
      "Requirement already satisfied: scikit-learn==0.24.2 in /opt/conda/lib/python3.8/site-packages (from naas_drivers) (0.24.2)\n",
      "Requirement already satisfied: torch==1.8.1 in /opt/conda/lib/python3.8/site-packages (from naas_drivers) (1.8.1)\n",
      "Requirement already satisfied: htmlbuilder==0.1.2 in /opt/conda/lib/python3.8/site-packages (from naas_drivers) (0.1.2)\n",
      "Requirement already satisfied: md2pdf==0.5 in /opt/conda/lib/python3.8/site-packages (from naas_drivers) (0.5)\n",
      "Requirement already satisfied: ipython==7.22.0 in /opt/conda/lib/python3.8/site-packages (from naas_drivers) (7.22.0)\n",
      "Requirement already satisfied: google==3.0.0 in /opt/conda/lib/python3.8/site-packages (from naas_drivers) (3.0.0)\n",
      "Requirement already satisfied: google-auth-httplib2==0.1.0 in /opt/conda/lib/python3.8/site-packages (from naas_drivers) (0.1.0)\n",
      "Requirement already satisfied: markdown2==2.4.0 in /opt/conda/lib/python3.8/site-packages (from naas_drivers) (2.4.0)\n",
      "Collecting idna==2.9\n",
      "  Downloading idna-2.9-py2.py3-none-any.whl (58 kB)\n",
      "\u001b[K     |████████████████████████████████| 58 kB 545 kB/s  eta 0:00:01\n",
      "\u001b[?25hRequirement already satisfied: pysftp==0.2.9 in /opt/conda/lib/python3.8/site-packages (from naas_drivers) (0.2.9)\n",
      "Requirement already satisfied: kaleido==0.2.1 in /opt/conda/lib/python3.8/site-packages (from naas_drivers) (0.2.1)\n",
      "Collecting chardet==4.0.0\n",
      "  Downloading chardet-4.0.0-py2.py3-none-any.whl (178 kB)\n",
      "\u001b[K     |████████████████████████████████| 178 kB 16.9 MB/s eta 0:00:01\n",
      "\u001b[?25hRequirement already satisfied: pdfkit==0.6.1 in /opt/conda/lib/python3.8/site-packages (from naas_drivers) (0.6.1)\n",
      "Requirement already satisfied: python-dotenv==0.17.0 in /opt/conda/lib/python3.8/site-packages (from naas_drivers) (0.17.0)\n",
      "Requirement already satisfied: inflection==0.5.1 in /opt/conda/lib/python3.8/site-packages (from naas_drivers) (0.5.1)\n",
      "Requirement already satisfied: oauth2client==4.1.3 in /opt/conda/lib/python3.8/site-packages (from naas_drivers) (4.1.3)\n",
      "Requirement already satisfied: openpyxl==3.0.7 in /opt/conda/lib/python3.8/site-packages (from naas_drivers) (3.0.7)\n",
      "Requirement already satisfied: patsy==0.5.1 in /opt/conda/lib/python3.8/site-packages (from naas_drivers) (0.5.1)\n",
      "Requirement already satisfied: notion==0.0.28 in /opt/conda/lib/python3.8/site-packages (from naas_drivers) (0.0.28)\n",
      "Requirement already satisfied: google-auth-oauthlib==0.4.4 in /opt/conda/lib/python3.8/site-packages (from naas_drivers) (0.4.4)\n",
      "Requirement already satisfied: escapism==1.0.1 in /opt/conda/lib/python3.8/site-packages (from naas_drivers) (1.0.1)\n",
      "Requirement already satisfied: gspread==3.7.0 in /opt/conda/lib/python3.8/site-packages (from naas_drivers) (3.7.0)\n",
      "Requirement already satisfied: GitPython==3.1.14 in /opt/conda/lib/python3.8/site-packages (from naas_drivers) (3.1.14)\n",
      "Requirement already satisfied: Cython==0.29.23 in /opt/conda/lib/python3.8/site-packages (from naas_drivers) (0.29.23)\n",
      "Requirement already satisfied: python-dateutil==2.8.1 in /opt/conda/lib/python3.8/site-packages (from naas_drivers) (2.8.1)\n",
      "Requirement already satisfied: opencv-python==4.5.1.48 in /opt/conda/lib/python3.8/site-packages (from naas_drivers) (4.5.1.48)\n",
      "Requirement already satisfied: pytesseract==0.3.7 in /opt/conda/lib/python3.8/site-packages (from naas_drivers) (0.3.7)\n",
      "Requirement already satisfied: geopy==2.1.0 in /opt/conda/lib/python3.8/site-packages (from naas_drivers) (2.1.0)\n",
      "Requirement already satisfied: Quandl==3.6.1 in /opt/conda/lib/python3.8/site-packages (from naas_drivers) (3.6.1)\n",
      "Requirement already satisfied: scipy==1.6.3 in /opt/conda/lib/python3.8/site-packages (from naas_drivers) (1.6.3)\n",
      "Requirement already satisfied: six==1.15.0 in /opt/conda/lib/python3.8/site-packages (from naas_drivers) (1.15.0)\n",
      "Requirement already satisfied: pyjwt==2.1.0 in /opt/conda/lib/python3.8/site-packages (from naas_drivers) (2.1.0)\n",
      "Requirement already satisfied: xlrd==2.0.1 in /opt/conda/lib/python3.8/site-packages (from naas_drivers) (2.0.1)\n",
      "Requirement already satisfied: plotly==4.14.3 in /opt/conda/lib/python3.8/site-packages (from naas_drivers) (4.14.3)\n",
      "Requirement already satisfied: pandas==1.2.4 in /opt/conda/lib/python3.8/site-packages (from naas_drivers) (1.2.4)\n",
      "Requirement already satisfied: joblib==1.0.1 in /opt/conda/lib/python3.8/site-packages (from naas_drivers) (1.0.1)\n",
      "Requirement already satisfied: pytz==2021.1 in /opt/conda/lib/python3.8/site-packages (from naas_drivers) (2021.1)\n",
      "Requirement already satisfied: airtable-python-wrapper==0.15.2 in /opt/conda/lib/python3.8/site-packages (from naas_drivers) (0.15.2)\n",
      "Requirement already satisfied: wkhtmltopdf==0.2 in /opt/conda/lib/python3.8/site-packages (from naas_drivers) (0.2)\n",
      "Requirement already satisfied: tensorflow==2.4.1 in /opt/conda/lib/python3.8/site-packages (from naas_drivers) (2.4.1)\n",
      "Requirement already satisfied: pymsteams==0.1.14 in /opt/conda/lib/python3.8/site-packages (from naas_drivers) (0.1.14)\n",
      "Requirement already satisfied: pandas-datareader==0.9.0 in /opt/conda/lib/python3.8/site-packages (from naas_drivers) (0.9.0)\n",
      "Requirement already satisfied: pmdarima==1.8.2 in /opt/conda/lib/python3.8/site-packages (from naas_drivers) (1.8.2)\n",
      "Collecting numpy==1.19.5\n",
      "  Downloading numpy-1.19.5-cp38-cp38-manylinux2010_x86_64.whl (14.9 MB)\n",
      "\u001b[K     |████████████████████████████████| 14.9 MB 67.3 MB/s eta 0:00:01\n",
      "\u001b[?25hRequirement already satisfied: vaderSentiment==3.3.2 in /opt/conda/lib/python3.8/site-packages (from naas_drivers) (3.3.2)\n",
      "Requirement already satisfied: statsmodels==0.12.2 in /opt/conda/lib/python3.8/site-packages (from naas_drivers) (0.12.2)\n",
      "Requirement already satisfied: newsapi-python==0.2.6 in /opt/conda/lib/python3.8/site-packages (from naas_drivers) (0.2.6)\n",
      "Requirement already satisfied: cson==0.8 in /opt/conda/lib/python3.8/site-packages (from naas_drivers) (0.8)\n",
      "Requirement already satisfied: pyppeteer==0.2.5 in /opt/conda/lib/python3.8/site-packages (from naas_drivers) (0.2.5)\n",
      "Requirement already satisfied: more-itertools==8.7.0 in /opt/conda/lib/python3.8/site-packages (from naas_drivers) (8.7.0)\n",
      "Requirement already satisfied: sendgrid==6.7.0 in /opt/conda/lib/python3.8/site-packages (from naas_drivers) (6.7.0)\n",
      "Requirement already satisfied: urllib3==1.26.4 in /opt/conda/lib/python3.8/site-packages (from naas_drivers) (1.26.4)\n",
      "Requirement already satisfied: google-api-python-client==2.3.0 in /opt/conda/lib/python3.8/site-packages (from naas_drivers) (2.3.0)\n",
      "Requirement already satisfied: slackclient==2.9.3 in /opt/conda/lib/python3.8/site-packages (from naas_drivers) (2.9.3)\n",
      "Requirement already satisfied: speg in /opt/conda/lib/python3.8/site-packages (from cson==0.8->naas_drivers) (0.3)\n",
      "Requirement already satisfied: geographiclib<2,>=1.49 in /opt/conda/lib/python3.8/site-packages (from geopy==2.1.0->naas_drivers) (1.50)\n",
      "Requirement already satisfied: gitdb<5,>=4.0.1 in /opt/conda/lib/python3.8/site-packages (from GitPython==3.1.14->naas_drivers) (4.0.7)\n",
      "Requirement already satisfied: beautifulsoup4 in /opt/conda/lib/python3.8/site-packages (from google==3.0.0->naas_drivers) (4.9.3)\n",
      "Requirement already satisfied: uritemplate<4dev,>=3.0.0 in /opt/conda/lib/python3.8/site-packages (from google-api-python-client==2.3.0->naas_drivers) (3.0.1)\n",
      "Requirement already satisfied: httplib2<1dev,>=0.15.0 in /opt/conda/lib/python3.8/site-packages (from google-api-python-client==2.3.0->naas_drivers) (0.19.1)\n",
      "Requirement already satisfied: google-api-core<2dev,>=1.21.0 in /opt/conda/lib/python3.8/site-packages (from google-api-python-client==2.3.0->naas_drivers) (1.26.3)\n",
      "Requirement already satisfied: google-auth<2dev,>=1.16.0 in /opt/conda/lib/python3.8/site-packages (from google-api-python-client==2.3.0->naas_drivers) (1.30.0)\n",
      "Requirement already satisfied: requests-oauthlib>=0.7.0 in /opt/conda/lib/python3.8/site-packages (from google-auth-oauthlib==0.4.4->naas_drivers) (1.3.0)\n",
      "Requirement already satisfied: setuptools>=18.5 in /opt/conda/lib/python3.8/site-packages (from ipython==7.22.0->naas_drivers) (49.6.0.post20210108)\n",
      "Requirement already satisfied: prompt-toolkit!=3.0.0,!=3.0.1,<3.1.0,>=2.0.0 in /opt/conda/lib/python3.8/site-packages (from ipython==7.22.0->naas_drivers) (3.0.18)\n",
      "Requirement already satisfied: traitlets>=4.2 in /opt/conda/lib/python3.8/site-packages (from ipython==7.22.0->naas_drivers) (5.0.5)\n",
      "Requirement already satisfied: decorator in /opt/conda/lib/python3.8/site-packages (from ipython==7.22.0->naas_drivers) (5.0.7)\n",
      "Requirement already satisfied: pygments in /opt/conda/lib/python3.8/site-packages (from ipython==7.22.0->naas_drivers) (2.8.1)\n",
      "Requirement already satisfied: backcall in /opt/conda/lib/python3.8/site-packages (from ipython==7.22.0->naas_drivers) (0.2.0)\n",
      "Requirement already satisfied: pexpect>4.3 in /opt/conda/lib/python3.8/site-packages (from ipython==7.22.0->naas_drivers) (4.8.0)\n",
      "Requirement already satisfied: pickleshare in /opt/conda/lib/python3.8/site-packages (from ipython==7.22.0->naas_drivers) (0.7.5)\n",
      "Requirement already satisfied: jedi>=0.16 in /opt/conda/lib/python3.8/site-packages (from ipython==7.22.0->naas_drivers) (0.18.0)\n",
      "Requirement already satisfied: WeasyPrint in /opt/conda/lib/python3.8/site-packages (from md2pdf==0.5->naas_drivers) (52.5)\n",
      "Requirement already satisfied: docopt in /opt/conda/lib/python3.8/site-packages (from md2pdf==0.5->naas_drivers) (0.6.2)\n",
      "Requirement already satisfied: dictdiffer in /opt/conda/lib/python3.8/site-packages (from notion==0.0.28->naas_drivers) (0.8.1)\n",
      "Requirement already satisfied: commonmark in /opt/conda/lib/python3.8/site-packages (from notion==0.0.28->naas_drivers) (0.9.1)\n",
      "Requirement already satisfied: python-slugify in /opt/conda/lib/python3.8/site-packages (from notion==0.0.28->naas_drivers) (5.0.2)\n",
      "Requirement already satisfied: tzlocal in /opt/conda/lib/python3.8/site-packages (from notion==0.0.28->naas_drivers) (2.1)\n",
      "Requirement already satisfied: cached-property in /opt/conda/lib/python3.8/site-packages (from notion==0.0.28->naas_drivers) (1.5.2)\n",
      "Requirement already satisfied: bs4 in /opt/conda/lib/python3.8/site-packages (from notion==0.0.28->naas_drivers) (0.0.1)\n",
      "Requirement already satisfied: pyasn1>=0.1.7 in /opt/conda/lib/python3.8/site-packages (from oauth2client==4.1.3->naas_drivers) (0.4.8)\n",
      "Requirement already satisfied: rsa>=3.1.4 in /opt/conda/lib/python3.8/site-packages (from oauth2client==4.1.3->naas_drivers) (4.7.2)\n",
      "Requirement already satisfied: pyasn1-modules>=0.0.5 in /opt/conda/lib/python3.8/site-packages (from oauth2client==4.1.3->naas_drivers) (0.2.8)\n",
      "Requirement already satisfied: et-xmlfile in /opt/conda/lib/python3.8/site-packages (from openpyxl==3.0.7->naas_drivers) (1.1.0)\n",
      "Requirement already satisfied: lxml in /opt/conda/lib/python3.8/site-packages (from pandas-datareader==0.9.0->naas_drivers) (4.6.3)\n",
      "Requirement already satisfied: retrying>=1.3.3 in /opt/conda/lib/python3.8/site-packages (from plotly==4.14.3->naas_drivers) (1.3.3)\n",
      "Requirement already satisfied: tqdm<5.0.0,>=4.42.1 in /opt/conda/lib/python3.8/site-packages (from pyppeteer==0.2.5->naas_drivers) (4.60.0)\n",
      "Requirement already satisfied: appdirs<2.0.0,>=1.4.3 in /opt/conda/lib/python3.8/site-packages (from pyppeteer==0.2.5->naas_drivers) (1.4.4)\n",
      "Requirement already satisfied: pyee<9.0.0,>=8.1.0 in /opt/conda/lib/python3.8/site-packages (from pyppeteer==0.2.5->naas_drivers) (8.1.0)\n",
      "Requirement already satisfied: websockets<9.0,>=8.1 in /opt/conda/lib/python3.8/site-packages (from pyppeteer==0.2.5->naas_drivers) (8.1)\n",
      "Requirement already satisfied: paramiko>=1.17 in /opt/conda/lib/python3.8/site-packages (from pysftp==0.2.9->naas_drivers) (2.7.2)\n",
      "Requirement already satisfied: Pillow in /opt/conda/lib/python3.8/site-packages (from pytesseract==0.3.7->naas_drivers) (8.2.0)\n",
      "Requirement already satisfied: certifi>=2017.4.17 in /opt/conda/lib/python3.8/site-packages (from requests==2.25.1->naas_drivers) (2020.12.5)\n",
      "Requirement already satisfied: threadpoolctl>=2.0.0 in /opt/conda/lib/python3.8/site-packages (from scikit-learn==0.24.2->naas_drivers) (2.1.0)\n",
      "Requirement already satisfied: python-http-client>=3.2.1 in /opt/conda/lib/python3.8/site-packages (from sendgrid==6.7.0->naas_drivers) (3.3.2)\n",
      "Requirement already satisfied: starkbank-ecdsa>=1.0.0 in /opt/conda/lib/python3.8/site-packages (from sendgrid==6.7.0->naas_drivers) (1.1.0)\n",
      "Requirement already satisfied: aiohttp<4.0.0,>3.5.2 in /opt/conda/lib/python3.8/site-packages (from slackclient==2.9.3->naas_drivers) (3.7.4)\n",
      "Requirement already satisfied: flatbuffers~=1.12.0 in /opt/conda/lib/python3.8/site-packages (from tensorflow==2.4.1->naas_drivers) (1.12)\n",
      "Requirement already satisfied: termcolor~=1.1.0 in /opt/conda/lib/python3.8/site-packages (from tensorflow==2.4.1->naas_drivers) (1.1.0)\n",
      "Requirement already satisfied: tensorboard~=2.4 in /opt/conda/lib/python3.8/site-packages (from tensorflow==2.4.1->naas_drivers) (2.5.0)\n",
      "Requirement already satisfied: tensorflow-estimator<2.5.0,>=2.4.0 in /opt/conda/lib/python3.8/site-packages (from tensorflow==2.4.1->naas_drivers) (2.4.0)\n",
      "Requirement already satisfied: grpcio~=1.32.0 in /opt/conda/lib/python3.8/site-packages (from tensorflow==2.4.1->naas_drivers) (1.32.0)\n",
      "Requirement already satisfied: gast==0.3.3 in /opt/conda/lib/python3.8/site-packages (from tensorflow==2.4.1->naas_drivers) (0.3.3)\n",
      "Requirement already satisfied: wheel~=0.35 in /opt/conda/lib/python3.8/site-packages (from tensorflow==2.4.1->naas_drivers) (0.36.2)\n",
      "Requirement already satisfied: opt-einsum~=3.3.0 in /opt/conda/lib/python3.8/site-packages (from tensorflow==2.4.1->naas_drivers) (3.3.0)\n",
      "Requirement already satisfied: h5py~=2.10.0 in /opt/conda/lib/python3.8/site-packages (from tensorflow==2.4.1->naas_drivers) (2.10.0)\n",
      "Requirement already satisfied: absl-py~=0.10 in /opt/conda/lib/python3.8/site-packages (from tensorflow==2.4.1->naas_drivers) (0.12.0)\n",
      "Requirement already satisfied: google-pasta~=0.2 in /opt/conda/lib/python3.8/site-packages (from tensorflow==2.4.1->naas_drivers) (0.2.0)\n",
      "Requirement already satisfied: keras-preprocessing~=1.1.2 in /opt/conda/lib/python3.8/site-packages (from tensorflow==2.4.1->naas_drivers) (1.1.2)\n",
      "Requirement already satisfied: typing-extensions~=3.7.4 in /opt/conda/lib/python3.8/site-packages (from tensorflow==2.4.1->naas_drivers) (3.7.4.3)\n",
      "Requirement already satisfied: wrapt~=1.12.1 in /opt/conda/lib/python3.8/site-packages (from tensorflow==2.4.1->naas_drivers) (1.12.1)\n",
      "Requirement already satisfied: astunparse~=1.6.3 in /opt/conda/lib/python3.8/site-packages (from tensorflow==2.4.1->naas_drivers) (1.6.3)\n",
      "Requirement already satisfied: protobuf>=3.9.2 in /opt/conda/lib/python3.8/site-packages (from tensorflow==2.4.1->naas_drivers) (3.17.0)\n",
      "Requirement already satisfied: multidict<7.0,>=4.5 in /opt/conda/lib/python3.8/site-packages (from aiohttp<4.0.0,>3.5.2->slackclient==2.9.3->naas_drivers) (5.1.0)\n",
      "Collecting aiohttp<4.0.0,>3.5.2\n",
      "  Downloading aiohttp-3.7.4.post0-cp38-cp38-manylinux2014_x86_64.whl (1.5 MB)\n",
      "\u001b[K     |████████████████████████████████| 1.5 MB 50.3 MB/s eta 0:00:01\n",
      "\u001b[?25hRequirement already satisfied: async-timeout<4.0,>=3.0 in /opt/conda/lib/python3.8/site-packages (from aiohttp<4.0.0,>3.5.2->slackclient==2.9.3->naas_drivers) (3.0.1)\n",
      "Requirement already satisfied: yarl<2.0,>=1.0 in /opt/conda/lib/python3.8/site-packages (from aiohttp<4.0.0,>3.5.2->slackclient==2.9.3->naas_drivers) (1.6.3)\n",
      "Requirement already satisfied: attrs>=17.3.0 in /opt/conda/lib/python3.8/site-packages (from aiohttp<4.0.0,>3.5.2->slackclient==2.9.3->naas_drivers) (20.3.0)\n",
      "Requirement already satisfied: smmap<5,>=3.0.1 in /opt/conda/lib/python3.8/site-packages (from gitdb<5,>=4.0.1->GitPython==3.1.14->naas_drivers) (4.0.0)\n",
      "Requirement already satisfied: googleapis-common-protos<2.0dev,>=1.6.0 in /opt/conda/lib/python3.8/site-packages (from google-api-core<2dev,>=1.21.0->google-api-python-client==2.3.0->naas_drivers) (1.53.0)\n",
      "Requirement already satisfied: packaging>=14.3 in /opt/conda/lib/python3.8/site-packages (from google-api-core<2dev,>=1.21.0->google-api-python-client==2.3.0->naas_drivers) (20.9)\n",
      "Requirement already satisfied: cachetools<5.0,>=2.0.0 in /opt/conda/lib/python3.8/site-packages (from google-auth<2dev,>=1.16.0->google-api-python-client==2.3.0->naas_drivers) (4.2.2)\n",
      "Requirement already satisfied: pyparsing<3,>=2.4.2 in /opt/conda/lib/python3.8/site-packages (from httplib2<1dev,>=0.15.0->google-api-python-client==2.3.0->naas_drivers) (2.4.7)\n",
      "Requirement already satisfied: parso<0.9.0,>=0.8.0 in /opt/conda/lib/python3.8/site-packages (from jedi>=0.16->ipython==7.22.0->naas_drivers) (0.8.2)\n",
      "Requirement already satisfied: cryptography>=2.5 in /opt/conda/lib/python3.8/site-packages (from paramiko>=1.17->pysftp==0.2.9->naas_drivers) (3.4.7)\n",
      "Requirement already satisfied: bcrypt>=3.1.3 in /opt/conda/lib/python3.8/site-packages (from paramiko>=1.17->pysftp==0.2.9->naas_drivers) (3.2.0)\n",
      "Requirement already satisfied: pynacl>=1.0.1 in /opt/conda/lib/python3.8/site-packages (from paramiko>=1.17->pysftp==0.2.9->naas_drivers) (1.4.0)\n",
      "Requirement already satisfied: cffi>=1.1 in /opt/conda/lib/python3.8/site-packages (from bcrypt>=3.1.3->paramiko>=1.17->pysftp==0.2.9->naas_drivers) (1.14.5)\n",
      "Requirement already satisfied: pycparser in /opt/conda/lib/python3.8/site-packages (from cffi>=1.1->bcrypt>=3.1.3->paramiko>=1.17->pysftp==0.2.9->naas_drivers) (2.20)\n",
      "Requirement already satisfied: ptyprocess>=0.5 in /opt/conda/lib/python3.8/site-packages (from pexpect>4.3->ipython==7.22.0->naas_drivers) (0.7.0)\n",
      "Requirement already satisfied: wcwidth in /opt/conda/lib/python3.8/site-packages (from prompt-toolkit!=3.0.0,!=3.0.1,<3.1.0,>=2.0.0->ipython==7.22.0->naas_drivers) (0.2.5)\n",
      "Requirement already satisfied: oauthlib>=3.0.0 in /opt/conda/lib/python3.8/site-packages (from requests-oauthlib>=0.7.0->google-auth-oauthlib==0.4.4->naas_drivers) (3.0.1)\n",
      "Requirement already satisfied: tensorboard-data-server<0.7.0,>=0.6.0 in /opt/conda/lib/python3.8/site-packages (from tensorboard~=2.4->tensorflow==2.4.1->naas_drivers) (0.6.1)\n",
      "Requirement already satisfied: tensorboard-plugin-wit>=1.6.0 in /opt/conda/lib/python3.8/site-packages (from tensorboard~=2.4->tensorflow==2.4.1->naas_drivers) (1.8.0)\n",
      "Requirement already satisfied: werkzeug>=0.11.15 in /opt/conda/lib/python3.8/site-packages (from tensorboard~=2.4->tensorflow==2.4.1->naas_drivers) (2.0.0)\n",
      "Requirement already satisfied: markdown>=2.6.8 in /opt/conda/lib/python3.8/site-packages (from tensorboard~=2.4->tensorflow==2.4.1->naas_drivers) (3.3.4)\n",
      "Requirement already satisfied: ipython-genutils in /opt/conda/lib/python3.8/site-packages (from traitlets>=4.2->ipython==7.22.0->naas_drivers) (0.2.0)\n",
      "Requirement already satisfied: soupsieve>1.2 in /opt/conda/lib/python3.8/site-packages (from beautifulsoup4->google==3.0.0->naas_drivers) (2.2.1)\n",
      "Requirement already satisfied: text-unidecode>=1.3 in /opt/conda/lib/python3.8/site-packages (from python-slugify->notion==0.0.28->naas_drivers) (1.3)\n",
      "Requirement already satisfied: html5lib>=0.999999999 in /opt/conda/lib/python3.8/site-packages (from WeasyPrint->md2pdf==0.5->naas_drivers) (1.1)\n",
      "Requirement already satisfied: cssselect2>=0.1 in /opt/conda/lib/python3.8/site-packages (from WeasyPrint->md2pdf==0.5->naas_drivers) (0.4.1)\n",
      "Requirement already satisfied: tinycss2>=1.0.0 in /opt/conda/lib/python3.8/site-packages (from WeasyPrint->md2pdf==0.5->naas_drivers) (1.1.0)\n",
      "Requirement already satisfied: CairoSVG>=2.4.0 in /opt/conda/lib/python3.8/site-packages (from WeasyPrint->md2pdf==0.5->naas_drivers) (2.5.2)\n",
      "Requirement already satisfied: Pyphen>=0.9.1 in /opt/conda/lib/python3.8/site-packages (from WeasyPrint->md2pdf==0.5->naas_drivers) (0.10.0)\n",
      "Requirement already satisfied: cairocffi>=0.9.0 in /opt/conda/lib/python3.8/site-packages (from WeasyPrint->md2pdf==0.5->naas_drivers) (1.2.0)\n",
      "Requirement already satisfied: defusedxml in /opt/conda/lib/python3.8/site-packages (from CairoSVG>=2.4.0->WeasyPrint->md2pdf==0.5->naas_drivers) (0.7.1)\n",
      "Requirement already satisfied: webencodings in /opt/conda/lib/python3.8/site-packages (from cssselect2>=0.1->WeasyPrint->md2pdf==0.5->naas_drivers) (0.5.1)\n",
      "Installing collected packages: idna, chardet, numpy, aiohttp\n",
      "  Attempting uninstall: idna\n",
      "    Found existing installation: idna 2.10\n",
      "    Uninstalling idna-2.10:\n",
      "      Successfully uninstalled idna-2.10\n",
      "  Attempting uninstall: chardet\n",
      "    Found existing installation: chardet 3.0.4\n",
      "    Uninstalling chardet-3.0.4:\n",
      "\u001b[31mERROR: Could not install packages due to an OSError: [Errno 13] Permission denied: 'DESCRIPTION.rst'\n",
      "Consider using the `--user` option or check the permissions.\n",
      "\u001b[0m\n"
     ]
    }
   ],
   "source": [
    "!pip install naas_drivers"
   ]
  },
  {
   "cell_type": "code",
   "execution_count": null,
   "id": "spiritual-observation",
   "metadata": {},
   "outputs": [],
   "source": []
  }
 ],
 "metadata": {
  "kernelspec": {
   "display_name": "Python 3",
   "language": "python",
   "name": "python3"
  },
  "language_info": {
   "codemirror_mode": {
    "name": "ipython",
    "version": 3
   },
   "file_extension": ".py",
   "mimetype": "text/x-python",
   "name": "python",
   "nbconvert_exporter": "python",
   "pygments_lexer": "ipython3",
   "version": "3.8.8"
  }
 },
 "nbformat": 4,
 "nbformat_minor": 5
}
